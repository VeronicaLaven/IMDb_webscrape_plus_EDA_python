{
 "cells": [
  {
   "cell_type": "markdown",
   "id": "dfb17dac",
   "metadata": {},
   "source": [
    "## <span style=\"color: #07ab2a;\">IMDb 1000 Greatest Films of all Time: Webscraper and Exploratory Data Analysis (EDA)</span>"
   ]
  },
  {
   "cell_type": "markdown",
   "id": "bfab1a90",
   "metadata": {},
   "source": [
    "#### This Webscraper will scrape data for all 1000 films and will collect the following:\n",
    "* Title\n",
    "* Genre\n",
    "* Release Year\n",
    "* Director\n",
    "* Lead Actor\n",
    "* Run Time\n",
    "* MPA Rating\n",
    "* IMDb Stars Rating\n",
    "* Synopsis\n",
    "* Metascore\n",
    "* Votes\n",
    "* Gross\n",
    "* Thumbnail Image URL"
   ]
  },
  {
   "cell_type": "markdown",
   "id": "55a9b3a0",
   "metadata": {},
   "source": [
    "### <span style=\"color: #07ab2a;\">Build Webscraper</span>"
   ]
  },
  {
   "cell_type": "markdown",
   "id": "4ade454d",
   "metadata": {},
   "source": [
    "#### Import libraries"
   ]
  },
  {
   "cell_type": "code",
   "execution_count": 1,
   "id": "93d8ecd5",
   "metadata": {},
   "outputs": [],
   "source": [
    "import requests\n",
    "from bs4 import BeautifulSoup\n",
    "import pandas as pd\n",
    "import numpy as np\n",
    "import matplotlib.pyplot as plt\n",
    "import plotly.express as px\n",
    "import seaborn as sns\n",
    "from time import sleep\n",
    "from random import randint\n",
    "import re\n",
    "from wordcloud import WordCloud\n",
    "from nltk.corpus import stopwords\n",
    "import nltk\n"
   ]
  },
  {
   "cell_type": "code",
   "execution_count": 2,
   "id": "31b87ceb",
   "metadata": {},
   "outputs": [],
   "source": [
    "# enable English translation of film titles\n",
    "headers = {'Accept-Language': 'en-US, en;q=0.5'}"
   ]
  },
  {
   "cell_type": "markdown",
   "id": "a42a17e5",
   "metadata": {},
   "source": [
    "#### Use Requests to request page from server and get response status code to ensure request has succeeded"
   ]
  },
  {
   "cell_type": "code",
   "execution_count": 3,
   "id": "bf9ff1cd",
   "metadata": {},
   "outputs": [
    {
     "name": "stdout",
     "output_type": "stream",
     "text": [
      "200\n"
     ]
    }
   ],
   "source": [
    "page_1_url = 'https://www.imdb.com/search/title/?groups=top_1000&sort=user_rating,desc&count=100&ref_=adv_prv'\n",
    "page_1_url_response = requests.get(page_1_url)\n",
    "\n",
    "print(page_1_url_response.status_code)\n",
    "# 200 if successful"
   ]
  },
  {
   "cell_type": "markdown",
   "id": "b01eefef",
   "metadata": {},
   "source": [
    "#### Initialize empty lists in which to store extracted (scraped) IMDb data"
   ]
  },
  {
   "cell_type": "code",
   "execution_count": 4,
   "id": "f30896bb",
   "metadata": {},
   "outputs": [],
   "source": [
    "# initialize empty lists\n",
    "\n",
    "title = []\n",
    "genre = []\n",
    "year = []\n",
    "director = []\n",
    "lead = []\n",
    "time_minutes = []\n",
    "mpa_rating = []\n",
    "imdb_stars_rating = []\n",
    "synopsis = []\n",
    "metascore = []\n",
    "votes = []\n",
    "gross = []\n",
    "image_url = []\n"
   ]
  },
  {
   "cell_type": "markdown",
   "id": "d2ea99fd",
   "metadata": {},
   "source": [
    "\n",
    "From first page, each successive page in the 1000 film list has a url that contains a change to the page number starting with no page designation for the first page, to the number indicating the additional 100 items in the film list: 101, 201, 301, 401, 501, 601, 701, 801, 901, with the latter containing the last 100 films in the collection. The screen shot below shows the url pagination pattern.\n"
   ]
  },
  {
   "cell_type": "markdown",
   "id": "4a3a98a4",
   "metadata": {},
   "source": [
    "items 1 to 100\n",
    "\n",
    "https://www.imdb.com/search/title/?groups=top_1000&sort=user_rating,desc&count=100&ref_=adv_prv\n",
    "\n",
    "items 101 to 200\n",
    "\n",
    "https://www.imdb.com/search/title/?groups=top_1000&sort=user_rating,desc&count=100&start=101&ref_=adv_prv\n",
    "\n",
    "items 201 to 300\n",
    "\n",
    "https://www.imdb.com/search/title/?groups=top_1000&sort=user_rating,desc&count=100&start=201&ref_=adv_prv\n",
    "\n",
    "items 301 to 400\n",
    "\n",
    "https://www.imdb.com/search/title/?groups=top_1000&sort=user_rating,desc&count=100&start=301&ref_=adv_prv\n",
    "\n",
    "items 401 to 500\n",
    "\n",
    "https://www.imdb.com/search/title/?groups=top_1000&sort=user_rating,desc&count=100&start=401&ref_=adv_prv\n",
    "\n",
    "items 501 to 600\n",
    "\n",
    "https://www.imdb.com/search/title/?groups=top_1000&sort=user_rating,desc&count=100&start=501&ref_=adv_prv\n",
    "\n",
    "\n",
    "...\n",
    "\n",
    "items 901 to 1000\n",
    "\n",
    "https://www.imdb.com/search/title/?groups=top_1000&sort=user_rating,desc&count=100&start=901&ref_=adv_nxt\n"
   ]
  },
  {
   "cell_type": "markdown",
   "id": "092172d3",
   "metadata": {},
   "source": [
    "Consider the IMDb pages list 1000 films with each of the 10 pages listing 100 films. From above page URLs we can see that each page contains a list of 100 films. The variable 'page' will store the 10 page designations for each of the page URLs."
   ]
  },
  {
   "cell_type": "code",
   "execution_count": 5,
   "id": "b191f68a",
   "metadata": {},
   "outputs": [
    {
     "data": {
      "text/plain": [
       "array([  1, 101, 201, 301, 401, 501, 601, 701, 801, 901])"
      ]
     },
     "execution_count": 5,
     "metadata": {},
     "output_type": "execute_result"
    }
   ],
   "source": [
    "# create an array using: numpy.arange([start, ]stop, [step, ], dtype=None)\n",
    "\n",
    "pages = np.arange(1, 1001, 100)\n",
    "\n",
    "# get list containing the 10 pages that contain 100 films each\n",
    "pages"
   ]
  },
  {
   "cell_type": "markdown",
   "id": "70cd889e",
   "metadata": {},
   "source": [
    "#### Webscraping Steps\n",
    "\n",
    "1. Loop through the pages that contain each of the page URLs\n",
    "\n",
    "2. Get the page data from each of the URLs\n",
    "\n",
    "3. Use BeautifulSoup to parse the HTML returned from each of the URLs\n",
    "\n",
    "4. Begin inspecting web elements in the pages\n",
    "\n",
    "5. Begin scraping (extracting) data from the HTML soup using the find_all( ) method. This method will extract all of the div containers that have a class attribute of 'lister-item mode-advanced'common to all of the divs containing the info we want\n",
    "\n",
    "<img src=\"images/div_container.png\" alt=\"inspecting HTML\" width=\"600\"/>\n",
    "\n",
    "6. Create a for loop to loop through each of these divs and scrape the data from the pertinent elements contained therein\n",
    "\n",
    "7. Loop through each of the div containers and use BeautifulSoup to parse the data to append each of the IMDb data lists created earlier "
   ]
  },
  {
   "cell_type": "code",
   "execution_count": 6,
   "id": "585af695",
   "metadata": {},
   "outputs": [],
   "source": [
    "for page in pages:\n",
    "    page = requests.get(\"https://www.imdb.com/search/title/?groups=top_1000&sort=user_rating,desc&count=100&start=\" + str(page) + \"&ref_=adv_nxt\", headers = headers)\n",
    "    soup = BeautifulSoup(page.content, 'html.parser')\n",
    "    imdb_data = soup.find_all('div', {'class': 'lister-item mode-advanced'})\n",
    "    \n",
    "    # random delay in seconds between requests so as not to send excess number of requests for given time period\n",
    "    sleep(randint(2,10)) # random integer between 2 and 10 seconds\n",
    "    \n",
    "    for data in imdb_data:\n",
    "        \n",
    "        film = data.h3.a.text\n",
    "        title.append(film)\n",
    "        \n",
    "        genre_type = data.p.find('span', {'class': 'genre'}).text.replace('\\n', ' ')\n",
    "        genre.append(genre_type)\n",
    "        \n",
    "        release = data.h3.find('span', {'class': 'lister-item-year text-muted unbold'}).text.replace('(', ' ').replace(')', ' ')\n",
    "        year.append(release)\n",
    "        \n",
    "        a_tag = data.find('p', {'class': ''})\n",
    "        a_tag = a_tag.select('a[href^=\"/name/\"]')\n",
    "        directors = a_tag[0].text\n",
    "        director.append(directors)\n",
    "        \n",
    "        actor = a_tag[1].text\n",
    "        lead.append(actor)\n",
    "        \n",
    "        runtime = data.p.find('span', {'class': 'runtime'}).text.replace(' min', ' ')\n",
    "        time_minutes.append(runtime)\n",
    "        \n",
    "        # motion picture association (mpa) ratings such as R, PG, PG-14\n",
    "        mpa_rate = data.find('span', {'class': 'certificate'})\n",
    "        if mpa_rate is not None:\n",
    "            mpa_rate = data.find('span', {'class': 'certificate'}).text\n",
    "            # print('mpa_rate:', mpa_rate.text)\n",
    "        mpa_rating.append(mpa_rate)\n",
    "        \n",
    "        star_rate = data.find('div', {'class': 'inline-block ratings-imdb-rating'}).text.replace('\\n', ' ')\n",
    "        imdb_stars_rating.append(star_rate)\n",
    "        \n",
    "        p_tag = data.find_all('p', {'class': 'text-muted'})\n",
    "        syn = p_tag[1].text.replace('\\n', ' ')\n",
    "        synopsis.append(syn)\n",
    "        \n",
    "        meta = data.find('span', {'class': 'metascore'}).text if data.find('span', {'class': 'metascore'}) else '----'\n",
    "        metascore.append(meta)\n",
    "        \n",
    "        nv_tag = data.find_all('span', attrs = {'name': 'nv'})\n",
    "        \n",
    "        vote = nv_tag[0].text\n",
    "        votes.append(vote)\n",
    "        \n",
    "        grs = nv_tag[1].text if len(nv_tag) > 1 else '----'\n",
    "        gross.append(grs)\n",
    "        \n",
    "        img_tag = data.find('div', {'class': 'lister-item-image float-left'})\n",
    "        x = img_tag.img.attrs['loadlate']\n",
    "        image_url.append(x)\n",
    "        \n"
   ]
  },
  {
   "cell_type": "markdown",
   "id": "4f47d7a3",
   "metadata": {},
   "source": [
    "#### Ensure that all columns are the same length "
   ]
  },
  {
   "cell_type": "code",
   "execution_count": 7,
   "id": "92a8a5a3",
   "metadata": {},
   "outputs": [
    {
     "name": "stdout",
     "output_type": "stream",
     "text": [
      "999 999 999 999 999 999 999 999 999 999 999 999 999\n"
     ]
    }
   ],
   "source": [
    "# Pandas dataframes must have columns of the same length = 1000\n",
    "print(len(title),\n",
    "      len(genre),\n",
    "      len(year),\n",
    "      len(director),\n",
    "      len(lead),\n",
    "      len(time_minutes),\n",
    "      len(mpa_rating),\n",
    "      len(imdb_stars_rating),\n",
    "      len(synopsis),\n",
    "      len(metascore),\n",
    "      len(votes),\n",
    "      len(gross),\n",
    "      len(image_url))"
   ]
  },
  {
   "cell_type": "markdown",
   "id": "2336682b",
   "metadata": {},
   "source": [
    "#### Create Pandas DataFrame with Columns for Scraped Film Data"
   ]
  },
  {
   "cell_type": "code",
   "execution_count": 8,
   "id": "d8f49df5",
   "metadata": {},
   "outputs": [],
   "source": [
    "imdb_df = pd.DataFrame({\n",
    "    'film_title': title,\n",
    "    'genre': genre,\n",
    "    'release_year': year,\n",
    "    'director': director,\n",
    "    'lead_actor': lead,\n",
    "    'run_time_minutes': time_minutes,\n",
    "    'mpa_rating': mpa_rating,\n",
    "    'imdb_stars_rating': imdb_stars_rating,\n",
    "    'synopsis': synopsis,\n",
    "    'metascore': metascore,\n",
    "    'votes': votes,\n",
    "    'gross': gross,\n",
    "    'image_url': image_url\n",
    "    \n",
    "     })"
   ]
  },
  {
   "cell_type": "code",
   "execution_count": 9,
   "id": "b01f66a4",
   "metadata": {},
   "outputs": [
    {
     "data": {
      "text/html": [
       "<div>\n",
       "<style scoped>\n",
       "    .dataframe tbody tr th:only-of-type {\n",
       "        vertical-align: middle;\n",
       "    }\n",
       "\n",
       "    .dataframe tbody tr th {\n",
       "        vertical-align: top;\n",
       "    }\n",
       "\n",
       "    .dataframe thead th {\n",
       "        text-align: right;\n",
       "    }\n",
       "</style>\n",
       "<table border=\"1\" class=\"dataframe\">\n",
       "  <thead>\n",
       "    <tr style=\"text-align: right;\">\n",
       "      <th></th>\n",
       "      <th>film_title</th>\n",
       "      <th>genre</th>\n",
       "      <th>release_year</th>\n",
       "      <th>director</th>\n",
       "      <th>lead_actor</th>\n",
       "      <th>run_time_minutes</th>\n",
       "      <th>mpa_rating</th>\n",
       "      <th>imdb_stars_rating</th>\n",
       "      <th>synopsis</th>\n",
       "      <th>metascore</th>\n",
       "      <th>votes</th>\n",
       "      <th>gross</th>\n",
       "      <th>image_url</th>\n",
       "    </tr>\n",
       "  </thead>\n",
       "  <tbody>\n",
       "    <tr>\n",
       "      <th>0</th>\n",
       "      <td>The Shawshank Redemption</td>\n",
       "      <td>Drama</td>\n",
       "      <td>1994</td>\n",
       "      <td>Frank Darabont</td>\n",
       "      <td>Tim Robbins</td>\n",
       "      <td>142</td>\n",
       "      <td>R</td>\n",
       "      <td>9.3</td>\n",
       "      <td>Over the course of several years, two convict...</td>\n",
       "      <td>81</td>\n",
       "      <td>2,690,492</td>\n",
       "      <td>$28.34M</td>\n",
       "      <td>https://m.media-amazon.com/images/M/MV5BMDFkYT...</td>\n",
       "    </tr>\n",
       "    <tr>\n",
       "      <th>1</th>\n",
       "      <td>The Godfather</td>\n",
       "      <td>Crime, Drama</td>\n",
       "      <td>1972</td>\n",
       "      <td>Francis Ford Coppola</td>\n",
       "      <td>Marlon Brando</td>\n",
       "      <td>175</td>\n",
       "      <td>R</td>\n",
       "      <td>9.2</td>\n",
       "      <td>The aging patriarch of an organized crime dyn...</td>\n",
       "      <td>100</td>\n",
       "      <td>1,866,276</td>\n",
       "      <td>$134.97M</td>\n",
       "      <td>https://m.media-amazon.com/images/M/MV5BM2MyNj...</td>\n",
       "    </tr>\n",
       "    <tr>\n",
       "      <th>2</th>\n",
       "      <td>The Dark Knight</td>\n",
       "      <td>Action, Crime, Drama</td>\n",
       "      <td>2008</td>\n",
       "      <td>Christopher Nolan</td>\n",
       "      <td>Christian Bale</td>\n",
       "      <td>152</td>\n",
       "      <td>PG-13</td>\n",
       "      <td>9.0</td>\n",
       "      <td>When the menace known as the Joker wreaks hav...</td>\n",
       "      <td>84</td>\n",
       "      <td>2,664,117</td>\n",
       "      <td>$534.86M</td>\n",
       "      <td>https://m.media-amazon.com/images/M/MV5BMTMxNT...</td>\n",
       "    </tr>\n",
       "    <tr>\n",
       "      <th>3</th>\n",
       "      <td>Schindler's List</td>\n",
       "      <td>Biography, Drama, History</td>\n",
       "      <td>1993</td>\n",
       "      <td>Steven Spielberg</td>\n",
       "      <td>Liam Neeson</td>\n",
       "      <td>195</td>\n",
       "      <td>R</td>\n",
       "      <td>9.0</td>\n",
       "      <td>In German-occupied Poland during World War II...</td>\n",
       "      <td>94</td>\n",
       "      <td>1,360,711</td>\n",
       "      <td>$96.90M</td>\n",
       "      <td>https://m.media-amazon.com/images/M/MV5BNDE4OT...</td>\n",
       "    </tr>\n",
       "    <tr>\n",
       "      <th>4</th>\n",
       "      <td>The Godfather: Part II</td>\n",
       "      <td>Crime, Drama</td>\n",
       "      <td>1974</td>\n",
       "      <td>Francis Ford Coppola</td>\n",
       "      <td>Al Pacino</td>\n",
       "      <td>202</td>\n",
       "      <td>R</td>\n",
       "      <td>9.0</td>\n",
       "      <td>The early life and career of Vito Corleone in...</td>\n",
       "      <td>90</td>\n",
       "      <td>1,276,503</td>\n",
       "      <td>$57.30M</td>\n",
       "      <td>https://m.media-amazon.com/images/M/MV5BMWMwMG...</td>\n",
       "    </tr>\n",
       "  </tbody>\n",
       "</table>\n",
       "</div>"
      ],
      "text/plain": [
       "                 film_title                                   genre  \\\n",
       "0  The Shawshank Redemption                       Drama               \n",
       "1             The Godfather                Crime, Drama               \n",
       "2           The Dark Knight        Action, Crime, Drama               \n",
       "3          Schindler's List   Biography, Drama, History               \n",
       "4    The Godfather: Part II                Crime, Drama               \n",
       "\n",
       "  release_year              director      lead_actor run_time_minutes  \\\n",
       "0        1994         Frank Darabont     Tim Robbins             142    \n",
       "1        1972   Francis Ford Coppola   Marlon Brando             175    \n",
       "2        2008      Christopher Nolan  Christian Bale             152    \n",
       "3        1993       Steven Spielberg     Liam Neeson             195    \n",
       "4        1974   Francis Ford Coppola       Al Pacino             202    \n",
       "\n",
       "  mpa_rating imdb_stars_rating  \\\n",
       "0          R              9.3    \n",
       "1          R              9.2    \n",
       "2      PG-13              9.0    \n",
       "3          R              9.0    \n",
       "4          R              9.0    \n",
       "\n",
       "                                            synopsis    metascore      votes  \\\n",
       "0   Over the course of several years, two convict...   81          2,690,492   \n",
       "1   The aging patriarch of an organized crime dyn...  100          1,866,276   \n",
       "2   When the menace known as the Joker wreaks hav...   84          2,664,117   \n",
       "3   In German-occupied Poland during World War II...   94          1,360,711   \n",
       "4   The early life and career of Vito Corleone in...   90          1,276,503   \n",
       "\n",
       "      gross                                          image_url  \n",
       "0   $28.34M  https://m.media-amazon.com/images/M/MV5BMDFkYT...  \n",
       "1  $134.97M  https://m.media-amazon.com/images/M/MV5BM2MyNj...  \n",
       "2  $534.86M  https://m.media-amazon.com/images/M/MV5BMTMxNT...  \n",
       "3   $96.90M  https://m.media-amazon.com/images/M/MV5BNDE4OT...  \n",
       "4   $57.30M  https://m.media-amazon.com/images/M/MV5BMWMwMG...  "
      ]
     },
     "execution_count": 9,
     "metadata": {},
     "output_type": "execute_result"
    }
   ],
   "source": [
    "imdb_df.head()"
   ]
  },
  {
   "cell_type": "markdown",
   "id": "75ed75f3",
   "metadata": {},
   "source": [
    "#### Export Scraped IMDb 1000 Greatest Films Data to .csv File"
   ]
  },
  {
   "cell_type": "code",
   "execution_count": 10,
   "id": "fa362c53",
   "metadata": {},
   "outputs": [],
   "source": [
    "# export preliminary scraped imdb data to csv\n",
    "# imdb_df.to_csv('top_imdb_movies.csv')"
   ]
  },
  {
   "cell_type": "markdown",
   "id": "8abeb754",
   "metadata": {},
   "source": [
    "#### Scrape film data to extract and display a specific film thumbnail image "
   ]
  },
  {
   "cell_type": "code",
   "execution_count": 11,
   "id": "736053a9",
   "metadata": {},
   "outputs": [
    {
     "data": {
      "text/plain": [
       "[<div class=\"lister-item-image float-left\">\n",
       " <a href=\"/title/tt1242422/\"> <img alt=\"Celda 211\" class=\"loadlate\" data-tconst=\"tt1242422\" height=\"98\" loadlate=\"https://m.media-amazon.com/images/M/MV5BMjI2ODE4ODAtMDA3MS00ODNkLTg4N2EtOGU0YjZmNGY4NjZlXkEyXkFqcGdeQXVyMTY5MDE5NA@@._V1_UY98_CR0,0,67,98_AL_.jpg\" src=\"https://m.media-amazon.com/images/S/sash/4FyxwxECzL-U1J8.png\" width=\"67\"/>\n",
       " </a> </div>]"
      ]
     },
     "execution_count": 11,
     "metadata": {},
     "output_type": "execute_result"
    }
   ],
   "source": [
    "data.find_all('div', {'class': 'lister-item-image float-left'}) "
   ]
  },
  {
   "cell_type": "code",
   "execution_count": 12,
   "id": "f725ccc7",
   "metadata": {},
   "outputs": [
    {
     "data": {
      "text/plain": [
       "{'alt': 'Celda 211',\n",
       " 'class': ['loadlate'],\n",
       " 'loadlate': 'https://m.media-amazon.com/images/M/MV5BMjI2ODE4ODAtMDA3MS00ODNkLTg4N2EtOGU0YjZmNGY4NjZlXkEyXkFqcGdeQXVyMTY5MDE5NA@@._V1_UY98_CR0,0,67,98_AL_.jpg',\n",
       " 'data-tconst': 'tt1242422',\n",
       " 'height': '98',\n",
       " 'src': 'https://m.media-amazon.com/images/S/sash/4FyxwxECzL-U1J8.png',\n",
       " 'width': '67'}"
      ]
     },
     "execution_count": 12,
     "metadata": {},
     "output_type": "execute_result"
    }
   ],
   "source": [
    "data.img.attrs"
   ]
  },
  {
   "cell_type": "code",
   "execution_count": 13,
   "id": "69b6a9cb",
   "metadata": {},
   "outputs": [
    {
     "data": {
      "text/plain": [
       "'Celda 211'"
      ]
     },
     "execution_count": 13,
     "metadata": {},
     "output_type": "execute_result"
    }
   ],
   "source": [
    "data.img.attrs['alt']"
   ]
  },
  {
   "cell_type": "code",
   "execution_count": 14,
   "id": "cbe14d7a",
   "metadata": {},
   "outputs": [
    {
     "data": {
      "text/plain": [
       "['loadlate']"
      ]
     },
     "execution_count": 14,
     "metadata": {},
     "output_type": "execute_result"
    }
   ],
   "source": [
    "data.img.attrs['class']"
   ]
  },
  {
   "cell_type": "code",
   "execution_count": 15,
   "id": "f1178173",
   "metadata": {},
   "outputs": [
    {
     "name": "stdout",
     "output_type": "stream",
     "text": [
      "https://m.media-amazon.com/images/S/sash/4FyxwxECzL-U1J8.png\n"
     ]
    }
   ],
   "source": [
    "# print film image url\n",
    "from IPython.display import Image\n",
    "image_url = data.find('img').attrs['src']\n",
    "Image(url= image_url)\n",
    "image_url = data.src\n",
    "image_url = data.find('img').attrs['src']\n",
    "print(image_url)"
   ]
  },
  {
   "cell_type": "code",
   "execution_count": 16,
   "id": "243f113c",
   "metadata": {},
   "outputs": [
    {
     "data": {
      "text/html": [
       "<img src=\"https://m.media-amazon.com/images/M/MV5BMjI2ODE4ODAtMDA3MS00ODNkLTg4N2EtOGU0YjZmNGY4NjZlXkEyXkFqcGdeQXVyMTY5MDE5NA@@._V1_UY98_CR0,0,67,98_AL_.jpg\"/>"
      ],
      "text/plain": [
       "<IPython.core.display.Image object>"
      ]
     },
     "execution_count": 16,
     "metadata": {},
     "output_type": "execute_result"
    }
   ],
   "source": [
    "# display thumbnail image\n",
    "from IPython.display import Image\n",
    "image_url = data.find('img').attrs['loadlate']\n",
    "Image(url= image_url)"
   ]
  },
  {
   "cell_type": "markdown",
   "id": "879b412b",
   "metadata": {},
   "source": [
    "### <span style=\"color: #07ab2a;\">Explore Data</span>"
   ]
  },
  {
   "cell_type": "code",
   "execution_count": 17,
   "id": "e58c9335",
   "metadata": {},
   "outputs": [
    {
     "data": {
      "text/plain": [
       "film_title           object\n",
       "genre                object\n",
       "release_year         object\n",
       "director             object\n",
       "lead_actor           object\n",
       "run_time_minutes     object\n",
       "mpa_rating           object\n",
       "imdb_stars_rating    object\n",
       "synopsis             object\n",
       "metascore            object\n",
       "votes                object\n",
       "gross                object\n",
       "image_url            object\n",
       "dtype: object"
      ]
     },
     "execution_count": 17,
     "metadata": {},
     "output_type": "execute_result"
    }
   ],
   "source": [
    "imdb_df.dtypes"
   ]
  },
  {
   "cell_type": "code",
   "execution_count": 18,
   "id": "9971f0bb",
   "metadata": {},
   "outputs": [
    {
     "data": {
      "text/plain": [
       "0"
      ]
     },
     "execution_count": 18,
     "metadata": {},
     "output_type": "execute_result"
    }
   ],
   "source": [
    "# check for duplicates\n",
    "imdb_df.duplicated().sum()"
   ]
  },
  {
   "cell_type": "code",
   "execution_count": 19,
   "id": "f9d368c8",
   "metadata": {},
   "outputs": [
    {
     "data": {
      "text/plain": [
       "film_title            0\n",
       "genre                 0\n",
       "release_year          0\n",
       "director              0\n",
       "lead_actor            0\n",
       "run_time_minutes      0\n",
       "mpa_rating           16\n",
       "imdb_stars_rating     0\n",
       "synopsis              0\n",
       "metascore             0\n",
       "votes                 0\n",
       "gross                 0\n",
       "image_url             0\n",
       "dtype: int64"
      ]
     },
     "execution_count": 19,
     "metadata": {},
     "output_type": "execute_result"
    }
   ],
   "source": [
    "# check dataset for null values\n",
    "imdb_df.isnull().sum()"
   ]
  },
  {
   "cell_type": "code",
   "execution_count": 20,
   "id": "6bd46f6e",
   "metadata": {},
   "outputs": [],
   "source": [
    "# newdf = df.copy()\n",
    "final_df = imdb_df.copy()"
   ]
  },
  {
   "cell_type": "markdown",
   "id": "d7594525",
   "metadata": {},
   "source": [
    "###  <span style=\"color: #07ab2a;\">Clean Data</span>"
   ]
  },
  {
   "cell_type": "code",
   "execution_count": 21,
   "id": "d04a94e5",
   "metadata": {},
   "outputs": [],
   "source": [
    "# get rid of null values by filling with unknown for those in mpa_rating, and mean values for gross and mestascore\n",
    "final_df['mpa_rating'].fillna(\"unknown\",inplace=True)"
   ]
  },
  {
   "cell_type": "code",
   "execution_count": 22,
   "id": "c7edc3ad",
   "metadata": {},
   "outputs": [
    {
     "data": {
      "text/html": [
       "<div>\n",
       "<style scoped>\n",
       "    .dataframe tbody tr th:only-of-type {\n",
       "        vertical-align: middle;\n",
       "    }\n",
       "\n",
       "    .dataframe tbody tr th {\n",
       "        vertical-align: top;\n",
       "    }\n",
       "\n",
       "    .dataframe thead th {\n",
       "        text-align: right;\n",
       "    }\n",
       "</style>\n",
       "<table border=\"1\" class=\"dataframe\">\n",
       "  <thead>\n",
       "    <tr style=\"text-align: right;\">\n",
       "      <th></th>\n",
       "      <th>film_title</th>\n",
       "      <th>genre</th>\n",
       "      <th>release_year</th>\n",
       "      <th>director</th>\n",
       "      <th>lead_actor</th>\n",
       "      <th>run_time_minutes</th>\n",
       "      <th>mpa_rating</th>\n",
       "      <th>imdb_stars_rating</th>\n",
       "      <th>synopsis</th>\n",
       "      <th>metascore</th>\n",
       "      <th>votes</th>\n",
       "      <th>gross</th>\n",
       "      <th>image_url</th>\n",
       "    </tr>\n",
       "  </thead>\n",
       "  <tbody>\n",
       "    <tr>\n",
       "      <th>0</th>\n",
       "      <td>The Shawshank Redemption</td>\n",
       "      <td>Drama</td>\n",
       "      <td>1994</td>\n",
       "      <td>Frank Darabont</td>\n",
       "      <td>Tim Robbins</td>\n",
       "      <td>142</td>\n",
       "      <td>R</td>\n",
       "      <td>9.3</td>\n",
       "      <td>Over the course of several years, two convict...</td>\n",
       "      <td>81</td>\n",
       "      <td>2,690,492</td>\n",
       "      <td>$28.34M</td>\n",
       "      <td>https://m.media-amazon.com/images/M/MV5BMDFkYT...</td>\n",
       "    </tr>\n",
       "    <tr>\n",
       "      <th>1</th>\n",
       "      <td>The Godfather</td>\n",
       "      <td>Crime, Drama</td>\n",
       "      <td>1972</td>\n",
       "      <td>Francis Ford Coppola</td>\n",
       "      <td>Marlon Brando</td>\n",
       "      <td>175</td>\n",
       "      <td>R</td>\n",
       "      <td>9.2</td>\n",
       "      <td>The aging patriarch of an organized crime dyn...</td>\n",
       "      <td>100</td>\n",
       "      <td>1,866,276</td>\n",
       "      <td>$134.97M</td>\n",
       "      <td>https://m.media-amazon.com/images/M/MV5BM2MyNj...</td>\n",
       "    </tr>\n",
       "    <tr>\n",
       "      <th>2</th>\n",
       "      <td>The Dark Knight</td>\n",
       "      <td>Action, Crime, Drama</td>\n",
       "      <td>2008</td>\n",
       "      <td>Christopher Nolan</td>\n",
       "      <td>Christian Bale</td>\n",
       "      <td>152</td>\n",
       "      <td>PG-13</td>\n",
       "      <td>9.0</td>\n",
       "      <td>When the menace known as the Joker wreaks hav...</td>\n",
       "      <td>84</td>\n",
       "      <td>2,664,117</td>\n",
       "      <td>$534.86M</td>\n",
       "      <td>https://m.media-amazon.com/images/M/MV5BMTMxNT...</td>\n",
       "    </tr>\n",
       "    <tr>\n",
       "      <th>3</th>\n",
       "      <td>Schindler's List</td>\n",
       "      <td>Biography, Drama, History</td>\n",
       "      <td>1993</td>\n",
       "      <td>Steven Spielberg</td>\n",
       "      <td>Liam Neeson</td>\n",
       "      <td>195</td>\n",
       "      <td>R</td>\n",
       "      <td>9.0</td>\n",
       "      <td>In German-occupied Poland during World War II...</td>\n",
       "      <td>94</td>\n",
       "      <td>1,360,711</td>\n",
       "      <td>$96.90M</td>\n",
       "      <td>https://m.media-amazon.com/images/M/MV5BNDE4OT...</td>\n",
       "    </tr>\n",
       "    <tr>\n",
       "      <th>4</th>\n",
       "      <td>The Godfather: Part II</td>\n",
       "      <td>Crime, Drama</td>\n",
       "      <td>1974</td>\n",
       "      <td>Francis Ford Coppola</td>\n",
       "      <td>Al Pacino</td>\n",
       "      <td>202</td>\n",
       "      <td>R</td>\n",
       "      <td>9.0</td>\n",
       "      <td>The early life and career of Vito Corleone in...</td>\n",
       "      <td>90</td>\n",
       "      <td>1,276,503</td>\n",
       "      <td>$57.30M</td>\n",
       "      <td>https://m.media-amazon.com/images/M/MV5BMWMwMG...</td>\n",
       "    </tr>\n",
       "  </tbody>\n",
       "</table>\n",
       "</div>"
      ],
      "text/plain": [
       "                 film_title                                   genre  \\\n",
       "0  The Shawshank Redemption                       Drama               \n",
       "1             The Godfather                Crime, Drama               \n",
       "2           The Dark Knight        Action, Crime, Drama               \n",
       "3          Schindler's List   Biography, Drama, History               \n",
       "4    The Godfather: Part II                Crime, Drama               \n",
       "\n",
       "  release_year              director      lead_actor run_time_minutes  \\\n",
       "0        1994         Frank Darabont     Tim Robbins             142    \n",
       "1        1972   Francis Ford Coppola   Marlon Brando             175    \n",
       "2        2008      Christopher Nolan  Christian Bale             152    \n",
       "3        1993       Steven Spielberg     Liam Neeson             195    \n",
       "4        1974   Francis Ford Coppola       Al Pacino             202    \n",
       "\n",
       "  mpa_rating imdb_stars_rating  \\\n",
       "0          R              9.3    \n",
       "1          R              9.2    \n",
       "2      PG-13              9.0    \n",
       "3          R              9.0    \n",
       "4          R              9.0    \n",
       "\n",
       "                                            synopsis    metascore      votes  \\\n",
       "0   Over the course of several years, two convict...   81          2,690,492   \n",
       "1   The aging patriarch of an organized crime dyn...  100          1,866,276   \n",
       "2   When the menace known as the Joker wreaks hav...   84          2,664,117   \n",
       "3   In German-occupied Poland during World War II...   94          1,360,711   \n",
       "4   The early life and career of Vito Corleone in...   90          1,276,503   \n",
       "\n",
       "      gross                                          image_url  \n",
       "0   $28.34M  https://m.media-amazon.com/images/M/MV5BMDFkYT...  \n",
       "1  $134.97M  https://m.media-amazon.com/images/M/MV5BM2MyNj...  \n",
       "2  $534.86M  https://m.media-amazon.com/images/M/MV5BMTMxNT...  \n",
       "3   $96.90M  https://m.media-amazon.com/images/M/MV5BNDE4OT...  \n",
       "4   $57.30M  https://m.media-amazon.com/images/M/MV5BMWMwMG...  "
      ]
     },
     "execution_count": 22,
     "metadata": {},
     "output_type": "execute_result"
    }
   ],
   "source": [
    "\n",
    "final_df.head()\n"
   ]
  },
  {
   "cell_type": "code",
   "execution_count": 23,
   "id": "237d03ee",
   "metadata": {},
   "outputs": [
    {
     "data": {
      "text/plain": [
       "film_title           0\n",
       "genre                0\n",
       "release_year         0\n",
       "director             0\n",
       "lead_actor           0\n",
       "run_time_minutes     0\n",
       "mpa_rating           0\n",
       "imdb_stars_rating    0\n",
       "synopsis             0\n",
       "metascore            0\n",
       "votes                0\n",
       "gross                0\n",
       "image_url            0\n",
       "dtype: int64"
      ]
     },
     "execution_count": 23,
     "metadata": {},
     "output_type": "execute_result"
    }
   ],
   "source": [
    "# check dataset for null values after using the fillna method above\n",
    "final_df.isnull().sum()"
   ]
  },
  {
   "cell_type": "code",
   "execution_count": 24,
   "id": "858fa2ff",
   "metadata": {},
   "outputs": [
    {
     "data": {
      "text/plain": [
       "film_title           object\n",
       "genre                object\n",
       "release_year         object\n",
       "director             object\n",
       "lead_actor           object\n",
       "run_time_minutes     object\n",
       "mpa_rating           object\n",
       "imdb_stars_rating    object\n",
       "synopsis             object\n",
       "metascore            object\n",
       "votes                object\n",
       "gross                object\n",
       "image_url            object\n",
       "dtype: object"
      ]
     },
     "execution_count": 24,
     "metadata": {},
     "output_type": "execute_result"
    }
   ],
   "source": [
    "final_df.dtypes"
   ]
  },
  {
   "cell_type": "code",
   "execution_count": 25,
   "id": "a437ada3",
   "metadata": {},
   "outputs": [
    {
     "data": {
      "text/html": [
       "<div>\n",
       "<style scoped>\n",
       "    .dataframe tbody tr th:only-of-type {\n",
       "        vertical-align: middle;\n",
       "    }\n",
       "\n",
       "    .dataframe tbody tr th {\n",
       "        vertical-align: top;\n",
       "    }\n",
       "\n",
       "    .dataframe thead th {\n",
       "        text-align: right;\n",
       "    }\n",
       "</style>\n",
       "<table border=\"1\" class=\"dataframe\">\n",
       "  <thead>\n",
       "    <tr style=\"text-align: right;\">\n",
       "      <th></th>\n",
       "      <th>film_title</th>\n",
       "      <th>genre</th>\n",
       "      <th>release_year</th>\n",
       "      <th>director</th>\n",
       "      <th>lead_actor</th>\n",
       "      <th>run_time_minutes</th>\n",
       "      <th>mpa_rating</th>\n",
       "      <th>imdb_stars_rating</th>\n",
       "      <th>synopsis</th>\n",
       "      <th>metascore</th>\n",
       "      <th>votes</th>\n",
       "      <th>gross</th>\n",
       "      <th>image_url</th>\n",
       "    </tr>\n",
       "  </thead>\n",
       "  <tbody>\n",
       "    <tr>\n",
       "      <th>0</th>\n",
       "      <td>The Shawshank Redemption</td>\n",
       "      <td>Drama</td>\n",
       "      <td>1994</td>\n",
       "      <td>Frank Darabont</td>\n",
       "      <td>Tim Robbins</td>\n",
       "      <td>142</td>\n",
       "      <td>R</td>\n",
       "      <td>9.3</td>\n",
       "      <td>Over the course of several years, two convict...</td>\n",
       "      <td>81</td>\n",
       "      <td>2,690,492</td>\n",
       "      <td>$28.34M</td>\n",
       "      <td>https://m.media-amazon.com/images/M/MV5BMDFkYT...</td>\n",
       "    </tr>\n",
       "    <tr>\n",
       "      <th>1</th>\n",
       "      <td>The Godfather</td>\n",
       "      <td>Crime, Drama</td>\n",
       "      <td>1972</td>\n",
       "      <td>Francis Ford Coppola</td>\n",
       "      <td>Marlon Brando</td>\n",
       "      <td>175</td>\n",
       "      <td>R</td>\n",
       "      <td>9.2</td>\n",
       "      <td>The aging patriarch of an organized crime dyn...</td>\n",
       "      <td>100</td>\n",
       "      <td>1,866,276</td>\n",
       "      <td>$134.97M</td>\n",
       "      <td>https://m.media-amazon.com/images/M/MV5BM2MyNj...</td>\n",
       "    </tr>\n",
       "    <tr>\n",
       "      <th>2</th>\n",
       "      <td>The Dark Knight</td>\n",
       "      <td>Action, Crime, Drama</td>\n",
       "      <td>2008</td>\n",
       "      <td>Christopher Nolan</td>\n",
       "      <td>Christian Bale</td>\n",
       "      <td>152</td>\n",
       "      <td>PG-13</td>\n",
       "      <td>9.0</td>\n",
       "      <td>When the menace known as the Joker wreaks hav...</td>\n",
       "      <td>84</td>\n",
       "      <td>2,664,117</td>\n",
       "      <td>$534.86M</td>\n",
       "      <td>https://m.media-amazon.com/images/M/MV5BMTMxNT...</td>\n",
       "    </tr>\n",
       "    <tr>\n",
       "      <th>3</th>\n",
       "      <td>Schindler's List</td>\n",
       "      <td>Biography, Drama, History</td>\n",
       "      <td>1993</td>\n",
       "      <td>Steven Spielberg</td>\n",
       "      <td>Liam Neeson</td>\n",
       "      <td>195</td>\n",
       "      <td>R</td>\n",
       "      <td>9.0</td>\n",
       "      <td>In German-occupied Poland during World War II...</td>\n",
       "      <td>94</td>\n",
       "      <td>1,360,711</td>\n",
       "      <td>$96.90M</td>\n",
       "      <td>https://m.media-amazon.com/images/M/MV5BNDE4OT...</td>\n",
       "    </tr>\n",
       "    <tr>\n",
       "      <th>4</th>\n",
       "      <td>The Godfather: Part II</td>\n",
       "      <td>Crime, Drama</td>\n",
       "      <td>1974</td>\n",
       "      <td>Francis Ford Coppola</td>\n",
       "      <td>Al Pacino</td>\n",
       "      <td>202</td>\n",
       "      <td>R</td>\n",
       "      <td>9.0</td>\n",
       "      <td>The early life and career of Vito Corleone in...</td>\n",
       "      <td>90</td>\n",
       "      <td>1,276,503</td>\n",
       "      <td>$57.30M</td>\n",
       "      <td>https://m.media-amazon.com/images/M/MV5BMWMwMG...</td>\n",
       "    </tr>\n",
       "  </tbody>\n",
       "</table>\n",
       "</div>"
      ],
      "text/plain": [
       "                 film_title                                   genre  \\\n",
       "0  The Shawshank Redemption                       Drama               \n",
       "1             The Godfather                Crime, Drama               \n",
       "2           The Dark Knight        Action, Crime, Drama               \n",
       "3          Schindler's List   Biography, Drama, History               \n",
       "4    The Godfather: Part II                Crime, Drama               \n",
       "\n",
       "  release_year              director      lead_actor run_time_minutes  \\\n",
       "0        1994         Frank Darabont     Tim Robbins             142    \n",
       "1        1972   Francis Ford Coppola   Marlon Brando             175    \n",
       "2        2008      Christopher Nolan  Christian Bale             152    \n",
       "3        1993       Steven Spielberg     Liam Neeson             195    \n",
       "4        1974   Francis Ford Coppola       Al Pacino             202    \n",
       "\n",
       "  mpa_rating imdb_stars_rating  \\\n",
       "0          R              9.3    \n",
       "1          R              9.2    \n",
       "2      PG-13              9.0    \n",
       "3          R              9.0    \n",
       "4          R              9.0    \n",
       "\n",
       "                                            synopsis    metascore      votes  \\\n",
       "0   Over the course of several years, two convict...   81          2,690,492   \n",
       "1   The aging patriarch of an organized crime dyn...  100          1,866,276   \n",
       "2   When the menace known as the Joker wreaks hav...   84          2,664,117   \n",
       "3   In German-occupied Poland during World War II...   94          1,360,711   \n",
       "4   The early life and career of Vito Corleone in...   90          1,276,503   \n",
       "\n",
       "      gross                                          image_url  \n",
       "0   $28.34M  https://m.media-amazon.com/images/M/MV5BMDFkYT...  \n",
       "1  $134.97M  https://m.media-amazon.com/images/M/MV5BM2MyNj...  \n",
       "2  $534.86M  https://m.media-amazon.com/images/M/MV5BMTMxNT...  \n",
       "3   $96.90M  https://m.media-amazon.com/images/M/MV5BNDE4OT...  \n",
       "4   $57.30M  https://m.media-amazon.com/images/M/MV5BMWMwMG...  "
      ]
     },
     "execution_count": 25,
     "metadata": {},
     "output_type": "execute_result"
    }
   ],
   "source": [
    "final_df.head()"
   ]
  },
  {
   "cell_type": "code",
   "execution_count": 26,
   "id": "85c2b623",
   "metadata": {},
   "outputs": [
    {
     "data": {
      "text/plain": [
       "dtype('O')"
      ]
     },
     "execution_count": 26,
     "metadata": {},
     "output_type": "execute_result"
    }
   ],
   "source": [
    "final_df.dtypes['release_year']"
   ]
  },
  {
   "cell_type": "code",
   "execution_count": 27,
   "id": "9d9c0870",
   "metadata": {},
   "outputs": [
    {
     "data": {
      "text/html": [
       "<div>\n",
       "<style scoped>\n",
       "    .dataframe tbody tr th:only-of-type {\n",
       "        vertical-align: middle;\n",
       "    }\n",
       "\n",
       "    .dataframe tbody tr th {\n",
       "        vertical-align: top;\n",
       "    }\n",
       "\n",
       "    .dataframe thead th {\n",
       "        text-align: right;\n",
       "    }\n",
       "</style>\n",
       "<table border=\"1\" class=\"dataframe\">\n",
       "  <thead>\n",
       "    <tr style=\"text-align: right;\">\n",
       "      <th></th>\n",
       "      <th>film_title</th>\n",
       "      <th>genre</th>\n",
       "      <th>release_year</th>\n",
       "      <th>director</th>\n",
       "      <th>lead_actor</th>\n",
       "      <th>run_time_minutes</th>\n",
       "      <th>mpa_rating</th>\n",
       "      <th>imdb_stars_rating</th>\n",
       "      <th>synopsis</th>\n",
       "      <th>metascore</th>\n",
       "      <th>votes</th>\n",
       "      <th>gross</th>\n",
       "      <th>image_url</th>\n",
       "    </tr>\n",
       "  </thead>\n",
       "  <tbody>\n",
       "    <tr>\n",
       "      <th>59</th>\n",
       "      <td>96</td>\n",
       "      <td>Drama, Romance</td>\n",
       "      <td>II   2018</td>\n",
       "      <td>C. Prem Kumar</td>\n",
       "      <td>Vijay Sethupathi</td>\n",
       "      <td>158</td>\n",
       "      <td>Not Rated</td>\n",
       "      <td>8.5</td>\n",
       "      <td>Two high school sweethearts meet at a reunion...</td>\n",
       "      <td>----</td>\n",
       "      <td>32,053</td>\n",
       "      <td>----</td>\n",
       "      <td>https://m.media-amazon.com/images/M/MV5BOGM2Yz...</td>\n",
       "    </tr>\n",
       "    <tr>\n",
       "      <th>318</th>\n",
       "      <td>Pink</td>\n",
       "      <td>Crime, Drama, Thriller</td>\n",
       "      <td>III   2016</td>\n",
       "      <td>Aniruddha Roy Chowdhury</td>\n",
       "      <td>Amitabh Bachchan</td>\n",
       "      <td>136</td>\n",
       "      <td>Not Rated</td>\n",
       "      <td>8.1</td>\n",
       "      <td>When three young women are implicated in a cr...</td>\n",
       "      <td>----</td>\n",
       "      <td>45,830</td>\n",
       "      <td>$1.24M</td>\n",
       "      <td>https://m.media-amazon.com/images/M/MV5BNGI1MT...</td>\n",
       "    </tr>\n",
       "    <tr>\n",
       "      <th>477</th>\n",
       "      <td>Arrival</td>\n",
       "      <td>Drama, Mystery, Sci-Fi</td>\n",
       "      <td>II   2016</td>\n",
       "      <td>Denis Villeneuve</td>\n",
       "      <td>Amy Adams</td>\n",
       "      <td>116</td>\n",
       "      <td>PG-13</td>\n",
       "      <td>7.9</td>\n",
       "      <td>A linguist works with the military to communi...</td>\n",
       "      <td>81</td>\n",
       "      <td>701,969</td>\n",
       "      <td>$100.55M</td>\n",
       "      <td>https://m.media-amazon.com/images/M/MV5BMTExMz...</td>\n",
       "    </tr>\n",
       "    <tr>\n",
       "      <th>925</th>\n",
       "      <td>Searching</td>\n",
       "      <td>Drama, Horror, Mystery</td>\n",
       "      <td>III   2018</td>\n",
       "      <td>Aneesh Chaganty</td>\n",
       "      <td>John Cho</td>\n",
       "      <td>102</td>\n",
       "      <td>PG-13</td>\n",
       "      <td>7.6</td>\n",
       "      <td>After his teenage daughter goes missing, a de...</td>\n",
       "      <td>71</td>\n",
       "      <td>165,458</td>\n",
       "      <td>$26.02M</td>\n",
       "      <td>https://m.media-amazon.com/images/M/MV5BMjIwOT...</td>\n",
       "    </tr>\n",
       "    <tr>\n",
       "      <th>933</th>\n",
       "      <td>Hell or High Water</td>\n",
       "      <td>Crime, Drama, Thriller</td>\n",
       "      <td>II   2016</td>\n",
       "      <td>David Mackenzie</td>\n",
       "      <td>Chris Pine</td>\n",
       "      <td>102</td>\n",
       "      <td>R</td>\n",
       "      <td>7.6</td>\n",
       "      <td>A divorced father and his ex-con older brothe...</td>\n",
       "      <td>88</td>\n",
       "      <td>234,501</td>\n",
       "      <td>$26.86M</td>\n",
       "      <td>https://m.media-amazon.com/images/M/MV5BMTg4ND...</td>\n",
       "    </tr>\n",
       "  </tbody>\n",
       "</table>\n",
       "</div>"
      ],
      "text/plain": [
       "             film_title                                genre  release_year  \\\n",
       "59                   96           Drama, Romance                II   2018    \n",
       "318                Pink   Crime, Drama, Thriller               III   2016    \n",
       "477             Arrival   Drama, Mystery, Sci-Fi                II   2016    \n",
       "925           Searching   Drama, Horror, Mystery               III   2018    \n",
       "933  Hell or High Water   Crime, Drama, Thriller                II   2016    \n",
       "\n",
       "                    director        lead_actor run_time_minutes mpa_rating  \\\n",
       "59             C. Prem Kumar  Vijay Sethupathi             158   Not Rated   \n",
       "318  Aniruddha Roy Chowdhury  Amitabh Bachchan             136   Not Rated   \n",
       "477         Denis Villeneuve         Amy Adams             116       PG-13   \n",
       "925          Aneesh Chaganty          John Cho             102       PG-13   \n",
       "933          David Mackenzie        Chris Pine             102           R   \n",
       "\n",
       "    imdb_stars_rating                                           synopsis  \\\n",
       "59               8.5    Two high school sweethearts meet at a reunion...   \n",
       "318              8.1    When three young women are implicated in a cr...   \n",
       "477              7.9    A linguist works with the military to communi...   \n",
       "925              7.6    After his teenage daughter goes missing, a de...   \n",
       "933              7.6    A divorced father and his ex-con older brothe...   \n",
       "\n",
       "      metascore    votes     gross  \\\n",
       "59         ----   32,053      ----   \n",
       "318        ----   45,830    $1.24M   \n",
       "477  81          701,969  $100.55M   \n",
       "925  71          165,458   $26.02M   \n",
       "933  88          234,501   $26.86M   \n",
       "\n",
       "                                             image_url  \n",
       "59   https://m.media-amazon.com/images/M/MV5BOGM2Yz...  \n",
       "318  https://m.media-amazon.com/images/M/MV5BNGI1MT...  \n",
       "477  https://m.media-amazon.com/images/M/MV5BMTExMz...  \n",
       "925  https://m.media-amazon.com/images/M/MV5BMjIwOT...  \n",
       "933  https://m.media-amazon.com/images/M/MV5BMTg4ND...  "
      ]
     },
     "execution_count": 27,
     "metadata": {},
     "output_type": "execute_result"
    }
   ],
   "source": [
    "# filter for extraneous text characters in 'release_year' column\n",
    "# find where the II and III characters are so we can remove them in order to convert year column to date\n",
    "mask = final_df['release_year'].str.contains('II', na=False)\n",
    "final_df[mask].head()"
   ]
  },
  {
   "cell_type": "code",
   "execution_count": 28,
   "id": "b410134c",
   "metadata": {},
   "outputs": [
    {
     "data": {
      "text/html": [
       "<div>\n",
       "<style scoped>\n",
       "    .dataframe tbody tr th:only-of-type {\n",
       "        vertical-align: middle;\n",
       "    }\n",
       "\n",
       "    .dataframe tbody tr th {\n",
       "        vertical-align: top;\n",
       "    }\n",
       "\n",
       "    .dataframe thead th {\n",
       "        text-align: right;\n",
       "    }\n",
       "</style>\n",
       "<table border=\"1\" class=\"dataframe\">\n",
       "  <thead>\n",
       "    <tr style=\"text-align: right;\">\n",
       "      <th></th>\n",
       "      <th>film_title</th>\n",
       "      <th>genre</th>\n",
       "      <th>release_year</th>\n",
       "      <th>director</th>\n",
       "      <th>lead_actor</th>\n",
       "      <th>run_time_minutes</th>\n",
       "      <th>mpa_rating</th>\n",
       "      <th>imdb_stars_rating</th>\n",
       "      <th>synopsis</th>\n",
       "      <th>metascore</th>\n",
       "      <th>votes</th>\n",
       "      <th>gross</th>\n",
       "      <th>image_url</th>\n",
       "    </tr>\n",
       "  </thead>\n",
       "  <tbody>\n",
       "    <tr>\n",
       "      <th>59</th>\n",
       "      <td>96</td>\n",
       "      <td>Drama, Romance</td>\n",
       "      <td>2018</td>\n",
       "      <td>C. Prem Kumar</td>\n",
       "      <td>Vijay Sethupathi</td>\n",
       "      <td>158</td>\n",
       "      <td>Not Rated</td>\n",
       "      <td>8.5</td>\n",
       "      <td>Two high school sweethearts meet at a reunion...</td>\n",
       "      <td>----</td>\n",
       "      <td>32,053</td>\n",
       "      <td>----</td>\n",
       "      <td>https://m.media-amazon.com/images/M/MV5BOGM2Yz...</td>\n",
       "    </tr>\n",
       "    <tr>\n",
       "      <th>318</th>\n",
       "      <td>Pink</td>\n",
       "      <td>Crime, Drama, Thriller</td>\n",
       "      <td>2016</td>\n",
       "      <td>Aniruddha Roy Chowdhury</td>\n",
       "      <td>Amitabh Bachchan</td>\n",
       "      <td>136</td>\n",
       "      <td>Not Rated</td>\n",
       "      <td>8.1</td>\n",
       "      <td>When three young women are implicated in a cr...</td>\n",
       "      <td>----</td>\n",
       "      <td>45,830</td>\n",
       "      <td>$1.24M</td>\n",
       "      <td>https://m.media-amazon.com/images/M/MV5BNGI1MT...</td>\n",
       "    </tr>\n",
       "    <tr>\n",
       "      <th>477</th>\n",
       "      <td>Arrival</td>\n",
       "      <td>Drama, Mystery, Sci-Fi</td>\n",
       "      <td>2016</td>\n",
       "      <td>Denis Villeneuve</td>\n",
       "      <td>Amy Adams</td>\n",
       "      <td>116</td>\n",
       "      <td>PG-13</td>\n",
       "      <td>7.9</td>\n",
       "      <td>A linguist works with the military to communi...</td>\n",
       "      <td>81</td>\n",
       "      <td>701,969</td>\n",
       "      <td>$100.55M</td>\n",
       "      <td>https://m.media-amazon.com/images/M/MV5BMTExMz...</td>\n",
       "    </tr>\n",
       "    <tr>\n",
       "      <th>925</th>\n",
       "      <td>Searching</td>\n",
       "      <td>Drama, Horror, Mystery</td>\n",
       "      <td>2018</td>\n",
       "      <td>Aneesh Chaganty</td>\n",
       "      <td>John Cho</td>\n",
       "      <td>102</td>\n",
       "      <td>PG-13</td>\n",
       "      <td>7.6</td>\n",
       "      <td>After his teenage daughter goes missing, a de...</td>\n",
       "      <td>71</td>\n",
       "      <td>165,458</td>\n",
       "      <td>$26.02M</td>\n",
       "      <td>https://m.media-amazon.com/images/M/MV5BMjIwOT...</td>\n",
       "    </tr>\n",
       "    <tr>\n",
       "      <th>933</th>\n",
       "      <td>Hell or High Water</td>\n",
       "      <td>Crime, Drama, Thriller</td>\n",
       "      <td>2016</td>\n",
       "      <td>David Mackenzie</td>\n",
       "      <td>Chris Pine</td>\n",
       "      <td>102</td>\n",
       "      <td>R</td>\n",
       "      <td>7.6</td>\n",
       "      <td>A divorced father and his ex-con older brothe...</td>\n",
       "      <td>88</td>\n",
       "      <td>234,501</td>\n",
       "      <td>$26.86M</td>\n",
       "      <td>https://m.media-amazon.com/images/M/MV5BMTg4ND...</td>\n",
       "    </tr>\n",
       "  </tbody>\n",
       "</table>\n",
       "</div>"
      ],
      "text/plain": [
       "             film_title                                genre release_year  \\\n",
       "59                   96           Drama, Romance                    2018    \n",
       "318                Pink   Crime, Drama, Thriller                    2016    \n",
       "477             Arrival   Drama, Mystery, Sci-Fi                    2016    \n",
       "925           Searching   Drama, Horror, Mystery                    2018    \n",
       "933  Hell or High Water   Crime, Drama, Thriller                    2016    \n",
       "\n",
       "                    director        lead_actor run_time_minutes mpa_rating  \\\n",
       "59             C. Prem Kumar  Vijay Sethupathi             158   Not Rated   \n",
       "318  Aniruddha Roy Chowdhury  Amitabh Bachchan             136   Not Rated   \n",
       "477         Denis Villeneuve         Amy Adams             116       PG-13   \n",
       "925          Aneesh Chaganty          John Cho             102       PG-13   \n",
       "933          David Mackenzie        Chris Pine             102           R   \n",
       "\n",
       "    imdb_stars_rating                                           synopsis  \\\n",
       "59               8.5    Two high school sweethearts meet at a reunion...   \n",
       "318              8.1    When three young women are implicated in a cr...   \n",
       "477              7.9    A linguist works with the military to communi...   \n",
       "925              7.6    After his teenage daughter goes missing, a de...   \n",
       "933              7.6    A divorced father and his ex-con older brothe...   \n",
       "\n",
       "      metascore    votes     gross  \\\n",
       "59         ----   32,053      ----   \n",
       "318        ----   45,830    $1.24M   \n",
       "477  81          701,969  $100.55M   \n",
       "925  71          165,458   $26.02M   \n",
       "933  88          234,501   $26.86M   \n",
       "\n",
       "                                             image_url  \n",
       "59   https://m.media-amazon.com/images/M/MV5BOGM2Yz...  \n",
       "318  https://m.media-amazon.com/images/M/MV5BNGI1MT...  \n",
       "477  https://m.media-amazon.com/images/M/MV5BMTExMz...  \n",
       "925  https://m.media-amazon.com/images/M/MV5BMjIwOT...  \n",
       "933  https://m.media-amazon.com/images/M/MV5BMTg4ND...  "
      ]
     },
     "execution_count": 28,
     "metadata": {},
     "output_type": "execute_result"
    }
   ],
   "source": [
    "# df['column name'] = df['column name'].str.replace('old character','new character')\n",
    "final_df['release_year'] = final_df['release_year'].str.replace('I', '')\n",
    "final_df['release_year'] = final_df['release_year'].str.replace('II', '')\n",
    "final_df['release_year'] = final_df['release_year'].str.replace('III', '')\n",
    "final_df[mask].head()"
   ]
  },
  {
   "cell_type": "code",
   "execution_count": 29,
   "id": "1bff22dd",
   "metadata": {},
   "outputs": [
    {
     "data": {
      "text/html": [
       "<div>\n",
       "<style scoped>\n",
       "    .dataframe tbody tr th:only-of-type {\n",
       "        vertical-align: middle;\n",
       "    }\n",
       "\n",
       "    .dataframe tbody tr th {\n",
       "        vertical-align: top;\n",
       "    }\n",
       "\n",
       "    .dataframe thead th {\n",
       "        text-align: right;\n",
       "    }\n",
       "</style>\n",
       "<table border=\"1\" class=\"dataframe\">\n",
       "  <thead>\n",
       "    <tr style=\"text-align: right;\">\n",
       "      <th></th>\n",
       "      <th>film_title</th>\n",
       "      <th>genre</th>\n",
       "      <th>release_year</th>\n",
       "      <th>director</th>\n",
       "      <th>lead_actor</th>\n",
       "      <th>run_time_minutes</th>\n",
       "      <th>mpa_rating</th>\n",
       "      <th>imdb_stars_rating</th>\n",
       "      <th>synopsis</th>\n",
       "      <th>metascore</th>\n",
       "      <th>votes</th>\n",
       "      <th>gross</th>\n",
       "      <th>image_url</th>\n",
       "    </tr>\n",
       "  </thead>\n",
       "  <tbody>\n",
       "    <tr>\n",
       "      <th>0</th>\n",
       "      <td>The Shawshank Redemption</td>\n",
       "      <td>Drama</td>\n",
       "      <td>1994</td>\n",
       "      <td>Frank Darabont</td>\n",
       "      <td>Tim Robbins</td>\n",
       "      <td>142</td>\n",
       "      <td>R</td>\n",
       "      <td>9.3</td>\n",
       "      <td>Over the course of several years, two convict...</td>\n",
       "      <td>81</td>\n",
       "      <td>2,690,492</td>\n",
       "      <td>$28.34M</td>\n",
       "      <td>https://m.media-amazon.com/images/M/MV5BMDFkYT...</td>\n",
       "    </tr>\n",
       "    <tr>\n",
       "      <th>7</th>\n",
       "      <td>Pulp Fiction</td>\n",
       "      <td>Crime, Drama</td>\n",
       "      <td>1994</td>\n",
       "      <td>Quentin Tarantino</td>\n",
       "      <td>John Travolta</td>\n",
       "      <td>154</td>\n",
       "      <td>R</td>\n",
       "      <td>8.9</td>\n",
       "      <td>The lives of two mob hitmen, a boxer, a gangs...</td>\n",
       "      <td>94</td>\n",
       "      <td>2,064,738</td>\n",
       "      <td>$107.93M</td>\n",
       "      <td>https://m.media-amazon.com/images/M/MV5BNGNhMD...</td>\n",
       "    </tr>\n",
       "    <tr>\n",
       "      <th>12</th>\n",
       "      <td>Forrest Gump</td>\n",
       "      <td>Drama, Romance</td>\n",
       "      <td>1994</td>\n",
       "      <td>Robert Zemeckis</td>\n",
       "      <td>Tom Hanks</td>\n",
       "      <td>142</td>\n",
       "      <td>PG-13</td>\n",
       "      <td>8.8</td>\n",
       "      <td>The presidencies of Kennedy and Johnson, the ...</td>\n",
       "      <td>82</td>\n",
       "      <td>2,088,976</td>\n",
       "      <td>$330.25M</td>\n",
       "      <td>https://m.media-amazon.com/images/M/MV5BNWIwOD...</td>\n",
       "    </tr>\n",
       "    <tr>\n",
       "      <th>40</th>\n",
       "      <td>Léon: The Professional</td>\n",
       "      <td>Action, Crime, Drama</td>\n",
       "      <td>1994</td>\n",
       "      <td>Luc Besson</td>\n",
       "      <td>Jean Reno</td>\n",
       "      <td>110</td>\n",
       "      <td>R</td>\n",
       "      <td>8.5</td>\n",
       "      <td>12-year-old Mathilda is reluctantly taken in ...</td>\n",
       "      <td>64</td>\n",
       "      <td>1,167,309</td>\n",
       "      <td>$19.50M</td>\n",
       "      <td>https://m.media-amazon.com/images/M/MV5BOTgyMW...</td>\n",
       "    </tr>\n",
       "    <tr>\n",
       "      <th>47</th>\n",
       "      <td>The Lion King</td>\n",
       "      <td>Animation, Adventure, Drama</td>\n",
       "      <td>1994</td>\n",
       "      <td>Roger Allers</td>\n",
       "      <td>Rob Minkoff</td>\n",
       "      <td>88</td>\n",
       "      <td>G</td>\n",
       "      <td>8.5</td>\n",
       "      <td>Lion prince Simba and his father are targeted...</td>\n",
       "      <td>88</td>\n",
       "      <td>1,063,727</td>\n",
       "      <td>$422.78M</td>\n",
       "      <td>https://m.media-amazon.com/images/M/MV5BYTYxNG...</td>\n",
       "    </tr>\n",
       "  </tbody>\n",
       "</table>\n",
       "</div>"
      ],
      "text/plain": [
       "                  film_title                                     genre  \\\n",
       "0   The Shawshank Redemption                         Drama               \n",
       "7               Pulp Fiction                  Crime, Drama               \n",
       "12              Forrest Gump                Drama, Romance               \n",
       "40    Léon: The Professional          Action, Crime, Drama               \n",
       "47             The Lion King   Animation, Adventure, Drama               \n",
       "\n",
       "   release_year           director     lead_actor run_time_minutes mpa_rating  \\\n",
       "0         1994      Frank Darabont    Tim Robbins             142           R   \n",
       "7         1994   Quentin Tarantino  John Travolta             154           R   \n",
       "12        1994     Robert Zemeckis      Tom Hanks             142       PG-13   \n",
       "40        1994          Luc Besson      Jean Reno             110           R   \n",
       "47        1994        Roger Allers    Rob Minkoff              88           G   \n",
       "\n",
       "   imdb_stars_rating                                           synopsis  \\\n",
       "0               9.3    Over the course of several years, two convict...   \n",
       "7               8.9    The lives of two mob hitmen, a boxer, a gangs...   \n",
       "12              8.8    The presidencies of Kennedy and Johnson, the ...   \n",
       "40              8.5    12-year-old Mathilda is reluctantly taken in ...   \n",
       "47              8.5    Lion prince Simba and his father are targeted...   \n",
       "\n",
       "     metascore      votes     gross  \\\n",
       "0   81          2,690,492   $28.34M   \n",
       "7   94          2,064,738  $107.93M   \n",
       "12  82          2,088,976  $330.25M   \n",
       "40  64          1,167,309   $19.50M   \n",
       "47  88          1,063,727  $422.78M   \n",
       "\n",
       "                                            image_url  \n",
       "0   https://m.media-amazon.com/images/M/MV5BMDFkYT...  \n",
       "7   https://m.media-amazon.com/images/M/MV5BNGNhMD...  \n",
       "12  https://m.media-amazon.com/images/M/MV5BNWIwOD...  \n",
       "40  https://m.media-amazon.com/images/M/MV5BOTgyMW...  \n",
       "47  https://m.media-amazon.com/images/M/MV5BYTYxNG...  "
      ]
     },
     "execution_count": 29,
     "metadata": {},
     "output_type": "execute_result"
    }
   ],
   "source": [
    "mask = final_df['release_year'].str.contains(' 1994 ', na=False)\n",
    "final_df[mask].head()"
   ]
  },
  {
   "cell_type": "code",
   "execution_count": 30,
   "id": "86897ec3",
   "metadata": {},
   "outputs": [
    {
     "data": {
      "text/plain": [
       "0"
      ]
     },
     "execution_count": 30,
     "metadata": {},
     "output_type": "execute_result"
    }
   ],
   "source": [
    "# get a count of how many NaN values in the release_year column\n",
    "final_df['release_year'].isna().sum()"
   ]
  },
  {
   "cell_type": "code",
   "execution_count": 31,
   "id": "fee90a89",
   "metadata": {},
   "outputs": [
    {
     "data": {
      "text/plain": [
       "0"
      ]
     },
     "execution_count": 31,
     "metadata": {},
     "output_type": "execute_result"
    }
   ],
   "source": [
    "# get a count of how many NaN values in the dataframe\n",
    "# df.isna().sum().sum()\n",
    "final_df.isna().sum().sum()"
   ]
  },
  {
   "cell_type": "code",
   "execution_count": 32,
   "id": "aef28f4a",
   "metadata": {},
   "outputs": [
    {
     "data": {
      "text/plain": [
       "film_title           0\n",
       "genre                0\n",
       "release_year         0\n",
       "director             0\n",
       "lead_actor           0\n",
       "run_time_minutes     0\n",
       "mpa_rating           0\n",
       "imdb_stars_rating    0\n",
       "synopsis             0\n",
       "metascore            0\n",
       "votes                0\n",
       "gross                0\n",
       "image_url            0\n",
       "dtype: int64"
      ]
     },
     "execution_count": 32,
     "metadata": {},
     "output_type": "execute_result"
    }
   ],
   "source": [
    "# get which columns contain NaN\n",
    "final_df.isna().sum()"
   ]
  },
  {
   "cell_type": "code",
   "execution_count": 33,
   "id": "b9a3427b",
   "metadata": {},
   "outputs": [],
   "source": [
    "# convert release_year to numeric\n",
    "# df.col1 = pd.to_numeric(df.col1, errors=\"coerce\")\n",
    "final_df.release_year = pd.to_numeric(final_df.release_year, errors=\"coerce\")"
   ]
  },
  {
   "cell_type": "code",
   "execution_count": 34,
   "id": "62c81501",
   "metadata": {},
   "outputs": [
    {
     "data": {
      "text/plain": [
       "dtype('int64')"
      ]
     },
     "execution_count": 34,
     "metadata": {},
     "output_type": "execute_result"
    }
   ],
   "source": [
    "final_df.dtypes['release_year']"
   ]
  },
  {
   "cell_type": "code",
   "execution_count": 35,
   "id": "db9b3a51",
   "metadata": {},
   "outputs": [],
   "source": [
    "# df['Year'] = pd.to_numeric(df['Year'], errors='coerce').fillna(0).astype(int)\n",
    "final_df['release_year'] = pd.to_numeric(final_df['release_year'], errors='coerce').fillna(0).astype(int)"
   ]
  },
  {
   "cell_type": "code",
   "execution_count": 36,
   "id": "c6905667",
   "metadata": {},
   "outputs": [
    {
     "data": {
      "text/plain": [
       "1940"
      ]
     },
     "execution_count": 36,
     "metadata": {},
     "output_type": "execute_result"
    }
   ],
   "source": [
    "# get release year of nth movie\n",
    "final_df.loc[548,'release_year']"
   ]
  },
  {
   "cell_type": "code",
   "execution_count": 37,
   "id": "62e97fc4",
   "metadata": {},
   "outputs": [
    {
     "data": {
      "text/plain": [
       "'The Philadelphia Story'"
      ]
     },
     "execution_count": 37,
     "metadata": {},
     "output_type": "execute_result"
    }
   ],
   "source": [
    "# go ahead and get film_title of the above referenced movie\n",
    "final_df.loc[548,'film_title']"
   ]
  },
  {
   "cell_type": "code",
   "execution_count": 38,
   "id": "7958ef3b",
   "metadata": {},
   "outputs": [
    {
     "data": {
      "text/plain": [
       "dtype('int64')"
      ]
     },
     "execution_count": 38,
     "metadata": {},
     "output_type": "execute_result"
    }
   ],
   "source": [
    "final_df.dtypes['release_year']"
   ]
  },
  {
   "cell_type": "code",
   "execution_count": 39,
   "id": "dd16d6b8",
   "metadata": {},
   "outputs": [
    {
     "data": {
      "text/plain": [
       "film_title           object\n",
       "genre                object\n",
       "release_year          int64\n",
       "director             object\n",
       "lead_actor           object\n",
       "run_time_minutes     object\n",
       "mpa_rating           object\n",
       "imdb_stars_rating    object\n",
       "synopsis             object\n",
       "metascore            object\n",
       "votes                object\n",
       "gross                object\n",
       "image_url            object\n",
       "dtype: object"
      ]
     },
     "execution_count": 39,
     "metadata": {},
     "output_type": "execute_result"
    }
   ],
   "source": [
    "final_df.dtypes"
   ]
  },
  {
   "cell_type": "code",
   "execution_count": 40,
   "id": "1498a862",
   "metadata": {},
   "outputs": [
    {
     "data": {
      "text/html": [
       "<div>\n",
       "<style scoped>\n",
       "    .dataframe tbody tr th:only-of-type {\n",
       "        vertical-align: middle;\n",
       "    }\n",
       "\n",
       "    .dataframe tbody tr th {\n",
       "        vertical-align: top;\n",
       "    }\n",
       "\n",
       "    .dataframe thead th {\n",
       "        text-align: right;\n",
       "    }\n",
       "</style>\n",
       "<table border=\"1\" class=\"dataframe\">\n",
       "  <thead>\n",
       "    <tr style=\"text-align: right;\">\n",
       "      <th></th>\n",
       "      <th>film_title</th>\n",
       "      <th>genre</th>\n",
       "      <th>release_year</th>\n",
       "      <th>director</th>\n",
       "      <th>lead_actor</th>\n",
       "      <th>run_time_minutes</th>\n",
       "      <th>mpa_rating</th>\n",
       "      <th>imdb_stars_rating</th>\n",
       "      <th>synopsis</th>\n",
       "      <th>metascore</th>\n",
       "      <th>votes</th>\n",
       "      <th>gross</th>\n",
       "      <th>image_url</th>\n",
       "    </tr>\n",
       "  </thead>\n",
       "  <tbody>\n",
       "    <tr>\n",
       "      <th>0</th>\n",
       "      <td>The Shawshank Redemption</td>\n",
       "      <td>Drama</td>\n",
       "      <td>1994</td>\n",
       "      <td>Frank Darabont</td>\n",
       "      <td>Tim Robbins</td>\n",
       "      <td>142</td>\n",
       "      <td>R</td>\n",
       "      <td>9.3</td>\n",
       "      <td>Over the course of several years, two convict...</td>\n",
       "      <td>81</td>\n",
       "      <td>2,690,492</td>\n",
       "      <td>$28.34M</td>\n",
       "      <td>https://m.media-amazon.com/images/M/MV5BMDFkYT...</td>\n",
       "    </tr>\n",
       "    <tr>\n",
       "      <th>1</th>\n",
       "      <td>The Godfather</td>\n",
       "      <td>Crime, Drama</td>\n",
       "      <td>1972</td>\n",
       "      <td>Francis Ford Coppola</td>\n",
       "      <td>Marlon Brando</td>\n",
       "      <td>175</td>\n",
       "      <td>R</td>\n",
       "      <td>9.2</td>\n",
       "      <td>The aging patriarch of an organized crime dyn...</td>\n",
       "      <td>100</td>\n",
       "      <td>1,866,276</td>\n",
       "      <td>$134.97M</td>\n",
       "      <td>https://m.media-amazon.com/images/M/MV5BM2MyNj...</td>\n",
       "    </tr>\n",
       "    <tr>\n",
       "      <th>2</th>\n",
       "      <td>The Dark Knight</td>\n",
       "      <td>Action, Crime, Drama</td>\n",
       "      <td>2008</td>\n",
       "      <td>Christopher Nolan</td>\n",
       "      <td>Christian Bale</td>\n",
       "      <td>152</td>\n",
       "      <td>PG-13</td>\n",
       "      <td>9.0</td>\n",
       "      <td>When the menace known as the Joker wreaks hav...</td>\n",
       "      <td>84</td>\n",
       "      <td>2,664,117</td>\n",
       "      <td>$534.86M</td>\n",
       "      <td>https://m.media-amazon.com/images/M/MV5BMTMxNT...</td>\n",
       "    </tr>\n",
       "  </tbody>\n",
       "</table>\n",
       "</div>"
      ],
      "text/plain": [
       "                 film_title                              genre  release_year  \\\n",
       "0  The Shawshank Redemption                  Drama                      1994   \n",
       "1             The Godfather           Crime, Drama                      1972   \n",
       "2           The Dark Knight   Action, Crime, Drama                      2008   \n",
       "\n",
       "               director      lead_actor  run_time_minutes mpa_rating  \\\n",
       "0        Frank Darabont     Tim Robbins               142          R   \n",
       "1  Francis Ford Coppola   Marlon Brando               175          R   \n",
       "2     Christopher Nolan  Christian Bale               152      PG-13   \n",
       "\n",
       "  imdb_stars_rating                                           synopsis  \\\n",
       "0              9.3    Over the course of several years, two convict...   \n",
       "1              9.2    The aging patriarch of an organized crime dyn...   \n",
       "2              9.0    When the menace known as the Joker wreaks hav...   \n",
       "\n",
       "     metascore      votes     gross  \\\n",
       "0   81          2,690,492   $28.34M   \n",
       "1  100          1,866,276  $134.97M   \n",
       "2   84          2,664,117  $534.86M   \n",
       "\n",
       "                                           image_url  \n",
       "0  https://m.media-amazon.com/images/M/MV5BMDFkYT...  \n",
       "1  https://m.media-amazon.com/images/M/MV5BM2MyNj...  \n",
       "2  https://m.media-amazon.com/images/M/MV5BMTMxNT...  "
      ]
     },
     "execution_count": 40,
     "metadata": {},
     "output_type": "execute_result"
    }
   ],
   "source": [
    "# convert 'run_time' to numeric\n",
    "final_df['run_time_minutes'] = final_df['run_time_minutes'].str.extract('(\\d+)').astype(int)\n",
    "final_df.head(3)"
   ]
  },
  {
   "cell_type": "code",
   "execution_count": 41,
   "id": "5656d058",
   "metadata": {},
   "outputs": [],
   "source": [
    "# convert 'imdb_stars_rating' to float\n",
    "final_df['imdb_stars_rating'] = final_df['imdb_stars_rating'].str.extract('(\\d+)').astype(float)"
   ]
  },
  {
   "cell_type": "code",
   "execution_count": 42,
   "id": "9a52bd0d",
   "metadata": {},
   "outputs": [
    {
     "name": "stdout",
     "output_type": "stream",
     "text": [
      "<class 'pandas.core.frame.DataFrame'>\n",
      "RangeIndex: 999 entries, 0 to 998\n",
      "Data columns (total 13 columns):\n",
      " #   Column             Non-Null Count  Dtype  \n",
      "---  ------             --------------  -----  \n",
      " 0   film_title         999 non-null    object \n",
      " 1   genre              999 non-null    object \n",
      " 2   release_year       999 non-null    int64  \n",
      " 3   director           999 non-null    object \n",
      " 4   lead_actor         999 non-null    object \n",
      " 5   run_time_minutes   999 non-null    int64  \n",
      " 6   mpa_rating         999 non-null    object \n",
      " 7   imdb_stars_rating  999 non-null    float64\n",
      " 8   synopsis           999 non-null    object \n",
      " 9   metascore          999 non-null    object \n",
      " 10  votes              999 non-null    object \n",
      " 11  gross              999 non-null    object \n",
      " 12  image_url          999 non-null    object \n",
      "dtypes: float64(1), int64(2), object(10)\n",
      "memory usage: 101.6+ KB\n"
     ]
    }
   ],
   "source": [
    "final_df.info()"
   ]
  },
  {
   "cell_type": "code",
   "execution_count": 43,
   "id": "4501ea37",
   "metadata": {},
   "outputs": [
    {
     "data": {
      "text/plain": [
       "film_title            object\n",
       "genre                 object\n",
       "release_year           int64\n",
       "director              object\n",
       "lead_actor            object\n",
       "run_time_minutes       int64\n",
       "mpa_rating            object\n",
       "imdb_stars_rating    float64\n",
       "synopsis              object\n",
       "metascore             object\n",
       "votes                 object\n",
       "gross                 object\n",
       "image_url             object\n",
       "dtype: object"
      ]
     },
     "execution_count": 43,
     "metadata": {},
     "output_type": "execute_result"
    }
   ],
   "source": [
    "final_df.dtypes"
   ]
  },
  {
   "cell_type": "code",
   "execution_count": 44,
   "id": "e3f9bc15",
   "metadata": {},
   "outputs": [
    {
     "data": {
      "text/plain": [
       "dtype('O')"
      ]
     },
     "execution_count": 44,
     "metadata": {},
     "output_type": "execute_result"
    }
   ],
   "source": [
    "final_df['mpa_rating'].dtypes"
   ]
  },
  {
   "cell_type": "code",
   "execution_count": 45,
   "id": "3b5d59ca",
   "metadata": {},
   "outputs": [],
   "source": [
    "# remove square brackets surrounding MPA rating values\n",
    "# df['col_name'] = df['col_name'].str.strip('[]')\n",
    "# final_df['mpa_rating'] = final_df['mpa_rating'].str.strip('[]')"
   ]
  },
  {
   "cell_type": "code",
   "execution_count": 46,
   "id": "b53d5547",
   "metadata": {},
   "outputs": [
    {
     "data": {
      "text/html": [
       "<div>\n",
       "<style scoped>\n",
       "    .dataframe tbody tr th:only-of-type {\n",
       "        vertical-align: middle;\n",
       "    }\n",
       "\n",
       "    .dataframe tbody tr th {\n",
       "        vertical-align: top;\n",
       "    }\n",
       "\n",
       "    .dataframe thead th {\n",
       "        text-align: right;\n",
       "    }\n",
       "</style>\n",
       "<table border=\"1\" class=\"dataframe\">\n",
       "  <thead>\n",
       "    <tr style=\"text-align: right;\">\n",
       "      <th></th>\n",
       "      <th>film_title</th>\n",
       "      <th>genre</th>\n",
       "      <th>release_year</th>\n",
       "      <th>director</th>\n",
       "      <th>lead_actor</th>\n",
       "      <th>run_time_minutes</th>\n",
       "      <th>mpa_rating</th>\n",
       "      <th>imdb_stars_rating</th>\n",
       "      <th>synopsis</th>\n",
       "      <th>metascore</th>\n",
       "      <th>votes</th>\n",
       "      <th>gross</th>\n",
       "      <th>image_url</th>\n",
       "    </tr>\n",
       "  </thead>\n",
       "  <tbody>\n",
       "    <tr>\n",
       "      <th>0</th>\n",
       "      <td>The Shawshank Redemption</td>\n",
       "      <td>Drama</td>\n",
       "      <td>1994</td>\n",
       "      <td>Frank Darabont</td>\n",
       "      <td>Tim Robbins</td>\n",
       "      <td>142</td>\n",
       "      <td>R</td>\n",
       "      <td>9.0</td>\n",
       "      <td>Over the course of several years, two convict...</td>\n",
       "      <td>81</td>\n",
       "      <td>2,690,492</td>\n",
       "      <td>28.34</td>\n",
       "      <td>https://m.media-amazon.com/images/M/MV5BMDFkYT...</td>\n",
       "    </tr>\n",
       "    <tr>\n",
       "      <th>1</th>\n",
       "      <td>The Godfather</td>\n",
       "      <td>Crime, Drama</td>\n",
       "      <td>1972</td>\n",
       "      <td>Francis Ford Coppola</td>\n",
       "      <td>Marlon Brando</td>\n",
       "      <td>175</td>\n",
       "      <td>R</td>\n",
       "      <td>9.0</td>\n",
       "      <td>The aging patriarch of an organized crime dyn...</td>\n",
       "      <td>100</td>\n",
       "      <td>1,866,276</td>\n",
       "      <td>134.97</td>\n",
       "      <td>https://m.media-amazon.com/images/M/MV5BM2MyNj...</td>\n",
       "    </tr>\n",
       "    <tr>\n",
       "      <th>2</th>\n",
       "      <td>The Dark Knight</td>\n",
       "      <td>Action, Crime, Drama</td>\n",
       "      <td>2008</td>\n",
       "      <td>Christopher Nolan</td>\n",
       "      <td>Christian Bale</td>\n",
       "      <td>152</td>\n",
       "      <td>PG-13</td>\n",
       "      <td>9.0</td>\n",
       "      <td>When the menace known as the Joker wreaks hav...</td>\n",
       "      <td>84</td>\n",
       "      <td>2,664,117</td>\n",
       "      <td>534.86</td>\n",
       "      <td>https://m.media-amazon.com/images/M/MV5BMTMxNT...</td>\n",
       "    </tr>\n",
       "    <tr>\n",
       "      <th>3</th>\n",
       "      <td>Schindler's List</td>\n",
       "      <td>Biography, Drama, History</td>\n",
       "      <td>1993</td>\n",
       "      <td>Steven Spielberg</td>\n",
       "      <td>Liam Neeson</td>\n",
       "      <td>195</td>\n",
       "      <td>R</td>\n",
       "      <td>9.0</td>\n",
       "      <td>In German-occupied Poland during World War II...</td>\n",
       "      <td>94</td>\n",
       "      <td>1,360,711</td>\n",
       "      <td>96.90</td>\n",
       "      <td>https://m.media-amazon.com/images/M/MV5BNDE4OT...</td>\n",
       "    </tr>\n",
       "    <tr>\n",
       "      <th>4</th>\n",
       "      <td>The Godfather: Part II</td>\n",
       "      <td>Crime, Drama</td>\n",
       "      <td>1974</td>\n",
       "      <td>Francis Ford Coppola</td>\n",
       "      <td>Al Pacino</td>\n",
       "      <td>202</td>\n",
       "      <td>R</td>\n",
       "      <td>9.0</td>\n",
       "      <td>The early life and career of Vito Corleone in...</td>\n",
       "      <td>90</td>\n",
       "      <td>1,276,503</td>\n",
       "      <td>57.30</td>\n",
       "      <td>https://m.media-amazon.com/images/M/MV5BMWMwMG...</td>\n",
       "    </tr>\n",
       "  </tbody>\n",
       "</table>\n",
       "</div>"
      ],
      "text/plain": [
       "                 film_title                                   genre  \\\n",
       "0  The Shawshank Redemption                       Drama               \n",
       "1             The Godfather                Crime, Drama               \n",
       "2           The Dark Knight        Action, Crime, Drama               \n",
       "3          Schindler's List   Biography, Drama, History               \n",
       "4    The Godfather: Part II                Crime, Drama               \n",
       "\n",
       "   release_year              director      lead_actor  run_time_minutes  \\\n",
       "0          1994        Frank Darabont     Tim Robbins               142   \n",
       "1          1972  Francis Ford Coppola   Marlon Brando               175   \n",
       "2          2008     Christopher Nolan  Christian Bale               152   \n",
       "3          1993      Steven Spielberg     Liam Neeson               195   \n",
       "4          1974  Francis Ford Coppola       Al Pacino               202   \n",
       "\n",
       "  mpa_rating  imdb_stars_rating  \\\n",
       "0          R                9.0   \n",
       "1          R                9.0   \n",
       "2      PG-13                9.0   \n",
       "3          R                9.0   \n",
       "4          R                9.0   \n",
       "\n",
       "                                            synopsis    metascore      votes  \\\n",
       "0   Over the course of several years, two convict...   81          2,690,492   \n",
       "1   The aging patriarch of an organized crime dyn...  100          1,866,276   \n",
       "2   When the menace known as the Joker wreaks hav...   84          2,664,117   \n",
       "3   In German-occupied Poland during World War II...   94          1,360,711   \n",
       "4   The early life and career of Vito Corleone in...   90          1,276,503   \n",
       "\n",
       "    gross                                          image_url  \n",
       "0   28.34  https://m.media-amazon.com/images/M/MV5BMDFkYT...  \n",
       "1  134.97  https://m.media-amazon.com/images/M/MV5BM2MyNj...  \n",
       "2  534.86  https://m.media-amazon.com/images/M/MV5BMTMxNT...  \n",
       "3   96.90  https://m.media-amazon.com/images/M/MV5BNDE4OT...  \n",
       "4   57.30  https://m.media-amazon.com/images/M/MV5BMWMwMG...  "
      ]
     },
     "execution_count": 46,
     "metadata": {},
     "output_type": "execute_result"
    }
   ],
   "source": [
    "# gross column: left strip $ and right strip M \n",
    "final_df['gross'] = final_df['gross'].map(lambda x: x.lstrip('$').rstrip('M'))\n",
    "# convert gross to float and if there are dashes turn it into NaN\n",
    "final_df['gross'] = pd.to_numeric(final_df['gross'], errors='coerce')\n",
    "final_df.head(5)"
   ]
  },
  {
   "cell_type": "code",
   "execution_count": 47,
   "id": "6a3ade13",
   "metadata": {},
   "outputs": [
    {
     "data": {
      "text/plain": [
       "film_title            object\n",
       "genre                 object\n",
       "release_year           int64\n",
       "director              object\n",
       "lead_actor            object\n",
       "run_time_minutes       int64\n",
       "mpa_rating            object\n",
       "imdb_stars_rating    float64\n",
       "synopsis              object\n",
       "metascore             object\n",
       "votes                 object\n",
       "gross                float64\n",
       "image_url             object\n",
       "dtype: object"
      ]
     },
     "execution_count": 47,
     "metadata": {},
     "output_type": "execute_result"
    }
   ],
   "source": [
    "final_df.dtypes"
   ]
  },
  {
   "cell_type": "code",
   "execution_count": 48,
   "id": "a00588de",
   "metadata": {},
   "outputs": [],
   "source": [
    "# convert 'metascore' to numeric \n",
    "final_df['metascore'] = final_df['metascore'].str.extract('(\\d+)')\n",
    "# convert to float and if there are dashes turn it into NaN\n",
    "final_df['metascore'] = pd.to_numeric(final_df['metascore'], errors='coerce')"
   ]
  },
  {
   "cell_type": "code",
   "execution_count": 49,
   "id": "4a85a624",
   "metadata": {},
   "outputs": [
    {
     "data": {
      "text/html": [
       "<div>\n",
       "<style scoped>\n",
       "    .dataframe tbody tr th:only-of-type {\n",
       "        vertical-align: middle;\n",
       "    }\n",
       "\n",
       "    .dataframe tbody tr th {\n",
       "        vertical-align: top;\n",
       "    }\n",
       "\n",
       "    .dataframe thead th {\n",
       "        text-align: right;\n",
       "    }\n",
       "</style>\n",
       "<table border=\"1\" class=\"dataframe\">\n",
       "  <thead>\n",
       "    <tr style=\"text-align: right;\">\n",
       "      <th></th>\n",
       "      <th>film_title</th>\n",
       "      <th>genre</th>\n",
       "      <th>release_year</th>\n",
       "      <th>director</th>\n",
       "      <th>lead_actor</th>\n",
       "      <th>run_time_minutes</th>\n",
       "      <th>mpa_rating</th>\n",
       "      <th>imdb_stars_rating</th>\n",
       "      <th>synopsis</th>\n",
       "      <th>metascore</th>\n",
       "      <th>votes</th>\n",
       "      <th>gross</th>\n",
       "      <th>image_url</th>\n",
       "    </tr>\n",
       "  </thead>\n",
       "  <tbody>\n",
       "    <tr>\n",
       "      <th>0</th>\n",
       "      <td>The Shawshank Redemption</td>\n",
       "      <td>Drama</td>\n",
       "      <td>1994</td>\n",
       "      <td>Frank Darabont</td>\n",
       "      <td>Tim Robbins</td>\n",
       "      <td>142</td>\n",
       "      <td>R</td>\n",
       "      <td>9.0</td>\n",
       "      <td>Over the course of several years, two convict...</td>\n",
       "      <td>81.0</td>\n",
       "      <td>2690492</td>\n",
       "      <td>28.34</td>\n",
       "      <td>https://m.media-amazon.com/images/M/MV5BMDFkYT...</td>\n",
       "    </tr>\n",
       "    <tr>\n",
       "      <th>1</th>\n",
       "      <td>The Godfather</td>\n",
       "      <td>Crime, Drama</td>\n",
       "      <td>1972</td>\n",
       "      <td>Francis Ford Coppola</td>\n",
       "      <td>Marlon Brando</td>\n",
       "      <td>175</td>\n",
       "      <td>R</td>\n",
       "      <td>9.0</td>\n",
       "      <td>The aging patriarch of an organized crime dyn...</td>\n",
       "      <td>100.0</td>\n",
       "      <td>1866276</td>\n",
       "      <td>134.97</td>\n",
       "      <td>https://m.media-amazon.com/images/M/MV5BM2MyNj...</td>\n",
       "    </tr>\n",
       "    <tr>\n",
       "      <th>2</th>\n",
       "      <td>The Dark Knight</td>\n",
       "      <td>Action, Crime, Drama</td>\n",
       "      <td>2008</td>\n",
       "      <td>Christopher Nolan</td>\n",
       "      <td>Christian Bale</td>\n",
       "      <td>152</td>\n",
       "      <td>PG-13</td>\n",
       "      <td>9.0</td>\n",
       "      <td>When the menace known as the Joker wreaks hav...</td>\n",
       "      <td>84.0</td>\n",
       "      <td>2664117</td>\n",
       "      <td>534.86</td>\n",
       "      <td>https://m.media-amazon.com/images/M/MV5BMTMxNT...</td>\n",
       "    </tr>\n",
       "    <tr>\n",
       "      <th>3</th>\n",
       "      <td>Schindler's List</td>\n",
       "      <td>Biography, Drama, History</td>\n",
       "      <td>1993</td>\n",
       "      <td>Steven Spielberg</td>\n",
       "      <td>Liam Neeson</td>\n",
       "      <td>195</td>\n",
       "      <td>R</td>\n",
       "      <td>9.0</td>\n",
       "      <td>In German-occupied Poland during World War II...</td>\n",
       "      <td>94.0</td>\n",
       "      <td>1360711</td>\n",
       "      <td>96.90</td>\n",
       "      <td>https://m.media-amazon.com/images/M/MV5BNDE4OT...</td>\n",
       "    </tr>\n",
       "    <tr>\n",
       "      <th>4</th>\n",
       "      <td>The Godfather: Part II</td>\n",
       "      <td>Crime, Drama</td>\n",
       "      <td>1974</td>\n",
       "      <td>Francis Ford Coppola</td>\n",
       "      <td>Al Pacino</td>\n",
       "      <td>202</td>\n",
       "      <td>R</td>\n",
       "      <td>9.0</td>\n",
       "      <td>The early life and career of Vito Corleone in...</td>\n",
       "      <td>90.0</td>\n",
       "      <td>1276503</td>\n",
       "      <td>57.30</td>\n",
       "      <td>https://m.media-amazon.com/images/M/MV5BMWMwMG...</td>\n",
       "    </tr>\n",
       "  </tbody>\n",
       "</table>\n",
       "</div>"
      ],
      "text/plain": [
       "                 film_title                                   genre  \\\n",
       "0  The Shawshank Redemption                       Drama               \n",
       "1             The Godfather                Crime, Drama               \n",
       "2           The Dark Knight        Action, Crime, Drama               \n",
       "3          Schindler's List   Biography, Drama, History               \n",
       "4    The Godfather: Part II                Crime, Drama               \n",
       "\n",
       "   release_year              director      lead_actor  run_time_minutes  \\\n",
       "0          1994        Frank Darabont     Tim Robbins               142   \n",
       "1          1972  Francis Ford Coppola   Marlon Brando               175   \n",
       "2          2008     Christopher Nolan  Christian Bale               152   \n",
       "3          1993      Steven Spielberg     Liam Neeson               195   \n",
       "4          1974  Francis Ford Coppola       Al Pacino               202   \n",
       "\n",
       "  mpa_rating  imdb_stars_rating  \\\n",
       "0          R                9.0   \n",
       "1          R                9.0   \n",
       "2      PG-13                9.0   \n",
       "3          R                9.0   \n",
       "4          R                9.0   \n",
       "\n",
       "                                            synopsis  metascore    votes  \\\n",
       "0   Over the course of several years, two convict...       81.0  2690492   \n",
       "1   The aging patriarch of an organized crime dyn...      100.0  1866276   \n",
       "2   When the menace known as the Joker wreaks hav...       84.0  2664117   \n",
       "3   In German-occupied Poland during World War II...       94.0  1360711   \n",
       "4   The early life and career of Vito Corleone in...       90.0  1276503   \n",
       "\n",
       "    gross                                          image_url  \n",
       "0   28.34  https://m.media-amazon.com/images/M/MV5BMDFkYT...  \n",
       "1  134.97  https://m.media-amazon.com/images/M/MV5BM2MyNj...  \n",
       "2  534.86  https://m.media-amazon.com/images/M/MV5BMTMxNT...  \n",
       "3   96.90  https://m.media-amazon.com/images/M/MV5BNDE4OT...  \n",
       "4   57.30  https://m.media-amazon.com/images/M/MV5BMWMwMG...  "
      ]
     },
     "execution_count": 49,
     "metadata": {},
     "output_type": "execute_result"
    }
   ],
   "source": [
    "# remove commas from votes and convert votes to numeric\n",
    "final_df['votes'] = final_df['votes'].str.replace(',', '').astype(int)\n",
    "final_df.head()"
   ]
  },
  {
   "cell_type": "code",
   "execution_count": 50,
   "id": "67c60b27",
   "metadata": {},
   "outputs": [
    {
     "data": {
      "text/plain": [
       "film_title            object\n",
       "genre                 object\n",
       "release_year           int64\n",
       "director              object\n",
       "lead_actor            object\n",
       "run_time_minutes       int64\n",
       "mpa_rating            object\n",
       "imdb_stars_rating    float64\n",
       "synopsis              object\n",
       "metascore            float64\n",
       "votes                  int64\n",
       "gross                float64\n",
       "image_url             object\n",
       "dtype: object"
      ]
     },
     "execution_count": 50,
     "metadata": {},
     "output_type": "execute_result"
    }
   ],
   "source": [
    "final_df.dtypes"
   ]
  },
  {
   "cell_type": "code",
   "execution_count": 51,
   "id": "5f4fbd46",
   "metadata": {},
   "outputs": [
    {
     "data": {
      "text/html": [
       "<div>\n",
       "<style scoped>\n",
       "    .dataframe tbody tr th:only-of-type {\n",
       "        vertical-align: middle;\n",
       "    }\n",
       "\n",
       "    .dataframe tbody tr th {\n",
       "        vertical-align: top;\n",
       "    }\n",
       "\n",
       "    .dataframe thead th {\n",
       "        text-align: right;\n",
       "    }\n",
       "</style>\n",
       "<table border=\"1\" class=\"dataframe\">\n",
       "  <thead>\n",
       "    <tr style=\"text-align: right;\">\n",
       "      <th></th>\n",
       "      <th>film_title</th>\n",
       "      <th>genre</th>\n",
       "      <th>release_year</th>\n",
       "      <th>director</th>\n",
       "      <th>lead_actor</th>\n",
       "      <th>run_time_minutes</th>\n",
       "      <th>mpa_rating</th>\n",
       "      <th>imdb_stars_rating</th>\n",
       "      <th>synopsis</th>\n",
       "      <th>metascore</th>\n",
       "      <th>votes</th>\n",
       "      <th>gross</th>\n",
       "      <th>image_url</th>\n",
       "    </tr>\n",
       "  </thead>\n",
       "  <tbody>\n",
       "    <tr>\n",
       "      <th>0</th>\n",
       "      <td>The Shawshank Redemption</td>\n",
       "      <td>Drama</td>\n",
       "      <td>1994</td>\n",
       "      <td>Frank Darabont</td>\n",
       "      <td>Tim Robbins</td>\n",
       "      <td>142</td>\n",
       "      <td>R</td>\n",
       "      <td>9.0</td>\n",
       "      <td>Over the course of several years, two convict...</td>\n",
       "      <td>81.0</td>\n",
       "      <td>2690492</td>\n",
       "      <td>28.34</td>\n",
       "      <td>https://m.media-amazon.com/images/M/MV5BMDFkYT...</td>\n",
       "    </tr>\n",
       "    <tr>\n",
       "      <th>1</th>\n",
       "      <td>The Godfather</td>\n",
       "      <td>Crime, Drama</td>\n",
       "      <td>1972</td>\n",
       "      <td>Francis Ford Coppola</td>\n",
       "      <td>Marlon Brando</td>\n",
       "      <td>175</td>\n",
       "      <td>R</td>\n",
       "      <td>9.0</td>\n",
       "      <td>The aging patriarch of an organized crime dyn...</td>\n",
       "      <td>100.0</td>\n",
       "      <td>1866276</td>\n",
       "      <td>134.97</td>\n",
       "      <td>https://m.media-amazon.com/images/M/MV5BM2MyNj...</td>\n",
       "    </tr>\n",
       "    <tr>\n",
       "      <th>2</th>\n",
       "      <td>The Dark Knight</td>\n",
       "      <td>Action, Crime, Drama</td>\n",
       "      <td>2008</td>\n",
       "      <td>Christopher Nolan</td>\n",
       "      <td>Christian Bale</td>\n",
       "      <td>152</td>\n",
       "      <td>PG-13</td>\n",
       "      <td>9.0</td>\n",
       "      <td>When the menace known as the Joker wreaks hav...</td>\n",
       "      <td>84.0</td>\n",
       "      <td>2664117</td>\n",
       "      <td>534.86</td>\n",
       "      <td>https://m.media-amazon.com/images/M/MV5BMTMxNT...</td>\n",
       "    </tr>\n",
       "    <tr>\n",
       "      <th>3</th>\n",
       "      <td>Schindler's List</td>\n",
       "      <td>Biography, Drama, History</td>\n",
       "      <td>1993</td>\n",
       "      <td>Steven Spielberg</td>\n",
       "      <td>Liam Neeson</td>\n",
       "      <td>195</td>\n",
       "      <td>R</td>\n",
       "      <td>9.0</td>\n",
       "      <td>In German-occupied Poland during World War II...</td>\n",
       "      <td>94.0</td>\n",
       "      <td>1360711</td>\n",
       "      <td>96.90</td>\n",
       "      <td>https://m.media-amazon.com/images/M/MV5BNDE4OT...</td>\n",
       "    </tr>\n",
       "    <tr>\n",
       "      <th>4</th>\n",
       "      <td>The Godfather: Part II</td>\n",
       "      <td>Crime, Drama</td>\n",
       "      <td>1974</td>\n",
       "      <td>Francis Ford Coppola</td>\n",
       "      <td>Al Pacino</td>\n",
       "      <td>202</td>\n",
       "      <td>R</td>\n",
       "      <td>9.0</td>\n",
       "      <td>The early life and career of Vito Corleone in...</td>\n",
       "      <td>90.0</td>\n",
       "      <td>1276503</td>\n",
       "      <td>57.30</td>\n",
       "      <td>https://m.media-amazon.com/images/M/MV5BMWMwMG...</td>\n",
       "    </tr>\n",
       "  </tbody>\n",
       "</table>\n",
       "</div>"
      ],
      "text/plain": [
       "                 film_title                                   genre  \\\n",
       "0  The Shawshank Redemption                       Drama               \n",
       "1             The Godfather                Crime, Drama               \n",
       "2           The Dark Knight        Action, Crime, Drama               \n",
       "3          Schindler's List   Biography, Drama, History               \n",
       "4    The Godfather: Part II                Crime, Drama               \n",
       "\n",
       "   release_year              director      lead_actor  run_time_minutes  \\\n",
       "0          1994        Frank Darabont     Tim Robbins               142   \n",
       "1          1972  Francis Ford Coppola   Marlon Brando               175   \n",
       "2          2008     Christopher Nolan  Christian Bale               152   \n",
       "3          1993      Steven Spielberg     Liam Neeson               195   \n",
       "4          1974  Francis Ford Coppola       Al Pacino               202   \n",
       "\n",
       "  mpa_rating  imdb_stars_rating  \\\n",
       "0          R                9.0   \n",
       "1          R                9.0   \n",
       "2      PG-13                9.0   \n",
       "3          R                9.0   \n",
       "4          R                9.0   \n",
       "\n",
       "                                            synopsis  metascore    votes  \\\n",
       "0   Over the course of several years, two convict...       81.0  2690492   \n",
       "1   The aging patriarch of an organized crime dyn...      100.0  1866276   \n",
       "2   When the menace known as the Joker wreaks hav...       84.0  2664117   \n",
       "3   In German-occupied Poland during World War II...       94.0  1360711   \n",
       "4   The early life and career of Vito Corleone in...       90.0  1276503   \n",
       "\n",
       "    gross                                          image_url  \n",
       "0   28.34  https://m.media-amazon.com/images/M/MV5BMDFkYT...  \n",
       "1  134.97  https://m.media-amazon.com/images/M/MV5BM2MyNj...  \n",
       "2  534.86  https://m.media-amazon.com/images/M/MV5BMTMxNT...  \n",
       "3   96.90  https://m.media-amazon.com/images/M/MV5BNDE4OT...  \n",
       "4   57.30  https://m.media-amazon.com/images/M/MV5BMWMwMG...  "
      ]
     },
     "execution_count": 51,
     "metadata": {},
     "output_type": "execute_result"
    }
   ],
   "source": [
    "final_df.head()"
   ]
  },
  {
   "cell_type": "markdown",
   "id": "ab108cdc",
   "metadata": {},
   "source": [
    "#### Export Final Dataframe to CSV"
   ]
  },
  {
   "cell_type": "code",
   "execution_count": 52,
   "id": "af3b0183",
   "metadata": {},
   "outputs": [],
   "source": [
    "final_df.to_csv('top_imdb_movies_final_df.csv')"
   ]
  },
  {
   "cell_type": "code",
   "execution_count": 53,
   "id": "746a2cf6",
   "metadata": {},
   "outputs": [
    {
     "data": {
      "text/html": [
       "<div>\n",
       "<style scoped>\n",
       "    .dataframe tbody tr th:only-of-type {\n",
       "        vertical-align: middle;\n",
       "    }\n",
       "\n",
       "    .dataframe tbody tr th {\n",
       "        vertical-align: top;\n",
       "    }\n",
       "\n",
       "    .dataframe thead th {\n",
       "        text-align: right;\n",
       "    }\n",
       "</style>\n",
       "<table border=\"1\" class=\"dataframe\">\n",
       "  <thead>\n",
       "    <tr style=\"text-align: right;\">\n",
       "      <th></th>\n",
       "      <th>release_year</th>\n",
       "      <th>run_time_minutes</th>\n",
       "      <th>imdb_stars_rating</th>\n",
       "      <th>metascore</th>\n",
       "      <th>votes</th>\n",
       "      <th>gross</th>\n",
       "    </tr>\n",
       "  </thead>\n",
       "  <tbody>\n",
       "    <tr>\n",
       "      <th>count</th>\n",
       "      <td>999.000000</td>\n",
       "      <td>999.000000</td>\n",
       "      <td>999.000000</td>\n",
       "      <td>840.000000</td>\n",
       "      <td>9.990000e+02</td>\n",
       "      <td>809.000000</td>\n",
       "    </tr>\n",
       "    <tr>\n",
       "      <th>mean</th>\n",
       "      <td>1991.472472</td>\n",
       "      <td>123.886887</td>\n",
       "      <td>7.473473</td>\n",
       "      <td>78.838095</td>\n",
       "      <td>3.099639e+05</td>\n",
       "      <td>69.315352</td>\n",
       "    </tr>\n",
       "    <tr>\n",
       "      <th>std</th>\n",
       "      <td>24.051902</td>\n",
       "      <td>28.549999</td>\n",
       "      <td>0.513395</td>\n",
       "      <td>12.013202</td>\n",
       "      <td>3.748456e+05</td>\n",
       "      <td>112.709637</td>\n",
       "    </tr>\n",
       "    <tr>\n",
       "      <th>min</th>\n",
       "      <td>1920.000000</td>\n",
       "      <td>45.000000</td>\n",
       "      <td>7.000000</td>\n",
       "      <td>28.000000</td>\n",
       "      <td>2.552400e+04</td>\n",
       "      <td>0.000000</td>\n",
       "    </tr>\n",
       "    <tr>\n",
       "      <th>25%</th>\n",
       "      <td>1975.000000</td>\n",
       "      <td>103.000000</td>\n",
       "      <td>7.000000</td>\n",
       "      <td>71.000000</td>\n",
       "      <td>5.982150e+04</td>\n",
       "      <td>3.150000</td>\n",
       "    </tr>\n",
       "    <tr>\n",
       "      <th>50%</th>\n",
       "      <td>1999.000000</td>\n",
       "      <td>120.000000</td>\n",
       "      <td>7.000000</td>\n",
       "      <td>80.000000</td>\n",
       "      <td>1.521050e+05</td>\n",
       "      <td>23.340000</td>\n",
       "    </tr>\n",
       "    <tr>\n",
       "      <th>75%</th>\n",
       "      <td>2010.500000</td>\n",
       "      <td>138.000000</td>\n",
       "      <td>8.000000</td>\n",
       "      <td>88.000000</td>\n",
       "      <td>4.292130e+05</td>\n",
       "      <td>83.400000</td>\n",
       "    </tr>\n",
       "    <tr>\n",
       "      <th>max</th>\n",
       "      <td>2022.000000</td>\n",
       "      <td>321.000000</td>\n",
       "      <td>9.000000</td>\n",
       "      <td>100.000000</td>\n",
       "      <td>2.690492e+06</td>\n",
       "      <td>936.660000</td>\n",
       "    </tr>\n",
       "  </tbody>\n",
       "</table>\n",
       "</div>"
      ],
      "text/plain": [
       "       release_year  run_time_minutes  imdb_stars_rating   metascore  \\\n",
       "count    999.000000        999.000000         999.000000  840.000000   \n",
       "mean    1991.472472        123.886887           7.473473   78.838095   \n",
       "std       24.051902         28.549999           0.513395   12.013202   \n",
       "min     1920.000000         45.000000           7.000000   28.000000   \n",
       "25%     1975.000000        103.000000           7.000000   71.000000   \n",
       "50%     1999.000000        120.000000           7.000000   80.000000   \n",
       "75%     2010.500000        138.000000           8.000000   88.000000   \n",
       "max     2022.000000        321.000000           9.000000  100.000000   \n",
       "\n",
       "              votes       gross  \n",
       "count  9.990000e+02  809.000000  \n",
       "mean   3.099639e+05   69.315352  \n",
       "std    3.748456e+05  112.709637  \n",
       "min    2.552400e+04    0.000000  \n",
       "25%    5.982150e+04    3.150000  \n",
       "50%    1.521050e+05   23.340000  \n",
       "75%    4.292130e+05   83.400000  \n",
       "max    2.690492e+06  936.660000  "
      ]
     },
     "execution_count": 53,
     "metadata": {},
     "output_type": "execute_result"
    }
   ],
   "source": [
    "# summary statistics\n",
    "final_df.describe()"
   ]
  },
  {
   "cell_type": "code",
   "execution_count": 54,
   "id": "347eeec7",
   "metadata": {},
   "outputs": [
    {
     "name": "stdout",
     "output_type": "stream",
     "text": [
      "<class 'pandas.core.frame.DataFrame'>\n",
      "RangeIndex: 999 entries, 0 to 998\n",
      "Data columns (total 13 columns):\n",
      " #   Column             Non-Null Count  Dtype  \n",
      "---  ------             --------------  -----  \n",
      " 0   film_title         999 non-null    object \n",
      " 1   genre              999 non-null    object \n",
      " 2   release_year       999 non-null    int64  \n",
      " 3   director           999 non-null    object \n",
      " 4   lead_actor         999 non-null    object \n",
      " 5   run_time_minutes   999 non-null    int64  \n",
      " 6   mpa_rating         999 non-null    object \n",
      " 7   imdb_stars_rating  999 non-null    float64\n",
      " 8   synopsis           999 non-null    object \n",
      " 9   metascore          840 non-null    float64\n",
      " 10  votes              999 non-null    int64  \n",
      " 11  gross              809 non-null    float64\n",
      " 12  image_url          999 non-null    object \n",
      "dtypes: float64(3), int64(3), object(7)\n",
      "memory usage: 101.6+ KB\n"
     ]
    }
   ],
   "source": [
    "# get number of values in each column, data types\n",
    "final_df.info()"
   ]
  },
  {
   "cell_type": "markdown",
   "id": "1bf76015",
   "metadata": {},
   "source": [
    "###  <span style=\"color: #07ab2a;\">Visualization</span>"
   ]
  },
  {
   "cell_type": "markdown",
   "id": "21278499",
   "metadata": {},
   "source": [
    "#### What are the correlations between the quantitative variables?"
   ]
  },
  {
   "cell_type": "code",
   "execution_count": 55,
   "id": "07175941",
   "metadata": {},
   "outputs": [
    {
     "data": {
      "image/png": "[encoded data removed]",
      "text/plain": [
       "<Figure size 432x288 with 2 Axes>"
      ]
     },
     "metadata": {
      "needs_background": "light"
     },
     "output_type": "display_data"
    }
   ],
   "source": [
    "# create a heatmap to show correlation between quantitative variables\n",
    "sns.heatmap(final_df.corr(), annot=True);"
   ]
  },
  {
   "cell_type": "markdown",
   "id": "b5fa9968",
   "metadata": {},
   "source": [
    "\n",
    "#### Heatmap Correlations\n",
    "The black squares in the heat map indicate that there is a negative correlation between the release year and metascore of the films in the IMDb database of the top 1000 films. A correlation coefficient of -0.37 may be considered to be a moderate negative correlation.\n",
    "\n",
    "As the release year of the films increases, the metascore of the films decreases, or as the films get older, they tend to have lower metascores. Generally, newer films are more positively reviewed than older films.\n",
    "\n",
    "An orange square in the heat map indicates that there is a moderate positive correlation between the votes and gross revenue of the films in the dataset. A correlation coefficient of 0.59 is considered a moderate positive correlation.\n",
    "\n",
    "As the number of votes for the films increases, the gross revenue of the films also tends to increase. It could be that films that are more popular among viewers (as measured by votes) also tend to be more financially successful. This could be an indication that films with more votes tend to have higher budgets, wider distribution, and better release dates. "
   ]
  },
  {
   "cell_type": "code",
   "execution_count": 56,
   "id": "a1af836a",
   "metadata": {},
   "outputs": [],
   "source": [
    "corr_df = final_df.copy()\n",
    "# corr_df.head()"
   ]
  },
  {
   "cell_type": "markdown",
   "id": "3f957d43",
   "metadata": {},
   "source": [
    "#### Plot of Correlation Between Metascore and IMDb Stars Rating "
   ]
  },
  {
   "cell_type": "code",
   "execution_count": null,
   "id": "e275fcc3",
   "metadata": {},
   "outputs": [],
   "source": [
    "# plot a graph showing the correlation between metascore and IMDb stars rating \n",
    "\n",
    "# extract the columns we need\n",
    "metascore = corr_df['metascore']\n",
    "star_rating = corr_df['imdb_stars_rating']\n",
    "\n",
    "# create the scatter plot\n",
    "plt.scatter(metascore, star_rating)\n",
    "\n",
    "# add labels and a title\n",
    "plt.xlabel('Metascore')\n",
    "plt.ylabel('IMDb Stars Rating')\n",
    "plt.title('Correlation between Metascore and IMDb Stars Rating for Top 1000 Films')\n",
    "\n",
    "# show plot\n",
    "plt.show()\n",
    "   "
   ]
  },
  {
   "cell_type": "code",
   "execution_count": null,
   "id": "5164d3eb",
   "metadata": {},
   "outputs": [],
   "source": [
    "# find mode of the stars ratings just to confirm above scatterplot\n",
    "mode_stars_rating = corr_df['imdb_stars_rating'].mode()\n",
    "print(mode_stars_rating)"
   ]
  },
  {
   "cell_type": "markdown",
   "id": "1e0dcba6",
   "metadata": {},
   "source": [
    "### What were the release years for the top 10 films?"
   ]
  },
  {
   "cell_type": "code",
   "execution_count": null,
   "id": "e6be1401",
   "metadata": {},
   "outputs": [],
   "source": [
    "# get the top 10 films\n",
    "top_10_films = final_df.head(10)\n",
    "\n",
    "# extract the columns we need\n",
    "release_year = top_10_films['release_year']\n",
    "title = top_10_films['film_title']\n",
    "\n",
    "# get the range of release years\n",
    "year_range = range(min(release_year), max(release_year)+1)\n",
    "\n",
    "# set the figure size\n",
    "plt.figure(figsize=(18,12))\n",
    "\n",
    "# need to get the x-axis to show 1 through 10 instead of 0 through 10\n",
    "# because the np.arange() function starts counting at 0 by default\n",
    "# to change this use the np.arange(1, len(release_year) + 1)\n",
    "# and add xticks to x axis with plt.xticks(np.arange(1, len(release_year) + 1))\n",
    "\n",
    "# create the scatter plot\n",
    "plt.scatter(np.arange(1, len(release_year) + 1), release_year)\n",
    "\n",
    "# add labels and title\n",
    "plt.xlabel('Films')\n",
    "plt.ylabel('Release Year')\n",
    "plt.title('Release Years of Top 10 Films')\n",
    "plt.xticks(np.arange(1, len(release_year) + 1))\n",
    "plt.yticks(year_range)\n",
    "\n",
    "# add the title of each film as a label\n",
    "for i, txt in enumerate(title):\n",
    "    plt.annotate(txt, (i+1, release_year[i]), xytext=(0, 10), textcoords='offset points', ha='center')\n",
    "    \n",
    "plt.grid(True, linestyle='-')\n",
    "\n",
    "# show plot\n",
    "plt.show()\n"
   ]
  },
  {
   "cell_type": "code",
   "execution_count": null,
   "id": "943b28a2",
   "metadata": {},
   "outputs": [],
   "source": [
    "# newdf = df.copy()\n",
    "df = final_df.copy()\n",
    "df.head()"
   ]
  },
  {
   "cell_type": "markdown",
   "id": "9e68069e",
   "metadata": {},
   "source": [
    "### What are the top 20 films rated G"
   ]
  },
  {
   "cell_type": "code",
   "execution_count": null,
   "id": "55847a75",
   "metadata": {},
   "outputs": [],
   "source": [
    "# plot a graph of the top 10 films rated G\n",
    "\n",
    "\n",
    "# filter the dataframe to only include films rated G\n",
    "g_df = df[df['mpa_rating'] == 'G']\n",
    "\n",
    "# sort the dataframe by the number of votes in descending order\n",
    "g_df = g_df.sort_values(by='votes', ascending=False)\n",
    "\n",
    "# select the top 20 films rated PG\n",
    "g_df = g_df.head(20)\n",
    "\n",
    "# create a bar chart using Plotly Express\n",
    "fig = px.bar(g_df, x='film_title', y='votes', title='Top 20 Films Rated G')\n",
    "\n",
    "# show chart\n",
    "fig.show()\n"
   ]
  },
  {
   "cell_type": "code",
   "execution_count": null,
   "id": "9a6e10a3",
   "metadata": {},
   "outputs": [],
   "source": [
    "g_df.head(10)"
   ]
  },
  {
   "cell_type": "markdown",
   "id": "888b7b08",
   "metadata": {},
   "source": [
    "### What are the top 20 films rated PG"
   ]
  },
  {
   "cell_type": "code",
   "execution_count": null,
   "id": "2f11d443",
   "metadata": {},
   "outputs": [],
   "source": [
    "# plot a graph of the top 20 films rated PG with annotations over bars\n",
    "\n",
    "# filter the dataframe to only include films rated PG\n",
    "pg_df = df[df['mpa_rating'] == 'PG']\n",
    "\n",
    "# sort the dataframe by the number of votes in descending order\n",
    "pg_df = pg_df.sort_values(by='votes', ascending=False)\n",
    "\n",
    "# select the top 20 films rated PG\n",
    "pg_df = pg_df.head(20)\n",
    "\n",
    "# create a bar chart using Plotly Express\n",
    "fig = px.bar(pg_df, x='film_title', y='votes', title='Top 20 Films Rated PG')\n",
    "\n",
    "# show chart\n",
    "fig.show()\n"
   ]
  },
  {
   "cell_type": "code",
   "execution_count": null,
   "id": "d390e05a",
   "metadata": {},
   "outputs": [],
   "source": [
    "pg_df.head()"
   ]
  },
  {
   "cell_type": "markdown",
   "id": "e52195f6",
   "metadata": {},
   "source": [
    "### What are the top 20 films rated PG-13"
   ]
  },
  {
   "cell_type": "code",
   "execution_count": null,
   "id": "40d57fae",
   "metadata": {},
   "outputs": [],
   "source": [
    "# plot a graph of the top 20 films rated PG-13\n",
    "\n",
    "# filter the dataframe to only include films rated PG-13\n",
    "pg13_df = df[df['mpa_rating'] == 'PG-13']\n",
    "\n",
    "# sort the dataframe by the number of votes in descending order\n",
    "pg13_df = pg13_df.sort_values(by='votes', ascending=False)\n",
    "\n",
    "# select the top 20 films rated PG-13\n",
    "pg13_df = pg13_df.head(20)\n",
    "\n",
    "# create a bar chart using Plotly Express\n",
    "fig = px.bar(pg13_df, x='film_title', y='votes', title='Top 20 Films Rated PG-13')\n",
    "\n",
    "# show chart\n",
    "fig.show()\n"
   ]
  },
  {
   "cell_type": "markdown",
   "id": "76f5efb8",
   "metadata": {},
   "source": [
    "### What are the top 20 films rated R"
   ]
  },
  {
   "cell_type": "code",
   "execution_count": null,
   "id": "12ff88e3",
   "metadata": {},
   "outputs": [],
   "source": [
    "# plot a graph of the top 20 films rated R\n",
    "\n",
    "\n",
    "# filter the dataframe to only include films rated R\n",
    "r_df = df[df['mpa_rating'] == 'R']\n",
    "\n",
    "# sort the dataframe by the number of votes in descending order\n",
    "r_df = r_df.sort_values(by='votes', ascending=False)\n",
    "\n",
    "# select the top 20 films rated R\n",
    "r_df = r_df.head(20)\n",
    "\n",
    "# create a bar chart using Plotly Express\n",
    "fig = px.bar(r_df, x='film_title', y='votes', title='Top 20 Films Rated R')\n",
    "\n",
    "# show chart\n",
    "fig.show()"
   ]
  },
  {
   "cell_type": "code",
   "execution_count": null,
   "id": "be475d11",
   "metadata": {},
   "outputs": [],
   "source": [
    "# newdf = df.copy()\n",
    "th_df = final_df.copy()\n",
    "th_df.head()"
   ]
  },
  {
   "cell_type": "markdown",
   "id": "a4924880",
   "metadata": {},
   "source": [
    "### What are the top films starring Tom Hanks?"
   ]
  },
  {
   "cell_type": "code",
   "execution_count": null,
   "id": "6b402908",
   "metadata": {},
   "outputs": [],
   "source": [
    "# create a new column that is True if Tom Hanks is in the cast and False otherwise\n",
    "th_df['Tom Hanks'] = th_df['lead_actor'].str.contains('Tom Hanks')\n",
    "\n",
    "# filter the dataframe to only include films starring Tom Hanks\n",
    "th_df = th_df[th_df['Tom Hanks'] == True]\n",
    "\n",
    "# sort the dataframe by the number of votes in descending order\n",
    "th_df = th_df.sort_values(by='votes', ascending=False)\n",
    "\n",
    "# create a bar chart using Plotly Express\n",
    "fig = px.bar(th_df, x='film_title', y='votes', title='Top Films Starring Tom Hanks')\n",
    "\n",
    "# show chart\n",
    "fig.show()\n"
   ]
  },
  {
   "cell_type": "code",
   "execution_count": null,
   "id": "10bcfed5",
   "metadata": {},
   "outputs": [],
   "source": [
    "# newdf = df.copy()\n",
    "spiel_df = final_df.copy()\n",
    "spiel_df.head()"
   ]
  },
  {
   "cell_type": "markdown",
   "id": "a00e6633",
   "metadata": {},
   "source": [
    "### What are the top films directed by Steven Spielberg?"
   ]
  },
  {
   "cell_type": "code",
   "execution_count": null,
   "id": "1e004399",
   "metadata": {},
   "outputs": [],
   "source": [
    "# create a new column that is True if Steven Spielberg is the director and False otherwise\n",
    "spiel_df['Steven Spielberg'] = spiel_df['director'].str.contains('Steven Spielberg')\n",
    "\n",
    "# filter the dataframe to only include films starring Tom Hanks\n",
    "spiel_df = spiel_df[spiel_df['Steven Spielberg'] == True]\n",
    "\n",
    "# sort the dataframe by the number of votes in descending order\n",
    "spiel_df = spiel_df.sort_values(by='votes', ascending=False)\n",
    "\n",
    "# create a bar chart using Plotly Express\n",
    "fig = px.bar(spiel_df, x='film_title', y='votes', title='Top Films Directed by Steven Spielberg')\n",
    "\n",
    "# show chart\n",
    "fig.show()"
   ]
  },
  {
   "cell_type": "code",
   "execution_count": null,
   "id": "f469b0b8",
   "metadata": {},
   "outputs": [],
   "source": [
    "vr_df = df.copy()"
   ]
  },
  {
   "cell_type": "markdown",
   "id": "22dea34f",
   "metadata": {},
   "source": [
    "### Plot IMDb stars rating v votes"
   ]
  },
  {
   "cell_type": "code",
   "execution_count": null,
   "id": "4907901a",
   "metadata": {},
   "outputs": [],
   "source": [
    "# normalize the votes column\n",
    "votes_norm = vr_df['votes']/10**6\n",
    "\n",
    "# create the plot\n",
    "plt.scatter(votes_norm, imdb_stars_rating)\n",
    "plt.xlabel('Votes (millions)')\n",
    "plt.ylabel('IMDb star rating')\n",
    "plt.title('IMDb Stars Rating v Votes')\n",
    "\n",
    "# show plot\n",
    "plt.show()"
   ]
  },
  {
   "cell_type": "markdown",
   "id": "9107ed6d",
   "metadata": {},
   "source": [
    "### Plot genre v gross revenue for top 10 grossing films\n"
   ]
  },
  {
   "cell_type": "code",
   "execution_count": null,
   "id": "729e3cbb",
   "metadata": {},
   "outputs": [],
   "source": [
    "# plot relationship between genre and gross revenue for top 10 grossing films\n",
    "\n",
    "# group the df by genre and calculate the sum of gross revenue for each genre:\n",
    "genre_df_sum = df.groupby(['genre'])['gross'].sum()\n",
    "# sort the df by gross revenue in descending order and select the top 10 genres:\n",
    "genre_df_sum_sorted = genre_df_sum.sort_values(ascending=False)\n",
    "top_n = 10 # select top 10 genres \n",
    "df_top_n = genre_df_sum_sorted[:top_n]\n",
    "# create a bar plot of the sum of gross revenue for the top N genres:\n",
    "df_top_n.plot(kind='bar', title='Sum of Gross Revenue by Genre')\n",
    "plt.xlabel('Genre')\n",
    "plt.ylabel('Sum of Gross Revenue')\n",
    "plt.xticks(rotation=90) \n",
    "# show plot\n",
    "plt.show()"
   ]
  },
  {
   "cell_type": "markdown",
   "id": "435b1800",
   "metadata": {},
   "source": [
    "### Plot line graph of gross revenue over the years"
   ]
  },
  {
   "cell_type": "code",
   "execution_count": null,
   "id": "f8ab760c",
   "metadata": {},
   "outputs": [],
   "source": [
    "df_yearly = df.groupby(['release_year'])['gross'].sum()\n",
    "df_yearly.plot(kind='line', title='Gross Revenue over the Years')\n",
    "plt.xlabel('Year')\n",
    "plt.ylabel('Gross Revenue')\n",
    "# limit the x axis to the range of 1950 to 2022\n",
    "plt.xlim(1950,2022) \n",
    "plt.show()\n"
   ]
  },
  {
   "cell_type": "markdown",
   "id": "99427058",
   "metadata": {},
   "source": [
    "The years following 2010 that had the least gross revenue appear to be 2020 through 2022 most likely due to the pandemic. To check which year after 2010 had the least gross revenue we can filter the release years for years after 2010 and then find the minimum gross revenue for that group of years."
   ]
  },
  {
   "cell_type": "markdown",
   "id": "7cdf0415",
   "metadata": {},
   "source": [
    "#### What year after 2010 had the least gross revenue"
   ]
  },
  {
   "cell_type": "code",
   "execution_count": null,
   "id": "ee55bc2e",
   "metadata": {},
   "outputs": [],
   "source": [
    "#group the data by year\n",
    "gross_2010_df = df.groupby('release_year').sum()\n",
    "\n",
    "#filter the dataframe to include only the years after 2010\n",
    "gross_2010_df = gross_2010_df[gross_2010_df.index > 2010]\n",
    "\n",
    "#find the year with the least gross revenue\n",
    "year = gross_2010_df['gross'].idxmin()\n",
    "\n",
    "#print the result\n",
    "print(\"Year with the least gross revenue after 2010: \", year)\n"
   ]
  },
  {
   "cell_type": "markdown",
   "id": "5e624c94",
   "metadata": {},
   "source": [
    "### Plot top 5 directors by gross revenue"
   ]
  },
  {
   "cell_type": "code",
   "execution_count": null,
   "id": "f0dd6b32",
   "metadata": {},
   "outputs": [],
   "source": [
    "# group the data by director\n",
    "dir_df = final_df.groupby('director').sum().sort_values(by='gross',ascending=False)\n",
    "\n",
    "# select only the top 5 directors by gross revenue\n",
    "top_5_directors = dir_df.head(5)\n",
    "\n",
    "# reset the index\n",
    "top_5_directors.reset_index(inplace=True)\n",
    "\n",
    "# plot a bar chart for the top 5 directors\n",
    "sns.barplot(x='director', y='gross', data=top_5_directors)\n",
    "\n",
    "# add labels and title\n",
    "plt.xlabel('Directors')\n",
    "plt.ylabel('Gross Revenue')\n",
    "plt.title('Top 5 Directors by Gross Revenue')\n",
    "plt.xticks(rotation=90)\n",
    "\n",
    "# show chart\n",
    "plt.show()\n"
   ]
  },
  {
   "cell_type": "code",
   "execution_count": null,
   "id": "2ed23157",
   "metadata": {},
   "outputs": [],
   "source": [
    "# find the maximum number of votes\n",
    "max_votes = final_df['votes'].max()\n",
    "\n",
    "# print the result\n",
    "print(\"Maximum number of votes: \", max_votes)\n"
   ]
  },
  {
   "cell_type": "markdown",
   "id": "ae053da0",
   "metadata": {},
   "source": [
    "### Plot top 5 directors by votes"
   ]
  },
  {
   "cell_type": "code",
   "execution_count": null,
   "id": "3329a926",
   "metadata": {},
   "outputs": [],
   "source": [
    "# group the data by director, sort it by votes in descending order,\n",
    "# select only the top 5 directors by votes,\n",
    "# reset the index and then use seaborn to plot a bar chart\n",
    "# for the top 5 directors, using the director names as the x-axis labels and the votes as the y-axis values\n",
    "\n",
    "# group the data by Director\n",
    "dir_df = final_df.groupby('director').sum().sort_values(by='votes',ascending=False)\n",
    "\n",
    "# select only the top 5 directors by gross revenue\n",
    "top_5_directors = dir_df.head(5)\n",
    "\n",
    "# reset the index\n",
    "top_5_directors.reset_index(inplace=True)\n",
    "\n",
    "# plot a bar chart for the top 5 directors\n",
    "sns.barplot(x='director', y='votes', data=top_5_directors)\n",
    "\n",
    "# add labels and title\n",
    "plt.xlabel('Directors')\n",
    "plt.ylabel('Votes')\n",
    "plt.title('Top 5 Directors by Votes')\n",
    "plt.xticks(rotation=90)\n",
    "# plt.ylim(0,10000000)\n",
    "\n",
    "# show chart\n",
    "plt.show()\n"
   ]
  },
  {
   "cell_type": "markdown",
   "id": "89768173",
   "metadata": {},
   "source": [
    "### Plot top 5 directors by metascore"
   ]
  },
  {
   "cell_type": "code",
   "execution_count": null,
   "id": "1e77243f",
   "metadata": {},
   "outputs": [],
   "source": [
    "# group the data by director, sorts it by metascore in descending order,\n",
    "# select only the top 5 directors by votes,\n",
    "# reset the index and then use seaborn to plot a bar chart\n",
    "# for the top 5 directors, using the director names as the x-axis labels and the votes as the y-axis values\n",
    "\n",
    "# group the data by Director\n",
    "dir_df = final_df.groupby('director').sum().sort_values(by='metascore',ascending=False)\n",
    "\n",
    "# select only the top 5 directors by gross revenue\n",
    "top_5_directors = dir_df.head(5)\n",
    "\n",
    "# reset the index\n",
    "top_5_directors.reset_index(inplace=True)\n",
    "\n",
    "# plot a bar chart for the top 5 directors\n",
    "sns.barplot(x='director', y='metascore', data=top_5_directors)\n",
    "\n",
    "# add appropriate labels and title\n",
    "plt.xlabel('Directors')\n",
    "plt.ylabel('Votes')\n",
    "plt.title('Top 5 Directors by Metascore')\n",
    "plt.xticks(rotation=90)\n",
    "# plt.ylim(0,10000000)\n",
    "\n",
    "# show chart\n",
    "plt.show()"
   ]
  },
  {
   "cell_type": "markdown",
   "id": "cdf40933",
   "metadata": {},
   "source": [
    "### Plot top 5 lead actors by votes"
   ]
  },
  {
   "cell_type": "code",
   "execution_count": null,
   "id": "85bc30f0",
   "metadata": {},
   "outputs": [],
   "source": [
    "# group the data by lead actor, sorts it by votes in descending order,\n",
    "# select only the top 5 lead actors by votes,\n",
    "# reset the index and then use seaborn to plot a bar chart\n",
    "# for the top 5 actors, using the actor names as the x-axis labels and the votes as the y-axis values\n",
    "\n",
    "# group the data by lead_actor\n",
    "ld_actor_df = final_df.groupby('lead_actor').sum().sort_values(by='votes',ascending=False)\n",
    "\n",
    "# select only the top 5 directors by gross revenue\n",
    "top_5_actors = ld_actor_df.head(5)\n",
    "\n",
    "# reset the index\n",
    "top_5_actors.reset_index(inplace=True)\n",
    "\n",
    "# plot a bar chart for the top 5 directors\n",
    "sns.barplot(x='lead_actor', y='votes', data=top_5_actors)\n",
    "\n",
    "# add appropriate labels and title\n",
    "plt.xlabel('Lead Actors')\n",
    "plt.ylabel('Votes')\n",
    "plt.title('Top 5 Lead Actors by Votes')\n",
    "plt.xticks(rotation=90)\n",
    "# plt.ylim(0,10000000)\n",
    "\n",
    "# show chart\n",
    "plt.show()"
   ]
  },
  {
   "cell_type": "markdown",
   "id": "9718c3c5",
   "metadata": {},
   "source": [
    "### Plot top 5 lead actors by metascore"
   ]
  },
  {
   "cell_type": "code",
   "execution_count": null,
   "id": "892de7dd",
   "metadata": {},
   "outputs": [],
   "source": [
    "# group the data by lead actor, sorts it by metascore in descending order,\n",
    "# select only the top 5 lead actors by metascore,\n",
    "# reset the index and then use seaborn to plot a bar chart\n",
    "# for the top 5 actors, using the actor names as the x-axis labels and the metascore as the y-axis values\n",
    "\n",
    "# group the data by lead_actor\n",
    "actor_df = final_df.groupby('lead_actor').sum().sort_values(by='metascore',ascending=False)\n",
    "\n",
    "# select only the top 5 directors by metascore\n",
    "top_5_actors = actor_df.head(5)\n",
    "\n",
    "# reset the index\n",
    "top_5_actors.reset_index(inplace=True)\n",
    "\n",
    "# plot a bar chart for the top 5 directors\n",
    "sns.barplot(x='lead_actor', y='metascore', data=top_5_actors)\n",
    "\n",
    "# add appropriate labels and title\n",
    "plt.xlabel('Lead Actors')\n",
    "plt.ylabel('Metascore')\n",
    "plt.title('Top 5 Lead Actors by Metascore')\n",
    "plt.xticks(rotation=90)\n",
    "\n",
    "# display the chart\n",
    "plt.show()"
   ]
  },
  {
   "cell_type": "markdown",
   "id": "6c0e6bb8",
   "metadata": {},
   "source": [
    "### Plot a bar chart of the number of movies by MPA Rating"
   ]
  },
  {
   "cell_type": "code",
   "execution_count": null,
   "id": "e84041fb",
   "metadata": {},
   "outputs": [],
   "source": [
    "# number of movies by MPA Rating\n",
    "num_mpa = final_df['mpa_rating'].value_counts().plot(\n",
    "     kind='bar',\n",
    "     figsize=(12,6),\n",
    "     title=\"Number of Movies by MPA Rating\")\n",
    "num_mpa.set_xlabel(\"MPA Rating\")\n",
    "num_mpa.set_ylabel(\"Number of Movies\")\n",
    "num_mpa.plot();"
   ]
  },
  {
   "cell_type": "markdown",
   "id": "af5d6d32",
   "metadata": {},
   "source": [
    "### Plot top 5 longest running movies in minutes"
   ]
  },
  {
   "cell_type": "code",
   "execution_count": null,
   "id": "68d2c1a2",
   "metadata": {},
   "outputs": [],
   "source": [
    "# Plot top 5 longest running movies in minutes\n",
    "\n",
    "# sort the df 'minutes' column in descending order\n",
    "long_df = final_df.sort_values(by='run_time_minutes', ascending=False)\n",
    "\n",
    "# select the top 5 movies \n",
    "top_5_longest_movies = long_df.head(5)\n",
    "\n",
    "sns.barplot(x = top_5_longest_movies['film_title'], y = top_5_longest_movies['run_time_minutes'])\n",
    "plt.xlabel('Movie Title')\n",
    "plt.ylabel('Running Time (minutes)')\n",
    "plt.title('Top 5 Longest Running Movies')\n",
    "plt.xticks(rotation=90)\n",
    "plt.show()\n"
   ]
  },
  {
   "cell_type": "code",
   "execution_count": null,
   "id": "bd321f36",
   "metadata": {},
   "outputs": [],
   "source": [
    "top_5_longest_movies = final_df.nlargest(5,'run_time_minutes')\n",
    "top_5_longest_movies.head()"
   ]
  },
  {
   "cell_type": "markdown",
   "id": "2f350dcb",
   "metadata": {},
   "source": [
    "### Plot top 5 shortest running movies in minutes"
   ]
  },
  {
   "cell_type": "code",
   "execution_count": null,
   "id": "89011f91",
   "metadata": {},
   "outputs": [],
   "source": [
    "# Plot top 5 shortest running movies in minutes\n",
    "\n",
    "# sort the df 'minutes' column in descending order\n",
    "short_df = final_df.sort_values(by='run_time_minutes', ascending=True)\n",
    "\n",
    "# select the top 5 movies \n",
    "top_5_shortest_movies = short_df.head(5)\n",
    "\n",
    "sns.barplot(x = top_5_shortest_movies['film_title'], y = top_5_shortest_movies['run_time_minutes'])\n",
    "plt.xlabel('Movie Title')\n",
    "plt.ylabel('Running Time (minutes)')\n",
    "plt.title('Top 5 Shortest Running Movies')\n",
    "plt.xticks(rotation=90)\n",
    "plt.show()"
   ]
  },
  {
   "cell_type": "markdown",
   "id": "04f86ac5",
   "metadata": {},
   "source": [
    "### Plot gross revenue v run time minutes"
   ]
  },
  {
   "cell_type": "code",
   "execution_count": null,
   "id": "56ee5e27",
   "metadata": {},
   "outputs": [],
   "source": [
    "# extract the gross revenue and run time columns from the dataframe\n",
    "x = df['run_time_minutes']\n",
    "y = df['gross']\n",
    "\n",
    "# set size\n",
    "plt.figure(figsize=(10,6))\n",
    "\n",
    "# create a scatter plot\n",
    "plt.scatter(x, y)\n",
    "\n",
    "# add labels and title\n",
    "plt.xlabel('Run Time (minutes)')\n",
    "plt.ylabel('Gross Revenue')\n",
    "plt.title('Gross Revenue v Run Time')\n",
    "\n",
    "# show plot\n",
    "plt.show()"
   ]
  },
  {
   "cell_type": "markdown",
   "id": "93fb574b",
   "metadata": {},
   "source": [
    "### How many movies list Liam Neeson as the lead actor and what are those movie titles"
   ]
  },
  {
   "cell_type": "code",
   "execution_count": null,
   "id": "18a67f87",
   "metadata": {},
   "outputs": [],
   "source": [
    "# filter the dataframe to include only the rows where Liam Neeson is the lead actor\n",
    "liam_movies = final_df[final_df['lead_actor'] == 'Liam Neeson']\n",
    "\n",
    "# find the number of rows in the filtered dataframe\n",
    "num_of_movies = len(liam_movies)\n",
    "\n",
    "# print the result\n",
    "print(\"Liam Neeson was the lead actor in \", num_of_movies, \" movies.\")\n",
    "\n",
    "# find the titles of the movies where Liam Neeson was the lead actor\n",
    "titles = liam_movies['film_title']\n",
    "\n",
    "# print the result\n",
    "print(\"The titles of the movies where Liam Neeson was the lead actor are: \")\n",
    "print(titles)\n"
   ]
  },
  {
   "cell_type": "markdown",
   "id": "d060b828",
   "metadata": {},
   "source": [
    "### Create a word cloud from words contained in synopsis text for all films in dataset"
   ]
  },
  {
   "cell_type": "code",
   "execution_count": null,
   "id": "e6233132",
   "metadata": {},
   "outputs": [],
   "source": [
    "# Generate a Word Cloud on text from synopsis column excluding stopwords,\n",
    "# i.e., the, of, and, a.\n",
    "\n",
    "# Download the NLTK stopwords\n",
    "nltk.download(\"stopwords\")\n",
    "\n",
    "# Get the list of stopwords in English\n",
    "stop_words = set(stopwords.words(\"english\"))\n",
    "\n",
    "# Define a function to remove stopwords from the synopsis text\n",
    "def remove_stopwords(text):\n",
    "    text_tokens = text.split()\n",
    "    text_without_stopwords = [word for word in text_tokens if word.lower() not in stop_words]\n",
    "    return \" \".join(text_without_stopwords)\n",
    "\n",
    "# Concatenate all the synopsis text in the dataset\n",
    "synopsis_text = \" \".join(film for film in final_df[\"synopsis\"])\n",
    "\n",
    "# Remove the stopwords from the synopsis text\n",
    "synopsis_text_without_stopwords = remove_stopwords(synopsis_text)\n",
    "\n",
    "# Generate the word cloud\n",
    "wordcloud = WordCloud(width = 600, height = 600, \n",
    "                background_color ='white', \n",
    "                stopwords = stop_words, \n",
    "                min_font_size = 10).generate(synopsis_text_without_stopwords)\n",
    "\n",
    "# Plot the word cloud\n",
    "plt.figure(figsize = (8, 8), facecolor = None) \n",
    "plt.imshow(wordcloud) \n",
    "plt.axis(\"off\") \n",
    "plt.tight_layout(pad = 0) \n",
    "  \n",
    "plt.show() \n",
    "\n"
   ]
  },
  {
   "cell_type": "markdown",
   "id": "138c7330",
   "metadata": {},
   "source": [
    "### Resources"
   ]
  },
  {
   "cell_type": "markdown",
   "id": "6eb3e3cb",
   "metadata": {},
   "source": [
    "[Web Scraping Sci-Fi Movies](https://www.freecodecamp.org/news/web-scraping-sci-fi-movies-from-imdb-with-python/)\n",
    "\n",
    "[Web Scraping Multiple Pages](https://medium.com/analytics-vidhya/detailed-tutorials-for-beginners-web-scrap-movie-database-from-multiple-pages-with-beautiful-soup-5836828d23)\n",
    "\n",
    "[NLTK Stopwords](https://pythonspot.com/nltk-stop-words/#:~:text=The%20stopwords%20in%20nltk%20are,nltk.tokenize%20import%20sent_tokenize%2C%20word_tokenize)\n"
   ]
  },
  {
   "cell_type": "code",
   "execution_count": null,
   "id": "6fc9cc66",
   "metadata": {},
   "outputs": [],
   "source": []
  }
 ],
 "metadata": {
  "kernelspec": {
   "display_name": "books_venv",
   "language": "python",
   "name": "books_venv"
  },
  "language_info": {
   "codemirror_mode": {
    "name": "ipython",
    "version": 3
   },
   "file_extension": ".py",
   "mimetype": "text/x-python",
   "name": "python",
   "nbconvert_exporter": "python",
   "pygments_lexer": "ipython3",
   "version": "3.8.5"
  }
 },
 "nbformat": 4,
 "nbformat_minor": 5
}
