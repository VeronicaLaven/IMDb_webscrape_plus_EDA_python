{
 "cells": [
  {
   "cell_type": "markdown",
   "id": "dfb17dac",
   "metadata": {},
   "source": [
    "## Webscraping IMDb 1000 Greatest Films of all Time and Exploratory Data Analysis (EDA)"
   ]
  },
  {
   "cell_type": "markdown",
   "id": "bfab1a90",
   "metadata": {},
   "source": [
    "#### This Webscraper will scrape data for all 1000 films and will collect the following:\n",
    "* Title\n",
    "* Genre\n",
    "* Release Year\n",
    "* Director\n",
    "* Lead Actor\n",
    "* Run Time\n",
    "* MPA Rating\n",
    "* IMDb Stars Rating\n",
    "* Synopsis\n",
    "* Metascore\n",
    "* Votes\n",
    "* Gross\n",
    "* Thumbnail Image URL"
   ]
  },
  {
   "cell_type": "markdown",
   "id": "4ade454d",
   "metadata": {},
   "source": [
    "#### Import libraries"
   ]
  },
  {
   "cell_type": "code",
   "execution_count": 1,
   "id": "93d8ecd5",
   "metadata": {},
   "outputs": [],
   "source": [
    "import requests\n",
    "from bs4 import BeautifulSoup\n",
    "import pandas as pd\n",
    "import numpy as np\n",
    "import matplotlib.pyplot as plt\n",
    "import plotly.express as px\n",
    "import seaborn as sns\n",
    "from time import sleep\n",
    "from random import randint\n",
    "import re\n",
    "from wordcloud import WordCloud\n",
    "from nltk.corpus import stopwords\n",
    "import nltk\n"
   ]
  },
  {
   "cell_type": "code",
   "execution_count": 2,
   "id": "31b87ceb",
   "metadata": {},
   "outputs": [],
   "source": [
    "# enable English translation of film titles\n",
    "headers = {'Accept-Language': 'en-US, en;q=0.5'}"
   ]
  },
  {
   "cell_type": "markdown",
   "id": "a42a17e5",
   "metadata": {},
   "source": [
    "#### Use Requests to request page from server and get response status code to ensure request has succeeded"
   ]
  },
  {
   "cell_type": "code",
   "execution_count": 3,
   "id": "bf9ff1cd",
   "metadata": {},
   "outputs": [
    {
     "name": "stdout",
     "output_type": "stream",
     "text": [
      "200\n"
     ]
    }
   ],
   "source": [
    "page_1_url = 'https://www.imdb.com/search/title/?groups=top_1000&sort=user_rating,desc&count=100&ref_=adv_prv'\n",
    "page_1_url_response = requests.get(page_1_url)\n",
    "\n",
    "print(page_1_url_response.status_code)"
   ]
  },
  {
   "cell_type": "markdown",
   "id": "b01eefef",
   "metadata": {},
   "source": [
    "#### Initialize empty lists in which to store extracted (scraped) IMDb data"
   ]
  },
  {
   "cell_type": "code",
   "execution_count": 4,
   "id": "f30896bb",
   "metadata": {},
   "outputs": [],
   "source": [
    "# initialize empty lists\n",
    "\n",
    "title = []\n",
    "genre = []\n",
    "year = []\n",
    "director = []\n",
    "lead = []\n",
    "time_minutes = []\n",
    "mpa_rating = []\n",
    "imdb_stars_rating = []\n",
    "synopsis = []\n",
    "metascore = []\n",
    "votes = []\n",
    "gross = []\n",
    "image_url = []\n"
   ]
  },
  {
   "cell_type": "markdown",
   "id": "d2ea99fd",
   "metadata": {},
   "source": [
    "\n",
    "From first page, each successive page in the 1000 film list has a url that contains a change to the page number starting with no page designation for the first page, to the number indicating the additional 100 items in the film list: 101, 201, 301, 401, 501, 601, 701, 801, 901, with the latter containing the last 100 films in the collection. The screen shot below shows the url pagination pattern.\n"
   ]
  },
  {
   "cell_type": "markdown",
   "id": "4a3a98a4",
   "metadata": {},
   "source": [
    "items 1 to 100\n",
    "\n",
    "https://www.imdb.com/search/title/?groups=top_1000&sort=user_rating,desc&count=100&ref_=adv_prv\n",
    "\n",
    "items 101 to 200\n",
    "\n",
    "https://www.imdb.com/search/title/?groups=top_1000&sort=user_rating,desc&count=100&start=101&ref_=adv_prv\n",
    "\n",
    "items 201 to 300\n",
    "\n",
    "https://www.imdb.com/search/title/?groups=top_1000&sort=user_rating,desc&count=100&start=201&ref_=adv_prv\n",
    "\n",
    "items 301 to 400\n",
    "\n",
    "https://www.imdb.com/search/title/?groups=top_1000&sort=user_rating,desc&count=100&start=301&ref_=adv_prv\n",
    "\n",
    "items 401 to 500\n",
    "\n",
    "https://www.imdb.com/search/title/?groups=top_1000&sort=user_rating,desc&count=100&start=401&ref_=adv_prv\n",
    "\n",
    "items 501 to 600\n",
    "\n",
    "https://www.imdb.com/search/title/?groups=top_1000&sort=user_rating,desc&count=100&start=501&ref_=adv_prv\n",
    "\n",
    "\n",
    "...\n",
    "\n",
    "items 901 to 1000\n",
    "\n",
    "https://www.imdb.com/search/title/?groups=top_1000&sort=user_rating,desc&count=100&start=901&ref_=adv_nxt\n"
   ]
  },
  {
   "cell_type": "markdown",
   "id": "092172d3",
   "metadata": {},
   "source": [
    "Consider the IMDb pages list 1000 films with each of the 10 pages listing 100 films. From above page URLs we can see that each page contains a list of 100 films. The variable 'page' will store the 10 page designations for each of the page URLs."
   ]
  },
  {
   "cell_type": "code",
   "execution_count": 5,
   "id": "b191f68a",
   "metadata": {},
   "outputs": [
    {
     "data": {
      "text/plain": [
       "array([  1, 101, 201, 301, 401, 501, 601, 701, 801, 901])"
      ]
     },
     "execution_count": 5,
     "metadata": {},
     "output_type": "execute_result"
    }
   ],
   "source": [
    "# create an array using: numpy.arange([start, ]stop, [step, ], dtype=None)\n",
    "\n",
    "pages = np.arange(1, 1001, 100)\n",
    "\n",
    "# get list containing the 10 pages that contain 100 films each\n",
    "pages"
   ]
  },
  {
   "cell_type": "markdown",
   "id": "70cd889e",
   "metadata": {},
   "source": [
    "#### Webscraping Steps\n",
    "\n",
    "1. Loop through the pages that contain each of the page URLs\n",
    "\n",
    "2. Get the page data from each of the URLs\n",
    "\n",
    "3. Use BeautifulSoup to parse the HTML returned from each of the URLs\n",
    "\n",
    "4. Begin inspecting web elements in the pages\n",
    "\n",
    "5. Begin scraping (extracting) data from the HTML soup using the find_all( ) method. This method will extract all of the div containers that have a class attribute of 'lister-item mode-advanced'\n",
    "\n",
    "<img src=\"images/div_container.png\" alt=\"inspecting HTML\" width=\"600\"/>\n",
    "\n",
    "6. Create a for loop to loop through each of these divs and scrape the data from the pertinent elements contained therein\n",
    "\n",
    "7. Loop through each of the div containers and use BeautifulSoup to parse the data to append each of the IMDb data lists created earlier "
   ]
  },
  {
   "cell_type": "code",
   "execution_count": 6,
   "id": "585af695",
   "metadata": {},
   "outputs": [],
   "source": [
    "for page in pages:\n",
    "    page = requests.get(\"https://www.imdb.com/search/title/?groups=top_1000&sort=user_rating,desc&count=100&start=\" + str(page) + \"&ref_=adv_nxt\", headers = headers)\n",
    "    soup = BeautifulSoup(page.content, 'html.parser')\n",
    "    imdb_data = soup.find_all('div', {'class': 'lister-item mode-advanced'})\n",
    "    # random delay in seconds between requests so as not to send excess number of requests for given time period\n",
    "    sleep(randint(2,10)) # random integer between 2 and 10 seconds\n",
    "    \n",
    "    for data in imdb_data:\n",
    "        \n",
    "        film = data.h3.a.text\n",
    "        title.append(film)\n",
    "        \n",
    "        genre_type = data.p.find('span', {'class': 'genre'}).text.replace('\\n', ' ')\n",
    "        genre.append(genre_type)\n",
    "        \n",
    "        release = data.h3.find('span', {'class': 'lister-item-year text-muted unbold'}).text.replace('(', ' ').replace(')', ' ')\n",
    "        year.append(release)\n",
    "        \n",
    "        a_tag = data.find('p', {'class': ''})\n",
    "        a_tag = a_tag.select('a[href^=\"/name/\"]')\n",
    "        directors = a_tag[0].text\n",
    "        director.append(directors)\n",
    "        \n",
    "        actor = a_tag[1].text\n",
    "        lead.append(actor)\n",
    "        \n",
    "        runtime = data.p.find('span', {'class': 'runtime'}).text.replace(' min', ' ')\n",
    "        time_minutes.append(runtime)\n",
    "        \n",
    "        # motion picture association (mpa) ratings such as R, PG, PG-14\n",
    "        mpa_rate = data.find('span', {'class': 'certificate'})\n",
    "        if mpa_rate is not None:\n",
    "            mpa_rate = data.find('span', {'class': 'certificate'}).text\n",
    "            # print('mpa_rate:', mpa_rate.text)\n",
    "        mpa_rating.append(mpa_rate)\n",
    "        \n",
    "        star_rate = data.find('div', {'class': 'inline-block ratings-imdb-rating'}).text.replace('\\n', ' ')\n",
    "        imdb_stars_rating.append(star_rate)\n",
    "        \n",
    "        p_tag = data.find_all('p', {'class': 'text-muted'})\n",
    "        syn = p_tag[1].text.replace('\\n', ' ')\n",
    "        synopsis.append(syn)\n",
    "        \n",
    "        meta = data.find('span', {'class': 'metascore'}).text if data.find('span', {'class': 'metascore'}) else '----'\n",
    "        metascore.append(meta)\n",
    "        \n",
    "        nv_tag = data.find_all('span', attrs = {'name': 'nv'})\n",
    "        \n",
    "        vote = nv_tag[0].text\n",
    "        votes.append(vote)\n",
    "        \n",
    "        grs = nv_tag[1].text if len(nv_tag) > 1 else '----'\n",
    "        gross.append(grs)\n",
    "        \n",
    "        img_tag = data.find('div', {'class': 'lister-item-image float-left'})\n",
    "        x = img_tag.img.attrs['loadlate']\n",
    "        image_url.append(x)\n",
    "        \n"
   ]
  },
  {
   "cell_type": "markdown",
   "id": "4f47d7a3",
   "metadata": {},
   "source": [
    "#### Ensure that all columns are the same length "
   ]
  },
  {
   "cell_type": "code",
   "execution_count": 7,
   "id": "92a8a5a3",
   "metadata": {},
   "outputs": [
    {
     "name": "stdout",
     "output_type": "stream",
     "text": [
      "1000 1000 1000 1000 1000 1000 1000 1000 1000 1000 1000 1000 1000\n"
     ]
    }
   ],
   "source": [
    "# Pandas dataframes must have columns of the same length = 1000\n",
    "print(len(title),\n",
    "      len(genre),\n",
    "      len(year),\n",
    "      len(director),\n",
    "      len(lead),\n",
    "      len(time_minutes),\n",
    "      len(mpa_rating),\n",
    "      len(imdb_stars_rating),\n",
    "      len(synopsis),\n",
    "      len(metascore),\n",
    "      len(votes),\n",
    "      len(gross),\n",
    "      len(image_url))"
   ]
  },
  {
   "cell_type": "markdown",
   "id": "2336682b",
   "metadata": {},
   "source": [
    "#### Create Pandas DataFrame with Columns for Scraped Film Data"
   ]
  },
  {
   "cell_type": "code",
   "execution_count": 8,
   "id": "d8f49df5",
   "metadata": {},
   "outputs": [],
   "source": [
    "imdb_df = pd.DataFrame({\n",
    "    'film_title': title,\n",
    "    'genre': genre,\n",
    "    'release_year': year,\n",
    "    'director': director,\n",
    "    'lead_actor': lead,\n",
    "    'run_time_minutes': time_minutes,\n",
    "    'mpa_rating': mpa_rating,\n",
    "    'imdb_stars_rating': imdb_stars_rating,\n",
    "    'synopsis': synopsis,\n",
    "    'metascore': metascore,\n",
    "    'votes': votes,\n",
    "    'gross': gross,\n",
    "    'image_url': image_url\n",
    "    \n",
    "     })"
   ]
  },
  {
   "cell_type": "code",
   "execution_count": 9,
   "id": "b01f66a4",
   "metadata": {},
   "outputs": [
    {
     "data": {
      "text/html": [
       "<div>\n",
       "<style scoped>\n",
       "    .dataframe tbody tr th:only-of-type {\n",
       "        vertical-align: middle;\n",
       "    }\n",
       "\n",
       "    .dataframe tbody tr th {\n",
       "        vertical-align: top;\n",
       "    }\n",
       "\n",
       "    .dataframe thead th {\n",
       "        text-align: right;\n",
       "    }\n",
       "</style>\n",
       "<table border=\"1\" class=\"dataframe\">\n",
       "  <thead>\n",
       "    <tr style=\"text-align: right;\">\n",
       "      <th></th>\n",
       "      <th>film_title</th>\n",
       "      <th>genre</th>\n",
       "      <th>release_year</th>\n",
       "      <th>director</th>\n",
       "      <th>lead_actor</th>\n",
       "      <th>run_time_minutes</th>\n",
       "      <th>mpa_rating</th>\n",
       "      <th>imdb_stars_rating</th>\n",
       "      <th>synopsis</th>\n",
       "      <th>metascore</th>\n",
       "      <th>votes</th>\n",
       "      <th>gross</th>\n",
       "      <th>image_url</th>\n",
       "    </tr>\n",
       "  </thead>\n",
       "  <tbody>\n",
       "    <tr>\n",
       "      <th>0</th>\n",
       "      <td>The Shawshank Redemption</td>\n",
       "      <td>Drama</td>\n",
       "      <td>1994</td>\n",
       "      <td>Frank Darabont</td>\n",
       "      <td>Tim Robbins</td>\n",
       "      <td>142</td>\n",
       "      <td>R</td>\n",
       "      <td>9.3</td>\n",
       "      <td>Over the course of several years, two convict...</td>\n",
       "      <td>81</td>\n",
       "      <td>2,690,086</td>\n",
       "      <td>$28.34M</td>\n",
       "      <td>https://m.media-amazon.com/images/M/MV5BMDFkYT...</td>\n",
       "    </tr>\n",
       "    <tr>\n",
       "      <th>1</th>\n",
       "      <td>The Godfather</td>\n",
       "      <td>Crime, Drama</td>\n",
       "      <td>1972</td>\n",
       "      <td>Francis Ford Coppola</td>\n",
       "      <td>Marlon Brando</td>\n",
       "      <td>175</td>\n",
       "      <td>R</td>\n",
       "      <td>9.2</td>\n",
       "      <td>The aging patriarch of an organized crime dyn...</td>\n",
       "      <td>100</td>\n",
       "      <td>1,865,892</td>\n",
       "      <td>$134.97M</td>\n",
       "      <td>https://m.media-amazon.com/images/M/MV5BM2MyNj...</td>\n",
       "    </tr>\n",
       "    <tr>\n",
       "      <th>2</th>\n",
       "      <td>The Dark Knight</td>\n",
       "      <td>Action, Crime, Drama</td>\n",
       "      <td>2008</td>\n",
       "      <td>Christopher Nolan</td>\n",
       "      <td>Christian Bale</td>\n",
       "      <td>152</td>\n",
       "      <td>PG-13</td>\n",
       "      <td>9.0</td>\n",
       "      <td>When the menace known as the Joker wreaks hav...</td>\n",
       "      <td>84</td>\n",
       "      <td>2,663,660</td>\n",
       "      <td>$534.86M</td>\n",
       "      <td>https://m.media-amazon.com/images/M/MV5BMTMxNT...</td>\n",
       "    </tr>\n",
       "    <tr>\n",
       "      <th>3</th>\n",
       "      <td>Schindler's List</td>\n",
       "      <td>Biography, Drama, History</td>\n",
       "      <td>1993</td>\n",
       "      <td>Steven Spielberg</td>\n",
       "      <td>Liam Neeson</td>\n",
       "      <td>195</td>\n",
       "      <td>R</td>\n",
       "      <td>9.0</td>\n",
       "      <td>In German-occupied Poland during World War II...</td>\n",
       "      <td>94</td>\n",
       "      <td>1,360,534</td>\n",
       "      <td>$96.90M</td>\n",
       "      <td>https://m.media-amazon.com/images/M/MV5BNDE4OT...</td>\n",
       "    </tr>\n",
       "    <tr>\n",
       "      <th>4</th>\n",
       "      <td>The Godfather: Part II</td>\n",
       "      <td>Crime, Drama</td>\n",
       "      <td>1974</td>\n",
       "      <td>Francis Ford Coppola</td>\n",
       "      <td>Al Pacino</td>\n",
       "      <td>202</td>\n",
       "      <td>R</td>\n",
       "      <td>9.0</td>\n",
       "      <td>The early life and career of Vito Corleone in...</td>\n",
       "      <td>90</td>\n",
       "      <td>1,276,317</td>\n",
       "      <td>$57.30M</td>\n",
       "      <td>https://m.media-amazon.com/images/M/MV5BMWMwMG...</td>\n",
       "    </tr>\n",
       "  </tbody>\n",
       "</table>\n",
       "</div>"
      ],
      "text/plain": [
       "                 film_title                                   genre  \\\n",
       "0  The Shawshank Redemption                       Drama               \n",
       "1             The Godfather                Crime, Drama               \n",
       "2           The Dark Knight        Action, Crime, Drama               \n",
       "3          Schindler's List   Biography, Drama, History               \n",
       "4    The Godfather: Part II                Crime, Drama               \n",
       "\n",
       "  release_year              director      lead_actor run_time_minutes  \\\n",
       "0        1994         Frank Darabont     Tim Robbins             142    \n",
       "1        1972   Francis Ford Coppola   Marlon Brando             175    \n",
       "2        2008      Christopher Nolan  Christian Bale             152    \n",
       "3        1993       Steven Spielberg     Liam Neeson             195    \n",
       "4        1974   Francis Ford Coppola       Al Pacino             202    \n",
       "\n",
       "  mpa_rating imdb_stars_rating  \\\n",
       "0          R              9.3    \n",
       "1          R              9.2    \n",
       "2      PG-13              9.0    \n",
       "3          R              9.0    \n",
       "4          R              9.0    \n",
       "\n",
       "                                            synopsis    metascore      votes  \\\n",
       "0   Over the course of several years, two convict...   81          2,690,086   \n",
       "1   The aging patriarch of an organized crime dyn...  100          1,865,892   \n",
       "2   When the menace known as the Joker wreaks hav...   84          2,663,660   \n",
       "3   In German-occupied Poland during World War II...   94          1,360,534   \n",
       "4   The early life and career of Vito Corleone in...   90          1,276,317   \n",
       "\n",
       "      gross                                          image_url  \n",
       "0   $28.34M  https://m.media-amazon.com/images/M/MV5BMDFkYT...  \n",
       "1  $134.97M  https://m.media-amazon.com/images/M/MV5BM2MyNj...  \n",
       "2  $534.86M  https://m.media-amazon.com/images/M/MV5BMTMxNT...  \n",
       "3   $96.90M  https://m.media-amazon.com/images/M/MV5BNDE4OT...  \n",
       "4   $57.30M  https://m.media-amazon.com/images/M/MV5BMWMwMG...  "
      ]
     },
     "execution_count": 9,
     "metadata": {},
     "output_type": "execute_result"
    }
   ],
   "source": [
    "imdb_df.head()"
   ]
  },
  {
   "cell_type": "markdown",
   "id": "75ed75f3",
   "metadata": {},
   "source": [
    "#### Export Scraped IMDb 1000 Greatest Films Data to .csv File"
   ]
  },
  {
   "cell_type": "code",
   "execution_count": 10,
   "id": "fa362c53",
   "metadata": {},
   "outputs": [],
   "source": [
    "# export preliminary scraped imdb data to csv\n",
    "# imdb_df.to_csv('top_imdb_movies.csv')"
   ]
  },
  {
   "cell_type": "markdown",
   "id": "8abeb754",
   "metadata": {},
   "source": [
    "#### Scrape Film Data to Get A Specific Film Thumbnail Image "
   ]
  },
  {
   "cell_type": "code",
   "execution_count": 11,
   "id": "736053a9",
   "metadata": {},
   "outputs": [
    {
     "data": {
      "text/plain": [
       "[<div class=\"lister-item-image float-left\">\n",
       " <a href=\"/title/tt1242422/\"> <img alt=\"Celda 211\" class=\"loadlate\" data-tconst=\"tt1242422\" height=\"98\" loadlate=\"https://m.media-amazon.com/images/M/MV5BMjI2ODE4ODAtMDA3MS00ODNkLTg4N2EtOGU0YjZmNGY4NjZlXkEyXkFqcGdeQXVyMTY5MDE5NA@@._V1_UY98_CR0,0,67,98_AL_.jpg\" src=\"https://m.media-amazon.com/images/S/sash/4FyxwxECzL-U1J8.png\" width=\"67\"/>\n",
       " </a> </div>]"
      ]
     },
     "execution_count": 11,
     "metadata": {},
     "output_type": "execute_result"
    }
   ],
   "source": [
    "data.find_all('div', {'class': 'lister-item-image float-left'}) "
   ]
  },
  {
   "cell_type": "code",
   "execution_count": 12,
   "id": "f725ccc7",
   "metadata": {},
   "outputs": [
    {
     "data": {
      "text/plain": [
       "{'alt': 'Celda 211',\n",
       " 'class': ['loadlate'],\n",
       " 'loadlate': 'https://m.media-amazon.com/images/M/MV5BMjI2ODE4ODAtMDA3MS00ODNkLTg4N2EtOGU0YjZmNGY4NjZlXkEyXkFqcGdeQXVyMTY5MDE5NA@@._V1_UY98_CR0,0,67,98_AL_.jpg',\n",
       " 'data-tconst': 'tt1242422',\n",
       " 'height': '98',\n",
       " 'src': 'https://m.media-amazon.com/images/S/sash/4FyxwxECzL-U1J8.png',\n",
       " 'width': '67'}"
      ]
     },
     "execution_count": 12,
     "metadata": {},
     "output_type": "execute_result"
    }
   ],
   "source": [
    "data.img.attrs"
   ]
  },
  {
   "cell_type": "code",
   "execution_count": 13,
   "id": "69b6a9cb",
   "metadata": {},
   "outputs": [
    {
     "data": {
      "text/plain": [
       "'Celda 211'"
      ]
     },
     "execution_count": 13,
     "metadata": {},
     "output_type": "execute_result"
    }
   ],
   "source": [
    "data.img.attrs['alt']"
   ]
  },
  {
   "cell_type": "code",
   "execution_count": 14,
   "id": "cbe14d7a",
   "metadata": {},
   "outputs": [
    {
     "data": {
      "text/plain": [
       "['loadlate']"
      ]
     },
     "execution_count": 14,
     "metadata": {},
     "output_type": "execute_result"
    }
   ],
   "source": [
    "data.img.attrs['class']"
   ]
  },
  {
   "cell_type": "code",
   "execution_count": 15,
   "id": "f1178173",
   "metadata": {},
   "outputs": [
    {
     "name": "stdout",
     "output_type": "stream",
     "text": [
      "https://m.media-amazon.com/images/S/sash/4FyxwxECzL-U1J8.png\n"
     ]
    }
   ],
   "source": [
    "# print film image url\n",
    "from IPython.display import Image\n",
    "image_url = data.find('img').attrs['src']\n",
    "Image(url= image_url)\n",
    "image_url = data.src\n",
    "image_url = data.find('img').attrs['src']\n",
    "print(image_url)"
   ]
  },
  {
   "cell_type": "code",
   "execution_count": 16,
   "id": "243f113c",
   "metadata": {},
   "outputs": [
    {
     "data": {
      "text/html": [
       "<img src=\"https://m.media-amazon.com/images/M/MV5BMjI2ODE4ODAtMDA3MS00ODNkLTg4N2EtOGU0YjZmNGY4NjZlXkEyXkFqcGdeQXVyMTY5MDE5NA@@._V1_UY98_CR0,0,67,98_AL_.jpg\"/>"
      ],
      "text/plain": [
       "<IPython.core.display.Image object>"
      ]
     },
     "execution_count": 16,
     "metadata": {},
     "output_type": "execute_result"
    }
   ],
   "source": [
    "# display thumbnail image\n",
    "from IPython.display import Image\n",
    "image_url = data.find('img').attrs['loadlate']\n",
    "Image(url= image_url)"
   ]
  },
  {
   "cell_type": "markdown",
   "id": "879b412b",
   "metadata": {},
   "source": [
    "### Exploratory Data Analysis"
   ]
  },
  {
   "cell_type": "markdown",
   "id": "dc3480b8",
   "metadata": {},
   "source": [
    "#### Explore Data"
   ]
  },
  {
   "cell_type": "code",
   "execution_count": 17,
   "id": "e58c9335",
   "metadata": {},
   "outputs": [
    {
     "data": {
      "text/plain": [
       "film_title           object\n",
       "genre                object\n",
       "release_year         object\n",
       "director             object\n",
       "lead_actor           object\n",
       "run_time_minutes     object\n",
       "mpa_rating           object\n",
       "imdb_stars_rating    object\n",
       "synopsis             object\n",
       "metascore            object\n",
       "votes                object\n",
       "gross                object\n",
       "image_url            object\n",
       "dtype: object"
      ]
     },
     "execution_count": 17,
     "metadata": {},
     "output_type": "execute_result"
    }
   ],
   "source": [
    "imdb_df.dtypes"
   ]
  },
  {
   "cell_type": "code",
   "execution_count": 18,
   "id": "9971f0bb",
   "metadata": {},
   "outputs": [
    {
     "data": {
      "text/plain": [
       "0"
      ]
     },
     "execution_count": 18,
     "metadata": {},
     "output_type": "execute_result"
    }
   ],
   "source": [
    "# check for duplicates\n",
    "imdb_df.duplicated().sum()"
   ]
  },
  {
   "cell_type": "code",
   "execution_count": 19,
   "id": "f9d368c8",
   "metadata": {},
   "outputs": [
    {
     "data": {
      "text/plain": [
       "film_title            0\n",
       "genre                 0\n",
       "release_year          0\n",
       "director              0\n",
       "lead_actor            0\n",
       "run_time_minutes      0\n",
       "mpa_rating           16\n",
       "imdb_stars_rating     0\n",
       "synopsis              0\n",
       "metascore             0\n",
       "votes                 0\n",
       "gross                 0\n",
       "image_url             0\n",
       "dtype: int64"
      ]
     },
     "execution_count": 19,
     "metadata": {},
     "output_type": "execute_result"
    }
   ],
   "source": [
    "# check dataset for null values\n",
    "imdb_df.isnull().sum()"
   ]
  },
  {
   "cell_type": "code",
   "execution_count": 20,
   "id": "6bd46f6e",
   "metadata": {},
   "outputs": [],
   "source": [
    "# newdf = df.copy()\n",
    "final_df = imdb_df.copy()"
   ]
  },
  {
   "cell_type": "markdown",
   "id": "d7594525",
   "metadata": {},
   "source": [
    "#### Clean Data"
   ]
  },
  {
   "cell_type": "code",
   "execution_count": 21,
   "id": "d04a94e5",
   "metadata": {},
   "outputs": [],
   "source": [
    "# get rid of null values by filling with unknown for those in mpa_rating, and mean values for gross and mestascore\n",
    "final_df['mpa_rating'].fillna(\"unknown\",inplace=True)"
   ]
  },
  {
   "cell_type": "code",
   "execution_count": 22,
   "id": "c7edc3ad",
   "metadata": {},
   "outputs": [
    {
     "data": {
      "text/html": [
       "<div>\n",
       "<style scoped>\n",
       "    .dataframe tbody tr th:only-of-type {\n",
       "        vertical-align: middle;\n",
       "    }\n",
       "\n",
       "    .dataframe tbody tr th {\n",
       "        vertical-align: top;\n",
       "    }\n",
       "\n",
       "    .dataframe thead th {\n",
       "        text-align: right;\n",
       "    }\n",
       "</style>\n",
       "<table border=\"1\" class=\"dataframe\">\n",
       "  <thead>\n",
       "    <tr style=\"text-align: right;\">\n",
       "      <th></th>\n",
       "      <th>film_title</th>\n",
       "      <th>genre</th>\n",
       "      <th>release_year</th>\n",
       "      <th>director</th>\n",
       "      <th>lead_actor</th>\n",
       "      <th>run_time_minutes</th>\n",
       "      <th>mpa_rating</th>\n",
       "      <th>imdb_stars_rating</th>\n",
       "      <th>synopsis</th>\n",
       "      <th>metascore</th>\n",
       "      <th>votes</th>\n",
       "      <th>gross</th>\n",
       "      <th>image_url</th>\n",
       "    </tr>\n",
       "  </thead>\n",
       "  <tbody>\n",
       "    <tr>\n",
       "      <th>0</th>\n",
       "      <td>The Shawshank Redemption</td>\n",
       "      <td>Drama</td>\n",
       "      <td>1994</td>\n",
       "      <td>Frank Darabont</td>\n",
       "      <td>Tim Robbins</td>\n",
       "      <td>142</td>\n",
       "      <td>R</td>\n",
       "      <td>9.3</td>\n",
       "      <td>Over the course of several years, two convict...</td>\n",
       "      <td>81</td>\n",
       "      <td>2,690,086</td>\n",
       "      <td>$28.34M</td>\n",
       "      <td>https://m.media-amazon.com/images/M/MV5BMDFkYT...</td>\n",
       "    </tr>\n",
       "    <tr>\n",
       "      <th>1</th>\n",
       "      <td>The Godfather</td>\n",
       "      <td>Crime, Drama</td>\n",
       "      <td>1972</td>\n",
       "      <td>Francis Ford Coppola</td>\n",
       "      <td>Marlon Brando</td>\n",
       "      <td>175</td>\n",
       "      <td>R</td>\n",
       "      <td>9.2</td>\n",
       "      <td>The aging patriarch of an organized crime dyn...</td>\n",
       "      <td>100</td>\n",
       "      <td>1,865,892</td>\n",
       "      <td>$134.97M</td>\n",
       "      <td>https://m.media-amazon.com/images/M/MV5BM2MyNj...</td>\n",
       "    </tr>\n",
       "    <tr>\n",
       "      <th>2</th>\n",
       "      <td>The Dark Knight</td>\n",
       "      <td>Action, Crime, Drama</td>\n",
       "      <td>2008</td>\n",
       "      <td>Christopher Nolan</td>\n",
       "      <td>Christian Bale</td>\n",
       "      <td>152</td>\n",
       "      <td>PG-13</td>\n",
       "      <td>9.0</td>\n",
       "      <td>When the menace known as the Joker wreaks hav...</td>\n",
       "      <td>84</td>\n",
       "      <td>2,663,660</td>\n",
       "      <td>$534.86M</td>\n",
       "      <td>https://m.media-amazon.com/images/M/MV5BMTMxNT...</td>\n",
       "    </tr>\n",
       "    <tr>\n",
       "      <th>3</th>\n",
       "      <td>Schindler's List</td>\n",
       "      <td>Biography, Drama, History</td>\n",
       "      <td>1993</td>\n",
       "      <td>Steven Spielberg</td>\n",
       "      <td>Liam Neeson</td>\n",
       "      <td>195</td>\n",
       "      <td>R</td>\n",
       "      <td>9.0</td>\n",
       "      <td>In German-occupied Poland during World War II...</td>\n",
       "      <td>94</td>\n",
       "      <td>1,360,534</td>\n",
       "      <td>$96.90M</td>\n",
       "      <td>https://m.media-amazon.com/images/M/MV5BNDE4OT...</td>\n",
       "    </tr>\n",
       "    <tr>\n",
       "      <th>4</th>\n",
       "      <td>The Godfather: Part II</td>\n",
       "      <td>Crime, Drama</td>\n",
       "      <td>1974</td>\n",
       "      <td>Francis Ford Coppola</td>\n",
       "      <td>Al Pacino</td>\n",
       "      <td>202</td>\n",
       "      <td>R</td>\n",
       "      <td>9.0</td>\n",
       "      <td>The early life and career of Vito Corleone in...</td>\n",
       "      <td>90</td>\n",
       "      <td>1,276,317</td>\n",
       "      <td>$57.30M</td>\n",
       "      <td>https://m.media-amazon.com/images/M/MV5BMWMwMG...</td>\n",
       "    </tr>\n",
       "  </tbody>\n",
       "</table>\n",
       "</div>"
      ],
      "text/plain": [
       "                 film_title                                   genre  \\\n",
       "0  The Shawshank Redemption                       Drama               \n",
       "1             The Godfather                Crime, Drama               \n",
       "2           The Dark Knight        Action, Crime, Drama               \n",
       "3          Schindler's List   Biography, Drama, History               \n",
       "4    The Godfather: Part II                Crime, Drama               \n",
       "\n",
       "  release_year              director      lead_actor run_time_minutes  \\\n",
       "0        1994         Frank Darabont     Tim Robbins             142    \n",
       "1        1972   Francis Ford Coppola   Marlon Brando             175    \n",
       "2        2008      Christopher Nolan  Christian Bale             152    \n",
       "3        1993       Steven Spielberg     Liam Neeson             195    \n",
       "4        1974   Francis Ford Coppola       Al Pacino             202    \n",
       "\n",
       "  mpa_rating imdb_stars_rating  \\\n",
       "0          R              9.3    \n",
       "1          R              9.2    \n",
       "2      PG-13              9.0    \n",
       "3          R              9.0    \n",
       "4          R              9.0    \n",
       "\n",
       "                                            synopsis    metascore      votes  \\\n",
       "0   Over the course of several years, two convict...   81          2,690,086   \n",
       "1   The aging patriarch of an organized crime dyn...  100          1,865,892   \n",
       "2   When the menace known as the Joker wreaks hav...   84          2,663,660   \n",
       "3   In German-occupied Poland during World War II...   94          1,360,534   \n",
       "4   The early life and career of Vito Corleone in...   90          1,276,317   \n",
       "\n",
       "      gross                                          image_url  \n",
       "0   $28.34M  https://m.media-amazon.com/images/M/MV5BMDFkYT...  \n",
       "1  $134.97M  https://m.media-amazon.com/images/M/MV5BM2MyNj...  \n",
       "2  $534.86M  https://m.media-amazon.com/images/M/MV5BMTMxNT...  \n",
       "3   $96.90M  https://m.media-amazon.com/images/M/MV5BNDE4OT...  \n",
       "4   $57.30M  https://m.media-amazon.com/images/M/MV5BMWMwMG...  "
      ]
     },
     "execution_count": 22,
     "metadata": {},
     "output_type": "execute_result"
    }
   ],
   "source": [
    "\n",
    "final_df.head()\n"
   ]
  },
  {
   "cell_type": "code",
   "execution_count": 23,
   "id": "237d03ee",
   "metadata": {},
   "outputs": [
    {
     "data": {
      "text/plain": [
       "film_title           0\n",
       "genre                0\n",
       "release_year         0\n",
       "director             0\n",
       "lead_actor           0\n",
       "run_time_minutes     0\n",
       "mpa_rating           0\n",
       "imdb_stars_rating    0\n",
       "synopsis             0\n",
       "metascore            0\n",
       "votes                0\n",
       "gross                0\n",
       "image_url            0\n",
       "dtype: int64"
      ]
     },
     "execution_count": 23,
     "metadata": {},
     "output_type": "execute_result"
    }
   ],
   "source": [
    "# check dataset for null values after using the fillna method above\n",
    "final_df.isnull().sum()"
   ]
  },
  {
   "cell_type": "code",
   "execution_count": 24,
   "id": "858fa2ff",
   "metadata": {},
   "outputs": [
    {
     "data": {
      "text/plain": [
       "film_title           object\n",
       "genre                object\n",
       "release_year         object\n",
       "director             object\n",
       "lead_actor           object\n",
       "run_time_minutes     object\n",
       "mpa_rating           object\n",
       "imdb_stars_rating    object\n",
       "synopsis             object\n",
       "metascore            object\n",
       "votes                object\n",
       "gross                object\n",
       "image_url            object\n",
       "dtype: object"
      ]
     },
     "execution_count": 24,
     "metadata": {},
     "output_type": "execute_result"
    }
   ],
   "source": [
    "final_df.dtypes"
   ]
  },
  {
   "cell_type": "code",
   "execution_count": 25,
   "id": "a437ada3",
   "metadata": {},
   "outputs": [
    {
     "data": {
      "text/html": [
       "<div>\n",
       "<style scoped>\n",
       "    .dataframe tbody tr th:only-of-type {\n",
       "        vertical-align: middle;\n",
       "    }\n",
       "\n",
       "    .dataframe tbody tr th {\n",
       "        vertical-align: top;\n",
       "    }\n",
       "\n",
       "    .dataframe thead th {\n",
       "        text-align: right;\n",
       "    }\n",
       "</style>\n",
       "<table border=\"1\" class=\"dataframe\">\n",
       "  <thead>\n",
       "    <tr style=\"text-align: right;\">\n",
       "      <th></th>\n",
       "      <th>film_title</th>\n",
       "      <th>genre</th>\n",
       "      <th>release_year</th>\n",
       "      <th>director</th>\n",
       "      <th>lead_actor</th>\n",
       "      <th>run_time_minutes</th>\n",
       "      <th>mpa_rating</th>\n",
       "      <th>imdb_stars_rating</th>\n",
       "      <th>synopsis</th>\n",
       "      <th>metascore</th>\n",
       "      <th>votes</th>\n",
       "      <th>gross</th>\n",
       "      <th>image_url</th>\n",
       "    </tr>\n",
       "  </thead>\n",
       "  <tbody>\n",
       "    <tr>\n",
       "      <th>0</th>\n",
       "      <td>The Shawshank Redemption</td>\n",
       "      <td>Drama</td>\n",
       "      <td>1994</td>\n",
       "      <td>Frank Darabont</td>\n",
       "      <td>Tim Robbins</td>\n",
       "      <td>142</td>\n",
       "      <td>R</td>\n",
       "      <td>9.3</td>\n",
       "      <td>Over the course of several years, two convict...</td>\n",
       "      <td>81</td>\n",
       "      <td>2,690,086</td>\n",
       "      <td>$28.34M</td>\n",
       "      <td>https://m.media-amazon.com/images/M/MV5BMDFkYT...</td>\n",
       "    </tr>\n",
       "    <tr>\n",
       "      <th>1</th>\n",
       "      <td>The Godfather</td>\n",
       "      <td>Crime, Drama</td>\n",
       "      <td>1972</td>\n",
       "      <td>Francis Ford Coppola</td>\n",
       "      <td>Marlon Brando</td>\n",
       "      <td>175</td>\n",
       "      <td>R</td>\n",
       "      <td>9.2</td>\n",
       "      <td>The aging patriarch of an organized crime dyn...</td>\n",
       "      <td>100</td>\n",
       "      <td>1,865,892</td>\n",
       "      <td>$134.97M</td>\n",
       "      <td>https://m.media-amazon.com/images/M/MV5BM2MyNj...</td>\n",
       "    </tr>\n",
       "    <tr>\n",
       "      <th>2</th>\n",
       "      <td>The Dark Knight</td>\n",
       "      <td>Action, Crime, Drama</td>\n",
       "      <td>2008</td>\n",
       "      <td>Christopher Nolan</td>\n",
       "      <td>Christian Bale</td>\n",
       "      <td>152</td>\n",
       "      <td>PG-13</td>\n",
       "      <td>9.0</td>\n",
       "      <td>When the menace known as the Joker wreaks hav...</td>\n",
       "      <td>84</td>\n",
       "      <td>2,663,660</td>\n",
       "      <td>$534.86M</td>\n",
       "      <td>https://m.media-amazon.com/images/M/MV5BMTMxNT...</td>\n",
       "    </tr>\n",
       "    <tr>\n",
       "      <th>3</th>\n",
       "      <td>Schindler's List</td>\n",
       "      <td>Biography, Drama, History</td>\n",
       "      <td>1993</td>\n",
       "      <td>Steven Spielberg</td>\n",
       "      <td>Liam Neeson</td>\n",
       "      <td>195</td>\n",
       "      <td>R</td>\n",
       "      <td>9.0</td>\n",
       "      <td>In German-occupied Poland during World War II...</td>\n",
       "      <td>94</td>\n",
       "      <td>1,360,534</td>\n",
       "      <td>$96.90M</td>\n",
       "      <td>https://m.media-amazon.com/images/M/MV5BNDE4OT...</td>\n",
       "    </tr>\n",
       "    <tr>\n",
       "      <th>4</th>\n",
       "      <td>The Godfather: Part II</td>\n",
       "      <td>Crime, Drama</td>\n",
       "      <td>1974</td>\n",
       "      <td>Francis Ford Coppola</td>\n",
       "      <td>Al Pacino</td>\n",
       "      <td>202</td>\n",
       "      <td>R</td>\n",
       "      <td>9.0</td>\n",
       "      <td>The early life and career of Vito Corleone in...</td>\n",
       "      <td>90</td>\n",
       "      <td>1,276,317</td>\n",
       "      <td>$57.30M</td>\n",
       "      <td>https://m.media-amazon.com/images/M/MV5BMWMwMG...</td>\n",
       "    </tr>\n",
       "  </tbody>\n",
       "</table>\n",
       "</div>"
      ],
      "text/plain": [
       "                 film_title                                   genre  \\\n",
       "0  The Shawshank Redemption                       Drama               \n",
       "1             The Godfather                Crime, Drama               \n",
       "2           The Dark Knight        Action, Crime, Drama               \n",
       "3          Schindler's List   Biography, Drama, History               \n",
       "4    The Godfather: Part II                Crime, Drama               \n",
       "\n",
       "  release_year              director      lead_actor run_time_minutes  \\\n",
       "0        1994         Frank Darabont     Tim Robbins             142    \n",
       "1        1972   Francis Ford Coppola   Marlon Brando             175    \n",
       "2        2008      Christopher Nolan  Christian Bale             152    \n",
       "3        1993       Steven Spielberg     Liam Neeson             195    \n",
       "4        1974   Francis Ford Coppola       Al Pacino             202    \n",
       "\n",
       "  mpa_rating imdb_stars_rating  \\\n",
       "0          R              9.3    \n",
       "1          R              9.2    \n",
       "2      PG-13              9.0    \n",
       "3          R              9.0    \n",
       "4          R              9.0    \n",
       "\n",
       "                                            synopsis    metascore      votes  \\\n",
       "0   Over the course of several years, two convict...   81          2,690,086   \n",
       "1   The aging patriarch of an organized crime dyn...  100          1,865,892   \n",
       "2   When the menace known as the Joker wreaks hav...   84          2,663,660   \n",
       "3   In German-occupied Poland during World War II...   94          1,360,534   \n",
       "4   The early life and career of Vito Corleone in...   90          1,276,317   \n",
       "\n",
       "      gross                                          image_url  \n",
       "0   $28.34M  https://m.media-amazon.com/images/M/MV5BMDFkYT...  \n",
       "1  $134.97M  https://m.media-amazon.com/images/M/MV5BM2MyNj...  \n",
       "2  $534.86M  https://m.media-amazon.com/images/M/MV5BMTMxNT...  \n",
       "3   $96.90M  https://m.media-amazon.com/images/M/MV5BNDE4OT...  \n",
       "4   $57.30M  https://m.media-amazon.com/images/M/MV5BMWMwMG...  "
      ]
     },
     "execution_count": 25,
     "metadata": {},
     "output_type": "execute_result"
    }
   ],
   "source": [
    "final_df.head()"
   ]
  },
  {
   "cell_type": "code",
   "execution_count": 26,
   "id": "85c2b623",
   "metadata": {},
   "outputs": [
    {
     "data": {
      "text/plain": [
       "dtype('O')"
      ]
     },
     "execution_count": 26,
     "metadata": {},
     "output_type": "execute_result"
    }
   ],
   "source": [
    "final_df.dtypes['release_year']"
   ]
  },
  {
   "cell_type": "code",
   "execution_count": 27,
   "id": "9d9c0870",
   "metadata": {},
   "outputs": [
    {
     "data": {
      "text/html": [
       "<div>\n",
       "<style scoped>\n",
       "    .dataframe tbody tr th:only-of-type {\n",
       "        vertical-align: middle;\n",
       "    }\n",
       "\n",
       "    .dataframe tbody tr th {\n",
       "        vertical-align: top;\n",
       "    }\n",
       "\n",
       "    .dataframe thead th {\n",
       "        text-align: right;\n",
       "    }\n",
       "</style>\n",
       "<table border=\"1\" class=\"dataframe\">\n",
       "  <thead>\n",
       "    <tr style=\"text-align: right;\">\n",
       "      <th></th>\n",
       "      <th>film_title</th>\n",
       "      <th>genre</th>\n",
       "      <th>release_year</th>\n",
       "      <th>director</th>\n",
       "      <th>lead_actor</th>\n",
       "      <th>run_time_minutes</th>\n",
       "      <th>mpa_rating</th>\n",
       "      <th>imdb_stars_rating</th>\n",
       "      <th>synopsis</th>\n",
       "      <th>metascore</th>\n",
       "      <th>votes</th>\n",
       "      <th>gross</th>\n",
       "      <th>image_url</th>\n",
       "    </tr>\n",
       "  </thead>\n",
       "  <tbody>\n",
       "    <tr>\n",
       "      <th>59</th>\n",
       "      <td>96</td>\n",
       "      <td>Drama, Romance</td>\n",
       "      <td>II   2018</td>\n",
       "      <td>C. Prem Kumar</td>\n",
       "      <td>Vijay Sethupathi</td>\n",
       "      <td>158</td>\n",
       "      <td>Not Rated</td>\n",
       "      <td>8.5</td>\n",
       "      <td>Two high school sweethearts meet at a reunion...</td>\n",
       "      <td>----</td>\n",
       "      <td>32,045</td>\n",
       "      <td>----</td>\n",
       "      <td>https://m.media-amazon.com/images/M/MV5BOGM2Yz...</td>\n",
       "    </tr>\n",
       "    <tr>\n",
       "      <th>318</th>\n",
       "      <td>Pink</td>\n",
       "      <td>Crime, Drama, Thriller</td>\n",
       "      <td>III   2016</td>\n",
       "      <td>Aniruddha Roy Chowdhury</td>\n",
       "      <td>Amitabh Bachchan</td>\n",
       "      <td>136</td>\n",
       "      <td>Not Rated</td>\n",
       "      <td>8.1</td>\n",
       "      <td>When three young women are implicated in a cr...</td>\n",
       "      <td>----</td>\n",
       "      <td>45,825</td>\n",
       "      <td>$1.24M</td>\n",
       "      <td>https://m.media-amazon.com/images/M/MV5BNGI1MT...</td>\n",
       "    </tr>\n",
       "    <tr>\n",
       "      <th>478</th>\n",
       "      <td>Arrival</td>\n",
       "      <td>Drama, Mystery, Sci-Fi</td>\n",
       "      <td>II   2016</td>\n",
       "      <td>Denis Villeneuve</td>\n",
       "      <td>Amy Adams</td>\n",
       "      <td>116</td>\n",
       "      <td>PG-13</td>\n",
       "      <td>7.9</td>\n",
       "      <td>A linguist works with the military to communi...</td>\n",
       "      <td>81</td>\n",
       "      <td>701,852</td>\n",
       "      <td>$100.55M</td>\n",
       "      <td>https://m.media-amazon.com/images/M/MV5BMTExMz...</td>\n",
       "    </tr>\n",
       "    <tr>\n",
       "      <th>926</th>\n",
       "      <td>Searching</td>\n",
       "      <td>Drama, Horror, Mystery</td>\n",
       "      <td>III   2018</td>\n",
       "      <td>Aneesh Chaganty</td>\n",
       "      <td>John Cho</td>\n",
       "      <td>102</td>\n",
       "      <td>PG-13</td>\n",
       "      <td>7.6</td>\n",
       "      <td>After his teenage daughter goes missing, a de...</td>\n",
       "      <td>71</td>\n",
       "      <td>165,421</td>\n",
       "      <td>$26.02M</td>\n",
       "      <td>https://m.media-amazon.com/images/M/MV5BMjIwOT...</td>\n",
       "    </tr>\n",
       "    <tr>\n",
       "      <th>934</th>\n",
       "      <td>Hell or High Water</td>\n",
       "      <td>Crime, Drama, Thriller</td>\n",
       "      <td>II   2016</td>\n",
       "      <td>David Mackenzie</td>\n",
       "      <td>Chris Pine</td>\n",
       "      <td>102</td>\n",
       "      <td>R</td>\n",
       "      <td>7.6</td>\n",
       "      <td>A divorced father and his ex-con older brothe...</td>\n",
       "      <td>88</td>\n",
       "      <td>234,474</td>\n",
       "      <td>$26.86M</td>\n",
       "      <td>https://m.media-amazon.com/images/M/MV5BMTg4ND...</td>\n",
       "    </tr>\n",
       "  </tbody>\n",
       "</table>\n",
       "</div>"
      ],
      "text/plain": [
       "             film_title                                genre  release_year  \\\n",
       "59                   96           Drama, Romance                II   2018    \n",
       "318                Pink   Crime, Drama, Thriller               III   2016    \n",
       "478             Arrival   Drama, Mystery, Sci-Fi                II   2016    \n",
       "926           Searching   Drama, Horror, Mystery               III   2018    \n",
       "934  Hell or High Water   Crime, Drama, Thriller                II   2016    \n",
       "\n",
       "                    director        lead_actor run_time_minutes mpa_rating  \\\n",
       "59             C. Prem Kumar  Vijay Sethupathi             158   Not Rated   \n",
       "318  Aniruddha Roy Chowdhury  Amitabh Bachchan             136   Not Rated   \n",
       "478         Denis Villeneuve         Amy Adams             116       PG-13   \n",
       "926          Aneesh Chaganty          John Cho             102       PG-13   \n",
       "934          David Mackenzie        Chris Pine             102           R   \n",
       "\n",
       "    imdb_stars_rating                                           synopsis  \\\n",
       "59               8.5    Two high school sweethearts meet at a reunion...   \n",
       "318              8.1    When three young women are implicated in a cr...   \n",
       "478              7.9    A linguist works with the military to communi...   \n",
       "926              7.6    After his teenage daughter goes missing, a de...   \n",
       "934              7.6    A divorced father and his ex-con older brothe...   \n",
       "\n",
       "      metascore    votes     gross  \\\n",
       "59         ----   32,045      ----   \n",
       "318        ----   45,825    $1.24M   \n",
       "478  81          701,852  $100.55M   \n",
       "926  71          165,421   $26.02M   \n",
       "934  88          234,474   $26.86M   \n",
       "\n",
       "                                             image_url  \n",
       "59   https://m.media-amazon.com/images/M/MV5BOGM2Yz...  \n",
       "318  https://m.media-amazon.com/images/M/MV5BNGI1MT...  \n",
       "478  https://m.media-amazon.com/images/M/MV5BMTExMz...  \n",
       "926  https://m.media-amazon.com/images/M/MV5BMjIwOT...  \n",
       "934  https://m.media-amazon.com/images/M/MV5BMTg4ND...  "
      ]
     },
     "execution_count": 27,
     "metadata": {},
     "output_type": "execute_result"
    }
   ],
   "source": [
    "# filter for extraneous text characters in 'release_year' column\n",
    "# find where the II and III characters are so we can remove them in order to convert year column to date\n",
    "mask = final_df['release_year'].str.contains('II', na=False)\n",
    "final_df[mask].head()"
   ]
  },
  {
   "cell_type": "code",
   "execution_count": 28,
   "id": "b410134c",
   "metadata": {},
   "outputs": [
    {
     "data": {
      "text/html": [
       "<div>\n",
       "<style scoped>\n",
       "    .dataframe tbody tr th:only-of-type {\n",
       "        vertical-align: middle;\n",
       "    }\n",
       "\n",
       "    .dataframe tbody tr th {\n",
       "        vertical-align: top;\n",
       "    }\n",
       "\n",
       "    .dataframe thead th {\n",
       "        text-align: right;\n",
       "    }\n",
       "</style>\n",
       "<table border=\"1\" class=\"dataframe\">\n",
       "  <thead>\n",
       "    <tr style=\"text-align: right;\">\n",
       "      <th></th>\n",
       "      <th>film_title</th>\n",
       "      <th>genre</th>\n",
       "      <th>release_year</th>\n",
       "      <th>director</th>\n",
       "      <th>lead_actor</th>\n",
       "      <th>run_time_minutes</th>\n",
       "      <th>mpa_rating</th>\n",
       "      <th>imdb_stars_rating</th>\n",
       "      <th>synopsis</th>\n",
       "      <th>metascore</th>\n",
       "      <th>votes</th>\n",
       "      <th>gross</th>\n",
       "      <th>image_url</th>\n",
       "    </tr>\n",
       "  </thead>\n",
       "  <tbody>\n",
       "    <tr>\n",
       "      <th>59</th>\n",
       "      <td>96</td>\n",
       "      <td>Drama, Romance</td>\n",
       "      <td>2018</td>\n",
       "      <td>C. Prem Kumar</td>\n",
       "      <td>Vijay Sethupathi</td>\n",
       "      <td>158</td>\n",
       "      <td>Not Rated</td>\n",
       "      <td>8.5</td>\n",
       "      <td>Two high school sweethearts meet at a reunion...</td>\n",
       "      <td>----</td>\n",
       "      <td>32,045</td>\n",
       "      <td>----</td>\n",
       "      <td>https://m.media-amazon.com/images/M/MV5BOGM2Yz...</td>\n",
       "    </tr>\n",
       "    <tr>\n",
       "      <th>318</th>\n",
       "      <td>Pink</td>\n",
       "      <td>Crime, Drama, Thriller</td>\n",
       "      <td>2016</td>\n",
       "      <td>Aniruddha Roy Chowdhury</td>\n",
       "      <td>Amitabh Bachchan</td>\n",
       "      <td>136</td>\n",
       "      <td>Not Rated</td>\n",
       "      <td>8.1</td>\n",
       "      <td>When three young women are implicated in a cr...</td>\n",
       "      <td>----</td>\n",
       "      <td>45,825</td>\n",
       "      <td>$1.24M</td>\n",
       "      <td>https://m.media-amazon.com/images/M/MV5BNGI1MT...</td>\n",
       "    </tr>\n",
       "    <tr>\n",
       "      <th>478</th>\n",
       "      <td>Arrival</td>\n",
       "      <td>Drama, Mystery, Sci-Fi</td>\n",
       "      <td>2016</td>\n",
       "      <td>Denis Villeneuve</td>\n",
       "      <td>Amy Adams</td>\n",
       "      <td>116</td>\n",
       "      <td>PG-13</td>\n",
       "      <td>7.9</td>\n",
       "      <td>A linguist works with the military to communi...</td>\n",
       "      <td>81</td>\n",
       "      <td>701,852</td>\n",
       "      <td>$100.55M</td>\n",
       "      <td>https://m.media-amazon.com/images/M/MV5BMTExMz...</td>\n",
       "    </tr>\n",
       "    <tr>\n",
       "      <th>926</th>\n",
       "      <td>Searching</td>\n",
       "      <td>Drama, Horror, Mystery</td>\n",
       "      <td>2018</td>\n",
       "      <td>Aneesh Chaganty</td>\n",
       "      <td>John Cho</td>\n",
       "      <td>102</td>\n",
       "      <td>PG-13</td>\n",
       "      <td>7.6</td>\n",
       "      <td>After his teenage daughter goes missing, a de...</td>\n",
       "      <td>71</td>\n",
       "      <td>165,421</td>\n",
       "      <td>$26.02M</td>\n",
       "      <td>https://m.media-amazon.com/images/M/MV5BMjIwOT...</td>\n",
       "    </tr>\n",
       "    <tr>\n",
       "      <th>934</th>\n",
       "      <td>Hell or High Water</td>\n",
       "      <td>Crime, Drama, Thriller</td>\n",
       "      <td>2016</td>\n",
       "      <td>David Mackenzie</td>\n",
       "      <td>Chris Pine</td>\n",
       "      <td>102</td>\n",
       "      <td>R</td>\n",
       "      <td>7.6</td>\n",
       "      <td>A divorced father and his ex-con older brothe...</td>\n",
       "      <td>88</td>\n",
       "      <td>234,474</td>\n",
       "      <td>$26.86M</td>\n",
       "      <td>https://m.media-amazon.com/images/M/MV5BMTg4ND...</td>\n",
       "    </tr>\n",
       "  </tbody>\n",
       "</table>\n",
       "</div>"
      ],
      "text/plain": [
       "             film_title                                genre release_year  \\\n",
       "59                   96           Drama, Romance                    2018    \n",
       "318                Pink   Crime, Drama, Thriller                    2016    \n",
       "478             Arrival   Drama, Mystery, Sci-Fi                    2016    \n",
       "926           Searching   Drama, Horror, Mystery                    2018    \n",
       "934  Hell or High Water   Crime, Drama, Thriller                    2016    \n",
       "\n",
       "                    director        lead_actor run_time_minutes mpa_rating  \\\n",
       "59             C. Prem Kumar  Vijay Sethupathi             158   Not Rated   \n",
       "318  Aniruddha Roy Chowdhury  Amitabh Bachchan             136   Not Rated   \n",
       "478         Denis Villeneuve         Amy Adams             116       PG-13   \n",
       "926          Aneesh Chaganty          John Cho             102       PG-13   \n",
       "934          David Mackenzie        Chris Pine             102           R   \n",
       "\n",
       "    imdb_stars_rating                                           synopsis  \\\n",
       "59               8.5    Two high school sweethearts meet at a reunion...   \n",
       "318              8.1    When three young women are implicated in a cr...   \n",
       "478              7.9    A linguist works with the military to communi...   \n",
       "926              7.6    After his teenage daughter goes missing, a de...   \n",
       "934              7.6    A divorced father and his ex-con older brothe...   \n",
       "\n",
       "      metascore    votes     gross  \\\n",
       "59         ----   32,045      ----   \n",
       "318        ----   45,825    $1.24M   \n",
       "478  81          701,852  $100.55M   \n",
       "926  71          165,421   $26.02M   \n",
       "934  88          234,474   $26.86M   \n",
       "\n",
       "                                             image_url  \n",
       "59   https://m.media-amazon.com/images/M/MV5BOGM2Yz...  \n",
       "318  https://m.media-amazon.com/images/M/MV5BNGI1MT...  \n",
       "478  https://m.media-amazon.com/images/M/MV5BMTExMz...  \n",
       "926  https://m.media-amazon.com/images/M/MV5BMjIwOT...  \n",
       "934  https://m.media-amazon.com/images/M/MV5BMTg4ND...  "
      ]
     },
     "execution_count": 28,
     "metadata": {},
     "output_type": "execute_result"
    }
   ],
   "source": [
    "# df['column name'] = df['column name'].str.replace('old character','new character')\n",
    "final_df['release_year'] = final_df['release_year'].str.replace('I', '')\n",
    "final_df['release_year'] = final_df['release_year'].str.replace('II', '')\n",
    "final_df['release_year'] = final_df['release_year'].str.replace('III', '')\n",
    "final_df[mask].head()"
   ]
  },
  {
   "cell_type": "code",
   "execution_count": 29,
   "id": "1bff22dd",
   "metadata": {},
   "outputs": [
    {
     "data": {
      "text/html": [
       "<div>\n",
       "<style scoped>\n",
       "    .dataframe tbody tr th:only-of-type {\n",
       "        vertical-align: middle;\n",
       "    }\n",
       "\n",
       "    .dataframe tbody tr th {\n",
       "        vertical-align: top;\n",
       "    }\n",
       "\n",
       "    .dataframe thead th {\n",
       "        text-align: right;\n",
       "    }\n",
       "</style>\n",
       "<table border=\"1\" class=\"dataframe\">\n",
       "  <thead>\n",
       "    <tr style=\"text-align: right;\">\n",
       "      <th></th>\n",
       "      <th>film_title</th>\n",
       "      <th>genre</th>\n",
       "      <th>release_year</th>\n",
       "      <th>director</th>\n",
       "      <th>lead_actor</th>\n",
       "      <th>run_time_minutes</th>\n",
       "      <th>mpa_rating</th>\n",
       "      <th>imdb_stars_rating</th>\n",
       "      <th>synopsis</th>\n",
       "      <th>metascore</th>\n",
       "      <th>votes</th>\n",
       "      <th>gross</th>\n",
       "      <th>image_url</th>\n",
       "    </tr>\n",
       "  </thead>\n",
       "  <tbody>\n",
       "    <tr>\n",
       "      <th>0</th>\n",
       "      <td>The Shawshank Redemption</td>\n",
       "      <td>Drama</td>\n",
       "      <td>1994</td>\n",
       "      <td>Frank Darabont</td>\n",
       "      <td>Tim Robbins</td>\n",
       "      <td>142</td>\n",
       "      <td>R</td>\n",
       "      <td>9.3</td>\n",
       "      <td>Over the course of several years, two convict...</td>\n",
       "      <td>81</td>\n",
       "      <td>2,690,086</td>\n",
       "      <td>$28.34M</td>\n",
       "      <td>https://m.media-amazon.com/images/M/MV5BMDFkYT...</td>\n",
       "    </tr>\n",
       "    <tr>\n",
       "      <th>7</th>\n",
       "      <td>Pulp Fiction</td>\n",
       "      <td>Crime, Drama</td>\n",
       "      <td>1994</td>\n",
       "      <td>Quentin Tarantino</td>\n",
       "      <td>John Travolta</td>\n",
       "      <td>154</td>\n",
       "      <td>R</td>\n",
       "      <td>8.9</td>\n",
       "      <td>The lives of two mob hitmen, a boxer, a gangs...</td>\n",
       "      <td>94</td>\n",
       "      <td>2,064,377</td>\n",
       "      <td>$107.93M</td>\n",
       "      <td>https://m.media-amazon.com/images/M/MV5BNGNhMD...</td>\n",
       "    </tr>\n",
       "    <tr>\n",
       "      <th>12</th>\n",
       "      <td>Forrest Gump</td>\n",
       "      <td>Drama, Romance</td>\n",
       "      <td>1994</td>\n",
       "      <td>Robert Zemeckis</td>\n",
       "      <td>Tom Hanks</td>\n",
       "      <td>142</td>\n",
       "      <td>PG-13</td>\n",
       "      <td>8.8</td>\n",
       "      <td>The presidencies of Kennedy and Johnson, the ...</td>\n",
       "      <td>82</td>\n",
       "      <td>2,088,608</td>\n",
       "      <td>$330.25M</td>\n",
       "      <td>https://m.media-amazon.com/images/M/MV5BNWIwOD...</td>\n",
       "    </tr>\n",
       "    <tr>\n",
       "      <th>40</th>\n",
       "      <td>Léon: The Professional</td>\n",
       "      <td>Action, Crime, Drama</td>\n",
       "      <td>1994</td>\n",
       "      <td>Luc Besson</td>\n",
       "      <td>Jean Reno</td>\n",
       "      <td>110</td>\n",
       "      <td>R</td>\n",
       "      <td>8.5</td>\n",
       "      <td>12-year-old Mathilda is reluctantly taken in ...</td>\n",
       "      <td>64</td>\n",
       "      <td>1,167,126</td>\n",
       "      <td>$19.50M</td>\n",
       "      <td>https://m.media-amazon.com/images/M/MV5BOTgyMW...</td>\n",
       "    </tr>\n",
       "    <tr>\n",
       "      <th>47</th>\n",
       "      <td>The Lion King</td>\n",
       "      <td>Animation, Adventure, Drama</td>\n",
       "      <td>1994</td>\n",
       "      <td>Roger Allers</td>\n",
       "      <td>Rob Minkoff</td>\n",
       "      <td>88</td>\n",
       "      <td>G</td>\n",
       "      <td>8.5</td>\n",
       "      <td>Lion prince Simba and his father are targeted...</td>\n",
       "      <td>88</td>\n",
       "      <td>1,063,549</td>\n",
       "      <td>$422.78M</td>\n",
       "      <td>https://m.media-amazon.com/images/M/MV5BYTYxNG...</td>\n",
       "    </tr>\n",
       "  </tbody>\n",
       "</table>\n",
       "</div>"
      ],
      "text/plain": [
       "                  film_title                                     genre  \\\n",
       "0   The Shawshank Redemption                         Drama               \n",
       "7               Pulp Fiction                  Crime, Drama               \n",
       "12              Forrest Gump                Drama, Romance               \n",
       "40    Léon: The Professional          Action, Crime, Drama               \n",
       "47             The Lion King   Animation, Adventure, Drama               \n",
       "\n",
       "   release_year           director     lead_actor run_time_minutes mpa_rating  \\\n",
       "0         1994      Frank Darabont    Tim Robbins             142           R   \n",
       "7         1994   Quentin Tarantino  John Travolta             154           R   \n",
       "12        1994     Robert Zemeckis      Tom Hanks             142       PG-13   \n",
       "40        1994          Luc Besson      Jean Reno             110           R   \n",
       "47        1994        Roger Allers    Rob Minkoff              88           G   \n",
       "\n",
       "   imdb_stars_rating                                           synopsis  \\\n",
       "0               9.3    Over the course of several years, two convict...   \n",
       "7               8.9    The lives of two mob hitmen, a boxer, a gangs...   \n",
       "12              8.8    The presidencies of Kennedy and Johnson, the ...   \n",
       "40              8.5    12-year-old Mathilda is reluctantly taken in ...   \n",
       "47              8.5    Lion prince Simba and his father are targeted...   \n",
       "\n",
       "     metascore      votes     gross  \\\n",
       "0   81          2,690,086   $28.34M   \n",
       "7   94          2,064,377  $107.93M   \n",
       "12  82          2,088,608  $330.25M   \n",
       "40  64          1,167,126   $19.50M   \n",
       "47  88          1,063,549  $422.78M   \n",
       "\n",
       "                                            image_url  \n",
       "0   https://m.media-amazon.com/images/M/MV5BMDFkYT...  \n",
       "7   https://m.media-amazon.com/images/M/MV5BNGNhMD...  \n",
       "12  https://m.media-amazon.com/images/M/MV5BNWIwOD...  \n",
       "40  https://m.media-amazon.com/images/M/MV5BOTgyMW...  \n",
       "47  https://m.media-amazon.com/images/M/MV5BYTYxNG...  "
      ]
     },
     "execution_count": 29,
     "metadata": {},
     "output_type": "execute_result"
    }
   ],
   "source": [
    "mask = final_df['release_year'].str.contains(' 1994 ', na=False)\n",
    "final_df[mask].head()"
   ]
  },
  {
   "cell_type": "code",
   "execution_count": 30,
   "id": "86897ec3",
   "metadata": {},
   "outputs": [
    {
     "data": {
      "text/plain": [
       "0"
      ]
     },
     "execution_count": 30,
     "metadata": {},
     "output_type": "execute_result"
    }
   ],
   "source": [
    "# get a count of how many NaN values in the release_year column\n",
    "final_df['release_year'].isna().sum()"
   ]
  },
  {
   "cell_type": "code",
   "execution_count": 31,
   "id": "fee90a89",
   "metadata": {},
   "outputs": [
    {
     "data": {
      "text/plain": [
       "0"
      ]
     },
     "execution_count": 31,
     "metadata": {},
     "output_type": "execute_result"
    }
   ],
   "source": [
    "# get a count of how many NaN values in the dataframe\n",
    "# df.isna().sum().sum()\n",
    "final_df.isna().sum().sum()"
   ]
  },
  {
   "cell_type": "code",
   "execution_count": 32,
   "id": "aef28f4a",
   "metadata": {},
   "outputs": [
    {
     "data": {
      "text/plain": [
       "film_title           0\n",
       "genre                0\n",
       "release_year         0\n",
       "director             0\n",
       "lead_actor           0\n",
       "run_time_minutes     0\n",
       "mpa_rating           0\n",
       "imdb_stars_rating    0\n",
       "synopsis             0\n",
       "metascore            0\n",
       "votes                0\n",
       "gross                0\n",
       "image_url            0\n",
       "dtype: int64"
      ]
     },
     "execution_count": 32,
     "metadata": {},
     "output_type": "execute_result"
    }
   ],
   "source": [
    "# get which columns contain NaN\n",
    "final_df.isna().sum()"
   ]
  },
  {
   "cell_type": "code",
   "execution_count": 33,
   "id": "b9a3427b",
   "metadata": {},
   "outputs": [],
   "source": [
    "# convert release_year to numeric\n",
    "# df.col1 = pd.to_numeric(df.col1, errors=\"coerce\")\n",
    "final_df.release_year = pd.to_numeric(final_df.release_year, errors=\"coerce\")"
   ]
  },
  {
   "cell_type": "code",
   "execution_count": 34,
   "id": "62c81501",
   "metadata": {},
   "outputs": [
    {
     "data": {
      "text/plain": [
       "dtype('int64')"
      ]
     },
     "execution_count": 34,
     "metadata": {},
     "output_type": "execute_result"
    }
   ],
   "source": [
    "final_df.dtypes['release_year']"
   ]
  },
  {
   "cell_type": "code",
   "execution_count": 35,
   "id": "db9b3a51",
   "metadata": {},
   "outputs": [],
   "source": [
    "# df['Year'] = pd.to_numeric(df['Year'], errors='coerce').fillna(0).astype(int)\n",
    "final_df['release_year'] = pd.to_numeric(final_df['release_year'], errors='coerce').fillna(0).astype(int)"
   ]
  },
  {
   "cell_type": "code",
   "execution_count": null,
   "id": "bb9cd713",
   "metadata": {},
   "outputs": [],
   "source": []
  },
  {
   "cell_type": "code",
   "execution_count": 36,
   "id": "c6905667",
   "metadata": {},
   "outputs": [
    {
     "data": {
      "text/plain": [
       "1946"
      ]
     },
     "execution_count": 36,
     "metadata": {},
     "output_type": "execute_result"
    }
   ],
   "source": [
    "# get release year of nth movie\n",
    "final_df.loc[548,'release_year']"
   ]
  },
  {
   "cell_type": "code",
   "execution_count": 37,
   "id": "62e97fc4",
   "metadata": {},
   "outputs": [
    {
     "data": {
      "text/plain": [
       "'The Big Sleep'"
      ]
     },
     "execution_count": 37,
     "metadata": {},
     "output_type": "execute_result"
    }
   ],
   "source": [
    "# go ahead and get film_title of the above referenced movie\n",
    "final_df.loc[548,'film_title']\n"
   ]
  },
  {
   "cell_type": "code",
   "execution_count": 38,
   "id": "7958ef3b",
   "metadata": {},
   "outputs": [
    {
     "data": {
      "text/plain": [
       "dtype('int64')"
      ]
     },
     "execution_count": 38,
     "metadata": {},
     "output_type": "execute_result"
    }
   ],
   "source": [
    "final_df.dtypes['release_year']"
   ]
  },
  {
   "cell_type": "code",
   "execution_count": null,
   "id": "a6633a27",
   "metadata": {},
   "outputs": [],
   "source": []
  },
  {
   "cell_type": "code",
   "execution_count": 39,
   "id": "dd16d6b8",
   "metadata": {},
   "outputs": [
    {
     "data": {
      "text/plain": [
       "film_title           object\n",
       "genre                object\n",
       "release_year          int64\n",
       "director             object\n",
       "lead_actor           object\n",
       "run_time_minutes     object\n",
       "mpa_rating           object\n",
       "imdb_stars_rating    object\n",
       "synopsis             object\n",
       "metascore            object\n",
       "votes                object\n",
       "gross                object\n",
       "image_url            object\n",
       "dtype: object"
      ]
     },
     "execution_count": 39,
     "metadata": {},
     "output_type": "execute_result"
    }
   ],
   "source": [
    "final_df.dtypes"
   ]
  },
  {
   "cell_type": "code",
   "execution_count": 40,
   "id": "1498a862",
   "metadata": {},
   "outputs": [
    {
     "data": {
      "text/html": [
       "<div>\n",
       "<style scoped>\n",
       "    .dataframe tbody tr th:only-of-type {\n",
       "        vertical-align: middle;\n",
       "    }\n",
       "\n",
       "    .dataframe tbody tr th {\n",
       "        vertical-align: top;\n",
       "    }\n",
       "\n",
       "    .dataframe thead th {\n",
       "        text-align: right;\n",
       "    }\n",
       "</style>\n",
       "<table border=\"1\" class=\"dataframe\">\n",
       "  <thead>\n",
       "    <tr style=\"text-align: right;\">\n",
       "      <th></th>\n",
       "      <th>film_title</th>\n",
       "      <th>genre</th>\n",
       "      <th>release_year</th>\n",
       "      <th>director</th>\n",
       "      <th>lead_actor</th>\n",
       "      <th>run_time_minutes</th>\n",
       "      <th>mpa_rating</th>\n",
       "      <th>imdb_stars_rating</th>\n",
       "      <th>synopsis</th>\n",
       "      <th>metascore</th>\n",
       "      <th>votes</th>\n",
       "      <th>gross</th>\n",
       "      <th>image_url</th>\n",
       "    </tr>\n",
       "  </thead>\n",
       "  <tbody>\n",
       "    <tr>\n",
       "      <th>0</th>\n",
       "      <td>The Shawshank Redemption</td>\n",
       "      <td>Drama</td>\n",
       "      <td>1994</td>\n",
       "      <td>Frank Darabont</td>\n",
       "      <td>Tim Robbins</td>\n",
       "      <td>142</td>\n",
       "      <td>R</td>\n",
       "      <td>9.3</td>\n",
       "      <td>Over the course of several years, two convict...</td>\n",
       "      <td>81</td>\n",
       "      <td>2,690,086</td>\n",
       "      <td>$28.34M</td>\n",
       "      <td>https://m.media-amazon.com/images/M/MV5BMDFkYT...</td>\n",
       "    </tr>\n",
       "    <tr>\n",
       "      <th>1</th>\n",
       "      <td>The Godfather</td>\n",
       "      <td>Crime, Drama</td>\n",
       "      <td>1972</td>\n",
       "      <td>Francis Ford Coppola</td>\n",
       "      <td>Marlon Brando</td>\n",
       "      <td>175</td>\n",
       "      <td>R</td>\n",
       "      <td>9.2</td>\n",
       "      <td>The aging patriarch of an organized crime dyn...</td>\n",
       "      <td>100</td>\n",
       "      <td>1,865,892</td>\n",
       "      <td>$134.97M</td>\n",
       "      <td>https://m.media-amazon.com/images/M/MV5BM2MyNj...</td>\n",
       "    </tr>\n",
       "    <tr>\n",
       "      <th>2</th>\n",
       "      <td>The Dark Knight</td>\n",
       "      <td>Action, Crime, Drama</td>\n",
       "      <td>2008</td>\n",
       "      <td>Christopher Nolan</td>\n",
       "      <td>Christian Bale</td>\n",
       "      <td>152</td>\n",
       "      <td>PG-13</td>\n",
       "      <td>9.0</td>\n",
       "      <td>When the menace known as the Joker wreaks hav...</td>\n",
       "      <td>84</td>\n",
       "      <td>2,663,660</td>\n",
       "      <td>$534.86M</td>\n",
       "      <td>https://m.media-amazon.com/images/M/MV5BMTMxNT...</td>\n",
       "    </tr>\n",
       "  </tbody>\n",
       "</table>\n",
       "</div>"
      ],
      "text/plain": [
       "                 film_title                              genre  release_year  \\\n",
       "0  The Shawshank Redemption                  Drama                      1994   \n",
       "1             The Godfather           Crime, Drama                      1972   \n",
       "2           The Dark Knight   Action, Crime, Drama                      2008   \n",
       "\n",
       "               director      lead_actor  run_time_minutes mpa_rating  \\\n",
       "0        Frank Darabont     Tim Robbins               142          R   \n",
       "1  Francis Ford Coppola   Marlon Brando               175          R   \n",
       "2     Christopher Nolan  Christian Bale               152      PG-13   \n",
       "\n",
       "  imdb_stars_rating                                           synopsis  \\\n",
       "0              9.3    Over the course of several years, two convict...   \n",
       "1              9.2    The aging patriarch of an organized crime dyn...   \n",
       "2              9.0    When the menace known as the Joker wreaks hav...   \n",
       "\n",
       "     metascore      votes     gross  \\\n",
       "0   81          2,690,086   $28.34M   \n",
       "1  100          1,865,892  $134.97M   \n",
       "2   84          2,663,660  $534.86M   \n",
       "\n",
       "                                           image_url  \n",
       "0  https://m.media-amazon.com/images/M/MV5BMDFkYT...  \n",
       "1  https://m.media-amazon.com/images/M/MV5BM2MyNj...  \n",
       "2  https://m.media-amazon.com/images/M/MV5BMTMxNT...  "
      ]
     },
     "execution_count": 40,
     "metadata": {},
     "output_type": "execute_result"
    }
   ],
   "source": [
    "# convert 'run_time' to numeric\n",
    "final_df['run_time_minutes'] = final_df['run_time_minutes'].str.extract('(\\d+)').astype(int)\n",
    "final_df.head(3)"
   ]
  },
  {
   "cell_type": "code",
   "execution_count": 41,
   "id": "5656d058",
   "metadata": {},
   "outputs": [],
   "source": [
    "# convert 'imdb_stars_rating' to float\n",
    "final_df['imdb_stars_rating'] = final_df['imdb_stars_rating'].str.extract('(\\d+)').astype(float)"
   ]
  },
  {
   "cell_type": "code",
   "execution_count": 42,
   "id": "9a52bd0d",
   "metadata": {},
   "outputs": [
    {
     "name": "stdout",
     "output_type": "stream",
     "text": [
      "<class 'pandas.core.frame.DataFrame'>\n",
      "RangeIndex: 1000 entries, 0 to 999\n",
      "Data columns (total 13 columns):\n",
      " #   Column             Non-Null Count  Dtype  \n",
      "---  ------             --------------  -----  \n",
      " 0   film_title         1000 non-null   object \n",
      " 1   genre              1000 non-null   object \n",
      " 2   release_year       1000 non-null   int64  \n",
      " 3   director           1000 non-null   object \n",
      " 4   lead_actor         1000 non-null   object \n",
      " 5   run_time_minutes   1000 non-null   int64  \n",
      " 6   mpa_rating         1000 non-null   object \n",
      " 7   imdb_stars_rating  1000 non-null   float64\n",
      " 8   synopsis           1000 non-null   object \n",
      " 9   metascore          1000 non-null   object \n",
      " 10  votes              1000 non-null   object \n",
      " 11  gross              1000 non-null   object \n",
      " 12  image_url          1000 non-null   object \n",
      "dtypes: float64(1), int64(2), object(10)\n",
      "memory usage: 101.7+ KB\n"
     ]
    }
   ],
   "source": [
    "final_df.info()"
   ]
  },
  {
   "cell_type": "code",
   "execution_count": 43,
   "id": "4501ea37",
   "metadata": {},
   "outputs": [
    {
     "data": {
      "text/plain": [
       "film_title            object\n",
       "genre                 object\n",
       "release_year           int64\n",
       "director              object\n",
       "lead_actor            object\n",
       "run_time_minutes       int64\n",
       "mpa_rating            object\n",
       "imdb_stars_rating    float64\n",
       "synopsis              object\n",
       "metascore             object\n",
       "votes                 object\n",
       "gross                 object\n",
       "image_url             object\n",
       "dtype: object"
      ]
     },
     "execution_count": 43,
     "metadata": {},
     "output_type": "execute_result"
    }
   ],
   "source": [
    "final_df.dtypes"
   ]
  },
  {
   "cell_type": "code",
   "execution_count": 44,
   "id": "e3f9bc15",
   "metadata": {},
   "outputs": [
    {
     "data": {
      "text/plain": [
       "dtype('O')"
      ]
     },
     "execution_count": 44,
     "metadata": {},
     "output_type": "execute_result"
    }
   ],
   "source": [
    "final_df['mpa_rating'].dtypes"
   ]
  },
  {
   "cell_type": "code",
   "execution_count": 45,
   "id": "3b5d59ca",
   "metadata": {},
   "outputs": [],
   "source": [
    "# df['col_name'] = df['col_name'].str.strip('[]')\n",
    "# final_df['mpa_rating'] = final_df['mpa_rating'].str.strip('[]')"
   ]
  },
  {
   "cell_type": "code",
   "execution_count": 46,
   "id": "b53d5547",
   "metadata": {},
   "outputs": [
    {
     "data": {
      "text/html": [
       "<div>\n",
       "<style scoped>\n",
       "    .dataframe tbody tr th:only-of-type {\n",
       "        vertical-align: middle;\n",
       "    }\n",
       "\n",
       "    .dataframe tbody tr th {\n",
       "        vertical-align: top;\n",
       "    }\n",
       "\n",
       "    .dataframe thead th {\n",
       "        text-align: right;\n",
       "    }\n",
       "</style>\n",
       "<table border=\"1\" class=\"dataframe\">\n",
       "  <thead>\n",
       "    <tr style=\"text-align: right;\">\n",
       "      <th></th>\n",
       "      <th>film_title</th>\n",
       "      <th>genre</th>\n",
       "      <th>release_year</th>\n",
       "      <th>director</th>\n",
       "      <th>lead_actor</th>\n",
       "      <th>run_time_minutes</th>\n",
       "      <th>mpa_rating</th>\n",
       "      <th>imdb_stars_rating</th>\n",
       "      <th>synopsis</th>\n",
       "      <th>metascore</th>\n",
       "      <th>votes</th>\n",
       "      <th>gross</th>\n",
       "      <th>image_url</th>\n",
       "    </tr>\n",
       "  </thead>\n",
       "  <tbody>\n",
       "    <tr>\n",
       "      <th>0</th>\n",
       "      <td>The Shawshank Redemption</td>\n",
       "      <td>Drama</td>\n",
       "      <td>1994</td>\n",
       "      <td>Frank Darabont</td>\n",
       "      <td>Tim Robbins</td>\n",
       "      <td>142</td>\n",
       "      <td>R</td>\n",
       "      <td>9.0</td>\n",
       "      <td>Over the course of several years, two convict...</td>\n",
       "      <td>81</td>\n",
       "      <td>2,690,086</td>\n",
       "      <td>28.34</td>\n",
       "      <td>https://m.media-amazon.com/images/M/MV5BMDFkYT...</td>\n",
       "    </tr>\n",
       "    <tr>\n",
       "      <th>1</th>\n",
       "      <td>The Godfather</td>\n",
       "      <td>Crime, Drama</td>\n",
       "      <td>1972</td>\n",
       "      <td>Francis Ford Coppola</td>\n",
       "      <td>Marlon Brando</td>\n",
       "      <td>175</td>\n",
       "      <td>R</td>\n",
       "      <td>9.0</td>\n",
       "      <td>The aging patriarch of an organized crime dyn...</td>\n",
       "      <td>100</td>\n",
       "      <td>1,865,892</td>\n",
       "      <td>134.97</td>\n",
       "      <td>https://m.media-amazon.com/images/M/MV5BM2MyNj...</td>\n",
       "    </tr>\n",
       "    <tr>\n",
       "      <th>2</th>\n",
       "      <td>The Dark Knight</td>\n",
       "      <td>Action, Crime, Drama</td>\n",
       "      <td>2008</td>\n",
       "      <td>Christopher Nolan</td>\n",
       "      <td>Christian Bale</td>\n",
       "      <td>152</td>\n",
       "      <td>PG-13</td>\n",
       "      <td>9.0</td>\n",
       "      <td>When the menace known as the Joker wreaks hav...</td>\n",
       "      <td>84</td>\n",
       "      <td>2,663,660</td>\n",
       "      <td>534.86</td>\n",
       "      <td>https://m.media-amazon.com/images/M/MV5BMTMxNT...</td>\n",
       "    </tr>\n",
       "    <tr>\n",
       "      <th>3</th>\n",
       "      <td>Schindler's List</td>\n",
       "      <td>Biography, Drama, History</td>\n",
       "      <td>1993</td>\n",
       "      <td>Steven Spielberg</td>\n",
       "      <td>Liam Neeson</td>\n",
       "      <td>195</td>\n",
       "      <td>R</td>\n",
       "      <td>9.0</td>\n",
       "      <td>In German-occupied Poland during World War II...</td>\n",
       "      <td>94</td>\n",
       "      <td>1,360,534</td>\n",
       "      <td>96.90</td>\n",
       "      <td>https://m.media-amazon.com/images/M/MV5BNDE4OT...</td>\n",
       "    </tr>\n",
       "    <tr>\n",
       "      <th>4</th>\n",
       "      <td>The Godfather: Part II</td>\n",
       "      <td>Crime, Drama</td>\n",
       "      <td>1974</td>\n",
       "      <td>Francis Ford Coppola</td>\n",
       "      <td>Al Pacino</td>\n",
       "      <td>202</td>\n",
       "      <td>R</td>\n",
       "      <td>9.0</td>\n",
       "      <td>The early life and career of Vito Corleone in...</td>\n",
       "      <td>90</td>\n",
       "      <td>1,276,317</td>\n",
       "      <td>57.30</td>\n",
       "      <td>https://m.media-amazon.com/images/M/MV5BMWMwMG...</td>\n",
       "    </tr>\n",
       "  </tbody>\n",
       "</table>\n",
       "</div>"
      ],
      "text/plain": [
       "                 film_title                                   genre  \\\n",
       "0  The Shawshank Redemption                       Drama               \n",
       "1             The Godfather                Crime, Drama               \n",
       "2           The Dark Knight        Action, Crime, Drama               \n",
       "3          Schindler's List   Biography, Drama, History               \n",
       "4    The Godfather: Part II                Crime, Drama               \n",
       "\n",
       "   release_year              director      lead_actor  run_time_minutes  \\\n",
       "0          1994        Frank Darabont     Tim Robbins               142   \n",
       "1          1972  Francis Ford Coppola   Marlon Brando               175   \n",
       "2          2008     Christopher Nolan  Christian Bale               152   \n",
       "3          1993      Steven Spielberg     Liam Neeson               195   \n",
       "4          1974  Francis Ford Coppola       Al Pacino               202   \n",
       "\n",
       "  mpa_rating  imdb_stars_rating  \\\n",
       "0          R                9.0   \n",
       "1          R                9.0   \n",
       "2      PG-13                9.0   \n",
       "3          R                9.0   \n",
       "4          R                9.0   \n",
       "\n",
       "                                            synopsis    metascore      votes  \\\n",
       "0   Over the course of several years, two convict...   81          2,690,086   \n",
       "1   The aging patriarch of an organized crime dyn...  100          1,865,892   \n",
       "2   When the menace known as the Joker wreaks hav...   84          2,663,660   \n",
       "3   In German-occupied Poland during World War II...   94          1,360,534   \n",
       "4   The early life and career of Vito Corleone in...   90          1,276,317   \n",
       "\n",
       "    gross                                          image_url  \n",
       "0   28.34  https://m.media-amazon.com/images/M/MV5BMDFkYT...  \n",
       "1  134.97  https://m.media-amazon.com/images/M/MV5BM2MyNj...  \n",
       "2  534.86  https://m.media-amazon.com/images/M/MV5BMTMxNT...  \n",
       "3   96.90  https://m.media-amazon.com/images/M/MV5BNDE4OT...  \n",
       "4   57.30  https://m.media-amazon.com/images/M/MV5BMWMwMG...  "
      ]
     },
     "execution_count": 46,
     "metadata": {},
     "output_type": "execute_result"
    }
   ],
   "source": [
    "# gross column: left strip $ and right strip M \n",
    "final_df['gross'] = final_df['gross'].map(lambda x: x.lstrip('$').rstrip('M'))\n",
    "# convert gross to float and if there are dashes turn it into NaN\n",
    "final_df['gross'] = pd.to_numeric(final_df['gross'], errors='coerce')\n",
    "final_df.head(5)"
   ]
  },
  {
   "cell_type": "code",
   "execution_count": 47,
   "id": "6a3ade13",
   "metadata": {},
   "outputs": [
    {
     "data": {
      "text/plain": [
       "film_title            object\n",
       "genre                 object\n",
       "release_year           int64\n",
       "director              object\n",
       "lead_actor            object\n",
       "run_time_minutes       int64\n",
       "mpa_rating            object\n",
       "imdb_stars_rating    float64\n",
       "synopsis              object\n",
       "metascore             object\n",
       "votes                 object\n",
       "gross                float64\n",
       "image_url             object\n",
       "dtype: object"
      ]
     },
     "execution_count": 47,
     "metadata": {},
     "output_type": "execute_result"
    }
   ],
   "source": [
    "final_df.dtypes"
   ]
  },
  {
   "cell_type": "code",
   "execution_count": 48,
   "id": "a00588de",
   "metadata": {},
   "outputs": [],
   "source": [
    "# convert 'metascore' to numeric \n",
    "final_df['metascore'] = final_df['metascore'].str.extract('(\\d+)')\n",
    "# convert to float and if there are dashes turn it into NaN\n",
    "final_df['metascore'] = pd.to_numeric(final_df['metascore'], errors='coerce')"
   ]
  },
  {
   "cell_type": "code",
   "execution_count": 49,
   "id": "4a85a624",
   "metadata": {},
   "outputs": [
    {
     "data": {
      "text/html": [
       "<div>\n",
       "<style scoped>\n",
       "    .dataframe tbody tr th:only-of-type {\n",
       "        vertical-align: middle;\n",
       "    }\n",
       "\n",
       "    .dataframe tbody tr th {\n",
       "        vertical-align: top;\n",
       "    }\n",
       "\n",
       "    .dataframe thead th {\n",
       "        text-align: right;\n",
       "    }\n",
       "</style>\n",
       "<table border=\"1\" class=\"dataframe\">\n",
       "  <thead>\n",
       "    <tr style=\"text-align: right;\">\n",
       "      <th></th>\n",
       "      <th>film_title</th>\n",
       "      <th>genre</th>\n",
       "      <th>release_year</th>\n",
       "      <th>director</th>\n",
       "      <th>lead_actor</th>\n",
       "      <th>run_time_minutes</th>\n",
       "      <th>mpa_rating</th>\n",
       "      <th>imdb_stars_rating</th>\n",
       "      <th>synopsis</th>\n",
       "      <th>metascore</th>\n",
       "      <th>votes</th>\n",
       "      <th>gross</th>\n",
       "      <th>image_url</th>\n",
       "    </tr>\n",
       "  </thead>\n",
       "  <tbody>\n",
       "    <tr>\n",
       "      <th>0</th>\n",
       "      <td>The Shawshank Redemption</td>\n",
       "      <td>Drama</td>\n",
       "      <td>1994</td>\n",
       "      <td>Frank Darabont</td>\n",
       "      <td>Tim Robbins</td>\n",
       "      <td>142</td>\n",
       "      <td>R</td>\n",
       "      <td>9.0</td>\n",
       "      <td>Over the course of several years, two convict...</td>\n",
       "      <td>81.0</td>\n",
       "      <td>2690086</td>\n",
       "      <td>28.34</td>\n",
       "      <td>https://m.media-amazon.com/images/M/MV5BMDFkYT...</td>\n",
       "    </tr>\n",
       "    <tr>\n",
       "      <th>1</th>\n",
       "      <td>The Godfather</td>\n",
       "      <td>Crime, Drama</td>\n",
       "      <td>1972</td>\n",
       "      <td>Francis Ford Coppola</td>\n",
       "      <td>Marlon Brando</td>\n",
       "      <td>175</td>\n",
       "      <td>R</td>\n",
       "      <td>9.0</td>\n",
       "      <td>The aging patriarch of an organized crime dyn...</td>\n",
       "      <td>100.0</td>\n",
       "      <td>1865892</td>\n",
       "      <td>134.97</td>\n",
       "      <td>https://m.media-amazon.com/images/M/MV5BM2MyNj...</td>\n",
       "    </tr>\n",
       "    <tr>\n",
       "      <th>2</th>\n",
       "      <td>The Dark Knight</td>\n",
       "      <td>Action, Crime, Drama</td>\n",
       "      <td>2008</td>\n",
       "      <td>Christopher Nolan</td>\n",
       "      <td>Christian Bale</td>\n",
       "      <td>152</td>\n",
       "      <td>PG-13</td>\n",
       "      <td>9.0</td>\n",
       "      <td>When the menace known as the Joker wreaks hav...</td>\n",
       "      <td>84.0</td>\n",
       "      <td>2663660</td>\n",
       "      <td>534.86</td>\n",
       "      <td>https://m.media-amazon.com/images/M/MV5BMTMxNT...</td>\n",
       "    </tr>\n",
       "    <tr>\n",
       "      <th>3</th>\n",
       "      <td>Schindler's List</td>\n",
       "      <td>Biography, Drama, History</td>\n",
       "      <td>1993</td>\n",
       "      <td>Steven Spielberg</td>\n",
       "      <td>Liam Neeson</td>\n",
       "      <td>195</td>\n",
       "      <td>R</td>\n",
       "      <td>9.0</td>\n",
       "      <td>In German-occupied Poland during World War II...</td>\n",
       "      <td>94.0</td>\n",
       "      <td>1360534</td>\n",
       "      <td>96.90</td>\n",
       "      <td>https://m.media-amazon.com/images/M/MV5BNDE4OT...</td>\n",
       "    </tr>\n",
       "    <tr>\n",
       "      <th>4</th>\n",
       "      <td>The Godfather: Part II</td>\n",
       "      <td>Crime, Drama</td>\n",
       "      <td>1974</td>\n",
       "      <td>Francis Ford Coppola</td>\n",
       "      <td>Al Pacino</td>\n",
       "      <td>202</td>\n",
       "      <td>R</td>\n",
       "      <td>9.0</td>\n",
       "      <td>The early life and career of Vito Corleone in...</td>\n",
       "      <td>90.0</td>\n",
       "      <td>1276317</td>\n",
       "      <td>57.30</td>\n",
       "      <td>https://m.media-amazon.com/images/M/MV5BMWMwMG...</td>\n",
       "    </tr>\n",
       "    <tr>\n",
       "      <th>5</th>\n",
       "      <td>12 Angry Men</td>\n",
       "      <td>Crime, Drama</td>\n",
       "      <td>1957</td>\n",
       "      <td>Sidney Lumet</td>\n",
       "      <td>Henry Fonda</td>\n",
       "      <td>96</td>\n",
       "      <td>Approved</td>\n",
       "      <td>9.0</td>\n",
       "      <td>The jury in a New York City murder trial is f...</td>\n",
       "      <td>96.0</td>\n",
       "      <td>794725</td>\n",
       "      <td>4.36</td>\n",
       "      <td>https://m.media-amazon.com/images/M/MV5BMWU4N2...</td>\n",
       "    </tr>\n",
       "    <tr>\n",
       "      <th>6</th>\n",
       "      <td>The Lord of the Rings: The Return of the King</td>\n",
       "      <td>Action, Adventure, Drama</td>\n",
       "      <td>2003</td>\n",
       "      <td>Peter Jackson</td>\n",
       "      <td>Elijah Wood</td>\n",
       "      <td>201</td>\n",
       "      <td>PG-13</td>\n",
       "      <td>9.0</td>\n",
       "      <td>Gandalf and Aragorn lead the World of Men aga...</td>\n",
       "      <td>94.0</td>\n",
       "      <td>1853324</td>\n",
       "      <td>377.85</td>\n",
       "      <td>https://m.media-amazon.com/images/M/MV5BNzA5ZD...</td>\n",
       "    </tr>\n",
       "    <tr>\n",
       "      <th>7</th>\n",
       "      <td>Pulp Fiction</td>\n",
       "      <td>Crime, Drama</td>\n",
       "      <td>1994</td>\n",
       "      <td>Quentin Tarantino</td>\n",
       "      <td>John Travolta</td>\n",
       "      <td>154</td>\n",
       "      <td>R</td>\n",
       "      <td>8.0</td>\n",
       "      <td>The lives of two mob hitmen, a boxer, a gangs...</td>\n",
       "      <td>94.0</td>\n",
       "      <td>2064377</td>\n",
       "      <td>107.93</td>\n",
       "      <td>https://m.media-amazon.com/images/M/MV5BNGNhMD...</td>\n",
       "    </tr>\n",
       "    <tr>\n",
       "      <th>8</th>\n",
       "      <td>777 Charlie</td>\n",
       "      <td>Adventure, Comedy, Drama</td>\n",
       "      <td>2022</td>\n",
       "      <td>Kiranraj K</td>\n",
       "      <td>Rakshit Shetty</td>\n",
       "      <td>164</td>\n",
       "      <td>unknown</td>\n",
       "      <td>8.0</td>\n",
       "      <td>Dharma is stuck in a rut with his negative an...</td>\n",
       "      <td>NaN</td>\n",
       "      <td>32702</td>\n",
       "      <td>NaN</td>\n",
       "      <td>https://m.media-amazon.com/images/M/MV5BMDhhMj...</td>\n",
       "    </tr>\n",
       "    <tr>\n",
       "      <th>9</th>\n",
       "      <td>Inception</td>\n",
       "      <td>Action, Adventure, Sci-Fi</td>\n",
       "      <td>2010</td>\n",
       "      <td>Christopher Nolan</td>\n",
       "      <td>Leonardo DiCaprio</td>\n",
       "      <td>148</td>\n",
       "      <td>PG-13</td>\n",
       "      <td>8.0</td>\n",
       "      <td>A thief who steals corporate secrets through ...</td>\n",
       "      <td>74.0</td>\n",
       "      <td>2362710</td>\n",
       "      <td>292.58</td>\n",
       "      <td>https://m.media-amazon.com/images/M/MV5BMjAxMz...</td>\n",
       "    </tr>\n",
       "    <tr>\n",
       "      <th>10</th>\n",
       "      <td>Fight Club</td>\n",
       "      <td>Drama</td>\n",
       "      <td>1999</td>\n",
       "      <td>David Fincher</td>\n",
       "      <td>Brad Pitt</td>\n",
       "      <td>139</td>\n",
       "      <td>R</td>\n",
       "      <td>8.0</td>\n",
       "      <td>An insomniac office worker and a devil-may-ca...</td>\n",
       "      <td>66.0</td>\n",
       "      <td>2135601</td>\n",
       "      <td>37.03</td>\n",
       "      <td>https://m.media-amazon.com/images/M/MV5BNDIzND...</td>\n",
       "    </tr>\n",
       "    <tr>\n",
       "      <th>11</th>\n",
       "      <td>The Lord of the Rings: The Fellowship of the Ring</td>\n",
       "      <td>Action, Adventure, Drama</td>\n",
       "      <td>2001</td>\n",
       "      <td>Peter Jackson</td>\n",
       "      <td>Elijah Wood</td>\n",
       "      <td>178</td>\n",
       "      <td>PG-13</td>\n",
       "      <td>8.0</td>\n",
       "      <td>A meek Hobbit from the Shire and eight compan...</td>\n",
       "      <td>92.0</td>\n",
       "      <td>1882894</td>\n",
       "      <td>315.54</td>\n",
       "      <td>https://m.media-amazon.com/images/M/MV5BN2EyZj...</td>\n",
       "    </tr>\n",
       "    <tr>\n",
       "      <th>12</th>\n",
       "      <td>Forrest Gump</td>\n",
       "      <td>Drama, Romance</td>\n",
       "      <td>1994</td>\n",
       "      <td>Robert Zemeckis</td>\n",
       "      <td>Tom Hanks</td>\n",
       "      <td>142</td>\n",
       "      <td>PG-13</td>\n",
       "      <td>8.0</td>\n",
       "      <td>The presidencies of Kennedy and Johnson, the ...</td>\n",
       "      <td>82.0</td>\n",
       "      <td>2088608</td>\n",
       "      <td>330.25</td>\n",
       "      <td>https://m.media-amazon.com/images/M/MV5BNWIwOD...</td>\n",
       "    </tr>\n",
       "    <tr>\n",
       "      <th>13</th>\n",
       "      <td>The Good, the Bad and the Ugly</td>\n",
       "      <td>Adventure, Western</td>\n",
       "      <td>1966</td>\n",
       "      <td>Sergio Leone</td>\n",
       "      <td>Clint Eastwood</td>\n",
       "      <td>178</td>\n",
       "      <td>Approved</td>\n",
       "      <td>8.0</td>\n",
       "      <td>A bounty hunting scam joins two men in an une...</td>\n",
       "      <td>90.0</td>\n",
       "      <td>765222</td>\n",
       "      <td>6.10</td>\n",
       "      <td>https://m.media-amazon.com/images/M/MV5BNjJlYm...</td>\n",
       "    </tr>\n",
       "    <tr>\n",
       "      <th>14</th>\n",
       "      <td>The Lord of the Rings: The Two Towers</td>\n",
       "      <td>Action, Adventure, Drama</td>\n",
       "      <td>2002</td>\n",
       "      <td>Peter Jackson</td>\n",
       "      <td>Elijah Wood</td>\n",
       "      <td>179</td>\n",
       "      <td>PG-13</td>\n",
       "      <td>8.0</td>\n",
       "      <td>While Frodo and Sam edge closer to Mordor wit...</td>\n",
       "      <td>87.0</td>\n",
       "      <td>1673595</td>\n",
       "      <td>342.55</td>\n",
       "      <td>https://m.media-amazon.com/images/M/MV5BZGMxZT...</td>\n",
       "    </tr>\n",
       "    <tr>\n",
       "      <th>15</th>\n",
       "      <td>Jai Bhim</td>\n",
       "      <td>Crime, Drama, Mystery</td>\n",
       "      <td>2021</td>\n",
       "      <td>T.J. Gnanavel</td>\n",
       "      <td>Suriya</td>\n",
       "      <td>164</td>\n",
       "      <td>TV-MA</td>\n",
       "      <td>8.0</td>\n",
       "      <td>When a tribal man is arrested for a case of a...</td>\n",
       "      <td>NaN</td>\n",
       "      <td>203333</td>\n",
       "      <td>NaN</td>\n",
       "      <td>https://m.media-amazon.com/images/M/MV5BOTM0NW...</td>\n",
       "    </tr>\n",
       "    <tr>\n",
       "      <th>16</th>\n",
       "      <td>Rocketry: The Nambi Effect</td>\n",
       "      <td>Biography, Drama</td>\n",
       "      <td>2022</td>\n",
       "      <td>Madhavan</td>\n",
       "      <td>Madhavan</td>\n",
       "      <td>157</td>\n",
       "      <td>unknown</td>\n",
       "      <td>8.0</td>\n",
       "      <td>Based on the life of Indian Space Research Or...</td>\n",
       "      <td>NaN</td>\n",
       "      <td>51391</td>\n",
       "      <td>NaN</td>\n",
       "      <td>https://m.media-amazon.com/images/M/MV5BNTk2Mj...</td>\n",
       "    </tr>\n",
       "    <tr>\n",
       "      <th>17</th>\n",
       "      <td>Goodfellas</td>\n",
       "      <td>Biography, Crime, Drama</td>\n",
       "      <td>1990</td>\n",
       "      <td>Martin Scorsese</td>\n",
       "      <td>Robert De Niro</td>\n",
       "      <td>145</td>\n",
       "      <td>R</td>\n",
       "      <td>8.0</td>\n",
       "      <td>The story of Henry Hill and his life in the m...</td>\n",
       "      <td>91.0</td>\n",
       "      <td>1167159</td>\n",
       "      <td>46.84</td>\n",
       "      <td>https://m.media-amazon.com/images/M/MV5BY2NkZj...</td>\n",
       "    </tr>\n",
       "    <tr>\n",
       "      <th>18</th>\n",
       "      <td>The Matrix</td>\n",
       "      <td>Action, Sci-Fi</td>\n",
       "      <td>1999</td>\n",
       "      <td>Lana Wachowski</td>\n",
       "      <td>Lilly Wachowski</td>\n",
       "      <td>136</td>\n",
       "      <td>R</td>\n",
       "      <td>8.0</td>\n",
       "      <td>When a beautiful stranger leads computer hack...</td>\n",
       "      <td>73.0</td>\n",
       "      <td>1920546</td>\n",
       "      <td>171.48</td>\n",
       "      <td>https://m.media-amazon.com/images/M/MV5BNzQzOT...</td>\n",
       "    </tr>\n",
       "    <tr>\n",
       "      <th>19</th>\n",
       "      <td>One Flew Over the Cuckoo's Nest</td>\n",
       "      <td>Drama</td>\n",
       "      <td>1975</td>\n",
       "      <td>Milos Forman</td>\n",
       "      <td>Jack Nicholson</td>\n",
       "      <td>133</td>\n",
       "      <td>18+</td>\n",
       "      <td>8.0</td>\n",
       "      <td>In the Fall of 1963, a Korean War veteran and...</td>\n",
       "      <td>84.0</td>\n",
       "      <td>1011848</td>\n",
       "      <td>112.00</td>\n",
       "      <td>https://m.media-amazon.com/images/M/MV5BZjA0OW...</td>\n",
       "    </tr>\n",
       "    <tr>\n",
       "      <th>20</th>\n",
       "      <td>Star Wars: Episode V - The Empire Strikes Back</td>\n",
       "      <td>Action, Adventure, Fantasy</td>\n",
       "      <td>1980</td>\n",
       "      <td>Irvin Kershner</td>\n",
       "      <td>Mark Hamill</td>\n",
       "      <td>124</td>\n",
       "      <td>PG</td>\n",
       "      <td>8.0</td>\n",
       "      <td>After the Rebels are brutally overpowered by ...</td>\n",
       "      <td>82.0</td>\n",
       "      <td>1297690</td>\n",
       "      <td>290.48</td>\n",
       "      <td>https://m.media-amazon.com/images/M/MV5BYmU1ND...</td>\n",
       "    </tr>\n",
       "    <tr>\n",
       "      <th>21</th>\n",
       "      <td>Soorarai Pottru</td>\n",
       "      <td>Adventure, Drama</td>\n",
       "      <td>2020</td>\n",
       "      <td>Sudha Kongara</td>\n",
       "      <td>Suriya</td>\n",
       "      <td>153</td>\n",
       "      <td>TV-MA</td>\n",
       "      <td>8.0</td>\n",
       "      <td>Nedumaaran Rajangam \"Maara\" sets out to make ...</td>\n",
       "      <td>NaN</td>\n",
       "      <td>117698</td>\n",
       "      <td>NaN</td>\n",
       "      <td>https://m.media-amazon.com/images/M/MV5BOGVjYm...</td>\n",
       "    </tr>\n",
       "  </tbody>\n",
       "</table>\n",
       "</div>"
      ],
      "text/plain": [
       "                                           film_title  \\\n",
       "0                            The Shawshank Redemption   \n",
       "1                                       The Godfather   \n",
       "2                                     The Dark Knight   \n",
       "3                                    Schindler's List   \n",
       "4                              The Godfather: Part II   \n",
       "5                                        12 Angry Men   \n",
       "6       The Lord of the Rings: The Return of the King   \n",
       "7                                        Pulp Fiction   \n",
       "8                                         777 Charlie   \n",
       "9                                           Inception   \n",
       "10                                         Fight Club   \n",
       "11  The Lord of the Rings: The Fellowship of the Ring   \n",
       "12                                       Forrest Gump   \n",
       "13                     The Good, the Bad and the Ugly   \n",
       "14              The Lord of the Rings: The Two Towers   \n",
       "15                                           Jai Bhim   \n",
       "16                         Rocketry: The Nambi Effect   \n",
       "17                                         Goodfellas   \n",
       "18                                         The Matrix   \n",
       "19                    One Flew Over the Cuckoo's Nest   \n",
       "20     Star Wars: Episode V - The Empire Strikes Back   \n",
       "21                                    Soorarai Pottru   \n",
       "\n",
       "                                      genre  release_year  \\\n",
       "0                         Drama                      1994   \n",
       "1                  Crime, Drama                      1972   \n",
       "2          Action, Crime, Drama                      2008   \n",
       "3     Biography, Drama, History                      1993   \n",
       "4                  Crime, Drama                      1974   \n",
       "5                  Crime, Drama                      1957   \n",
       "6      Action, Adventure, Drama                      2003   \n",
       "7                  Crime, Drama                      1994   \n",
       "8      Adventure, Comedy, Drama                      2022   \n",
       "9     Action, Adventure, Sci-Fi                      2010   \n",
       "10                        Drama                      1999   \n",
       "11     Action, Adventure, Drama                      2001   \n",
       "12               Drama, Romance                      1994   \n",
       "13           Adventure, Western                      1966   \n",
       "14     Action, Adventure, Drama                      2002   \n",
       "15        Crime, Drama, Mystery                      2021   \n",
       "16             Biography, Drama                      2022   \n",
       "17      Biography, Crime, Drama                      1990   \n",
       "18               Action, Sci-Fi                      1999   \n",
       "19                        Drama                      1975   \n",
       "20   Action, Adventure, Fantasy                      1980   \n",
       "21             Adventure, Drama                      2020   \n",
       "\n",
       "                director         lead_actor  run_time_minutes mpa_rating  \\\n",
       "0         Frank Darabont        Tim Robbins               142          R   \n",
       "1   Francis Ford Coppola      Marlon Brando               175          R   \n",
       "2      Christopher Nolan     Christian Bale               152      PG-13   \n",
       "3       Steven Spielberg        Liam Neeson               195          R   \n",
       "4   Francis Ford Coppola          Al Pacino               202          R   \n",
       "5           Sidney Lumet        Henry Fonda                96   Approved   \n",
       "6          Peter Jackson        Elijah Wood               201      PG-13   \n",
       "7      Quentin Tarantino      John Travolta               154          R   \n",
       "8             Kiranraj K     Rakshit Shetty               164    unknown   \n",
       "9      Christopher Nolan  Leonardo DiCaprio               148      PG-13   \n",
       "10         David Fincher          Brad Pitt               139          R   \n",
       "11         Peter Jackson        Elijah Wood               178      PG-13   \n",
       "12       Robert Zemeckis          Tom Hanks               142      PG-13   \n",
       "13          Sergio Leone     Clint Eastwood               178   Approved   \n",
       "14         Peter Jackson        Elijah Wood               179      PG-13   \n",
       "15         T.J. Gnanavel             Suriya               164      TV-MA   \n",
       "16              Madhavan           Madhavan               157    unknown   \n",
       "17       Martin Scorsese     Robert De Niro               145          R   \n",
       "18        Lana Wachowski    Lilly Wachowski               136          R   \n",
       "19          Milos Forman     Jack Nicholson               133        18+   \n",
       "20        Irvin Kershner        Mark Hamill               124         PG   \n",
       "21         Sudha Kongara             Suriya               153      TV-MA   \n",
       "\n",
       "    imdb_stars_rating                                           synopsis  \\\n",
       "0                 9.0   Over the course of several years, two convict...   \n",
       "1                 9.0   The aging patriarch of an organized crime dyn...   \n",
       "2                 9.0   When the menace known as the Joker wreaks hav...   \n",
       "3                 9.0   In German-occupied Poland during World War II...   \n",
       "4                 9.0   The early life and career of Vito Corleone in...   \n",
       "5                 9.0   The jury in a New York City murder trial is f...   \n",
       "6                 9.0   Gandalf and Aragorn lead the World of Men aga...   \n",
       "7                 8.0   The lives of two mob hitmen, a boxer, a gangs...   \n",
       "8                 8.0   Dharma is stuck in a rut with his negative an...   \n",
       "9                 8.0   A thief who steals corporate secrets through ...   \n",
       "10                8.0   An insomniac office worker and a devil-may-ca...   \n",
       "11                8.0   A meek Hobbit from the Shire and eight compan...   \n",
       "12                8.0   The presidencies of Kennedy and Johnson, the ...   \n",
       "13                8.0   A bounty hunting scam joins two men in an une...   \n",
       "14                8.0   While Frodo and Sam edge closer to Mordor wit...   \n",
       "15                8.0   When a tribal man is arrested for a case of a...   \n",
       "16                8.0   Based on the life of Indian Space Research Or...   \n",
       "17                8.0   The story of Henry Hill and his life in the m...   \n",
       "18                8.0   When a beautiful stranger leads computer hack...   \n",
       "19                8.0   In the Fall of 1963, a Korean War veteran and...   \n",
       "20                8.0   After the Rebels are brutally overpowered by ...   \n",
       "21                8.0   Nedumaaran Rajangam \"Maara\" sets out to make ...   \n",
       "\n",
       "    metascore    votes   gross  \\\n",
       "0        81.0  2690086   28.34   \n",
       "1       100.0  1865892  134.97   \n",
       "2        84.0  2663660  534.86   \n",
       "3        94.0  1360534   96.90   \n",
       "4        90.0  1276317   57.30   \n",
       "5        96.0   794725    4.36   \n",
       "6        94.0  1853324  377.85   \n",
       "7        94.0  2064377  107.93   \n",
       "8         NaN    32702     NaN   \n",
       "9        74.0  2362710  292.58   \n",
       "10       66.0  2135601   37.03   \n",
       "11       92.0  1882894  315.54   \n",
       "12       82.0  2088608  330.25   \n",
       "13       90.0   765222    6.10   \n",
       "14       87.0  1673595  342.55   \n",
       "15        NaN   203333     NaN   \n",
       "16        NaN    51391     NaN   \n",
       "17       91.0  1167159   46.84   \n",
       "18       73.0  1920546  171.48   \n",
       "19       84.0  1011848  112.00   \n",
       "20       82.0  1297690  290.48   \n",
       "21        NaN   117698     NaN   \n",
       "\n",
       "                                            image_url  \n",
       "0   https://m.media-amazon.com/images/M/MV5BMDFkYT...  \n",
       "1   https://m.media-amazon.com/images/M/MV5BM2MyNj...  \n",
       "2   https://m.media-amazon.com/images/M/MV5BMTMxNT...  \n",
       "3   https://m.media-amazon.com/images/M/MV5BNDE4OT...  \n",
       "4   https://m.media-amazon.com/images/M/MV5BMWMwMG...  \n",
       "5   https://m.media-amazon.com/images/M/MV5BMWU4N2...  \n",
       "6   https://m.media-amazon.com/images/M/MV5BNzA5ZD...  \n",
       "7   https://m.media-amazon.com/images/M/MV5BNGNhMD...  \n",
       "8   https://m.media-amazon.com/images/M/MV5BMDhhMj...  \n",
       "9   https://m.media-amazon.com/images/M/MV5BMjAxMz...  \n",
       "10  https://m.media-amazon.com/images/M/MV5BNDIzND...  \n",
       "11  https://m.media-amazon.com/images/M/MV5BN2EyZj...  \n",
       "12  https://m.media-amazon.com/images/M/MV5BNWIwOD...  \n",
       "13  https://m.media-amazon.com/images/M/MV5BNjJlYm...  \n",
       "14  https://m.media-amazon.com/images/M/MV5BZGMxZT...  \n",
       "15  https://m.media-amazon.com/images/M/MV5BOTM0NW...  \n",
       "16  https://m.media-amazon.com/images/M/MV5BNTk2Mj...  \n",
       "17  https://m.media-amazon.com/images/M/MV5BY2NkZj...  \n",
       "18  https://m.media-amazon.com/images/M/MV5BNzQzOT...  \n",
       "19  https://m.media-amazon.com/images/M/MV5BZjA0OW...  \n",
       "20  https://m.media-amazon.com/images/M/MV5BYmU1ND...  \n",
       "21  https://m.media-amazon.com/images/M/MV5BOGVjYm...  "
      ]
     },
     "execution_count": 49,
     "metadata": {},
     "output_type": "execute_result"
    }
   ],
   "source": [
    "# remove commas from votes and convert votes to numeric\n",
    "final_df['votes'] = final_df['votes'].str.replace(',', '').astype(int)\n",
    "final_df.head(22)"
   ]
  },
  {
   "cell_type": "code",
   "execution_count": 50,
   "id": "67c60b27",
   "metadata": {},
   "outputs": [
    {
     "data": {
      "text/plain": [
       "film_title            object\n",
       "genre                 object\n",
       "release_year           int64\n",
       "director              object\n",
       "lead_actor            object\n",
       "run_time_minutes       int64\n",
       "mpa_rating            object\n",
       "imdb_stars_rating    float64\n",
       "synopsis              object\n",
       "metascore            float64\n",
       "votes                  int64\n",
       "gross                float64\n",
       "image_url             object\n",
       "dtype: object"
      ]
     },
     "execution_count": 50,
     "metadata": {},
     "output_type": "execute_result"
    }
   ],
   "source": [
    "final_df.dtypes"
   ]
  },
  {
   "cell_type": "code",
   "execution_count": 51,
   "id": "5f4fbd46",
   "metadata": {},
   "outputs": [
    {
     "data": {
      "text/html": [
       "<div>\n",
       "<style scoped>\n",
       "    .dataframe tbody tr th:only-of-type {\n",
       "        vertical-align: middle;\n",
       "    }\n",
       "\n",
       "    .dataframe tbody tr th {\n",
       "        vertical-align: top;\n",
       "    }\n",
       "\n",
       "    .dataframe thead th {\n",
       "        text-align: right;\n",
       "    }\n",
       "</style>\n",
       "<table border=\"1\" class=\"dataframe\">\n",
       "  <thead>\n",
       "    <tr style=\"text-align: right;\">\n",
       "      <th></th>\n",
       "      <th>film_title</th>\n",
       "      <th>genre</th>\n",
       "      <th>release_year</th>\n",
       "      <th>director</th>\n",
       "      <th>lead_actor</th>\n",
       "      <th>run_time_minutes</th>\n",
       "      <th>mpa_rating</th>\n",
       "      <th>imdb_stars_rating</th>\n",
       "      <th>synopsis</th>\n",
       "      <th>metascore</th>\n",
       "      <th>votes</th>\n",
       "      <th>gross</th>\n",
       "      <th>image_url</th>\n",
       "    </tr>\n",
       "  </thead>\n",
       "  <tbody>\n",
       "    <tr>\n",
       "      <th>0</th>\n",
       "      <td>The Shawshank Redemption</td>\n",
       "      <td>Drama</td>\n",
       "      <td>1994</td>\n",
       "      <td>Frank Darabont</td>\n",
       "      <td>Tim Robbins</td>\n",
       "      <td>142</td>\n",
       "      <td>R</td>\n",
       "      <td>9.0</td>\n",
       "      <td>Over the course of several years, two convict...</td>\n",
       "      <td>81.0</td>\n",
       "      <td>2690086</td>\n",
       "      <td>28.34</td>\n",
       "      <td>https://m.media-amazon.com/images/M/MV5BMDFkYT...</td>\n",
       "    </tr>\n",
       "    <tr>\n",
       "      <th>1</th>\n",
       "      <td>The Godfather</td>\n",
       "      <td>Crime, Drama</td>\n",
       "      <td>1972</td>\n",
       "      <td>Francis Ford Coppola</td>\n",
       "      <td>Marlon Brando</td>\n",
       "      <td>175</td>\n",
       "      <td>R</td>\n",
       "      <td>9.0</td>\n",
       "      <td>The aging patriarch of an organized crime dyn...</td>\n",
       "      <td>100.0</td>\n",
       "      <td>1865892</td>\n",
       "      <td>134.97</td>\n",
       "      <td>https://m.media-amazon.com/images/M/MV5BM2MyNj...</td>\n",
       "    </tr>\n",
       "    <tr>\n",
       "      <th>2</th>\n",
       "      <td>The Dark Knight</td>\n",
       "      <td>Action, Crime, Drama</td>\n",
       "      <td>2008</td>\n",
       "      <td>Christopher Nolan</td>\n",
       "      <td>Christian Bale</td>\n",
       "      <td>152</td>\n",
       "      <td>PG-13</td>\n",
       "      <td>9.0</td>\n",
       "      <td>When the menace known as the Joker wreaks hav...</td>\n",
       "      <td>84.0</td>\n",
       "      <td>2663660</td>\n",
       "      <td>534.86</td>\n",
       "      <td>https://m.media-amazon.com/images/M/MV5BMTMxNT...</td>\n",
       "    </tr>\n",
       "    <tr>\n",
       "      <th>3</th>\n",
       "      <td>Schindler's List</td>\n",
       "      <td>Biography, Drama, History</td>\n",
       "      <td>1993</td>\n",
       "      <td>Steven Spielberg</td>\n",
       "      <td>Liam Neeson</td>\n",
       "      <td>195</td>\n",
       "      <td>R</td>\n",
       "      <td>9.0</td>\n",
       "      <td>In German-occupied Poland during World War II...</td>\n",
       "      <td>94.0</td>\n",
       "      <td>1360534</td>\n",
       "      <td>96.90</td>\n",
       "      <td>https://m.media-amazon.com/images/M/MV5BNDE4OT...</td>\n",
       "    </tr>\n",
       "    <tr>\n",
       "      <th>4</th>\n",
       "      <td>The Godfather: Part II</td>\n",
       "      <td>Crime, Drama</td>\n",
       "      <td>1974</td>\n",
       "      <td>Francis Ford Coppola</td>\n",
       "      <td>Al Pacino</td>\n",
       "      <td>202</td>\n",
       "      <td>R</td>\n",
       "      <td>9.0</td>\n",
       "      <td>The early life and career of Vito Corleone in...</td>\n",
       "      <td>90.0</td>\n",
       "      <td>1276317</td>\n",
       "      <td>57.30</td>\n",
       "      <td>https://m.media-amazon.com/images/M/MV5BMWMwMG...</td>\n",
       "    </tr>\n",
       "  </tbody>\n",
       "</table>\n",
       "</div>"
      ],
      "text/plain": [
       "                 film_title                                   genre  \\\n",
       "0  The Shawshank Redemption                       Drama               \n",
       "1             The Godfather                Crime, Drama               \n",
       "2           The Dark Knight        Action, Crime, Drama               \n",
       "3          Schindler's List   Biography, Drama, History               \n",
       "4    The Godfather: Part II                Crime, Drama               \n",
       "\n",
       "   release_year              director      lead_actor  run_time_minutes  \\\n",
       "0          1994        Frank Darabont     Tim Robbins               142   \n",
       "1          1972  Francis Ford Coppola   Marlon Brando               175   \n",
       "2          2008     Christopher Nolan  Christian Bale               152   \n",
       "3          1993      Steven Spielberg     Liam Neeson               195   \n",
       "4          1974  Francis Ford Coppola       Al Pacino               202   \n",
       "\n",
       "  mpa_rating  imdb_stars_rating  \\\n",
       "0          R                9.0   \n",
       "1          R                9.0   \n",
       "2      PG-13                9.0   \n",
       "3          R                9.0   \n",
       "4          R                9.0   \n",
       "\n",
       "                                            synopsis  metascore    votes  \\\n",
       "0   Over the course of several years, two convict...       81.0  2690086   \n",
       "1   The aging patriarch of an organized crime dyn...      100.0  1865892   \n",
       "2   When the menace known as the Joker wreaks hav...       84.0  2663660   \n",
       "3   In German-occupied Poland during World War II...       94.0  1360534   \n",
       "4   The early life and career of Vito Corleone in...       90.0  1276317   \n",
       "\n",
       "    gross                                          image_url  \n",
       "0   28.34  https://m.media-amazon.com/images/M/MV5BMDFkYT...  \n",
       "1  134.97  https://m.media-amazon.com/images/M/MV5BM2MyNj...  \n",
       "2  534.86  https://m.media-amazon.com/images/M/MV5BMTMxNT...  \n",
       "3   96.90  https://m.media-amazon.com/images/M/MV5BNDE4OT...  \n",
       "4   57.30  https://m.media-amazon.com/images/M/MV5BMWMwMG...  "
      ]
     },
     "execution_count": 51,
     "metadata": {},
     "output_type": "execute_result"
    }
   ],
   "source": [
    "final_df.head()"
   ]
  },
  {
   "cell_type": "markdown",
   "id": "ab108cdc",
   "metadata": {},
   "source": [
    "#### Export Final Dataframe to CSV"
   ]
  },
  {
   "cell_type": "code",
   "execution_count": 52,
   "id": "af3b0183",
   "metadata": {},
   "outputs": [],
   "source": [
    "final_df.to_csv('top_imdb_movies_final_df.csv')"
   ]
  },
  {
   "cell_type": "code",
   "execution_count": 53,
   "id": "746a2cf6",
   "metadata": {},
   "outputs": [
    {
     "data": {
      "text/html": [
       "<div>\n",
       "<style scoped>\n",
       "    .dataframe tbody tr th:only-of-type {\n",
       "        vertical-align: middle;\n",
       "    }\n",
       "\n",
       "    .dataframe tbody tr th {\n",
       "        vertical-align: top;\n",
       "    }\n",
       "\n",
       "    .dataframe thead th {\n",
       "        text-align: right;\n",
       "    }\n",
       "</style>\n",
       "<table border=\"1\" class=\"dataframe\">\n",
       "  <thead>\n",
       "    <tr style=\"text-align: right;\">\n",
       "      <th></th>\n",
       "      <th>release_year</th>\n",
       "      <th>run_time_minutes</th>\n",
       "      <th>imdb_stars_rating</th>\n",
       "      <th>metascore</th>\n",
       "      <th>votes</th>\n",
       "      <th>gross</th>\n",
       "    </tr>\n",
       "  </thead>\n",
       "  <tbody>\n",
       "    <tr>\n",
       "      <th>count</th>\n",
       "      <td>1000.000000</td>\n",
       "      <td>1000.000000</td>\n",
       "      <td>1000.000000</td>\n",
       "      <td>841.000000</td>\n",
       "      <td>1.000000e+03</td>\n",
       "      <td>810.000000</td>\n",
       "    </tr>\n",
       "    <tr>\n",
       "      <th>mean</th>\n",
       "      <td>1991.478000</td>\n",
       "      <td>123.844000</td>\n",
       "      <td>7.474000</td>\n",
       "      <td>78.824019</td>\n",
       "      <td>3.096832e+05</td>\n",
       "      <td>69.230741</td>\n",
       "    </tr>\n",
       "    <tr>\n",
       "      <th>std</th>\n",
       "      <td>24.040496</td>\n",
       "      <td>28.567915</td>\n",
       "      <td>0.513408</td>\n",
       "      <td>12.012987</td>\n",
       "      <td>3.746696e+05</td>\n",
       "      <td>112.665693</td>\n",
       "    </tr>\n",
       "    <tr>\n",
       "      <th>min</th>\n",
       "      <td>1920.000000</td>\n",
       "      <td>45.000000</td>\n",
       "      <td>7.000000</td>\n",
       "      <td>28.000000</td>\n",
       "      <td>2.552200e+04</td>\n",
       "      <td>0.000000</td>\n",
       "    </tr>\n",
       "    <tr>\n",
       "      <th>25%</th>\n",
       "      <td>1975.000000</td>\n",
       "      <td>103.000000</td>\n",
       "      <td>7.000000</td>\n",
       "      <td>71.000000</td>\n",
       "      <td>5.982600e+04</td>\n",
       "      <td>3.120000</td>\n",
       "    </tr>\n",
       "    <tr>\n",
       "      <th>50%</th>\n",
       "      <td>1999.000000</td>\n",
       "      <td>120.000000</td>\n",
       "      <td>7.000000</td>\n",
       "      <td>80.000000</td>\n",
       "      <td>1.516835e+05</td>\n",
       "      <td>23.250000</td>\n",
       "    </tr>\n",
       "    <tr>\n",
       "      <th>75%</th>\n",
       "      <td>2010.250000</td>\n",
       "      <td>138.000000</td>\n",
       "      <td>8.000000</td>\n",
       "      <td>88.000000</td>\n",
       "      <td>4.289520e+05</td>\n",
       "      <td>83.310000</td>\n",
       "    </tr>\n",
       "    <tr>\n",
       "      <th>max</th>\n",
       "      <td>2022.000000</td>\n",
       "      <td>321.000000</td>\n",
       "      <td>9.000000</td>\n",
       "      <td>100.000000</td>\n",
       "      <td>2.690086e+06</td>\n",
       "      <td>936.660000</td>\n",
       "    </tr>\n",
       "  </tbody>\n",
       "</table>\n",
       "</div>"
      ],
      "text/plain": [
       "       release_year  run_time_minutes  imdb_stars_rating   metascore  \\\n",
       "count   1000.000000       1000.000000        1000.000000  841.000000   \n",
       "mean    1991.478000        123.844000           7.474000   78.824019   \n",
       "std       24.040496         28.567915           0.513408   12.012987   \n",
       "min     1920.000000         45.000000           7.000000   28.000000   \n",
       "25%     1975.000000        103.000000           7.000000   71.000000   \n",
       "50%     1999.000000        120.000000           7.000000   80.000000   \n",
       "75%     2010.250000        138.000000           8.000000   88.000000   \n",
       "max     2022.000000        321.000000           9.000000  100.000000   \n",
       "\n",
       "              votes       gross  \n",
       "count  1.000000e+03  810.000000  \n",
       "mean   3.096832e+05   69.230741  \n",
       "std    3.746696e+05  112.665693  \n",
       "min    2.552200e+04    0.000000  \n",
       "25%    5.982600e+04    3.120000  \n",
       "50%    1.516835e+05   23.250000  \n",
       "75%    4.289520e+05   83.310000  \n",
       "max    2.690086e+06  936.660000  "
      ]
     },
     "execution_count": 53,
     "metadata": {},
     "output_type": "execute_result"
    }
   ],
   "source": [
    "# summary statistics\n",
    "final_df.describe()"
   ]
  },
  {
   "cell_type": "code",
   "execution_count": 54,
   "id": "347eeec7",
   "metadata": {},
   "outputs": [
    {
     "name": "stdout",
     "output_type": "stream",
     "text": [
      "<class 'pandas.core.frame.DataFrame'>\n",
      "RangeIndex: 1000 entries, 0 to 999\n",
      "Data columns (total 13 columns):\n",
      " #   Column             Non-Null Count  Dtype  \n",
      "---  ------             --------------  -----  \n",
      " 0   film_title         1000 non-null   object \n",
      " 1   genre              1000 non-null   object \n",
      " 2   release_year       1000 non-null   int64  \n",
      " 3   director           1000 non-null   object \n",
      " 4   lead_actor         1000 non-null   object \n",
      " 5   run_time_minutes   1000 non-null   int64  \n",
      " 6   mpa_rating         1000 non-null   object \n",
      " 7   imdb_stars_rating  1000 non-null   float64\n",
      " 8   synopsis           1000 non-null   object \n",
      " 9   metascore          841 non-null    float64\n",
      " 10  votes              1000 non-null   int64  \n",
      " 11  gross              810 non-null    float64\n",
      " 12  image_url          1000 non-null   object \n",
      "dtypes: float64(3), int64(3), object(7)\n",
      "memory usage: 101.7+ KB\n"
     ]
    }
   ],
   "source": [
    "# get number of values in each column, data types\n",
    "final_df.info()"
   ]
  },
  {
   "cell_type": "markdown",
   "id": "1bf76015",
   "metadata": {},
   "source": [
    "### Visualization"
   ]
  },
  {
   "cell_type": "markdown",
   "id": "21278499",
   "metadata": {},
   "source": [
    "#### What are the correlations between the quantitative variables?"
   ]
  },
  {
   "cell_type": "code",
   "execution_count": 55,
   "id": "07175941",
   "metadata": {},
   "outputs": [
    {
     "data": {
      "image/png": "[encoded data removed]",
      "text/plain": [
       "<Figure size 432x288 with 2 Axes>"
      ]
     },
     "metadata": {
      "needs_background": "light"
     },
     "output_type": "display_data"
    }
   ],
   "source": [
    "# create a heatmap to show correlation between quantitative variables\n",
    "sns.heatmap(final_df.corr(), annot=True);"
   ]
  },
  {
   "cell_type": "markdown",
   "id": "b5fa9968",
   "metadata": {},
   "source": [
    "#### Heatmap Correlations\n",
    "The black squares in the heat map indicate that there is a negative correlation between the release year and metascore of the films in the IMDb database of the top 1000 films. A correlation coefficient of -0.37 may be considered to be a moderate negative correlation.\n",
    "\n",
    "As the release year of the films increases, the metascore of the films decreases, or as the films get older, they tend to have lower metascores. This might imply newer films are generally more positively reviewed than older films.\n",
    "\n",
    "An orange square in the heat map indicates that there is a moderate positive correlation between the votes and gross revenue of the films in the dataset. A correlation coefficient of 0.59 is considered a moderate positive correlation.\n",
    "\n",
    "This implies that as the number of votes for the films increases, the gross revenue of the films also tends to increase. This could be that films that are more popular among viewers (as measured by votes) also tend to be more financially successful. This could be an indication that films with more votes tend to have higher marketing budgets, more widespread distribution, and more favorable release dates.\n",
    "\n",
    "Other factors that could affect the relationship between votes and gross revenue could be that films with higher budgets tend to have more special effects, better known actors, and more marketing, which could drive the number of votes and revenue. "
   ]
  },
  {
   "cell_type": "code",
   "execution_count": 56,
   "id": "a1af836a",
   "metadata": {},
   "outputs": [],
   "source": [
    "corr_df = final_df.copy()\n",
    "# corr_df.head()"
   ]
  },
  {
   "cell_type": "markdown",
   "id": "3f957d43",
   "metadata": {},
   "source": [
    "#### Plot of Correlation Between Metascore and IMDb Stars Rating "
   ]
  },
  {
   "cell_type": "code",
   "execution_count": 57,
   "id": "e275fcc3",
   "metadata": {},
   "outputs": [
    {
     "data": {
      "image/png": "[encoded data removed]",
      "text/plain": [
       "<Figure size 432x288 with 1 Axes>"
      ]
     },
     "metadata": {
      "needs_background": "light"
     },
     "output_type": "display_data"
    }
   ],
   "source": [
    "# plot a graph showing the correlation between metascore and IMDb stars rating \n",
    "\n",
    "# extract the columns we need\n",
    "metascore = corr_df['metascore']\n",
    "star_rating = corr_df['imdb_stars_rating']\n",
    "\n",
    "# create the scatter plot\n",
    "plt.scatter(metascore, star_rating)\n",
    "\n",
    "# add labels and a title\n",
    "plt.xlabel('Metascore')\n",
    "plt.ylabel('IMDb Stars Rating')\n",
    "plt.title('Correlation between Metascore and IMDb Stars Rating for Top 1000 Films')\n",
    "\n",
    "# show plot\n",
    "plt.show()\n",
    "   "
   ]
  },
  {
   "cell_type": "code",
   "execution_count": 58,
   "id": "5164d3eb",
   "metadata": {},
   "outputs": [
    {
     "name": "stdout",
     "output_type": "stream",
     "text": [
      "0    7.0\n",
      "Name: imdb_stars_rating, dtype: float64\n"
     ]
    }
   ],
   "source": [
    "# find mode of the stars ratings just to confirm above scatterplot\n",
    "mode_stars_rating = corr_df['imdb_stars_rating'].mode()\n",
    "print(mode_stars_rating)"
   ]
  },
  {
   "cell_type": "markdown",
   "id": "1e0dcba6",
   "metadata": {},
   "source": [
    "### What were the release years for the top 10 films?"
   ]
  },
  {
   "cell_type": "code",
   "execution_count": 59,
   "id": "e6be1401",
   "metadata": {},
   "outputs": [
    {
     "data": {
      "image/png": "[encoded data removed]",
      "text/plain": [
       "<Figure size 1296x864 with 1 Axes>"
      ]
     },
     "metadata": {
      "needs_background": "light"
     },
     "output_type": "display_data"
    }
   ],
   "source": [
    "# get the top 10 films\n",
    "top_10_films = final_df.head(10)\n",
    "\n",
    "# extract the columns we need\n",
    "release_year = top_10_films['release_year']\n",
    "title = top_10_films['film_title']\n",
    "\n",
    "# get the range of release years\n",
    "year_range = range(min(release_year), max(release_year)+1)\n",
    "\n",
    "# set the figure size\n",
    "plt.figure(figsize=(18,12))\n",
    "\n",
    "# need to get the x-axis to show 1 through 10 instead of 0 through 10\n",
    "# because the np.arange() function starts counting at 0 by default\n",
    "# to change this use the np.arange(1, len(release_year) + 1)\n",
    "# and add xticks to x axis with plt.xticks(np.arange(1, len(release_year) + 1))\n",
    "\n",
    "# create the scatter plot\n",
    "plt.scatter(np.arange(1, len(release_year) + 1), release_year)\n",
    "\n",
    "# add labels and title\n",
    "plt.xlabel('Films')\n",
    "plt.ylabel('Release Year')\n",
    "plt.title('Release Years of Top 10 Films')\n",
    "plt.xticks(np.arange(1, len(release_year) + 1))\n",
    "plt.yticks(year_range)\n",
    "\n",
    "# add the title of each film as a label\n",
    "for i, txt in enumerate(title):\n",
    "    plt.annotate(txt, (i+1, release_year[i]), xytext=(0, 10), textcoords='offset points', ha='center')\n",
    "    \n",
    "plt.grid(True, linestyle='-')\n",
    "\n",
    "# show plot\n",
    "plt.show()\n"
   ]
  },
  {
   "cell_type": "code",
   "execution_count": 60,
   "id": "943b28a2",
   "metadata": {},
   "outputs": [
    {
     "data": {
      "text/html": [
       "<div>\n",
       "<style scoped>\n",
       "    .dataframe tbody tr th:only-of-type {\n",
       "        vertical-align: middle;\n",
       "    }\n",
       "\n",
       "    .dataframe tbody tr th {\n",
       "        vertical-align: top;\n",
       "    }\n",
       "\n",
       "    .dataframe thead th {\n",
       "        text-align: right;\n",
       "    }\n",
       "</style>\n",
       "<table border=\"1\" class=\"dataframe\">\n",
       "  <thead>\n",
       "    <tr style=\"text-align: right;\">\n",
       "      <th></th>\n",
       "      <th>film_title</th>\n",
       "      <th>genre</th>\n",
       "      <th>release_year</th>\n",
       "      <th>director</th>\n",
       "      <th>lead_actor</th>\n",
       "      <th>run_time_minutes</th>\n",
       "      <th>mpa_rating</th>\n",
       "      <th>imdb_stars_rating</th>\n",
       "      <th>synopsis</th>\n",
       "      <th>metascore</th>\n",
       "      <th>votes</th>\n",
       "      <th>gross</th>\n",
       "      <th>image_url</th>\n",
       "    </tr>\n",
       "  </thead>\n",
       "  <tbody>\n",
       "    <tr>\n",
       "      <th>0</th>\n",
       "      <td>The Shawshank Redemption</td>\n",
       "      <td>Drama</td>\n",
       "      <td>1994</td>\n",
       "      <td>Frank Darabont</td>\n",
       "      <td>Tim Robbins</td>\n",
       "      <td>142</td>\n",
       "      <td>R</td>\n",
       "      <td>9.0</td>\n",
       "      <td>Over the course of several years, two convict...</td>\n",
       "      <td>81.0</td>\n",
       "      <td>2690086</td>\n",
       "      <td>28.34</td>\n",
       "      <td>https://m.media-amazon.com/images/M/MV5BMDFkYT...</td>\n",
       "    </tr>\n",
       "    <tr>\n",
       "      <th>1</th>\n",
       "      <td>The Godfather</td>\n",
       "      <td>Crime, Drama</td>\n",
       "      <td>1972</td>\n",
       "      <td>Francis Ford Coppola</td>\n",
       "      <td>Marlon Brando</td>\n",
       "      <td>175</td>\n",
       "      <td>R</td>\n",
       "      <td>9.0</td>\n",
       "      <td>The aging patriarch of an organized crime dyn...</td>\n",
       "      <td>100.0</td>\n",
       "      <td>1865892</td>\n",
       "      <td>134.97</td>\n",
       "      <td>https://m.media-amazon.com/images/M/MV5BM2MyNj...</td>\n",
       "    </tr>\n",
       "    <tr>\n",
       "      <th>2</th>\n",
       "      <td>The Dark Knight</td>\n",
       "      <td>Action, Crime, Drama</td>\n",
       "      <td>2008</td>\n",
       "      <td>Christopher Nolan</td>\n",
       "      <td>Christian Bale</td>\n",
       "      <td>152</td>\n",
       "      <td>PG-13</td>\n",
       "      <td>9.0</td>\n",
       "      <td>When the menace known as the Joker wreaks hav...</td>\n",
       "      <td>84.0</td>\n",
       "      <td>2663660</td>\n",
       "      <td>534.86</td>\n",
       "      <td>https://m.media-amazon.com/images/M/MV5BMTMxNT...</td>\n",
       "    </tr>\n",
       "    <tr>\n",
       "      <th>3</th>\n",
       "      <td>Schindler's List</td>\n",
       "      <td>Biography, Drama, History</td>\n",
       "      <td>1993</td>\n",
       "      <td>Steven Spielberg</td>\n",
       "      <td>Liam Neeson</td>\n",
       "      <td>195</td>\n",
       "      <td>R</td>\n",
       "      <td>9.0</td>\n",
       "      <td>In German-occupied Poland during World War II...</td>\n",
       "      <td>94.0</td>\n",
       "      <td>1360534</td>\n",
       "      <td>96.90</td>\n",
       "      <td>https://m.media-amazon.com/images/M/MV5BNDE4OT...</td>\n",
       "    </tr>\n",
       "    <tr>\n",
       "      <th>4</th>\n",
       "      <td>The Godfather: Part II</td>\n",
       "      <td>Crime, Drama</td>\n",
       "      <td>1974</td>\n",
       "      <td>Francis Ford Coppola</td>\n",
       "      <td>Al Pacino</td>\n",
       "      <td>202</td>\n",
       "      <td>R</td>\n",
       "      <td>9.0</td>\n",
       "      <td>The early life and career of Vito Corleone in...</td>\n",
       "      <td>90.0</td>\n",
       "      <td>1276317</td>\n",
       "      <td>57.30</td>\n",
       "      <td>https://m.media-amazon.com/images/M/MV5BMWMwMG...</td>\n",
       "    </tr>\n",
       "  </tbody>\n",
       "</table>\n",
       "</div>"
      ],
      "text/plain": [
       "                 film_title                                   genre  \\\n",
       "0  The Shawshank Redemption                       Drama               \n",
       "1             The Godfather                Crime, Drama               \n",
       "2           The Dark Knight        Action, Crime, Drama               \n",
       "3          Schindler's List   Biography, Drama, History               \n",
       "4    The Godfather: Part II                Crime, Drama               \n",
       "\n",
       "   release_year              director      lead_actor  run_time_minutes  \\\n",
       "0          1994        Frank Darabont     Tim Robbins               142   \n",
       "1          1972  Francis Ford Coppola   Marlon Brando               175   \n",
       "2          2008     Christopher Nolan  Christian Bale               152   \n",
       "3          1993      Steven Spielberg     Liam Neeson               195   \n",
       "4          1974  Francis Ford Coppola       Al Pacino               202   \n",
       "\n",
       "  mpa_rating  imdb_stars_rating  \\\n",
       "0          R                9.0   \n",
       "1          R                9.0   \n",
       "2      PG-13                9.0   \n",
       "3          R                9.0   \n",
       "4          R                9.0   \n",
       "\n",
       "                                            synopsis  metascore    votes  \\\n",
       "0   Over the course of several years, two convict...       81.0  2690086   \n",
       "1   The aging patriarch of an organized crime dyn...      100.0  1865892   \n",
       "2   When the menace known as the Joker wreaks hav...       84.0  2663660   \n",
       "3   In German-occupied Poland during World War II...       94.0  1360534   \n",
       "4   The early life and career of Vito Corleone in...       90.0  1276317   \n",
       "\n",
       "    gross                                          image_url  \n",
       "0   28.34  https://m.media-amazon.com/images/M/MV5BMDFkYT...  \n",
       "1  134.97  https://m.media-amazon.com/images/M/MV5BM2MyNj...  \n",
       "2  534.86  https://m.media-amazon.com/images/M/MV5BMTMxNT...  \n",
       "3   96.90  https://m.media-amazon.com/images/M/MV5BNDE4OT...  \n",
       "4   57.30  https://m.media-amazon.com/images/M/MV5BMWMwMG...  "
      ]
     },
     "execution_count": 60,
     "metadata": {},
     "output_type": "execute_result"
    }
   ],
   "source": [
    "# newdf = df.copy()\n",
    "df = final_df.copy()\n",
    "df.head()"
   ]
  },
  {
   "cell_type": "markdown",
   "id": "888b7b08",
   "metadata": {},
   "source": [
    "### What are the top 20 films rated PG"
   ]
  },
  {
   "cell_type": "code",
   "execution_count": 61,
   "id": "2f11d443",
   "metadata": {},
   "outputs": [
    {
     "data": {
      "application/vnd.plotly.v1+json": {
       "config": {
        "plotlyServerURL": "https://plot.ly"
       },
       "data": [
        {
         "alignmentgroup": "True",
         "hovertemplate": "film_title=%{x}<br>votes=%{y}<extra></extra>",
         "legendgroup": "",
         "marker": {
          "color": "#636efa",
          "pattern": {
           "shape": ""
          }
         },
         "name": "",
         "offsetgroup": "",
         "orientation": "v",
         "showlegend": false,
         "textposition": "auto",
         "type": "bar",
         "x": [
          "Star Wars: Episode IV - A New Hope",
          "Star Wars: Episode V - The Empire Strikes Back",
          "Back to the Future",
          "The Truman Show",
          "Star Wars: Episode VI - Return of the Jedi",
          "Up",
          "Indiana Jones and the Raiders of the Lost Ark",
          "Harry Potter and the Sorcerer's Stone",
          "Spirited Away",
          "How to Train Your Dragon",
          "The Incredibles",
          "Inside Out",
          "Shrek",
          "Harry Potter and the Prisoner of Azkaban",
          "Groundhog Day",
          "Life of Pi",
          "Jaws",
          "Home Alone",
          "Rocky",
          "Casablanca"
         ],
         "xaxis": "x",
         "y": [
          1370213,
          1297690,
          1211929,
          1089278,
          1058978,
          1049416,
          971262,
          787778,
          768755,
          745359,
          743655,
          719186,
          684005,
          640860,
          636577,
          635627,
          611326,
          596366,
          581536,
          574993
         ],
         "yaxis": "y"
        }
       ],
       "layout": {
        "barmode": "relative",
        "legend": {
         "tracegroupgap": 0
        },
        "template": {
         "data": {
          "bar": [
           {
            "error_x": {
             "color": "#2a3f5f"
            },
            "error_y": {
             "color": "#2a3f5f"
            },
            "marker": {
             "line": {
              "color": "#E5ECF6",
              "width": 0.5
             },
             "pattern": {
              "fillmode": "overlay",
              "size": 10,
              "solidity": 0.2
             }
            },
            "type": "bar"
           }
          ],
          "barpolar": [
           {
            "marker": {
             "line": {
              "color": "#E5ECF6",
              "width": 0.5
             },
             "pattern": {
              "fillmode": "overlay",
              "size": 10,
              "solidity": 0.2
             }
            },
            "type": "barpolar"
           }
          ],
          "carpet": [
           {
            "aaxis": {
             "endlinecolor": "#2a3f5f",
             "gridcolor": "white",
             "linecolor": "white",
             "minorgridcolor": "white",
             "startlinecolor": "#2a3f5f"
            },
            "baxis": {
             "endlinecolor": "#2a3f5f",
             "gridcolor": "white",
             "linecolor": "white",
             "minorgridcolor": "white",
             "startlinecolor": "#2a3f5f"
            },
            "type": "carpet"
           }
          ],
          "choropleth": [
           {
            "colorbar": {
             "outlinewidth": 0,
             "ticks": ""
            },
            "type": "choropleth"
           }
          ],
          "contour": [
           {
            "colorbar": {
             "outlinewidth": 0,
             "ticks": ""
            },
            "colorscale": [
             [
              0,
              "#0d0887"
             ],
             [
              0.1111111111111111,
              "#46039f"
             ],
             [
              0.2222222222222222,
              "#7201a8"
             ],
             [
              0.3333333333333333,
              "#9c179e"
             ],
             [
              0.4444444444444444,
              "#bd3786"
             ],
             [
              0.5555555555555556,
              "#d8576b"
             ],
             [
              0.6666666666666666,
              "#ed7953"
             ],
             [
              0.7777777777777778,
              "#fb9f3a"
             ],
             [
              0.8888888888888888,
              "#fdca26"
             ],
             [
              1,
              "#f0f921"
             ]
            ],
            "type": "contour"
           }
          ],
          "contourcarpet": [
           {
            "colorbar": {
             "outlinewidth": 0,
             "ticks": ""
            },
            "type": "contourcarpet"
           }
          ],
          "heatmap": [
           {
            "colorbar": {
             "outlinewidth": 0,
             "ticks": ""
            },
            "colorscale": [
             [
              0,
              "#0d0887"
             ],
             [
              0.1111111111111111,
              "#46039f"
             ],
             [
              0.2222222222222222,
              "#7201a8"
             ],
             [
              0.3333333333333333,
              "#9c179e"
             ],
             [
              0.4444444444444444,
              "#bd3786"
             ],
             [
              0.5555555555555556,
              "#d8576b"
             ],
             [
              0.6666666666666666,
              "#ed7953"
             ],
             [
              0.7777777777777778,
              "#fb9f3a"
             ],
             [
              0.8888888888888888,
              "#fdca26"
             ],
             [
              1,
              "#f0f921"
             ]
            ],
            "type": "heatmap"
           }
          ],
          "heatmapgl": [
           {
            "colorbar": {
             "outlinewidth": 0,
             "ticks": ""
            },
            "colorscale": [
             [
              0,
              "#0d0887"
             ],
             [
              0.1111111111111111,
              "#46039f"
             ],
             [
              0.2222222222222222,
              "#7201a8"
             ],
             [
              0.3333333333333333,
              "#9c179e"
             ],
             [
              0.4444444444444444,
              "#bd3786"
             ],
             [
              0.5555555555555556,
              "#d8576b"
             ],
             [
              0.6666666666666666,
              "#ed7953"
             ],
             [
              0.7777777777777778,
              "#fb9f3a"
             ],
             [
              0.8888888888888888,
              "#fdca26"
             ],
             [
              1,
              "#f0f921"
             ]
            ],
            "type": "heatmapgl"
           }
          ],
          "histogram": [
           {
            "marker": {
             "pattern": {
              "fillmode": "overlay",
              "size": 10,
              "solidity": 0.2
             }
            },
            "type": "histogram"
           }
          ],
          "histogram2d": [
           {
            "colorbar": {
             "outlinewidth": 0,
             "ticks": ""
            },
            "colorscale": [
             [
              0,
              "#0d0887"
             ],
             [
              0.1111111111111111,
              "#46039f"
             ],
             [
              0.2222222222222222,
              "#7201a8"
             ],
             [
              0.3333333333333333,
              "#9c179e"
             ],
             [
              0.4444444444444444,
              "#bd3786"
             ],
             [
              0.5555555555555556,
              "#d8576b"
             ],
             [
              0.6666666666666666,
              "#ed7953"
             ],
             [
              0.7777777777777778,
              "#fb9f3a"
             ],
             [
              0.8888888888888888,
              "#fdca26"
             ],
             [
              1,
              "#f0f921"
             ]
            ],
            "type": "histogram2d"
           }
          ],
          "histogram2dcontour": [
           {
            "colorbar": {
             "outlinewidth": 0,
             "ticks": ""
            },
            "colorscale": [
             [
              0,
              "#0d0887"
             ],
             [
              0.1111111111111111,
              "#46039f"
             ],
             [
              0.2222222222222222,
              "#7201a8"
             ],
             [
              0.3333333333333333,
              "#9c179e"
             ],
             [
              0.4444444444444444,
              "#bd3786"
             ],
             [
              0.5555555555555556,
              "#d8576b"
             ],
             [
              0.6666666666666666,
              "#ed7953"
             ],
             [
              0.7777777777777778,
              "#fb9f3a"
             ],
             [
              0.8888888888888888,
              "#fdca26"
             ],
             [
              1,
              "#f0f921"
             ]
            ],
            "type": "histogram2dcontour"
           }
          ],
          "mesh3d": [
           {
            "colorbar": {
             "outlinewidth": 0,
             "ticks": ""
            },
            "type": "mesh3d"
           }
          ],
          "parcoords": [
           {
            "line": {
             "colorbar": {
              "outlinewidth": 0,
              "ticks": ""
             }
            },
            "type": "parcoords"
           }
          ],
          "pie": [
           {
            "automargin": true,
            "type": "pie"
           }
          ],
          "scatter": [
           {
            "fillpattern": {
             "fillmode": "overlay",
             "size": 10,
             "solidity": 0.2
            },
            "type": "scatter"
           }
          ],
          "scatter3d": [
           {
            "line": {
             "colorbar": {
              "outlinewidth": 0,
              "ticks": ""
             }
            },
            "marker": {
             "colorbar": {
              "outlinewidth": 0,
              "ticks": ""
             }
            },
            "type": "scatter3d"
           }
          ],
          "scattercarpet": [
           {
            "marker": {
             "colorbar": {
              "outlinewidth": 0,
              "ticks": ""
             }
            },
            "type": "scattercarpet"
           }
          ],
          "scattergeo": [
           {
            "marker": {
             "colorbar": {
              "outlinewidth": 0,
              "ticks": ""
             }
            },
            "type": "scattergeo"
           }
          ],
          "scattergl": [
           {
            "marker": {
             "colorbar": {
              "outlinewidth": 0,
              "ticks": ""
             }
            },
            "type": "scattergl"
           }
          ],
          "scattermapbox": [
           {
            "marker": {
             "colorbar": {
              "outlinewidth": 0,
              "ticks": ""
             }
            },
            "type": "scattermapbox"
           }
          ],
          "scatterpolar": [
           {
            "marker": {
             "colorbar": {
              "outlinewidth": 0,
              "ticks": ""
             }
            },
            "type": "scatterpolar"
           }
          ],
          "scatterpolargl": [
           {
            "marker": {
             "colorbar": {
              "outlinewidth": 0,
              "ticks": ""
             }
            },
            "type": "scatterpolargl"
           }
          ],
          "scatterternary": [
           {
            "marker": {
             "colorbar": {
              "outlinewidth": 0,
              "ticks": ""
             }
            },
            "type": "scatterternary"
           }
          ],
          "surface": [
           {
            "colorbar": {
             "outlinewidth": 0,
             "ticks": ""
            },
            "colorscale": [
             [
              0,
              "#0d0887"
             ],
             [
              0.1111111111111111,
              "#46039f"
             ],
             [
              0.2222222222222222,
              "#7201a8"
             ],
             [
              0.3333333333333333,
              "#9c179e"
             ],
             [
              0.4444444444444444,
              "#bd3786"
             ],
             [
              0.5555555555555556,
              "#d8576b"
             ],
             [
              0.6666666666666666,
              "#ed7953"
             ],
             [
              0.7777777777777778,
              "#fb9f3a"
             ],
             [
              0.8888888888888888,
              "#fdca26"
             ],
             [
              1,
              "#f0f921"
             ]
            ],
            "type": "surface"
           }
          ],
          "table": [
           {
            "cells": {
             "fill": {
              "color": "#EBF0F8"
             },
             "line": {
              "color": "white"
             }
            },
            "header": {
             "fill": {
              "color": "#C8D4E3"
             },
             "line": {
              "color": "white"
             }
            },
            "type": "table"
           }
          ]
         },
         "layout": {
          "annotationdefaults": {
           "arrowcolor": "#2a3f5f",
           "arrowhead": 0,
           "arrowwidth": 1
          },
          "autotypenumbers": "strict",
          "coloraxis": {
           "colorbar": {
            "outlinewidth": 0,
            "ticks": ""
           }
          },
          "colorscale": {
           "diverging": [
            [
             0,
             "#8e0152"
            ],
            [
             0.1,
             "#c51b7d"
            ],
            [
             0.2,
             "#de77ae"
            ],
            [
             0.3,
             "#f1b6da"
            ],
            [
             0.4,
             "#fde0ef"
            ],
            [
             0.5,
             "#f7f7f7"
            ],
            [
             0.6,
             "#e6f5d0"
            ],
            [
             0.7,
             "#b8e186"
            ],
            [
             0.8,
             "#7fbc41"
            ],
            [
             0.9,
             "#4d9221"
            ],
            [
             1,
             "#276419"
            ]
           ],
           "sequential": [
            [
             0,
             "#0d0887"
            ],
            [
             0.1111111111111111,
             "#46039f"
            ],
            [
             0.2222222222222222,
             "#7201a8"
            ],
            [
             0.3333333333333333,
             "#9c179e"
            ],
            [
             0.4444444444444444,
             "#bd3786"
            ],
            [
             0.5555555555555556,
             "#d8576b"
            ],
            [
             0.6666666666666666,
             "#ed7953"
            ],
            [
             0.7777777777777778,
             "#fb9f3a"
            ],
            [
             0.8888888888888888,
             "#fdca26"
            ],
            [
             1,
             "#f0f921"
            ]
           ],
           "sequentialminus": [
            [
             0,
             "#0d0887"
            ],
            [
             0.1111111111111111,
             "#46039f"
            ],
            [
             0.2222222222222222,
             "#7201a8"
            ],
            [
             0.3333333333333333,
             "#9c179e"
            ],
            [
             0.4444444444444444,
             "#bd3786"
            ],
            [
             0.5555555555555556,
             "#d8576b"
            ],
            [
             0.6666666666666666,
             "#ed7953"
            ],
            [
             0.7777777777777778,
             "#fb9f3a"
            ],
            [
             0.8888888888888888,
             "#fdca26"
            ],
            [
             1,
             "#f0f921"
            ]
           ]
          },
          "colorway": [
           "#636efa",
           "#EF553B",
           "#00cc96",
           "#ab63fa",
           "#FFA15A",
           "#19d3f3",
           "#FF6692",
           "#B6E880",
           "#FF97FF",
           "#FECB52"
          ],
          "font": {
           "color": "#2a3f5f"
          },
          "geo": {
           "bgcolor": "white",
           "lakecolor": "white",
           "landcolor": "#E5ECF6",
           "showlakes": true,
           "showland": true,
           "subunitcolor": "white"
          },
          "hoverlabel": {
           "align": "left"
          },
          "hovermode": "closest",
          "mapbox": {
           "style": "light"
          },
          "paper_bgcolor": "white",
          "plot_bgcolor": "#E5ECF6",
          "polar": {
           "angularaxis": {
            "gridcolor": "white",
            "linecolor": "white",
            "ticks": ""
           },
           "bgcolor": "#E5ECF6",
           "radialaxis": {
            "gridcolor": "white",
            "linecolor": "white",
            "ticks": ""
           }
          },
          "scene": {
           "xaxis": {
            "backgroundcolor": "#E5ECF6",
            "gridcolor": "white",
            "gridwidth": 2,
            "linecolor": "white",
            "showbackground": true,
            "ticks": "",
            "zerolinecolor": "white"
           },
           "yaxis": {
            "backgroundcolor": "#E5ECF6",
            "gridcolor": "white",
            "gridwidth": 2,
            "linecolor": "white",
            "showbackground": true,
            "ticks": "",
            "zerolinecolor": "white"
           },
           "zaxis": {
            "backgroundcolor": "#E5ECF6",
            "gridcolor": "white",
            "gridwidth": 2,
            "linecolor": "white",
            "showbackground": true,
            "ticks": "",
            "zerolinecolor": "white"
           }
          },
          "shapedefaults": {
           "line": {
            "color": "#2a3f5f"
           }
          },
          "ternary": {
           "aaxis": {
            "gridcolor": "white",
            "linecolor": "white",
            "ticks": ""
           },
           "baxis": {
            "gridcolor": "white",
            "linecolor": "white",
            "ticks": ""
           },
           "bgcolor": "#E5ECF6",
           "caxis": {
            "gridcolor": "white",
            "linecolor": "white",
            "ticks": ""
           }
          },
          "title": {
           "x": 0.05
          },
          "xaxis": {
           "automargin": true,
           "gridcolor": "white",
           "linecolor": "white",
           "ticks": "",
           "title": {
            "standoff": 15
           },
           "zerolinecolor": "white",
           "zerolinewidth": 2
          },
          "yaxis": {
           "automargin": true,
           "gridcolor": "white",
           "linecolor": "white",
           "ticks": "",
           "title": {
            "standoff": 15
           },
           "zerolinecolor": "white",
           "zerolinewidth": 2
          }
         }
        },
        "title": {
         "text": "Top 20 Films Rated PG"
        },
        "xaxis": {
         "anchor": "y",
         "domain": [
          0,
          1
         ],
         "title": {
          "text": "film_title"
         }
        },
        "yaxis": {
         "anchor": "x",
         "domain": [
          0,
          1
         ],
         "title": {
          "text": "votes"
         }
        }
       }
      }
     },
     "metadata": {},
     "output_type": "display_data"
    }
   ],
   "source": [
    "# plot a graph of the top 20 films rated PG with annotations over bars\n",
    "\n",
    "# filter the dataframe to only include films rated PG\n",
    "pg_df = df[df['mpa_rating'] == 'PG']\n",
    "\n",
    "# sort the dataframe by the number of votes in descending order\n",
    "pg_df = pg_df.sort_values(by='votes', ascending=False)\n",
    "\n",
    "# select the top 20 films rated PG\n",
    "pg_df = pg_df.head(20)\n",
    "\n",
    "# create a bar chart using Plotly Express\n",
    "fig = px.bar(pg_df, x='film_title', y='votes', title='Top 20 Films Rated PG')\n",
    "\n",
    "# show chart\n",
    "fig.show()\n"
   ]
  },
  {
   "cell_type": "code",
   "execution_count": 62,
   "id": "d390e05a",
   "metadata": {},
   "outputs": [
    {
     "data": {
      "text/html": [
       "<div>\n",
       "<style scoped>\n",
       "    .dataframe tbody tr th:only-of-type {\n",
       "        vertical-align: middle;\n",
       "    }\n",
       "\n",
       "    .dataframe tbody tr th {\n",
       "        vertical-align: top;\n",
       "    }\n",
       "\n",
       "    .dataframe thead th {\n",
       "        text-align: right;\n",
       "    }\n",
       "</style>\n",
       "<table border=\"1\" class=\"dataframe\">\n",
       "  <thead>\n",
       "    <tr style=\"text-align: right;\">\n",
       "      <th></th>\n",
       "      <th>film_title</th>\n",
       "      <th>genre</th>\n",
       "      <th>release_year</th>\n",
       "      <th>director</th>\n",
       "      <th>lead_actor</th>\n",
       "      <th>run_time_minutes</th>\n",
       "      <th>mpa_rating</th>\n",
       "      <th>imdb_stars_rating</th>\n",
       "      <th>synopsis</th>\n",
       "      <th>metascore</th>\n",
       "      <th>votes</th>\n",
       "      <th>gross</th>\n",
       "      <th>image_url</th>\n",
       "    </tr>\n",
       "  </thead>\n",
       "  <tbody>\n",
       "    <tr>\n",
       "      <th>27</th>\n",
       "      <td>Star Wars: Episode IV - A New Hope</td>\n",
       "      <td>Action, Adventure, Fantasy</td>\n",
       "      <td>1977</td>\n",
       "      <td>George Lucas</td>\n",
       "      <td>Mark Hamill</td>\n",
       "      <td>121</td>\n",
       "      <td>PG</td>\n",
       "      <td>8.0</td>\n",
       "      <td>Luke Skywalker joins forces with a Jedi Knigh...</td>\n",
       "      <td>90.0</td>\n",
       "      <td>1370213</td>\n",
       "      <td>322.74</td>\n",
       "      <td>https://m.media-amazon.com/images/M/MV5BOTA5Nj...</td>\n",
       "    </tr>\n",
       "    <tr>\n",
       "      <th>20</th>\n",
       "      <td>Star Wars: Episode V - The Empire Strikes Back</td>\n",
       "      <td>Action, Adventure, Fantasy</td>\n",
       "      <td>1980</td>\n",
       "      <td>Irvin Kershner</td>\n",
       "      <td>Mark Hamill</td>\n",
       "      <td>124</td>\n",
       "      <td>PG</td>\n",
       "      <td>8.0</td>\n",
       "      <td>After the Rebels are brutally overpowered by ...</td>\n",
       "      <td>82.0</td>\n",
       "      <td>1297690</td>\n",
       "      <td>290.48</td>\n",
       "      <td>https://m.media-amazon.com/images/M/MV5BYmU1ND...</td>\n",
       "    </tr>\n",
       "    <tr>\n",
       "      <th>44</th>\n",
       "      <td>Back to the Future</td>\n",
       "      <td>Adventure, Comedy, Sci-Fi</td>\n",
       "      <td>1985</td>\n",
       "      <td>Robert Zemeckis</td>\n",
       "      <td>Michael J. Fox</td>\n",
       "      <td>116</td>\n",
       "      <td>PG</td>\n",
       "      <td>8.0</td>\n",
       "      <td>Marty McFly, a 17-year-old high school studen...</td>\n",
       "      <td>87.0</td>\n",
       "      <td>1211929</td>\n",
       "      <td>210.61</td>\n",
       "      <td>https://m.media-amazon.com/images/M/MV5BZmU0M2...</td>\n",
       "    </tr>\n",
       "    <tr>\n",
       "      <th>151</th>\n",
       "      <td>The Truman Show</td>\n",
       "      <td>Comedy, Drama</td>\n",
       "      <td>1998</td>\n",
       "      <td>Peter Weir</td>\n",
       "      <td>Jim Carrey</td>\n",
       "      <td>103</td>\n",
       "      <td>PG</td>\n",
       "      <td>8.0</td>\n",
       "      <td>An insurance salesman discovers his whole lif...</td>\n",
       "      <td>90.0</td>\n",
       "      <td>1089278</td>\n",
       "      <td>125.62</td>\n",
       "      <td>https://m.media-amazon.com/images/M/MV5BMDIzOD...</td>\n",
       "    </tr>\n",
       "    <tr>\n",
       "      <th>110</th>\n",
       "      <td>Star Wars: Episode VI - Return of the Jedi</td>\n",
       "      <td>Action, Adventure, Fantasy</td>\n",
       "      <td>1983</td>\n",
       "      <td>Richard Marquand</td>\n",
       "      <td>Mark Hamill</td>\n",
       "      <td>131</td>\n",
       "      <td>PG</td>\n",
       "      <td>8.0</td>\n",
       "      <td>After a daring mission to rescue Han Solo fro...</td>\n",
       "      <td>58.0</td>\n",
       "      <td>1058978</td>\n",
       "      <td>309.13</td>\n",
       "      <td>https://m.media-amazon.com/images/M/MV5BOWZlMj...</td>\n",
       "    </tr>\n",
       "  </tbody>\n",
       "</table>\n",
       "</div>"
      ],
      "text/plain": [
       "                                         film_title  \\\n",
       "27               Star Wars: Episode IV - A New Hope   \n",
       "20   Star Wars: Episode V - The Empire Strikes Back   \n",
       "44                               Back to the Future   \n",
       "151                                 The Truman Show   \n",
       "110      Star Wars: Episode VI - Return of the Jedi   \n",
       "\n",
       "                                       genre  release_year          director  \\\n",
       "27    Action, Adventure, Fantasy                      1977      George Lucas   \n",
       "20    Action, Adventure, Fantasy                      1980    Irvin Kershner   \n",
       "44     Adventure, Comedy, Sci-Fi                      1985   Robert Zemeckis   \n",
       "151                Comedy, Drama                      1998        Peter Weir   \n",
       "110   Action, Adventure, Fantasy                      1983  Richard Marquand   \n",
       "\n",
       "         lead_actor  run_time_minutes mpa_rating  imdb_stars_rating  \\\n",
       "27      Mark Hamill               121         PG                8.0   \n",
       "20      Mark Hamill               124         PG                8.0   \n",
       "44   Michael J. Fox               116         PG                8.0   \n",
       "151      Jim Carrey               103         PG                8.0   \n",
       "110     Mark Hamill               131         PG                8.0   \n",
       "\n",
       "                                              synopsis  metascore    votes  \\\n",
       "27    Luke Skywalker joins forces with a Jedi Knigh...       90.0  1370213   \n",
       "20    After the Rebels are brutally overpowered by ...       82.0  1297690   \n",
       "44    Marty McFly, a 17-year-old high school studen...       87.0  1211929   \n",
       "151   An insurance salesman discovers his whole lif...       90.0  1089278   \n",
       "110   After a daring mission to rescue Han Solo fro...       58.0  1058978   \n",
       "\n",
       "      gross                                          image_url  \n",
       "27   322.74  https://m.media-amazon.com/images/M/MV5BOTA5Nj...  \n",
       "20   290.48  https://m.media-amazon.com/images/M/MV5BYmU1ND...  \n",
       "44   210.61  https://m.media-amazon.com/images/M/MV5BZmU0M2...  \n",
       "151  125.62  https://m.media-amazon.com/images/M/MV5BMDIzOD...  \n",
       "110  309.13  https://m.media-amazon.com/images/M/MV5BOWZlMj...  "
      ]
     },
     "execution_count": 62,
     "metadata": {},
     "output_type": "execute_result"
    }
   ],
   "source": [
    "pg_df.head()"
   ]
  },
  {
   "cell_type": "markdown",
   "id": "9e68069e",
   "metadata": {},
   "source": [
    "### What are the top 20 films rated G"
   ]
  },
  {
   "cell_type": "code",
   "execution_count": 63,
   "id": "55847a75",
   "metadata": {},
   "outputs": [
    {
     "data": {
      "application/vnd.plotly.v1+json": {
       "config": {
        "plotlyServerURL": "https://plot.ly"
       },
       "data": [
        {
         "alignmentgroup": "True",
         "hovertemplate": "film_title=%{x}<br>votes=%{y}<extra></extra>",
         "legendgroup": "",
         "marker": {
          "color": "#636efa",
          "pattern": {
           "shape": ""
          }
         },
         "name": "",
         "offsetgroup": "",
         "orientation": "v",
         "showlegend": false,
         "textposition": "auto",
         "type": "bar",
         "x": [
          "WALL·E",
          "The Lion King",
          "Finding Nemo",
          "Toy Story",
          "Monsters, Inc.",
          "Toy Story 3",
          "Ratatouille",
          "2001: A Space Odyssey",
          "Toy Story 2",
          "Beauty and the Beast",
          "Aladdin",
          "My Neighbor Totoro",
          "Mulan",
          "Hachi: A Dog's Tale",
          "Toy Story 4",
          "Singin' in the Rain",
          "Modern Times",
          "Ben-Hur",
          "The Sound of Music",
          "The Great Dictator"
         ],
         "xaxis": "x",
         "y": [
          1121304,
          1063549,
          1048871,
          998879,
          914308,
          840574,
          743918,
          673369,
          585838,
          458217,
          425072,
          343447,
          292268,
          288479,
          254439,
          245075,
          244674,
          241308,
          238901,
          225829
         ],
         "yaxis": "y"
        }
       ],
       "layout": {
        "barmode": "relative",
        "legend": {
         "tracegroupgap": 0
        },
        "template": {
         "data": {
          "bar": [
           {
            "error_x": {
             "color": "#2a3f5f"
            },
            "error_y": {
             "color": "#2a3f5f"
            },
            "marker": {
             "line": {
              "color": "#E5ECF6",
              "width": 0.5
             },
             "pattern": {
              "fillmode": "overlay",
              "size": 10,
              "solidity": 0.2
             }
            },
            "type": "bar"
           }
          ],
          "barpolar": [
           {
            "marker": {
             "line": {
              "color": "#E5ECF6",
              "width": 0.5
             },
             "pattern": {
              "fillmode": "overlay",
              "size": 10,
              "solidity": 0.2
             }
            },
            "type": "barpolar"
           }
          ],
          "carpet": [
           {
            "aaxis": {
             "endlinecolor": "#2a3f5f",
             "gridcolor": "white",
             "linecolor": "white",
             "minorgridcolor": "white",
             "startlinecolor": "#2a3f5f"
            },
            "baxis": {
             "endlinecolor": "#2a3f5f",
             "gridcolor": "white",
             "linecolor": "white",
             "minorgridcolor": "white",
             "startlinecolor": "#2a3f5f"
            },
            "type": "carpet"
           }
          ],
          "choropleth": [
           {
            "colorbar": {
             "outlinewidth": 0,
             "ticks": ""
            },
            "type": "choropleth"
           }
          ],
          "contour": [
           {
            "colorbar": {
             "outlinewidth": 0,
             "ticks": ""
            },
            "colorscale": [
             [
              0,
              "#0d0887"
             ],
             [
              0.1111111111111111,
              "#46039f"
             ],
             [
              0.2222222222222222,
              "#7201a8"
             ],
             [
              0.3333333333333333,
              "#9c179e"
             ],
             [
              0.4444444444444444,
              "#bd3786"
             ],
             [
              0.5555555555555556,
              "#d8576b"
             ],
             [
              0.6666666666666666,
              "#ed7953"
             ],
             [
              0.7777777777777778,
              "#fb9f3a"
             ],
             [
              0.8888888888888888,
              "#fdca26"
             ],
             [
              1,
              "#f0f921"
             ]
            ],
            "type": "contour"
           }
          ],
          "contourcarpet": [
           {
            "colorbar": {
             "outlinewidth": 0,
             "ticks": ""
            },
            "type": "contourcarpet"
           }
          ],
          "heatmap": [
           {
            "colorbar": {
             "outlinewidth": 0,
             "ticks": ""
            },
            "colorscale": [
             [
              0,
              "#0d0887"
             ],
             [
              0.1111111111111111,
              "#46039f"
             ],
             [
              0.2222222222222222,
              "#7201a8"
             ],
             [
              0.3333333333333333,
              "#9c179e"
             ],
             [
              0.4444444444444444,
              "#bd3786"
             ],
             [
              0.5555555555555556,
              "#d8576b"
             ],
             [
              0.6666666666666666,
              "#ed7953"
             ],
             [
              0.7777777777777778,
              "#fb9f3a"
             ],
             [
              0.8888888888888888,
              "#fdca26"
             ],
             [
              1,
              "#f0f921"
             ]
            ],
            "type": "heatmap"
           }
          ],
          "heatmapgl": [
           {
            "colorbar": {
             "outlinewidth": 0,
             "ticks": ""
            },
            "colorscale": [
             [
              0,
              "#0d0887"
             ],
             [
              0.1111111111111111,
              "#46039f"
             ],
             [
              0.2222222222222222,
              "#7201a8"
             ],
             [
              0.3333333333333333,
              "#9c179e"
             ],
             [
              0.4444444444444444,
              "#bd3786"
             ],
             [
              0.5555555555555556,
              "#d8576b"
             ],
             [
              0.6666666666666666,
              "#ed7953"
             ],
             [
              0.7777777777777778,
              "#fb9f3a"
             ],
             [
              0.8888888888888888,
              "#fdca26"
             ],
             [
              1,
              "#f0f921"
             ]
            ],
            "type": "heatmapgl"
           }
          ],
          "histogram": [
           {
            "marker": {
             "pattern": {
              "fillmode": "overlay",
              "size": 10,
              "solidity": 0.2
             }
            },
            "type": "histogram"
           }
          ],
          "histogram2d": [
           {
            "colorbar": {
             "outlinewidth": 0,
             "ticks": ""
            },
            "colorscale": [
             [
              0,
              "#0d0887"
             ],
             [
              0.1111111111111111,
              "#46039f"
             ],
             [
              0.2222222222222222,
              "#7201a8"
             ],
             [
              0.3333333333333333,
              "#9c179e"
             ],
             [
              0.4444444444444444,
              "#bd3786"
             ],
             [
              0.5555555555555556,
              "#d8576b"
             ],
             [
              0.6666666666666666,
              "#ed7953"
             ],
             [
              0.7777777777777778,
              "#fb9f3a"
             ],
             [
              0.8888888888888888,
              "#fdca26"
             ],
             [
              1,
              "#f0f921"
             ]
            ],
            "type": "histogram2d"
           }
          ],
          "histogram2dcontour": [
           {
            "colorbar": {
             "outlinewidth": 0,
             "ticks": ""
            },
            "colorscale": [
             [
              0,
              "#0d0887"
             ],
             [
              0.1111111111111111,
              "#46039f"
             ],
             [
              0.2222222222222222,
              "#7201a8"
             ],
             [
              0.3333333333333333,
              "#9c179e"
             ],
             [
              0.4444444444444444,
              "#bd3786"
             ],
             [
              0.5555555555555556,
              "#d8576b"
             ],
             [
              0.6666666666666666,
              "#ed7953"
             ],
             [
              0.7777777777777778,
              "#fb9f3a"
             ],
             [
              0.8888888888888888,
              "#fdca26"
             ],
             [
              1,
              "#f0f921"
             ]
            ],
            "type": "histogram2dcontour"
           }
          ],
          "mesh3d": [
           {
            "colorbar": {
             "outlinewidth": 0,
             "ticks": ""
            },
            "type": "mesh3d"
           }
          ],
          "parcoords": [
           {
            "line": {
             "colorbar": {
              "outlinewidth": 0,
              "ticks": ""
             }
            },
            "type": "parcoords"
           }
          ],
          "pie": [
           {
            "automargin": true,
            "type": "pie"
           }
          ],
          "scatter": [
           {
            "fillpattern": {
             "fillmode": "overlay",
             "size": 10,
             "solidity": 0.2
            },
            "type": "scatter"
           }
          ],
          "scatter3d": [
           {
            "line": {
             "colorbar": {
              "outlinewidth": 0,
              "ticks": ""
             }
            },
            "marker": {
             "colorbar": {
              "outlinewidth": 0,
              "ticks": ""
             }
            },
            "type": "scatter3d"
           }
          ],
          "scattercarpet": [
           {
            "marker": {
             "colorbar": {
              "outlinewidth": 0,
              "ticks": ""
             }
            },
            "type": "scattercarpet"
           }
          ],
          "scattergeo": [
           {
            "marker": {
             "colorbar": {
              "outlinewidth": 0,
              "ticks": ""
             }
            },
            "type": "scattergeo"
           }
          ],
          "scattergl": [
           {
            "marker": {
             "colorbar": {
              "outlinewidth": 0,
              "ticks": ""
             }
            },
            "type": "scattergl"
           }
          ],
          "scattermapbox": [
           {
            "marker": {
             "colorbar": {
              "outlinewidth": 0,
              "ticks": ""
             }
            },
            "type": "scattermapbox"
           }
          ],
          "scatterpolar": [
           {
            "marker": {
             "colorbar": {
              "outlinewidth": 0,
              "ticks": ""
             }
            },
            "type": "scatterpolar"
           }
          ],
          "scatterpolargl": [
           {
            "marker": {
             "colorbar": {
              "outlinewidth": 0,
              "ticks": ""
             }
            },
            "type": "scatterpolargl"
           }
          ],
          "scatterternary": [
           {
            "marker": {
             "colorbar": {
              "outlinewidth": 0,
              "ticks": ""
             }
            },
            "type": "scatterternary"
           }
          ],
          "surface": [
           {
            "colorbar": {
             "outlinewidth": 0,
             "ticks": ""
            },
            "colorscale": [
             [
              0,
              "#0d0887"
             ],
             [
              0.1111111111111111,
              "#46039f"
             ],
             [
              0.2222222222222222,
              "#7201a8"
             ],
             [
              0.3333333333333333,
              "#9c179e"
             ],
             [
              0.4444444444444444,
              "#bd3786"
             ],
             [
              0.5555555555555556,
              "#d8576b"
             ],
             [
              0.6666666666666666,
              "#ed7953"
             ],
             [
              0.7777777777777778,
              "#fb9f3a"
             ],
             [
              0.8888888888888888,
              "#fdca26"
             ],
             [
              1,
              "#f0f921"
             ]
            ],
            "type": "surface"
           }
          ],
          "table": [
           {
            "cells": {
             "fill": {
              "color": "#EBF0F8"
             },
             "line": {
              "color": "white"
             }
            },
            "header": {
             "fill": {
              "color": "#C8D4E3"
             },
             "line": {
              "color": "white"
             }
            },
            "type": "table"
           }
          ]
         },
         "layout": {
          "annotationdefaults": {
           "arrowcolor": "#2a3f5f",
           "arrowhead": 0,
           "arrowwidth": 1
          },
          "autotypenumbers": "strict",
          "coloraxis": {
           "colorbar": {
            "outlinewidth": 0,
            "ticks": ""
           }
          },
          "colorscale": {
           "diverging": [
            [
             0,
             "#8e0152"
            ],
            [
             0.1,
             "#c51b7d"
            ],
            [
             0.2,
             "#de77ae"
            ],
            [
             0.3,
             "#f1b6da"
            ],
            [
             0.4,
             "#fde0ef"
            ],
            [
             0.5,
             "#f7f7f7"
            ],
            [
             0.6,
             "#e6f5d0"
            ],
            [
             0.7,
             "#b8e186"
            ],
            [
             0.8,
             "#7fbc41"
            ],
            [
             0.9,
             "#4d9221"
            ],
            [
             1,
             "#276419"
            ]
           ],
           "sequential": [
            [
             0,
             "#0d0887"
            ],
            [
             0.1111111111111111,
             "#46039f"
            ],
            [
             0.2222222222222222,
             "#7201a8"
            ],
            [
             0.3333333333333333,
             "#9c179e"
            ],
            [
             0.4444444444444444,
             "#bd3786"
            ],
            [
             0.5555555555555556,
             "#d8576b"
            ],
            [
             0.6666666666666666,
             "#ed7953"
            ],
            [
             0.7777777777777778,
             "#fb9f3a"
            ],
            [
             0.8888888888888888,
             "#fdca26"
            ],
            [
             1,
             "#f0f921"
            ]
           ],
           "sequentialminus": [
            [
             0,
             "#0d0887"
            ],
            [
             0.1111111111111111,
             "#46039f"
            ],
            [
             0.2222222222222222,
             "#7201a8"
            ],
            [
             0.3333333333333333,
             "#9c179e"
            ],
            [
             0.4444444444444444,
             "#bd3786"
            ],
            [
             0.5555555555555556,
             "#d8576b"
            ],
            [
             0.6666666666666666,
             "#ed7953"
            ],
            [
             0.7777777777777778,
             "#fb9f3a"
            ],
            [
             0.8888888888888888,
             "#fdca26"
            ],
            [
             1,
             "#f0f921"
            ]
           ]
          },
          "colorway": [
           "#636efa",
           "#EF553B",
           "#00cc96",
           "#ab63fa",
           "#FFA15A",
           "#19d3f3",
           "#FF6692",
           "#B6E880",
           "#FF97FF",
           "#FECB52"
          ],
          "font": {
           "color": "#2a3f5f"
          },
          "geo": {
           "bgcolor": "white",
           "lakecolor": "white",
           "landcolor": "#E5ECF6",
           "showlakes": true,
           "showland": true,
           "subunitcolor": "white"
          },
          "hoverlabel": {
           "align": "left"
          },
          "hovermode": "closest",
          "mapbox": {
           "style": "light"
          },
          "paper_bgcolor": "white",
          "plot_bgcolor": "#E5ECF6",
          "polar": {
           "angularaxis": {
            "gridcolor": "white",
            "linecolor": "white",
            "ticks": ""
           },
           "bgcolor": "#E5ECF6",
           "radialaxis": {
            "gridcolor": "white",
            "linecolor": "white",
            "ticks": ""
           }
          },
          "scene": {
           "xaxis": {
            "backgroundcolor": "#E5ECF6",
            "gridcolor": "white",
            "gridwidth": 2,
            "linecolor": "white",
            "showbackground": true,
            "ticks": "",
            "zerolinecolor": "white"
           },
           "yaxis": {
            "backgroundcolor": "#E5ECF6",
            "gridcolor": "white",
            "gridwidth": 2,
            "linecolor": "white",
            "showbackground": true,
            "ticks": "",
            "zerolinecolor": "white"
           },
           "zaxis": {
            "backgroundcolor": "#E5ECF6",
            "gridcolor": "white",
            "gridwidth": 2,
            "linecolor": "white",
            "showbackground": true,
            "ticks": "",
            "zerolinecolor": "white"
           }
          },
          "shapedefaults": {
           "line": {
            "color": "#2a3f5f"
           }
          },
          "ternary": {
           "aaxis": {
            "gridcolor": "white",
            "linecolor": "white",
            "ticks": ""
           },
           "baxis": {
            "gridcolor": "white",
            "linecolor": "white",
            "ticks": ""
           },
           "bgcolor": "#E5ECF6",
           "caxis": {
            "gridcolor": "white",
            "linecolor": "white",
            "ticks": ""
           }
          },
          "title": {
           "x": 0.05
          },
          "xaxis": {
           "automargin": true,
           "gridcolor": "white",
           "linecolor": "white",
           "ticks": "",
           "title": {
            "standoff": 15
           },
           "zerolinecolor": "white",
           "zerolinewidth": 2
          },
          "yaxis": {
           "automargin": true,
           "gridcolor": "white",
           "linecolor": "white",
           "ticks": "",
           "title": {
            "standoff": 15
           },
           "zerolinecolor": "white",
           "zerolinewidth": 2
          }
         }
        },
        "title": {
         "text": "Top 20 Films Rated G"
        },
        "xaxis": {
         "anchor": "y",
         "domain": [
          0,
          1
         ],
         "title": {
          "text": "film_title"
         }
        },
        "yaxis": {
         "anchor": "x",
         "domain": [
          0,
          1
         ],
         "title": {
          "text": "votes"
         }
        }
       }
      }
     },
     "metadata": {},
     "output_type": "display_data"
    }
   ],
   "source": [
    "# plot a graph of the top 10 films rated G\n",
    "\n",
    "\n",
    "# filter the dataframe to only include films rated G\n",
    "g_df = df[df['mpa_rating'] == 'G']\n",
    "\n",
    "# sort the dataframe by the number of votes in descending order\n",
    "g_df = g_df.sort_values(by='votes', ascending=False)\n",
    "\n",
    "# select the top 20 films rated PG\n",
    "g_df = g_df.head(20)\n",
    "\n",
    "# create a bar chart using Plotly Express\n",
    "fig = px.bar(g_df, x='film_title', y='votes', title='Top 20 Films Rated G')\n",
    "\n",
    "# show chart\n",
    "fig.show()\n"
   ]
  },
  {
   "cell_type": "code",
   "execution_count": 64,
   "id": "9a6e10a3",
   "metadata": {},
   "outputs": [
    {
     "data": {
      "text/html": [
       "<div>\n",
       "<style scoped>\n",
       "    .dataframe tbody tr th:only-of-type {\n",
       "        vertical-align: middle;\n",
       "    }\n",
       "\n",
       "    .dataframe tbody tr th {\n",
       "        vertical-align: top;\n",
       "    }\n",
       "\n",
       "    .dataframe thead th {\n",
       "        text-align: right;\n",
       "    }\n",
       "</style>\n",
       "<table border=\"1\" class=\"dataframe\">\n",
       "  <thead>\n",
       "    <tr style=\"text-align: right;\">\n",
       "      <th></th>\n",
       "      <th>film_title</th>\n",
       "      <th>genre</th>\n",
       "      <th>release_year</th>\n",
       "      <th>director</th>\n",
       "      <th>lead_actor</th>\n",
       "      <th>run_time_minutes</th>\n",
       "      <th>mpa_rating</th>\n",
       "      <th>imdb_stars_rating</th>\n",
       "      <th>synopsis</th>\n",
       "      <th>metascore</th>\n",
       "      <th>votes</th>\n",
       "      <th>gross</th>\n",
       "      <th>image_url</th>\n",
       "    </tr>\n",
       "  </thead>\n",
       "  <tbody>\n",
       "    <tr>\n",
       "      <th>80</th>\n",
       "      <td>WALL·E</td>\n",
       "      <td>Animation, Adventure, Family</td>\n",
       "      <td>2008</td>\n",
       "      <td>Andrew Stanton</td>\n",
       "      <td>Ben Burtt</td>\n",
       "      <td>98</td>\n",
       "      <td>G</td>\n",
       "      <td>8.0</td>\n",
       "      <td>In the distant future, a small waste-collecti...</td>\n",
       "      <td>95.0</td>\n",
       "      <td>1121304</td>\n",
       "      <td>223.81</td>\n",
       "      <td>https://m.media-amazon.com/images/M/MV5BMjExMT...</td>\n",
       "    </tr>\n",
       "    <tr>\n",
       "      <th>47</th>\n",
       "      <td>The Lion King</td>\n",
       "      <td>Animation, Adventure, Drama</td>\n",
       "      <td>1994</td>\n",
       "      <td>Roger Allers</td>\n",
       "      <td>Rob Minkoff</td>\n",
       "      <td>88</td>\n",
       "      <td>G</td>\n",
       "      <td>8.0</td>\n",
       "      <td>Lion prince Simba and his father are targeted...</td>\n",
       "      <td>88.0</td>\n",
       "      <td>1063549</td>\n",
       "      <td>422.78</td>\n",
       "      <td>https://m.media-amazon.com/images/M/MV5BYTYxNG...</td>\n",
       "    </tr>\n",
       "    <tr>\n",
       "      <th>157</th>\n",
       "      <td>Finding Nemo</td>\n",
       "      <td>Animation, Adventure, Comedy</td>\n",
       "      <td>2003</td>\n",
       "      <td>Andrew Stanton</td>\n",
       "      <td>Lee Unkrich</td>\n",
       "      <td>100</td>\n",
       "      <td>G</td>\n",
       "      <td>8.0</td>\n",
       "      <td>After his son is captured in the Great Barrie...</td>\n",
       "      <td>90.0</td>\n",
       "      <td>1048871</td>\n",
       "      <td>380.84</td>\n",
       "      <td>https://m.media-amazon.com/images/M/MV5BZTAzNW...</td>\n",
       "    </tr>\n",
       "    <tr>\n",
       "      <th>109</th>\n",
       "      <td>Toy Story</td>\n",
       "      <td>Animation, Adventure, Comedy</td>\n",
       "      <td>1995</td>\n",
       "      <td>John Lasseter</td>\n",
       "      <td>Tom Hanks</td>\n",
       "      <td>81</td>\n",
       "      <td>G</td>\n",
       "      <td>8.0</td>\n",
       "      <td>A cowboy doll is profoundly threatened and je...</td>\n",
       "      <td>96.0</td>\n",
       "      <td>998879</td>\n",
       "      <td>191.80</td>\n",
       "      <td>https://m.media-amazon.com/images/M/MV5BMDU2ZW...</td>\n",
       "    </tr>\n",
       "    <tr>\n",
       "      <th>246</th>\n",
       "      <td>Monsters, Inc.</td>\n",
       "      <td>Animation, Adventure, Comedy</td>\n",
       "      <td>2001</td>\n",
       "      <td>Pete Docter</td>\n",
       "      <td>David Silverman</td>\n",
       "      <td>92</td>\n",
       "      <td>G</td>\n",
       "      <td>8.0</td>\n",
       "      <td>In order to power the city, monsters have to ...</td>\n",
       "      <td>79.0</td>\n",
       "      <td>914308</td>\n",
       "      <td>289.92</td>\n",
       "      <td>https://m.media-amazon.com/images/M/MV5BMTY1NT...</td>\n",
       "    </tr>\n",
       "    <tr>\n",
       "      <th>116</th>\n",
       "      <td>Toy Story 3</td>\n",
       "      <td>Animation, Adventure, Comedy</td>\n",
       "      <td>2010</td>\n",
       "      <td>Lee Unkrich</td>\n",
       "      <td>Tom Hanks</td>\n",
       "      <td>103</td>\n",
       "      <td>G</td>\n",
       "      <td>8.0</td>\n",
       "      <td>The toys are mistakenly delivered to a day-ca...</td>\n",
       "      <td>92.0</td>\n",
       "      <td>840574</td>\n",
       "      <td>415.00</td>\n",
       "      <td>https://m.media-amazon.com/images/M/MV5BMTgxOT...</td>\n",
       "    </tr>\n",
       "    <tr>\n",
       "      <th>229</th>\n",
       "      <td>Ratatouille</td>\n",
       "      <td>Animation, Adventure, Comedy</td>\n",
       "      <td>2007</td>\n",
       "      <td>Brad Bird</td>\n",
       "      <td>Jan Pinkava</td>\n",
       "      <td>111</td>\n",
       "      <td>G</td>\n",
       "      <td>8.0</td>\n",
       "      <td>A rat who can cook makes an unusual alliance ...</td>\n",
       "      <td>96.0</td>\n",
       "      <td>743918</td>\n",
       "      <td>206.45</td>\n",
       "      <td>https://m.media-amazon.com/images/M/MV5BMTMzOD...</td>\n",
       "    </tr>\n",
       "    <tr>\n",
       "      <th>106</th>\n",
       "      <td>2001: A Space Odyssey</td>\n",
       "      <td>Adventure, Sci-Fi</td>\n",
       "      <td>1968</td>\n",
       "      <td>Stanley Kubrick</td>\n",
       "      <td>Keir Dullea</td>\n",
       "      <td>149</td>\n",
       "      <td>G</td>\n",
       "      <td>8.0</td>\n",
       "      <td>After uncovering a mysterious artifact buried...</td>\n",
       "      <td>84.0</td>\n",
       "      <td>673369</td>\n",
       "      <td>56.95</td>\n",
       "      <td>https://m.media-amazon.com/images/M/MV5BMmNlYz...</td>\n",
       "    </tr>\n",
       "    <tr>\n",
       "      <th>510</th>\n",
       "      <td>Toy Story 2</td>\n",
       "      <td>Animation, Adventure, Comedy</td>\n",
       "      <td>1999</td>\n",
       "      <td>John Lasseter</td>\n",
       "      <td>Ash Brannon</td>\n",
       "      <td>92</td>\n",
       "      <td>G</td>\n",
       "      <td>7.0</td>\n",
       "      <td>When Woody is stolen by a toy collector, Buzz...</td>\n",
       "      <td>88.0</td>\n",
       "      <td>585838</td>\n",
       "      <td>245.85</td>\n",
       "      <td>https://m.media-amazon.com/images/M/MV5BMWM5ZD...</td>\n",
       "    </tr>\n",
       "    <tr>\n",
       "      <th>361</th>\n",
       "      <td>Beauty and the Beast</td>\n",
       "      <td>Animation, Family, Fantasy</td>\n",
       "      <td>1991</td>\n",
       "      <td>Gary Trousdale</td>\n",
       "      <td>Kirk Wise</td>\n",
       "      <td>84</td>\n",
       "      <td>G</td>\n",
       "      <td>8.0</td>\n",
       "      <td>A prince cursed to spend his days as a hideou...</td>\n",
       "      <td>95.0</td>\n",
       "      <td>458217</td>\n",
       "      <td>218.97</td>\n",
       "      <td>https://m.media-amazon.com/images/M/MV5BMzE5MD...</td>\n",
       "    </tr>\n",
       "  </tbody>\n",
       "</table>\n",
       "</div>"
      ],
      "text/plain": [
       "                film_title                                      genre  \\\n",
       "80                  WALL·E   Animation, Adventure, Family               \n",
       "47           The Lion King    Animation, Adventure, Drama               \n",
       "157           Finding Nemo   Animation, Adventure, Comedy               \n",
       "109              Toy Story   Animation, Adventure, Comedy               \n",
       "246         Monsters, Inc.   Animation, Adventure, Comedy               \n",
       "116            Toy Story 3   Animation, Adventure, Comedy               \n",
       "229            Ratatouille   Animation, Adventure, Comedy               \n",
       "106  2001: A Space Odyssey              Adventure, Sci-Fi               \n",
       "510            Toy Story 2   Animation, Adventure, Comedy               \n",
       "361   Beauty and the Beast     Animation, Family, Fantasy               \n",
       "\n",
       "     release_year         director       lead_actor  run_time_minutes  \\\n",
       "80           2008   Andrew Stanton        Ben Burtt                98   \n",
       "47           1994     Roger Allers      Rob Minkoff                88   \n",
       "157          2003   Andrew Stanton      Lee Unkrich               100   \n",
       "109          1995    John Lasseter        Tom Hanks                81   \n",
       "246          2001      Pete Docter  David Silverman                92   \n",
       "116          2010      Lee Unkrich        Tom Hanks               103   \n",
       "229          2007        Brad Bird      Jan Pinkava               111   \n",
       "106          1968  Stanley Kubrick      Keir Dullea               149   \n",
       "510          1999    John Lasseter      Ash Brannon                92   \n",
       "361          1991   Gary Trousdale        Kirk Wise                84   \n",
       "\n",
       "    mpa_rating  imdb_stars_rating  \\\n",
       "80           G                8.0   \n",
       "47           G                8.0   \n",
       "157          G                8.0   \n",
       "109          G                8.0   \n",
       "246          G                8.0   \n",
       "116          G                8.0   \n",
       "229          G                8.0   \n",
       "106          G                8.0   \n",
       "510          G                7.0   \n",
       "361          G                8.0   \n",
       "\n",
       "                                              synopsis  metascore    votes  \\\n",
       "80    In the distant future, a small waste-collecti...       95.0  1121304   \n",
       "47    Lion prince Simba and his father are targeted...       88.0  1063549   \n",
       "157   After his son is captured in the Great Barrie...       90.0  1048871   \n",
       "109   A cowboy doll is profoundly threatened and je...       96.0   998879   \n",
       "246   In order to power the city, monsters have to ...       79.0   914308   \n",
       "116   The toys are mistakenly delivered to a day-ca...       92.0   840574   \n",
       "229   A rat who can cook makes an unusual alliance ...       96.0   743918   \n",
       "106   After uncovering a mysterious artifact buried...       84.0   673369   \n",
       "510   When Woody is stolen by a toy collector, Buzz...       88.0   585838   \n",
       "361   A prince cursed to spend his days as a hideou...       95.0   458217   \n",
       "\n",
       "      gross                                          image_url  \n",
       "80   223.81  https://m.media-amazon.com/images/M/MV5BMjExMT...  \n",
       "47   422.78  https://m.media-amazon.com/images/M/MV5BYTYxNG...  \n",
       "157  380.84  https://m.media-amazon.com/images/M/MV5BZTAzNW...  \n",
       "109  191.80  https://m.media-amazon.com/images/M/MV5BMDU2ZW...  \n",
       "246  289.92  https://m.media-amazon.com/images/M/MV5BMTY1NT...  \n",
       "116  415.00  https://m.media-amazon.com/images/M/MV5BMTgxOT...  \n",
       "229  206.45  https://m.media-amazon.com/images/M/MV5BMTMzOD...  \n",
       "106   56.95  https://m.media-amazon.com/images/M/MV5BMmNlYz...  \n",
       "510  245.85  https://m.media-amazon.com/images/M/MV5BMWM5ZD...  \n",
       "361  218.97  https://m.media-amazon.com/images/M/MV5BMzE5MD...  "
      ]
     },
     "execution_count": 64,
     "metadata": {},
     "output_type": "execute_result"
    }
   ],
   "source": [
    "g_df.head(10)"
   ]
  },
  {
   "cell_type": "markdown",
   "id": "e52195f6",
   "metadata": {},
   "source": [
    "### What are the top 20 films rated PG-13"
   ]
  },
  {
   "cell_type": "code",
   "execution_count": 65,
   "id": "40d57fae",
   "metadata": {},
   "outputs": [
    {
     "data": {
      "application/vnd.plotly.v1+json": {
       "config": {
        "plotlyServerURL": "https://plot.ly"
       },
       "data": [
        {
         "alignmentgroup": "True",
         "hovertemplate": "film_title=%{x}<br>votes=%{y}<extra></extra>",
         "legendgroup": "",
         "marker": {
          "color": "#636efa",
          "pattern": {
           "shape": ""
          }
         },
         "name": "",
         "offsetgroup": "",
         "orientation": "v",
         "showlegend": false,
         "textposition": "auto",
         "type": "bar",
         "x": [
          "The Dark Knight",
          "Inception",
          "Forrest Gump",
          "The Lord of the Rings: The Fellowship of the Ring",
          "The Lord of the Rings: The Return of the King",
          "Interstellar",
          "The Dark Knight Rises",
          "The Lord of the Rings: The Two Towers",
          "Batman Begins",
          "The Avengers",
          "The Prestige",
          "Avatar",
          "Guardians of the Galaxy",
          "Titanic",
          "Avengers: Endgame",
          "Pirates of the Caribbean: The Curse of the Black Pearl",
          "Avengers: Infinity War",
          "Iron Man",
          "The Sixth Sense",
          "Jurassic Park"
         ],
         "xaxis": "x",
         "y": [
          2663660,
          2362710,
          2088608,
          1882894,
          1853324,
          1844446,
          1711860,
          1673595,
          1477548,
          1396354,
          1339396,
          1308941,
          1185955,
          1183264,
          1139092,
          1133050,
          1088065,
          1064445,
          996535,
          994242
         ],
         "yaxis": "y"
        }
       ],
       "layout": {
        "barmode": "relative",
        "legend": {
         "tracegroupgap": 0
        },
        "template": {
         "data": {
          "bar": [
           {
            "error_x": {
             "color": "#2a3f5f"
            },
            "error_y": {
             "color": "#2a3f5f"
            },
            "marker": {
             "line": {
              "color": "#E5ECF6",
              "width": 0.5
             },
             "pattern": {
              "fillmode": "overlay",
              "size": 10,
              "solidity": 0.2
             }
            },
            "type": "bar"
           }
          ],
          "barpolar": [
           {
            "marker": {
             "line": {
              "color": "#E5ECF6",
              "width": 0.5
             },
             "pattern": {
              "fillmode": "overlay",
              "size": 10,
              "solidity": 0.2
             }
            },
            "type": "barpolar"
           }
          ],
          "carpet": [
           {
            "aaxis": {
             "endlinecolor": "#2a3f5f",
             "gridcolor": "white",
             "linecolor": "white",
             "minorgridcolor": "white",
             "startlinecolor": "#2a3f5f"
            },
            "baxis": {
             "endlinecolor": "#2a3f5f",
             "gridcolor": "white",
             "linecolor": "white",
             "minorgridcolor": "white",
             "startlinecolor": "#2a3f5f"
            },
            "type": "carpet"
           }
          ],
          "choropleth": [
           {
            "colorbar": {
             "outlinewidth": 0,
             "ticks": ""
            },
            "type": "choropleth"
           }
          ],
          "contour": [
           {
            "colorbar": {
             "outlinewidth": 0,
             "ticks": ""
            },
            "colorscale": [
             [
              0,
              "#0d0887"
             ],
             [
              0.1111111111111111,
              "#46039f"
             ],
             [
              0.2222222222222222,
              "#7201a8"
             ],
             [
              0.3333333333333333,
              "#9c179e"
             ],
             [
              0.4444444444444444,
              "#bd3786"
             ],
             [
              0.5555555555555556,
              "#d8576b"
             ],
             [
              0.6666666666666666,
              "#ed7953"
             ],
             [
              0.7777777777777778,
              "#fb9f3a"
             ],
             [
              0.8888888888888888,
              "#fdca26"
             ],
             [
              1,
              "#f0f921"
             ]
            ],
            "type": "contour"
           }
          ],
          "contourcarpet": [
           {
            "colorbar": {
             "outlinewidth": 0,
             "ticks": ""
            },
            "type": "contourcarpet"
           }
          ],
          "heatmap": [
           {
            "colorbar": {
             "outlinewidth": 0,
             "ticks": ""
            },
            "colorscale": [
             [
              0,
              "#0d0887"
             ],
             [
              0.1111111111111111,
              "#46039f"
             ],
             [
              0.2222222222222222,
              "#7201a8"
             ],
             [
              0.3333333333333333,
              "#9c179e"
             ],
             [
              0.4444444444444444,
              "#bd3786"
             ],
             [
              0.5555555555555556,
              "#d8576b"
             ],
             [
              0.6666666666666666,
              "#ed7953"
             ],
             [
              0.7777777777777778,
              "#fb9f3a"
             ],
             [
              0.8888888888888888,
              "#fdca26"
             ],
             [
              1,
              "#f0f921"
             ]
            ],
            "type": "heatmap"
           }
          ],
          "heatmapgl": [
           {
            "colorbar": {
             "outlinewidth": 0,
             "ticks": ""
            },
            "colorscale": [
             [
              0,
              "#0d0887"
             ],
             [
              0.1111111111111111,
              "#46039f"
             ],
             [
              0.2222222222222222,
              "#7201a8"
             ],
             [
              0.3333333333333333,
              "#9c179e"
             ],
             [
              0.4444444444444444,
              "#bd3786"
             ],
             [
              0.5555555555555556,
              "#d8576b"
             ],
             [
              0.6666666666666666,
              "#ed7953"
             ],
             [
              0.7777777777777778,
              "#fb9f3a"
             ],
             [
              0.8888888888888888,
              "#fdca26"
             ],
             [
              1,
              "#f0f921"
             ]
            ],
            "type": "heatmapgl"
           }
          ],
          "histogram": [
           {
            "marker": {
             "pattern": {
              "fillmode": "overlay",
              "size": 10,
              "solidity": 0.2
             }
            },
            "type": "histogram"
           }
          ],
          "histogram2d": [
           {
            "colorbar": {
             "outlinewidth": 0,
             "ticks": ""
            },
            "colorscale": [
             [
              0,
              "#0d0887"
             ],
             [
              0.1111111111111111,
              "#46039f"
             ],
             [
              0.2222222222222222,
              "#7201a8"
             ],
             [
              0.3333333333333333,
              "#9c179e"
             ],
             [
              0.4444444444444444,
              "#bd3786"
             ],
             [
              0.5555555555555556,
              "#d8576b"
             ],
             [
              0.6666666666666666,
              "#ed7953"
             ],
             [
              0.7777777777777778,
              "#fb9f3a"
             ],
             [
              0.8888888888888888,
              "#fdca26"
             ],
             [
              1,
              "#f0f921"
             ]
            ],
            "type": "histogram2d"
           }
          ],
          "histogram2dcontour": [
           {
            "colorbar": {
             "outlinewidth": 0,
             "ticks": ""
            },
            "colorscale": [
             [
              0,
              "#0d0887"
             ],
             [
              0.1111111111111111,
              "#46039f"
             ],
             [
              0.2222222222222222,
              "#7201a8"
             ],
             [
              0.3333333333333333,
              "#9c179e"
             ],
             [
              0.4444444444444444,
              "#bd3786"
             ],
             [
              0.5555555555555556,
              "#d8576b"
             ],
             [
              0.6666666666666666,
              "#ed7953"
             ],
             [
              0.7777777777777778,
              "#fb9f3a"
             ],
             [
              0.8888888888888888,
              "#fdca26"
             ],
             [
              1,
              "#f0f921"
             ]
            ],
            "type": "histogram2dcontour"
           }
          ],
          "mesh3d": [
           {
            "colorbar": {
             "outlinewidth": 0,
             "ticks": ""
            },
            "type": "mesh3d"
           }
          ],
          "parcoords": [
           {
            "line": {
             "colorbar": {
              "outlinewidth": 0,
              "ticks": ""
             }
            },
            "type": "parcoords"
           }
          ],
          "pie": [
           {
            "automargin": true,
            "type": "pie"
           }
          ],
          "scatter": [
           {
            "fillpattern": {
             "fillmode": "overlay",
             "size": 10,
             "solidity": 0.2
            },
            "type": "scatter"
           }
          ],
          "scatter3d": [
           {
            "line": {
             "colorbar": {
              "outlinewidth": 0,
              "ticks": ""
             }
            },
            "marker": {
             "colorbar": {
              "outlinewidth": 0,
              "ticks": ""
             }
            },
            "type": "scatter3d"
           }
          ],
          "scattercarpet": [
           {
            "marker": {
             "colorbar": {
              "outlinewidth": 0,
              "ticks": ""
             }
            },
            "type": "scattercarpet"
           }
          ],
          "scattergeo": [
           {
            "marker": {
             "colorbar": {
              "outlinewidth": 0,
              "ticks": ""
             }
            },
            "type": "scattergeo"
           }
          ],
          "scattergl": [
           {
            "marker": {
             "colorbar": {
              "outlinewidth": 0,
              "ticks": ""
             }
            },
            "type": "scattergl"
           }
          ],
          "scattermapbox": [
           {
            "marker": {
             "colorbar": {
              "outlinewidth": 0,
              "ticks": ""
             }
            },
            "type": "scattermapbox"
           }
          ],
          "scatterpolar": [
           {
            "marker": {
             "colorbar": {
              "outlinewidth": 0,
              "ticks": ""
             }
            },
            "type": "scatterpolar"
           }
          ],
          "scatterpolargl": [
           {
            "marker": {
             "colorbar": {
              "outlinewidth": 0,
              "ticks": ""
             }
            },
            "type": "scatterpolargl"
           }
          ],
          "scatterternary": [
           {
            "marker": {
             "colorbar": {
              "outlinewidth": 0,
              "ticks": ""
             }
            },
            "type": "scatterternary"
           }
          ],
          "surface": [
           {
            "colorbar": {
             "outlinewidth": 0,
             "ticks": ""
            },
            "colorscale": [
             [
              0,
              "#0d0887"
             ],
             [
              0.1111111111111111,
              "#46039f"
             ],
             [
              0.2222222222222222,
              "#7201a8"
             ],
             [
              0.3333333333333333,
              "#9c179e"
             ],
             [
              0.4444444444444444,
              "#bd3786"
             ],
             [
              0.5555555555555556,
              "#d8576b"
             ],
             [
              0.6666666666666666,
              "#ed7953"
             ],
             [
              0.7777777777777778,
              "#fb9f3a"
             ],
             [
              0.8888888888888888,
              "#fdca26"
             ],
             [
              1,
              "#f0f921"
             ]
            ],
            "type": "surface"
           }
          ],
          "table": [
           {
            "cells": {
             "fill": {
              "color": "#EBF0F8"
             },
             "line": {
              "color": "white"
             }
            },
            "header": {
             "fill": {
              "color": "#C8D4E3"
             },
             "line": {
              "color": "white"
             }
            },
            "type": "table"
           }
          ]
         },
         "layout": {
          "annotationdefaults": {
           "arrowcolor": "#2a3f5f",
           "arrowhead": 0,
           "arrowwidth": 1
          },
          "autotypenumbers": "strict",
          "coloraxis": {
           "colorbar": {
            "outlinewidth": 0,
            "ticks": ""
           }
          },
          "colorscale": {
           "diverging": [
            [
             0,
             "#8e0152"
            ],
            [
             0.1,
             "#c51b7d"
            ],
            [
             0.2,
             "#de77ae"
            ],
            [
             0.3,
             "#f1b6da"
            ],
            [
             0.4,
             "#fde0ef"
            ],
            [
             0.5,
             "#f7f7f7"
            ],
            [
             0.6,
             "#e6f5d0"
            ],
            [
             0.7,
             "#b8e186"
            ],
            [
             0.8,
             "#7fbc41"
            ],
            [
             0.9,
             "#4d9221"
            ],
            [
             1,
             "#276419"
            ]
           ],
           "sequential": [
            [
             0,
             "#0d0887"
            ],
            [
             0.1111111111111111,
             "#46039f"
            ],
            [
             0.2222222222222222,
             "#7201a8"
            ],
            [
             0.3333333333333333,
             "#9c179e"
            ],
            [
             0.4444444444444444,
             "#bd3786"
            ],
            [
             0.5555555555555556,
             "#d8576b"
            ],
            [
             0.6666666666666666,
             "#ed7953"
            ],
            [
             0.7777777777777778,
             "#fb9f3a"
            ],
            [
             0.8888888888888888,
             "#fdca26"
            ],
            [
             1,
             "#f0f921"
            ]
           ],
           "sequentialminus": [
            [
             0,
             "#0d0887"
            ],
            [
             0.1111111111111111,
             "#46039f"
            ],
            [
             0.2222222222222222,
             "#7201a8"
            ],
            [
             0.3333333333333333,
             "#9c179e"
            ],
            [
             0.4444444444444444,
             "#bd3786"
            ],
            [
             0.5555555555555556,
             "#d8576b"
            ],
            [
             0.6666666666666666,
             "#ed7953"
            ],
            [
             0.7777777777777778,
             "#fb9f3a"
            ],
            [
             0.8888888888888888,
             "#fdca26"
            ],
            [
             1,
             "#f0f921"
            ]
           ]
          },
          "colorway": [
           "#636efa",
           "#EF553B",
           "#00cc96",
           "#ab63fa",
           "#FFA15A",
           "#19d3f3",
           "#FF6692",
           "#B6E880",
           "#FF97FF",
           "#FECB52"
          ],
          "font": {
           "color": "#2a3f5f"
          },
          "geo": {
           "bgcolor": "white",
           "lakecolor": "white",
           "landcolor": "#E5ECF6",
           "showlakes": true,
           "showland": true,
           "subunitcolor": "white"
          },
          "hoverlabel": {
           "align": "left"
          },
          "hovermode": "closest",
          "mapbox": {
           "style": "light"
          },
          "paper_bgcolor": "white",
          "plot_bgcolor": "#E5ECF6",
          "polar": {
           "angularaxis": {
            "gridcolor": "white",
            "linecolor": "white",
            "ticks": ""
           },
           "bgcolor": "#E5ECF6",
           "radialaxis": {
            "gridcolor": "white",
            "linecolor": "white",
            "ticks": ""
           }
          },
          "scene": {
           "xaxis": {
            "backgroundcolor": "#E5ECF6",
            "gridcolor": "white",
            "gridwidth": 2,
            "linecolor": "white",
            "showbackground": true,
            "ticks": "",
            "zerolinecolor": "white"
           },
           "yaxis": {
            "backgroundcolor": "#E5ECF6",
            "gridcolor": "white",
            "gridwidth": 2,
            "linecolor": "white",
            "showbackground": true,
            "ticks": "",
            "zerolinecolor": "white"
           },
           "zaxis": {
            "backgroundcolor": "#E5ECF6",
            "gridcolor": "white",
            "gridwidth": 2,
            "linecolor": "white",
            "showbackground": true,
            "ticks": "",
            "zerolinecolor": "white"
           }
          },
          "shapedefaults": {
           "line": {
            "color": "#2a3f5f"
           }
          },
          "ternary": {
           "aaxis": {
            "gridcolor": "white",
            "linecolor": "white",
            "ticks": ""
           },
           "baxis": {
            "gridcolor": "white",
            "linecolor": "white",
            "ticks": ""
           },
           "bgcolor": "#E5ECF6",
           "caxis": {
            "gridcolor": "white",
            "linecolor": "white",
            "ticks": ""
           }
          },
          "title": {
           "x": 0.05
          },
          "xaxis": {
           "automargin": true,
           "gridcolor": "white",
           "linecolor": "white",
           "ticks": "",
           "title": {
            "standoff": 15
           },
           "zerolinecolor": "white",
           "zerolinewidth": 2
          },
          "yaxis": {
           "automargin": true,
           "gridcolor": "white",
           "linecolor": "white",
           "ticks": "",
           "title": {
            "standoff": 15
           },
           "zerolinecolor": "white",
           "zerolinewidth": 2
          }
         }
        },
        "title": {
         "text": "Top 20 Films Rated PG-13"
        },
        "xaxis": {
         "anchor": "y",
         "domain": [
          0,
          1
         ],
         "title": {
          "text": "film_title"
         }
        },
        "yaxis": {
         "anchor": "x",
         "domain": [
          0,
          1
         ],
         "title": {
          "text": "votes"
         }
        }
       }
      }
     },
     "metadata": {},
     "output_type": "display_data"
    }
   ],
   "source": [
    "# plot a graph of the top 20 films rated PG-13\n",
    "\n",
    "# filter the dataframe to only include films rated PG-13\n",
    "pg13_df = df[df['mpa_rating'] == 'PG-13']\n",
    "\n",
    "# sort the dataframe by the number of votes in descending order\n",
    "pg13_df = pg13_df.sort_values(by='votes', ascending=False)\n",
    "\n",
    "# select the top 20 films rated PG-13\n",
    "pg13_df = pg13_df.head(20)\n",
    "\n",
    "# create a bar chart using Plotly Express\n",
    "fig = px.bar(pg13_df, x='film_title', y='votes', title='Top 20 Films Rated PG-13')\n",
    "\n",
    "# show chart\n",
    "fig.show()\n"
   ]
  },
  {
   "cell_type": "markdown",
   "id": "76f5efb8",
   "metadata": {},
   "source": [
    "### What are the top 20 films rated R"
   ]
  },
  {
   "cell_type": "code",
   "execution_count": 66,
   "id": "12ff88e3",
   "metadata": {},
   "outputs": [
    {
     "data": {
      "application/vnd.plotly.v1+json": {
       "config": {
        "plotlyServerURL": "https://plot.ly"
       },
       "data": [
        {
         "alignmentgroup": "True",
         "hovertemplate": "film_title=%{x}<br>votes=%{y}<extra></extra>",
         "legendgroup": "",
         "marker": {
          "color": "#636efa",
          "pattern": {
           "shape": ""
          }
         },
         "name": "",
         "offsetgroup": "",
         "orientation": "v",
         "showlegend": false,
         "textposition": "auto",
         "type": "bar",
         "x": [
          "The Shawshank Redemption",
          "Fight Club",
          "Pulp Fiction",
          "The Matrix",
          "The Godfather",
          "Se7en",
          "Django Unchained",
          "Gladiator",
          "Inglourious Basterds",
          "The Silence of the Lambs",
          "The Wolf of Wall Street",
          "Saving Private Ryan",
          "Schindler's List",
          "The Departed",
          "Shutter Island",
          "The Green Mile",
          "Joker",
          "The Godfather: Part II",
          "Memento",
          "Goodfellas"
         ],
         "xaxis": "x",
         "y": [
          2690086,
          2135601,
          2064377,
          1920546,
          1865892,
          1660444,
          1562692,
          1507148,
          1457735,
          1438819,
          1420914,
          1397391,
          1360534,
          1331175,
          1324027,
          1307882,
          1298195,
          1276317,
          1243904,
          1167159
         ],
         "yaxis": "y"
        }
       ],
       "layout": {
        "barmode": "relative",
        "legend": {
         "tracegroupgap": 0
        },
        "template": {
         "data": {
          "bar": [
           {
            "error_x": {
             "color": "#2a3f5f"
            },
            "error_y": {
             "color": "#2a3f5f"
            },
            "marker": {
             "line": {
              "color": "#E5ECF6",
              "width": 0.5
             },
             "pattern": {
              "fillmode": "overlay",
              "size": 10,
              "solidity": 0.2
             }
            },
            "type": "bar"
           }
          ],
          "barpolar": [
           {
            "marker": {
             "line": {
              "color": "#E5ECF6",
              "width": 0.5
             },
             "pattern": {
              "fillmode": "overlay",
              "size": 10,
              "solidity": 0.2
             }
            },
            "type": "barpolar"
           }
          ],
          "carpet": [
           {
            "aaxis": {
             "endlinecolor": "#2a3f5f",
             "gridcolor": "white",
             "linecolor": "white",
             "minorgridcolor": "white",
             "startlinecolor": "#2a3f5f"
            },
            "baxis": {
             "endlinecolor": "#2a3f5f",
             "gridcolor": "white",
             "linecolor": "white",
             "minorgridcolor": "white",
             "startlinecolor": "#2a3f5f"
            },
            "type": "carpet"
           }
          ],
          "choropleth": [
           {
            "colorbar": {
             "outlinewidth": 0,
             "ticks": ""
            },
            "type": "choropleth"
           }
          ],
          "contour": [
           {
            "colorbar": {
             "outlinewidth": 0,
             "ticks": ""
            },
            "colorscale": [
             [
              0,
              "#0d0887"
             ],
             [
              0.1111111111111111,
              "#46039f"
             ],
             [
              0.2222222222222222,
              "#7201a8"
             ],
             [
              0.3333333333333333,
              "#9c179e"
             ],
             [
              0.4444444444444444,
              "#bd3786"
             ],
             [
              0.5555555555555556,
              "#d8576b"
             ],
             [
              0.6666666666666666,
              "#ed7953"
             ],
             [
              0.7777777777777778,
              "#fb9f3a"
             ],
             [
              0.8888888888888888,
              "#fdca26"
             ],
             [
              1,
              "#f0f921"
             ]
            ],
            "type": "contour"
           }
          ],
          "contourcarpet": [
           {
            "colorbar": {
             "outlinewidth": 0,
             "ticks": ""
            },
            "type": "contourcarpet"
           }
          ],
          "heatmap": [
           {
            "colorbar": {
             "outlinewidth": 0,
             "ticks": ""
            },
            "colorscale": [
             [
              0,
              "#0d0887"
             ],
             [
              0.1111111111111111,
              "#46039f"
             ],
             [
              0.2222222222222222,
              "#7201a8"
             ],
             [
              0.3333333333333333,
              "#9c179e"
             ],
             [
              0.4444444444444444,
              "#bd3786"
             ],
             [
              0.5555555555555556,
              "#d8576b"
             ],
             [
              0.6666666666666666,
              "#ed7953"
             ],
             [
              0.7777777777777778,
              "#fb9f3a"
             ],
             [
              0.8888888888888888,
              "#fdca26"
             ],
             [
              1,
              "#f0f921"
             ]
            ],
            "type": "heatmap"
           }
          ],
          "heatmapgl": [
           {
            "colorbar": {
             "outlinewidth": 0,
             "ticks": ""
            },
            "colorscale": [
             [
              0,
              "#0d0887"
             ],
             [
              0.1111111111111111,
              "#46039f"
             ],
             [
              0.2222222222222222,
              "#7201a8"
             ],
             [
              0.3333333333333333,
              "#9c179e"
             ],
             [
              0.4444444444444444,
              "#bd3786"
             ],
             [
              0.5555555555555556,
              "#d8576b"
             ],
             [
              0.6666666666666666,
              "#ed7953"
             ],
             [
              0.7777777777777778,
              "#fb9f3a"
             ],
             [
              0.8888888888888888,
              "#fdca26"
             ],
             [
              1,
              "#f0f921"
             ]
            ],
            "type": "heatmapgl"
           }
          ],
          "histogram": [
           {
            "marker": {
             "pattern": {
              "fillmode": "overlay",
              "size": 10,
              "solidity": 0.2
             }
            },
            "type": "histogram"
           }
          ],
          "histogram2d": [
           {
            "colorbar": {
             "outlinewidth": 0,
             "ticks": ""
            },
            "colorscale": [
             [
              0,
              "#0d0887"
             ],
             [
              0.1111111111111111,
              "#46039f"
             ],
             [
              0.2222222222222222,
              "#7201a8"
             ],
             [
              0.3333333333333333,
              "#9c179e"
             ],
             [
              0.4444444444444444,
              "#bd3786"
             ],
             [
              0.5555555555555556,
              "#d8576b"
             ],
             [
              0.6666666666666666,
              "#ed7953"
             ],
             [
              0.7777777777777778,
              "#fb9f3a"
             ],
             [
              0.8888888888888888,
              "#fdca26"
             ],
             [
              1,
              "#f0f921"
             ]
            ],
            "type": "histogram2d"
           }
          ],
          "histogram2dcontour": [
           {
            "colorbar": {
             "outlinewidth": 0,
             "ticks": ""
            },
            "colorscale": [
             [
              0,
              "#0d0887"
             ],
             [
              0.1111111111111111,
              "#46039f"
             ],
             [
              0.2222222222222222,
              "#7201a8"
             ],
             [
              0.3333333333333333,
              "#9c179e"
             ],
             [
              0.4444444444444444,
              "#bd3786"
             ],
             [
              0.5555555555555556,
              "#d8576b"
             ],
             [
              0.6666666666666666,
              "#ed7953"
             ],
             [
              0.7777777777777778,
              "#fb9f3a"
             ],
             [
              0.8888888888888888,
              "#fdca26"
             ],
             [
              1,
              "#f0f921"
             ]
            ],
            "type": "histogram2dcontour"
           }
          ],
          "mesh3d": [
           {
            "colorbar": {
             "outlinewidth": 0,
             "ticks": ""
            },
            "type": "mesh3d"
           }
          ],
          "parcoords": [
           {
            "line": {
             "colorbar": {
              "outlinewidth": 0,
              "ticks": ""
             }
            },
            "type": "parcoords"
           }
          ],
          "pie": [
           {
            "automargin": true,
            "type": "pie"
           }
          ],
          "scatter": [
           {
            "fillpattern": {
             "fillmode": "overlay",
             "size": 10,
             "solidity": 0.2
            },
            "type": "scatter"
           }
          ],
          "scatter3d": [
           {
            "line": {
             "colorbar": {
              "outlinewidth": 0,
              "ticks": ""
             }
            },
            "marker": {
             "colorbar": {
              "outlinewidth": 0,
              "ticks": ""
             }
            },
            "type": "scatter3d"
           }
          ],
          "scattercarpet": [
           {
            "marker": {
             "colorbar": {
              "outlinewidth": 0,
              "ticks": ""
             }
            },
            "type": "scattercarpet"
           }
          ],
          "scattergeo": [
           {
            "marker": {
             "colorbar": {
              "outlinewidth": 0,
              "ticks": ""
             }
            },
            "type": "scattergeo"
           }
          ],
          "scattergl": [
           {
            "marker": {
             "colorbar": {
              "outlinewidth": 0,
              "ticks": ""
             }
            },
            "type": "scattergl"
           }
          ],
          "scattermapbox": [
           {
            "marker": {
             "colorbar": {
              "outlinewidth": 0,
              "ticks": ""
             }
            },
            "type": "scattermapbox"
           }
          ],
          "scatterpolar": [
           {
            "marker": {
             "colorbar": {
              "outlinewidth": 0,
              "ticks": ""
             }
            },
            "type": "scatterpolar"
           }
          ],
          "scatterpolargl": [
           {
            "marker": {
             "colorbar": {
              "outlinewidth": 0,
              "ticks": ""
             }
            },
            "type": "scatterpolargl"
           }
          ],
          "scatterternary": [
           {
            "marker": {
             "colorbar": {
              "outlinewidth": 0,
              "ticks": ""
             }
            },
            "type": "scatterternary"
           }
          ],
          "surface": [
           {
            "colorbar": {
             "outlinewidth": 0,
             "ticks": ""
            },
            "colorscale": [
             [
              0,
              "#0d0887"
             ],
             [
              0.1111111111111111,
              "#46039f"
             ],
             [
              0.2222222222222222,
              "#7201a8"
             ],
             [
              0.3333333333333333,
              "#9c179e"
             ],
             [
              0.4444444444444444,
              "#bd3786"
             ],
             [
              0.5555555555555556,
              "#d8576b"
             ],
             [
              0.6666666666666666,
              "#ed7953"
             ],
             [
              0.7777777777777778,
              "#fb9f3a"
             ],
             [
              0.8888888888888888,
              "#fdca26"
             ],
             [
              1,
              "#f0f921"
             ]
            ],
            "type": "surface"
           }
          ],
          "table": [
           {
            "cells": {
             "fill": {
              "color": "#EBF0F8"
             },
             "line": {
              "color": "white"
             }
            },
            "header": {
             "fill": {
              "color": "#C8D4E3"
             },
             "line": {
              "color": "white"
             }
            },
            "type": "table"
           }
          ]
         },
         "layout": {
          "annotationdefaults": {
           "arrowcolor": "#2a3f5f",
           "arrowhead": 0,
           "arrowwidth": 1
          },
          "autotypenumbers": "strict",
          "coloraxis": {
           "colorbar": {
            "outlinewidth": 0,
            "ticks": ""
           }
          },
          "colorscale": {
           "diverging": [
            [
             0,
             "#8e0152"
            ],
            [
             0.1,
             "#c51b7d"
            ],
            [
             0.2,
             "#de77ae"
            ],
            [
             0.3,
             "#f1b6da"
            ],
            [
             0.4,
             "#fde0ef"
            ],
            [
             0.5,
             "#f7f7f7"
            ],
            [
             0.6,
             "#e6f5d0"
            ],
            [
             0.7,
             "#b8e186"
            ],
            [
             0.8,
             "#7fbc41"
            ],
            [
             0.9,
             "#4d9221"
            ],
            [
             1,
             "#276419"
            ]
           ],
           "sequential": [
            [
             0,
             "#0d0887"
            ],
            [
             0.1111111111111111,
             "#46039f"
            ],
            [
             0.2222222222222222,
             "#7201a8"
            ],
            [
             0.3333333333333333,
             "#9c179e"
            ],
            [
             0.4444444444444444,
             "#bd3786"
            ],
            [
             0.5555555555555556,
             "#d8576b"
            ],
            [
             0.6666666666666666,
             "#ed7953"
            ],
            [
             0.7777777777777778,
             "#fb9f3a"
            ],
            [
             0.8888888888888888,
             "#fdca26"
            ],
            [
             1,
             "#f0f921"
            ]
           ],
           "sequentialminus": [
            [
             0,
             "#0d0887"
            ],
            [
             0.1111111111111111,
             "#46039f"
            ],
            [
             0.2222222222222222,
             "#7201a8"
            ],
            [
             0.3333333333333333,
             "#9c179e"
            ],
            [
             0.4444444444444444,
             "#bd3786"
            ],
            [
             0.5555555555555556,
             "#d8576b"
            ],
            [
             0.6666666666666666,
             "#ed7953"
            ],
            [
             0.7777777777777778,
             "#fb9f3a"
            ],
            [
             0.8888888888888888,
             "#fdca26"
            ],
            [
             1,
             "#f0f921"
            ]
           ]
          },
          "colorway": [
           "#636efa",
           "#EF553B",
           "#00cc96",
           "#ab63fa",
           "#FFA15A",
           "#19d3f3",
           "#FF6692",
           "#B6E880",
           "#FF97FF",
           "#FECB52"
          ],
          "font": {
           "color": "#2a3f5f"
          },
          "geo": {
           "bgcolor": "white",
           "lakecolor": "white",
           "landcolor": "#E5ECF6",
           "showlakes": true,
           "showland": true,
           "subunitcolor": "white"
          },
          "hoverlabel": {
           "align": "left"
          },
          "hovermode": "closest",
          "mapbox": {
           "style": "light"
          },
          "paper_bgcolor": "white",
          "plot_bgcolor": "#E5ECF6",
          "polar": {
           "angularaxis": {
            "gridcolor": "white",
            "linecolor": "white",
            "ticks": ""
           },
           "bgcolor": "#E5ECF6",
           "radialaxis": {
            "gridcolor": "white",
            "linecolor": "white",
            "ticks": ""
           }
          },
          "scene": {
           "xaxis": {
            "backgroundcolor": "#E5ECF6",
            "gridcolor": "white",
            "gridwidth": 2,
            "linecolor": "white",
            "showbackground": true,
            "ticks": "",
            "zerolinecolor": "white"
           },
           "yaxis": {
            "backgroundcolor": "#E5ECF6",
            "gridcolor": "white",
            "gridwidth": 2,
            "linecolor": "white",
            "showbackground": true,
            "ticks": "",
            "zerolinecolor": "white"
           },
           "zaxis": {
            "backgroundcolor": "#E5ECF6",
            "gridcolor": "white",
            "gridwidth": 2,
            "linecolor": "white",
            "showbackground": true,
            "ticks": "",
            "zerolinecolor": "white"
           }
          },
          "shapedefaults": {
           "line": {
            "color": "#2a3f5f"
           }
          },
          "ternary": {
           "aaxis": {
            "gridcolor": "white",
            "linecolor": "white",
            "ticks": ""
           },
           "baxis": {
            "gridcolor": "white",
            "linecolor": "white",
            "ticks": ""
           },
           "bgcolor": "#E5ECF6",
           "caxis": {
            "gridcolor": "white",
            "linecolor": "white",
            "ticks": ""
           }
          },
          "title": {
           "x": 0.05
          },
          "xaxis": {
           "automargin": true,
           "gridcolor": "white",
           "linecolor": "white",
           "ticks": "",
           "title": {
            "standoff": 15
           },
           "zerolinecolor": "white",
           "zerolinewidth": 2
          },
          "yaxis": {
           "automargin": true,
           "gridcolor": "white",
           "linecolor": "white",
           "ticks": "",
           "title": {
            "standoff": 15
           },
           "zerolinecolor": "white",
           "zerolinewidth": 2
          }
         }
        },
        "title": {
         "text": "Top 20 Films Rated R"
        },
        "xaxis": {
         "anchor": "y",
         "domain": [
          0,
          1
         ],
         "title": {
          "text": "film_title"
         }
        },
        "yaxis": {
         "anchor": "x",
         "domain": [
          0,
          1
         ],
         "title": {
          "text": "votes"
         }
        }
       }
      }
     },
     "metadata": {},
     "output_type": "display_data"
    }
   ],
   "source": [
    "# plot a graph of the top 20 films rated R\n",
    "\n",
    "\n",
    "# filter the dataframe to only include films rated R\n",
    "r_df = df[df['mpa_rating'] == 'R']\n",
    "\n",
    "# sort the dataframe by the number of votes in descending order\n",
    "r_df = r_df.sort_values(by='votes', ascending=False)\n",
    "\n",
    "# select the top 20 films rated R\n",
    "r_df = r_df.head(20)\n",
    "\n",
    "# create a bar chart using Plotly Express\n",
    "fig = px.bar(r_df, x='film_title', y='votes', title='Top 20 Films Rated R')\n",
    "\n",
    "# show chart\n",
    "fig.show()"
   ]
  },
  {
   "cell_type": "code",
   "execution_count": 67,
   "id": "be475d11",
   "metadata": {},
   "outputs": [
    {
     "data": {
      "text/html": [
       "<div>\n",
       "<style scoped>\n",
       "    .dataframe tbody tr th:only-of-type {\n",
       "        vertical-align: middle;\n",
       "    }\n",
       "\n",
       "    .dataframe tbody tr th {\n",
       "        vertical-align: top;\n",
       "    }\n",
       "\n",
       "    .dataframe thead th {\n",
       "        text-align: right;\n",
       "    }\n",
       "</style>\n",
       "<table border=\"1\" class=\"dataframe\">\n",
       "  <thead>\n",
       "    <tr style=\"text-align: right;\">\n",
       "      <th></th>\n",
       "      <th>film_title</th>\n",
       "      <th>genre</th>\n",
       "      <th>release_year</th>\n",
       "      <th>director</th>\n",
       "      <th>lead_actor</th>\n",
       "      <th>run_time_minutes</th>\n",
       "      <th>mpa_rating</th>\n",
       "      <th>imdb_stars_rating</th>\n",
       "      <th>synopsis</th>\n",
       "      <th>metascore</th>\n",
       "      <th>votes</th>\n",
       "      <th>gross</th>\n",
       "      <th>image_url</th>\n",
       "    </tr>\n",
       "  </thead>\n",
       "  <tbody>\n",
       "    <tr>\n",
       "      <th>0</th>\n",
       "      <td>The Shawshank Redemption</td>\n",
       "      <td>Drama</td>\n",
       "      <td>1994</td>\n",
       "      <td>Frank Darabont</td>\n",
       "      <td>Tim Robbins</td>\n",
       "      <td>142</td>\n",
       "      <td>R</td>\n",
       "      <td>9.0</td>\n",
       "      <td>Over the course of several years, two convict...</td>\n",
       "      <td>81.0</td>\n",
       "      <td>2690086</td>\n",
       "      <td>28.34</td>\n",
       "      <td>https://m.media-amazon.com/images/M/MV5BMDFkYT...</td>\n",
       "    </tr>\n",
       "    <tr>\n",
       "      <th>1</th>\n",
       "      <td>The Godfather</td>\n",
       "      <td>Crime, Drama</td>\n",
       "      <td>1972</td>\n",
       "      <td>Francis Ford Coppola</td>\n",
       "      <td>Marlon Brando</td>\n",
       "      <td>175</td>\n",
       "      <td>R</td>\n",
       "      <td>9.0</td>\n",
       "      <td>The aging patriarch of an organized crime dyn...</td>\n",
       "      <td>100.0</td>\n",
       "      <td>1865892</td>\n",
       "      <td>134.97</td>\n",
       "      <td>https://m.media-amazon.com/images/M/MV5BM2MyNj...</td>\n",
       "    </tr>\n",
       "    <tr>\n",
       "      <th>2</th>\n",
       "      <td>The Dark Knight</td>\n",
       "      <td>Action, Crime, Drama</td>\n",
       "      <td>2008</td>\n",
       "      <td>Christopher Nolan</td>\n",
       "      <td>Christian Bale</td>\n",
       "      <td>152</td>\n",
       "      <td>PG-13</td>\n",
       "      <td>9.0</td>\n",
       "      <td>When the menace known as the Joker wreaks hav...</td>\n",
       "      <td>84.0</td>\n",
       "      <td>2663660</td>\n",
       "      <td>534.86</td>\n",
       "      <td>https://m.media-amazon.com/images/M/MV5BMTMxNT...</td>\n",
       "    </tr>\n",
       "    <tr>\n",
       "      <th>3</th>\n",
       "      <td>Schindler's List</td>\n",
       "      <td>Biography, Drama, History</td>\n",
       "      <td>1993</td>\n",
       "      <td>Steven Spielberg</td>\n",
       "      <td>Liam Neeson</td>\n",
       "      <td>195</td>\n",
       "      <td>R</td>\n",
       "      <td>9.0</td>\n",
       "      <td>In German-occupied Poland during World War II...</td>\n",
       "      <td>94.0</td>\n",
       "      <td>1360534</td>\n",
       "      <td>96.90</td>\n",
       "      <td>https://m.media-amazon.com/images/M/MV5BNDE4OT...</td>\n",
       "    </tr>\n",
       "    <tr>\n",
       "      <th>4</th>\n",
       "      <td>The Godfather: Part II</td>\n",
       "      <td>Crime, Drama</td>\n",
       "      <td>1974</td>\n",
       "      <td>Francis Ford Coppola</td>\n",
       "      <td>Al Pacino</td>\n",
       "      <td>202</td>\n",
       "      <td>R</td>\n",
       "      <td>9.0</td>\n",
       "      <td>The early life and career of Vito Corleone in...</td>\n",
       "      <td>90.0</td>\n",
       "      <td>1276317</td>\n",
       "      <td>57.30</td>\n",
       "      <td>https://m.media-amazon.com/images/M/MV5BMWMwMG...</td>\n",
       "    </tr>\n",
       "  </tbody>\n",
       "</table>\n",
       "</div>"
      ],
      "text/plain": [
       "                 film_title                                   genre  \\\n",
       "0  The Shawshank Redemption                       Drama               \n",
       "1             The Godfather                Crime, Drama               \n",
       "2           The Dark Knight        Action, Crime, Drama               \n",
       "3          Schindler's List   Biography, Drama, History               \n",
       "4    The Godfather: Part II                Crime, Drama               \n",
       "\n",
       "   release_year              director      lead_actor  run_time_minutes  \\\n",
       "0          1994        Frank Darabont     Tim Robbins               142   \n",
       "1          1972  Francis Ford Coppola   Marlon Brando               175   \n",
       "2          2008     Christopher Nolan  Christian Bale               152   \n",
       "3          1993      Steven Spielberg     Liam Neeson               195   \n",
       "4          1974  Francis Ford Coppola       Al Pacino               202   \n",
       "\n",
       "  mpa_rating  imdb_stars_rating  \\\n",
       "0          R                9.0   \n",
       "1          R                9.0   \n",
       "2      PG-13                9.0   \n",
       "3          R                9.0   \n",
       "4          R                9.0   \n",
       "\n",
       "                                            synopsis  metascore    votes  \\\n",
       "0   Over the course of several years, two convict...       81.0  2690086   \n",
       "1   The aging patriarch of an organized crime dyn...      100.0  1865892   \n",
       "2   When the menace known as the Joker wreaks hav...       84.0  2663660   \n",
       "3   In German-occupied Poland during World War II...       94.0  1360534   \n",
       "4   The early life and career of Vito Corleone in...       90.0  1276317   \n",
       "\n",
       "    gross                                          image_url  \n",
       "0   28.34  https://m.media-amazon.com/images/M/MV5BMDFkYT...  \n",
       "1  134.97  https://m.media-amazon.com/images/M/MV5BM2MyNj...  \n",
       "2  534.86  https://m.media-amazon.com/images/M/MV5BMTMxNT...  \n",
       "3   96.90  https://m.media-amazon.com/images/M/MV5BNDE4OT...  \n",
       "4   57.30  https://m.media-amazon.com/images/M/MV5BMWMwMG...  "
      ]
     },
     "execution_count": 67,
     "metadata": {},
     "output_type": "execute_result"
    }
   ],
   "source": [
    "# newdf = df.copy()\n",
    "th_df = final_df.copy()\n",
    "th_df.head()"
   ]
  },
  {
   "cell_type": "markdown",
   "id": "a4924880",
   "metadata": {},
   "source": [
    "### What are the top films starring Tom Hanks?"
   ]
  },
  {
   "cell_type": "code",
   "execution_count": 68,
   "id": "6b402908",
   "metadata": {},
   "outputs": [
    {
     "data": {
      "application/vnd.plotly.v1+json": {
       "config": {
        "plotlyServerURL": "https://plot.ly"
       },
       "data": [
        {
         "alignmentgroup": "True",
         "hovertemplate": "film_title=%{x}<br>votes=%{y}<extra></extra>",
         "legendgroup": "",
         "marker": {
          "color": "#636efa",
          "pattern": {
           "shape": ""
          }
         },
         "name": "",
         "offsetgroup": "",
         "orientation": "v",
         "showlegend": false,
         "textposition": "auto",
         "type": "bar",
         "x": [
          "Forrest Gump",
          "Saving Private Ryan",
          "The Green Mile",
          "Toy Story",
          "Toy Story 3",
          "Cast Away",
          "Captain Phillips",
          "Apollo 13",
          "Road to Perdition",
          "Toy Story 4",
          "Philadelphia"
         ],
         "xaxis": "x",
         "y": [
          2088608,
          1397391,
          1307882,
          998879,
          840574,
          597642,
          465582,
          298726,
          271313,
          254439,
          245005
         ],
         "yaxis": "y"
        }
       ],
       "layout": {
        "barmode": "relative",
        "legend": {
         "tracegroupgap": 0
        },
        "template": {
         "data": {
          "bar": [
           {
            "error_x": {
             "color": "#2a3f5f"
            },
            "error_y": {
             "color": "#2a3f5f"
            },
            "marker": {
             "line": {
              "color": "#E5ECF6",
              "width": 0.5
             },
             "pattern": {
              "fillmode": "overlay",
              "size": 10,
              "solidity": 0.2
             }
            },
            "type": "bar"
           }
          ],
          "barpolar": [
           {
            "marker": {
             "line": {
              "color": "#E5ECF6",
              "width": 0.5
             },
             "pattern": {
              "fillmode": "overlay",
              "size": 10,
              "solidity": 0.2
             }
            },
            "type": "barpolar"
           }
          ],
          "carpet": [
           {
            "aaxis": {
             "endlinecolor": "#2a3f5f",
             "gridcolor": "white",
             "linecolor": "white",
             "minorgridcolor": "white",
             "startlinecolor": "#2a3f5f"
            },
            "baxis": {
             "endlinecolor": "#2a3f5f",
             "gridcolor": "white",
             "linecolor": "white",
             "minorgridcolor": "white",
             "startlinecolor": "#2a3f5f"
            },
            "type": "carpet"
           }
          ],
          "choropleth": [
           {
            "colorbar": {
             "outlinewidth": 0,
             "ticks": ""
            },
            "type": "choropleth"
           }
          ],
          "contour": [
           {
            "colorbar": {
             "outlinewidth": 0,
             "ticks": ""
            },
            "colorscale": [
             [
              0,
              "#0d0887"
             ],
             [
              0.1111111111111111,
              "#46039f"
             ],
             [
              0.2222222222222222,
              "#7201a8"
             ],
             [
              0.3333333333333333,
              "#9c179e"
             ],
             [
              0.4444444444444444,
              "#bd3786"
             ],
             [
              0.5555555555555556,
              "#d8576b"
             ],
             [
              0.6666666666666666,
              "#ed7953"
             ],
             [
              0.7777777777777778,
              "#fb9f3a"
             ],
             [
              0.8888888888888888,
              "#fdca26"
             ],
             [
              1,
              "#f0f921"
             ]
            ],
            "type": "contour"
           }
          ],
          "contourcarpet": [
           {
            "colorbar": {
             "outlinewidth": 0,
             "ticks": ""
            },
            "type": "contourcarpet"
           }
          ],
          "heatmap": [
           {
            "colorbar": {
             "outlinewidth": 0,
             "ticks": ""
            },
            "colorscale": [
             [
              0,
              "#0d0887"
             ],
             [
              0.1111111111111111,
              "#46039f"
             ],
             [
              0.2222222222222222,
              "#7201a8"
             ],
             [
              0.3333333333333333,
              "#9c179e"
             ],
             [
              0.4444444444444444,
              "#bd3786"
             ],
             [
              0.5555555555555556,
              "#d8576b"
             ],
             [
              0.6666666666666666,
              "#ed7953"
             ],
             [
              0.7777777777777778,
              "#fb9f3a"
             ],
             [
              0.8888888888888888,
              "#fdca26"
             ],
             [
              1,
              "#f0f921"
             ]
            ],
            "type": "heatmap"
           }
          ],
          "heatmapgl": [
           {
            "colorbar": {
             "outlinewidth": 0,
             "ticks": ""
            },
            "colorscale": [
             [
              0,
              "#0d0887"
             ],
             [
              0.1111111111111111,
              "#46039f"
             ],
             [
              0.2222222222222222,
              "#7201a8"
             ],
             [
              0.3333333333333333,
              "#9c179e"
             ],
             [
              0.4444444444444444,
              "#bd3786"
             ],
             [
              0.5555555555555556,
              "#d8576b"
             ],
             [
              0.6666666666666666,
              "#ed7953"
             ],
             [
              0.7777777777777778,
              "#fb9f3a"
             ],
             [
              0.8888888888888888,
              "#fdca26"
             ],
             [
              1,
              "#f0f921"
             ]
            ],
            "type": "heatmapgl"
           }
          ],
          "histogram": [
           {
            "marker": {
             "pattern": {
              "fillmode": "overlay",
              "size": 10,
              "solidity": 0.2
             }
            },
            "type": "histogram"
           }
          ],
          "histogram2d": [
           {
            "colorbar": {
             "outlinewidth": 0,
             "ticks": ""
            },
            "colorscale": [
             [
              0,
              "#0d0887"
             ],
             [
              0.1111111111111111,
              "#46039f"
             ],
             [
              0.2222222222222222,
              "#7201a8"
             ],
             [
              0.3333333333333333,
              "#9c179e"
             ],
             [
              0.4444444444444444,
              "#bd3786"
             ],
             [
              0.5555555555555556,
              "#d8576b"
             ],
             [
              0.6666666666666666,
              "#ed7953"
             ],
             [
              0.7777777777777778,
              "#fb9f3a"
             ],
             [
              0.8888888888888888,
              "#fdca26"
             ],
             [
              1,
              "#f0f921"
             ]
            ],
            "type": "histogram2d"
           }
          ],
          "histogram2dcontour": [
           {
            "colorbar": {
             "outlinewidth": 0,
             "ticks": ""
            },
            "colorscale": [
             [
              0,
              "#0d0887"
             ],
             [
              0.1111111111111111,
              "#46039f"
             ],
             [
              0.2222222222222222,
              "#7201a8"
             ],
             [
              0.3333333333333333,
              "#9c179e"
             ],
             [
              0.4444444444444444,
              "#bd3786"
             ],
             [
              0.5555555555555556,
              "#d8576b"
             ],
             [
              0.6666666666666666,
              "#ed7953"
             ],
             [
              0.7777777777777778,
              "#fb9f3a"
             ],
             [
              0.8888888888888888,
              "#fdca26"
             ],
             [
              1,
              "#f0f921"
             ]
            ],
            "type": "histogram2dcontour"
           }
          ],
          "mesh3d": [
           {
            "colorbar": {
             "outlinewidth": 0,
             "ticks": ""
            },
            "type": "mesh3d"
           }
          ],
          "parcoords": [
           {
            "line": {
             "colorbar": {
              "outlinewidth": 0,
              "ticks": ""
             }
            },
            "type": "parcoords"
           }
          ],
          "pie": [
           {
            "automargin": true,
            "type": "pie"
           }
          ],
          "scatter": [
           {
            "fillpattern": {
             "fillmode": "overlay",
             "size": 10,
             "solidity": 0.2
            },
            "type": "scatter"
           }
          ],
          "scatter3d": [
           {
            "line": {
             "colorbar": {
              "outlinewidth": 0,
              "ticks": ""
             }
            },
            "marker": {
             "colorbar": {
              "outlinewidth": 0,
              "ticks": ""
             }
            },
            "type": "scatter3d"
           }
          ],
          "scattercarpet": [
           {
            "marker": {
             "colorbar": {
              "outlinewidth": 0,
              "ticks": ""
             }
            },
            "type": "scattercarpet"
           }
          ],
          "scattergeo": [
           {
            "marker": {
             "colorbar": {
              "outlinewidth": 0,
              "ticks": ""
             }
            },
            "type": "scattergeo"
           }
          ],
          "scattergl": [
           {
            "marker": {
             "colorbar": {
              "outlinewidth": 0,
              "ticks": ""
             }
            },
            "type": "scattergl"
           }
          ],
          "scattermapbox": [
           {
            "marker": {
             "colorbar": {
              "outlinewidth": 0,
              "ticks": ""
             }
            },
            "type": "scattermapbox"
           }
          ],
          "scatterpolar": [
           {
            "marker": {
             "colorbar": {
              "outlinewidth": 0,
              "ticks": ""
             }
            },
            "type": "scatterpolar"
           }
          ],
          "scatterpolargl": [
           {
            "marker": {
             "colorbar": {
              "outlinewidth": 0,
              "ticks": ""
             }
            },
            "type": "scatterpolargl"
           }
          ],
          "scatterternary": [
           {
            "marker": {
             "colorbar": {
              "outlinewidth": 0,
              "ticks": ""
             }
            },
            "type": "scatterternary"
           }
          ],
          "surface": [
           {
            "colorbar": {
             "outlinewidth": 0,
             "ticks": ""
            },
            "colorscale": [
             [
              0,
              "#0d0887"
             ],
             [
              0.1111111111111111,
              "#46039f"
             ],
             [
              0.2222222222222222,
              "#7201a8"
             ],
             [
              0.3333333333333333,
              "#9c179e"
             ],
             [
              0.4444444444444444,
              "#bd3786"
             ],
             [
              0.5555555555555556,
              "#d8576b"
             ],
             [
              0.6666666666666666,
              "#ed7953"
             ],
             [
              0.7777777777777778,
              "#fb9f3a"
             ],
             [
              0.8888888888888888,
              "#fdca26"
             ],
             [
              1,
              "#f0f921"
             ]
            ],
            "type": "surface"
           }
          ],
          "table": [
           {
            "cells": {
             "fill": {
              "color": "#EBF0F8"
             },
             "line": {
              "color": "white"
             }
            },
            "header": {
             "fill": {
              "color": "#C8D4E3"
             },
             "line": {
              "color": "white"
             }
            },
            "type": "table"
           }
          ]
         },
         "layout": {
          "annotationdefaults": {
           "arrowcolor": "#2a3f5f",
           "arrowhead": 0,
           "arrowwidth": 1
          },
          "autotypenumbers": "strict",
          "coloraxis": {
           "colorbar": {
            "outlinewidth": 0,
            "ticks": ""
           }
          },
          "colorscale": {
           "diverging": [
            [
             0,
             "#8e0152"
            ],
            [
             0.1,
             "#c51b7d"
            ],
            [
             0.2,
             "#de77ae"
            ],
            [
             0.3,
             "#f1b6da"
            ],
            [
             0.4,
             "#fde0ef"
            ],
            [
             0.5,
             "#f7f7f7"
            ],
            [
             0.6,
             "#e6f5d0"
            ],
            [
             0.7,
             "#b8e186"
            ],
            [
             0.8,
             "#7fbc41"
            ],
            [
             0.9,
             "#4d9221"
            ],
            [
             1,
             "#276419"
            ]
           ],
           "sequential": [
            [
             0,
             "#0d0887"
            ],
            [
             0.1111111111111111,
             "#46039f"
            ],
            [
             0.2222222222222222,
             "#7201a8"
            ],
            [
             0.3333333333333333,
             "#9c179e"
            ],
            [
             0.4444444444444444,
             "#bd3786"
            ],
            [
             0.5555555555555556,
             "#d8576b"
            ],
            [
             0.6666666666666666,
             "#ed7953"
            ],
            [
             0.7777777777777778,
             "#fb9f3a"
            ],
            [
             0.8888888888888888,
             "#fdca26"
            ],
            [
             1,
             "#f0f921"
            ]
           ],
           "sequentialminus": [
            [
             0,
             "#0d0887"
            ],
            [
             0.1111111111111111,
             "#46039f"
            ],
            [
             0.2222222222222222,
             "#7201a8"
            ],
            [
             0.3333333333333333,
             "#9c179e"
            ],
            [
             0.4444444444444444,
             "#bd3786"
            ],
            [
             0.5555555555555556,
             "#d8576b"
            ],
            [
             0.6666666666666666,
             "#ed7953"
            ],
            [
             0.7777777777777778,
             "#fb9f3a"
            ],
            [
             0.8888888888888888,
             "#fdca26"
            ],
            [
             1,
             "#f0f921"
            ]
           ]
          },
          "colorway": [
           "#636efa",
           "#EF553B",
           "#00cc96",
           "#ab63fa",
           "#FFA15A",
           "#19d3f3",
           "#FF6692",
           "#B6E880",
           "#FF97FF",
           "#FECB52"
          ],
          "font": {
           "color": "#2a3f5f"
          },
          "geo": {
           "bgcolor": "white",
           "lakecolor": "white",
           "landcolor": "#E5ECF6",
           "showlakes": true,
           "showland": true,
           "subunitcolor": "white"
          },
          "hoverlabel": {
           "align": "left"
          },
          "hovermode": "closest",
          "mapbox": {
           "style": "light"
          },
          "paper_bgcolor": "white",
          "plot_bgcolor": "#E5ECF6",
          "polar": {
           "angularaxis": {
            "gridcolor": "white",
            "linecolor": "white",
            "ticks": ""
           },
           "bgcolor": "#E5ECF6",
           "radialaxis": {
            "gridcolor": "white",
            "linecolor": "white",
            "ticks": ""
           }
          },
          "scene": {
           "xaxis": {
            "backgroundcolor": "#E5ECF6",
            "gridcolor": "white",
            "gridwidth": 2,
            "linecolor": "white",
            "showbackground": true,
            "ticks": "",
            "zerolinecolor": "white"
           },
           "yaxis": {
            "backgroundcolor": "#E5ECF6",
            "gridcolor": "white",
            "gridwidth": 2,
            "linecolor": "white",
            "showbackground": true,
            "ticks": "",
            "zerolinecolor": "white"
           },
           "zaxis": {
            "backgroundcolor": "#E5ECF6",
            "gridcolor": "white",
            "gridwidth": 2,
            "linecolor": "white",
            "showbackground": true,
            "ticks": "",
            "zerolinecolor": "white"
           }
          },
          "shapedefaults": {
           "line": {
            "color": "#2a3f5f"
           }
          },
          "ternary": {
           "aaxis": {
            "gridcolor": "white",
            "linecolor": "white",
            "ticks": ""
           },
           "baxis": {
            "gridcolor": "white",
            "linecolor": "white",
            "ticks": ""
           },
           "bgcolor": "#E5ECF6",
           "caxis": {
            "gridcolor": "white",
            "linecolor": "white",
            "ticks": ""
           }
          },
          "title": {
           "x": 0.05
          },
          "xaxis": {
           "automargin": true,
           "gridcolor": "white",
           "linecolor": "white",
           "ticks": "",
           "title": {
            "standoff": 15
           },
           "zerolinecolor": "white",
           "zerolinewidth": 2
          },
          "yaxis": {
           "automargin": true,
           "gridcolor": "white",
           "linecolor": "white",
           "ticks": "",
           "title": {
            "standoff": 15
           },
           "zerolinecolor": "white",
           "zerolinewidth": 2
          }
         }
        },
        "title": {
         "text": "Top Films Starring Tom Hanks"
        },
        "xaxis": {
         "anchor": "y",
         "domain": [
          0,
          1
         ],
         "title": {
          "text": "film_title"
         }
        },
        "yaxis": {
         "anchor": "x",
         "domain": [
          0,
          1
         ],
         "title": {
          "text": "votes"
         }
        }
       }
      }
     },
     "metadata": {},
     "output_type": "display_data"
    }
   ],
   "source": [
    "# create a new column that is True if Tom Hanks is in the cast and False otherwise\n",
    "th_df['Tom Hanks'] = th_df['lead_actor'].str.contains('Tom Hanks')\n",
    "\n",
    "# filter the dataframe to only include films starring Tom Hanks\n",
    "th_df = th_df[th_df['Tom Hanks'] == True]\n",
    "\n",
    "# sort the dataframe by the number of votes in descending order\n",
    "th_df = th_df.sort_values(by='votes', ascending=False)\n",
    "\n",
    "# create a bar chart using Plotly Express\n",
    "fig = px.bar(th_df, x='film_title', y='votes', title='Top Films Starring Tom Hanks')\n",
    "\n",
    "# show chart\n",
    "fig.show()\n"
   ]
  },
  {
   "cell_type": "code",
   "execution_count": 69,
   "id": "10bcfed5",
   "metadata": {},
   "outputs": [
    {
     "data": {
      "text/html": [
       "<div>\n",
       "<style scoped>\n",
       "    .dataframe tbody tr th:only-of-type {\n",
       "        vertical-align: middle;\n",
       "    }\n",
       "\n",
       "    .dataframe tbody tr th {\n",
       "        vertical-align: top;\n",
       "    }\n",
       "\n",
       "    .dataframe thead th {\n",
       "        text-align: right;\n",
       "    }\n",
       "</style>\n",
       "<table border=\"1\" class=\"dataframe\">\n",
       "  <thead>\n",
       "    <tr style=\"text-align: right;\">\n",
       "      <th></th>\n",
       "      <th>film_title</th>\n",
       "      <th>genre</th>\n",
       "      <th>release_year</th>\n",
       "      <th>director</th>\n",
       "      <th>lead_actor</th>\n",
       "      <th>run_time_minutes</th>\n",
       "      <th>mpa_rating</th>\n",
       "      <th>imdb_stars_rating</th>\n",
       "      <th>synopsis</th>\n",
       "      <th>metascore</th>\n",
       "      <th>votes</th>\n",
       "      <th>gross</th>\n",
       "      <th>image_url</th>\n",
       "    </tr>\n",
       "  </thead>\n",
       "  <tbody>\n",
       "    <tr>\n",
       "      <th>0</th>\n",
       "      <td>The Shawshank Redemption</td>\n",
       "      <td>Drama</td>\n",
       "      <td>1994</td>\n",
       "      <td>Frank Darabont</td>\n",
       "      <td>Tim Robbins</td>\n",
       "      <td>142</td>\n",
       "      <td>R</td>\n",
       "      <td>9.0</td>\n",
       "      <td>Over the course of several years, two convict...</td>\n",
       "      <td>81.0</td>\n",
       "      <td>2690086</td>\n",
       "      <td>28.34</td>\n",
       "      <td>https://m.media-amazon.com/images/M/MV5BMDFkYT...</td>\n",
       "    </tr>\n",
       "    <tr>\n",
       "      <th>1</th>\n",
       "      <td>The Godfather</td>\n",
       "      <td>Crime, Drama</td>\n",
       "      <td>1972</td>\n",
       "      <td>Francis Ford Coppola</td>\n",
       "      <td>Marlon Brando</td>\n",
       "      <td>175</td>\n",
       "      <td>R</td>\n",
       "      <td>9.0</td>\n",
       "      <td>The aging patriarch of an organized crime dyn...</td>\n",
       "      <td>100.0</td>\n",
       "      <td>1865892</td>\n",
       "      <td>134.97</td>\n",
       "      <td>https://m.media-amazon.com/images/M/MV5BM2MyNj...</td>\n",
       "    </tr>\n",
       "    <tr>\n",
       "      <th>2</th>\n",
       "      <td>The Dark Knight</td>\n",
       "      <td>Action, Crime, Drama</td>\n",
       "      <td>2008</td>\n",
       "      <td>Christopher Nolan</td>\n",
       "      <td>Christian Bale</td>\n",
       "      <td>152</td>\n",
       "      <td>PG-13</td>\n",
       "      <td>9.0</td>\n",
       "      <td>When the menace known as the Joker wreaks hav...</td>\n",
       "      <td>84.0</td>\n",
       "      <td>2663660</td>\n",
       "      <td>534.86</td>\n",
       "      <td>https://m.media-amazon.com/images/M/MV5BMTMxNT...</td>\n",
       "    </tr>\n",
       "    <tr>\n",
       "      <th>3</th>\n",
       "      <td>Schindler's List</td>\n",
       "      <td>Biography, Drama, History</td>\n",
       "      <td>1993</td>\n",
       "      <td>Steven Spielberg</td>\n",
       "      <td>Liam Neeson</td>\n",
       "      <td>195</td>\n",
       "      <td>R</td>\n",
       "      <td>9.0</td>\n",
       "      <td>In German-occupied Poland during World War II...</td>\n",
       "      <td>94.0</td>\n",
       "      <td>1360534</td>\n",
       "      <td>96.90</td>\n",
       "      <td>https://m.media-amazon.com/images/M/MV5BNDE4OT...</td>\n",
       "    </tr>\n",
       "    <tr>\n",
       "      <th>4</th>\n",
       "      <td>The Godfather: Part II</td>\n",
       "      <td>Crime, Drama</td>\n",
       "      <td>1974</td>\n",
       "      <td>Francis Ford Coppola</td>\n",
       "      <td>Al Pacino</td>\n",
       "      <td>202</td>\n",
       "      <td>R</td>\n",
       "      <td>9.0</td>\n",
       "      <td>The early life and career of Vito Corleone in...</td>\n",
       "      <td>90.0</td>\n",
       "      <td>1276317</td>\n",
       "      <td>57.30</td>\n",
       "      <td>https://m.media-amazon.com/images/M/MV5BMWMwMG...</td>\n",
       "    </tr>\n",
       "  </tbody>\n",
       "</table>\n",
       "</div>"
      ],
      "text/plain": [
       "                 film_title                                   genre  \\\n",
       "0  The Shawshank Redemption                       Drama               \n",
       "1             The Godfather                Crime, Drama               \n",
       "2           The Dark Knight        Action, Crime, Drama               \n",
       "3          Schindler's List   Biography, Drama, History               \n",
       "4    The Godfather: Part II                Crime, Drama               \n",
       "\n",
       "   release_year              director      lead_actor  run_time_minutes  \\\n",
       "0          1994        Frank Darabont     Tim Robbins               142   \n",
       "1          1972  Francis Ford Coppola   Marlon Brando               175   \n",
       "2          2008     Christopher Nolan  Christian Bale               152   \n",
       "3          1993      Steven Spielberg     Liam Neeson               195   \n",
       "4          1974  Francis Ford Coppola       Al Pacino               202   \n",
       "\n",
       "  mpa_rating  imdb_stars_rating  \\\n",
       "0          R                9.0   \n",
       "1          R                9.0   \n",
       "2      PG-13                9.0   \n",
       "3          R                9.0   \n",
       "4          R                9.0   \n",
       "\n",
       "                                            synopsis  metascore    votes  \\\n",
       "0   Over the course of several years, two convict...       81.0  2690086   \n",
       "1   The aging patriarch of an organized crime dyn...      100.0  1865892   \n",
       "2   When the menace known as the Joker wreaks hav...       84.0  2663660   \n",
       "3   In German-occupied Poland during World War II...       94.0  1360534   \n",
       "4   The early life and career of Vito Corleone in...       90.0  1276317   \n",
       "\n",
       "    gross                                          image_url  \n",
       "0   28.34  https://m.media-amazon.com/images/M/MV5BMDFkYT...  \n",
       "1  134.97  https://m.media-amazon.com/images/M/MV5BM2MyNj...  \n",
       "2  534.86  https://m.media-amazon.com/images/M/MV5BMTMxNT...  \n",
       "3   96.90  https://m.media-amazon.com/images/M/MV5BNDE4OT...  \n",
       "4   57.30  https://m.media-amazon.com/images/M/MV5BMWMwMG...  "
      ]
     },
     "execution_count": 69,
     "metadata": {},
     "output_type": "execute_result"
    }
   ],
   "source": [
    "# newdf = df.copy()\n",
    "spiel_df = final_df.copy()\n",
    "spiel_df.head()"
   ]
  },
  {
   "cell_type": "markdown",
   "id": "a00e6633",
   "metadata": {},
   "source": [
    "### What are the top films directed by Steven Spielberg?"
   ]
  },
  {
   "cell_type": "code",
   "execution_count": 70,
   "id": "1e004399",
   "metadata": {},
   "outputs": [
    {
     "data": {
      "application/vnd.plotly.v1+json": {
       "config": {
        "plotlyServerURL": "https://plot.ly"
       },
       "data": [
        {
         "alignmentgroup": "True",
         "hovertemplate": "film_title=%{x}<br>votes=%{y}<extra></extra>",
         "legendgroup": "",
         "marker": {
          "color": "#636efa",
          "pattern": {
           "shape": ""
          }
         },
         "name": "",
         "offsetgroup": "",
         "orientation": "v",
         "showlegend": false,
         "textposition": "auto",
         "type": "bar",
         "x": [
          "Saving Private Ryan",
          "Schindler's List",
          "Jurassic Park",
          "Catch Me If You Can",
          "Indiana Jones and the Raiders of the Lost Ark",
          "Indiana Jones and the Last Crusade",
          "Jaws",
          "Minority Report",
          "E.T. the Extra-Terrestrial",
          "Close Encounters of the Third Kind",
          "Empire of the Sun",
          "The Color Purple",
          "The Fabelmans"
         ],
         "xaxis": "x",
         "y": [
          1397391,
          1360534,
          994242,
          991270,
          971262,
          759630,
          611326,
          556753,
          414256,
          204724,
          127695,
          88462,
          36351
         ],
         "yaxis": "y"
        }
       ],
       "layout": {
        "barmode": "relative",
        "legend": {
         "tracegroupgap": 0
        },
        "template": {
         "data": {
          "bar": [
           {
            "error_x": {
             "color": "#2a3f5f"
            },
            "error_y": {
             "color": "#2a3f5f"
            },
            "marker": {
             "line": {
              "color": "#E5ECF6",
              "width": 0.5
             },
             "pattern": {
              "fillmode": "overlay",
              "size": 10,
              "solidity": 0.2
             }
            },
            "type": "bar"
           }
          ],
          "barpolar": [
           {
            "marker": {
             "line": {
              "color": "#E5ECF6",
              "width": 0.5
             },
             "pattern": {
              "fillmode": "overlay",
              "size": 10,
              "solidity": 0.2
             }
            },
            "type": "barpolar"
           }
          ],
          "carpet": [
           {
            "aaxis": {
             "endlinecolor": "#2a3f5f",
             "gridcolor": "white",
             "linecolor": "white",
             "minorgridcolor": "white",
             "startlinecolor": "#2a3f5f"
            },
            "baxis": {
             "endlinecolor": "#2a3f5f",
             "gridcolor": "white",
             "linecolor": "white",
             "minorgridcolor": "white",
             "startlinecolor": "#2a3f5f"
            },
            "type": "carpet"
           }
          ],
          "choropleth": [
           {
            "colorbar": {
             "outlinewidth": 0,
             "ticks": ""
            },
            "type": "choropleth"
           }
          ],
          "contour": [
           {
            "colorbar": {
             "outlinewidth": 0,
             "ticks": ""
            },
            "colorscale": [
             [
              0,
              "#0d0887"
             ],
             [
              0.1111111111111111,
              "#46039f"
             ],
             [
              0.2222222222222222,
              "#7201a8"
             ],
             [
              0.3333333333333333,
              "#9c179e"
             ],
             [
              0.4444444444444444,
              "#bd3786"
             ],
             [
              0.5555555555555556,
              "#d8576b"
             ],
             [
              0.6666666666666666,
              "#ed7953"
             ],
             [
              0.7777777777777778,
              "#fb9f3a"
             ],
             [
              0.8888888888888888,
              "#fdca26"
             ],
             [
              1,
              "#f0f921"
             ]
            ],
            "type": "contour"
           }
          ],
          "contourcarpet": [
           {
            "colorbar": {
             "outlinewidth": 0,
             "ticks": ""
            },
            "type": "contourcarpet"
           }
          ],
          "heatmap": [
           {
            "colorbar": {
             "outlinewidth": 0,
             "ticks": ""
            },
            "colorscale": [
             [
              0,
              "#0d0887"
             ],
             [
              0.1111111111111111,
              "#46039f"
             ],
             [
              0.2222222222222222,
              "#7201a8"
             ],
             [
              0.3333333333333333,
              "#9c179e"
             ],
             [
              0.4444444444444444,
              "#bd3786"
             ],
             [
              0.5555555555555556,
              "#d8576b"
             ],
             [
              0.6666666666666666,
              "#ed7953"
             ],
             [
              0.7777777777777778,
              "#fb9f3a"
             ],
             [
              0.8888888888888888,
              "#fdca26"
             ],
             [
              1,
              "#f0f921"
             ]
            ],
            "type": "heatmap"
           }
          ],
          "heatmapgl": [
           {
            "colorbar": {
             "outlinewidth": 0,
             "ticks": ""
            },
            "colorscale": [
             [
              0,
              "#0d0887"
             ],
             [
              0.1111111111111111,
              "#46039f"
             ],
             [
              0.2222222222222222,
              "#7201a8"
             ],
             [
              0.3333333333333333,
              "#9c179e"
             ],
             [
              0.4444444444444444,
              "#bd3786"
             ],
             [
              0.5555555555555556,
              "#d8576b"
             ],
             [
              0.6666666666666666,
              "#ed7953"
             ],
             [
              0.7777777777777778,
              "#fb9f3a"
             ],
             [
              0.8888888888888888,
              "#fdca26"
             ],
             [
              1,
              "#f0f921"
             ]
            ],
            "type": "heatmapgl"
           }
          ],
          "histogram": [
           {
            "marker": {
             "pattern": {
              "fillmode": "overlay",
              "size": 10,
              "solidity": 0.2
             }
            },
            "type": "histogram"
           }
          ],
          "histogram2d": [
           {
            "colorbar": {
             "outlinewidth": 0,
             "ticks": ""
            },
            "colorscale": [
             [
              0,
              "#0d0887"
             ],
             [
              0.1111111111111111,
              "#46039f"
             ],
             [
              0.2222222222222222,
              "#7201a8"
             ],
             [
              0.3333333333333333,
              "#9c179e"
             ],
             [
              0.4444444444444444,
              "#bd3786"
             ],
             [
              0.5555555555555556,
              "#d8576b"
             ],
             [
              0.6666666666666666,
              "#ed7953"
             ],
             [
              0.7777777777777778,
              "#fb9f3a"
             ],
             [
              0.8888888888888888,
              "#fdca26"
             ],
             [
              1,
              "#f0f921"
             ]
            ],
            "type": "histogram2d"
           }
          ],
          "histogram2dcontour": [
           {
            "colorbar": {
             "outlinewidth": 0,
             "ticks": ""
            },
            "colorscale": [
             [
              0,
              "#0d0887"
             ],
             [
              0.1111111111111111,
              "#46039f"
             ],
             [
              0.2222222222222222,
              "#7201a8"
             ],
             [
              0.3333333333333333,
              "#9c179e"
             ],
             [
              0.4444444444444444,
              "#bd3786"
             ],
             [
              0.5555555555555556,
              "#d8576b"
             ],
             [
              0.6666666666666666,
              "#ed7953"
             ],
             [
              0.7777777777777778,
              "#fb9f3a"
             ],
             [
              0.8888888888888888,
              "#fdca26"
             ],
             [
              1,
              "#f0f921"
             ]
            ],
            "type": "histogram2dcontour"
           }
          ],
          "mesh3d": [
           {
            "colorbar": {
             "outlinewidth": 0,
             "ticks": ""
            },
            "type": "mesh3d"
           }
          ],
          "parcoords": [
           {
            "line": {
             "colorbar": {
              "outlinewidth": 0,
              "ticks": ""
             }
            },
            "type": "parcoords"
           }
          ],
          "pie": [
           {
            "automargin": true,
            "type": "pie"
           }
          ],
          "scatter": [
           {
            "fillpattern": {
             "fillmode": "overlay",
             "size": 10,
             "solidity": 0.2
            },
            "type": "scatter"
           }
          ],
          "scatter3d": [
           {
            "line": {
             "colorbar": {
              "outlinewidth": 0,
              "ticks": ""
             }
            },
            "marker": {
             "colorbar": {
              "outlinewidth": 0,
              "ticks": ""
             }
            },
            "type": "scatter3d"
           }
          ],
          "scattercarpet": [
           {
            "marker": {
             "colorbar": {
              "outlinewidth": 0,
              "ticks": ""
             }
            },
            "type": "scattercarpet"
           }
          ],
          "scattergeo": [
           {
            "marker": {
             "colorbar": {
              "outlinewidth": 0,
              "ticks": ""
             }
            },
            "type": "scattergeo"
           }
          ],
          "scattergl": [
           {
            "marker": {
             "colorbar": {
              "outlinewidth": 0,
              "ticks": ""
             }
            },
            "type": "scattergl"
           }
          ],
          "scattermapbox": [
           {
            "marker": {
             "colorbar": {
              "outlinewidth": 0,
              "ticks": ""
             }
            },
            "type": "scattermapbox"
           }
          ],
          "scatterpolar": [
           {
            "marker": {
             "colorbar": {
              "outlinewidth": 0,
              "ticks": ""
             }
            },
            "type": "scatterpolar"
           }
          ],
          "scatterpolargl": [
           {
            "marker": {
             "colorbar": {
              "outlinewidth": 0,
              "ticks": ""
             }
            },
            "type": "scatterpolargl"
           }
          ],
          "scatterternary": [
           {
            "marker": {
             "colorbar": {
              "outlinewidth": 0,
              "ticks": ""
             }
            },
            "type": "scatterternary"
           }
          ],
          "surface": [
           {
            "colorbar": {
             "outlinewidth": 0,
             "ticks": ""
            },
            "colorscale": [
             [
              0,
              "#0d0887"
             ],
             [
              0.1111111111111111,
              "#46039f"
             ],
             [
              0.2222222222222222,
              "#7201a8"
             ],
             [
              0.3333333333333333,
              "#9c179e"
             ],
             [
              0.4444444444444444,
              "#bd3786"
             ],
             [
              0.5555555555555556,
              "#d8576b"
             ],
             [
              0.6666666666666666,
              "#ed7953"
             ],
             [
              0.7777777777777778,
              "#fb9f3a"
             ],
             [
              0.8888888888888888,
              "#fdca26"
             ],
             [
              1,
              "#f0f921"
             ]
            ],
            "type": "surface"
           }
          ],
          "table": [
           {
            "cells": {
             "fill": {
              "color": "#EBF0F8"
             },
             "line": {
              "color": "white"
             }
            },
            "header": {
             "fill": {
              "color": "#C8D4E3"
             },
             "line": {
              "color": "white"
             }
            },
            "type": "table"
           }
          ]
         },
         "layout": {
          "annotationdefaults": {
           "arrowcolor": "#2a3f5f",
           "arrowhead": 0,
           "arrowwidth": 1
          },
          "autotypenumbers": "strict",
          "coloraxis": {
           "colorbar": {
            "outlinewidth": 0,
            "ticks": ""
           }
          },
          "colorscale": {
           "diverging": [
            [
             0,
             "#8e0152"
            ],
            [
             0.1,
             "#c51b7d"
            ],
            [
             0.2,
             "#de77ae"
            ],
            [
             0.3,
             "#f1b6da"
            ],
            [
             0.4,
             "#fde0ef"
            ],
            [
             0.5,
             "#f7f7f7"
            ],
            [
             0.6,
             "#e6f5d0"
            ],
            [
             0.7,
             "#b8e186"
            ],
            [
             0.8,
             "#7fbc41"
            ],
            [
             0.9,
             "#4d9221"
            ],
            [
             1,
             "#276419"
            ]
           ],
           "sequential": [
            [
             0,
             "#0d0887"
            ],
            [
             0.1111111111111111,
             "#46039f"
            ],
            [
             0.2222222222222222,
             "#7201a8"
            ],
            [
             0.3333333333333333,
             "#9c179e"
            ],
            [
             0.4444444444444444,
             "#bd3786"
            ],
            [
             0.5555555555555556,
             "#d8576b"
            ],
            [
             0.6666666666666666,
             "#ed7953"
            ],
            [
             0.7777777777777778,
             "#fb9f3a"
            ],
            [
             0.8888888888888888,
             "#fdca26"
            ],
            [
             1,
             "#f0f921"
            ]
           ],
           "sequentialminus": [
            [
             0,
             "#0d0887"
            ],
            [
             0.1111111111111111,
             "#46039f"
            ],
            [
             0.2222222222222222,
             "#7201a8"
            ],
            [
             0.3333333333333333,
             "#9c179e"
            ],
            [
             0.4444444444444444,
             "#bd3786"
            ],
            [
             0.5555555555555556,
             "#d8576b"
            ],
            [
             0.6666666666666666,
             "#ed7953"
            ],
            [
             0.7777777777777778,
             "#fb9f3a"
            ],
            [
             0.8888888888888888,
             "#fdca26"
            ],
            [
             1,
             "#f0f921"
            ]
           ]
          },
          "colorway": [
           "#636efa",
           "#EF553B",
           "#00cc96",
           "#ab63fa",
           "#FFA15A",
           "#19d3f3",
           "#FF6692",
           "#B6E880",
           "#FF97FF",
           "#FECB52"
          ],
          "font": {
           "color": "#2a3f5f"
          },
          "geo": {
           "bgcolor": "white",
           "lakecolor": "white",
           "landcolor": "#E5ECF6",
           "showlakes": true,
           "showland": true,
           "subunitcolor": "white"
          },
          "hoverlabel": {
           "align": "left"
          },
          "hovermode": "closest",
          "mapbox": {
           "style": "light"
          },
          "paper_bgcolor": "white",
          "plot_bgcolor": "#E5ECF6",
          "polar": {
           "angularaxis": {
            "gridcolor": "white",
            "linecolor": "white",
            "ticks": ""
           },
           "bgcolor": "#E5ECF6",
           "radialaxis": {
            "gridcolor": "white",
            "linecolor": "white",
            "ticks": ""
           }
          },
          "scene": {
           "xaxis": {
            "backgroundcolor": "#E5ECF6",
            "gridcolor": "white",
            "gridwidth": 2,
            "linecolor": "white",
            "showbackground": true,
            "ticks": "",
            "zerolinecolor": "white"
           },
           "yaxis": {
            "backgroundcolor": "#E5ECF6",
            "gridcolor": "white",
            "gridwidth": 2,
            "linecolor": "white",
            "showbackground": true,
            "ticks": "",
            "zerolinecolor": "white"
           },
           "zaxis": {
            "backgroundcolor": "#E5ECF6",
            "gridcolor": "white",
            "gridwidth": 2,
            "linecolor": "white",
            "showbackground": true,
            "ticks": "",
            "zerolinecolor": "white"
           }
          },
          "shapedefaults": {
           "line": {
            "color": "#2a3f5f"
           }
          },
          "ternary": {
           "aaxis": {
            "gridcolor": "white",
            "linecolor": "white",
            "ticks": ""
           },
           "baxis": {
            "gridcolor": "white",
            "linecolor": "white",
            "ticks": ""
           },
           "bgcolor": "#E5ECF6",
           "caxis": {
            "gridcolor": "white",
            "linecolor": "white",
            "ticks": ""
           }
          },
          "title": {
           "x": 0.05
          },
          "xaxis": {
           "automargin": true,
           "gridcolor": "white",
           "linecolor": "white",
           "ticks": "",
           "title": {
            "standoff": 15
           },
           "zerolinecolor": "white",
           "zerolinewidth": 2
          },
          "yaxis": {
           "automargin": true,
           "gridcolor": "white",
           "linecolor": "white",
           "ticks": "",
           "title": {
            "standoff": 15
           },
           "zerolinecolor": "white",
           "zerolinewidth": 2
          }
         }
        },
        "title": {
         "text": "Top Films Directed by Steven Spielberg"
        },
        "xaxis": {
         "anchor": "y",
         "domain": [
          0,
          1
         ],
         "title": {
          "text": "film_title"
         }
        },
        "yaxis": {
         "anchor": "x",
         "domain": [
          0,
          1
         ],
         "title": {
          "text": "votes"
         }
        }
       }
      }
     },
     "metadata": {},
     "output_type": "display_data"
    }
   ],
   "source": [
    "# create a new column that is True if Steven Spielberg is the director and False otherwise\n",
    "spiel_df['Steven Spielberg'] = spiel_df['director'].str.contains('Steven Spielberg')\n",
    "\n",
    "# filter the dataframe to only include films starring Tom Hanks\n",
    "spiel_df = spiel_df[spiel_df['Steven Spielberg'] == True]\n",
    "\n",
    "# sort the dataframe by the number of votes in descending order\n",
    "spiel_df = spiel_df.sort_values(by='votes', ascending=False)\n",
    "\n",
    "# create a bar chart using Plotly Express\n",
    "fig = px.bar(spiel_df, x='film_title', y='votes', title='Top Films Directed by Steven Spielberg')\n",
    "\n",
    "# show chart\n",
    "fig.show()"
   ]
  },
  {
   "cell_type": "code",
   "execution_count": 71,
   "id": "78a9d7a1",
   "metadata": {},
   "outputs": [
    {
     "data": {
      "text/html": [
       "<div>\n",
       "<style scoped>\n",
       "    .dataframe tbody tr th:only-of-type {\n",
       "        vertical-align: middle;\n",
       "    }\n",
       "\n",
       "    .dataframe tbody tr th {\n",
       "        vertical-align: top;\n",
       "    }\n",
       "\n",
       "    .dataframe thead th {\n",
       "        text-align: right;\n",
       "    }\n",
       "</style>\n",
       "<table border=\"1\" class=\"dataframe\">\n",
       "  <thead>\n",
       "    <tr style=\"text-align: right;\">\n",
       "      <th></th>\n",
       "      <th>film_title</th>\n",
       "      <th>genre</th>\n",
       "      <th>release_year</th>\n",
       "      <th>director</th>\n",
       "      <th>lead_actor</th>\n",
       "      <th>run_time_minutes</th>\n",
       "      <th>mpa_rating</th>\n",
       "      <th>imdb_stars_rating</th>\n",
       "      <th>synopsis</th>\n",
       "      <th>metascore</th>\n",
       "      <th>votes</th>\n",
       "      <th>gross</th>\n",
       "      <th>image_url</th>\n",
       "    </tr>\n",
       "  </thead>\n",
       "  <tbody>\n",
       "    <tr>\n",
       "      <th>0</th>\n",
       "      <td>The Shawshank Redemption</td>\n",
       "      <td>Drama</td>\n",
       "      <td>1994</td>\n",
       "      <td>Frank Darabont</td>\n",
       "      <td>Tim Robbins</td>\n",
       "      <td>142</td>\n",
       "      <td>R</td>\n",
       "      <td>9.0</td>\n",
       "      <td>Over the course of several years, two convict...</td>\n",
       "      <td>81.0</td>\n",
       "      <td>2690086</td>\n",
       "      <td>28.34</td>\n",
       "      <td>https://m.media-amazon.com/images/M/MV5BMDFkYT...</td>\n",
       "    </tr>\n",
       "    <tr>\n",
       "      <th>1</th>\n",
       "      <td>The Godfather</td>\n",
       "      <td>Crime, Drama</td>\n",
       "      <td>1972</td>\n",
       "      <td>Francis Ford Coppola</td>\n",
       "      <td>Marlon Brando</td>\n",
       "      <td>175</td>\n",
       "      <td>R</td>\n",
       "      <td>9.0</td>\n",
       "      <td>The aging patriarch of an organized crime dyn...</td>\n",
       "      <td>100.0</td>\n",
       "      <td>1865892</td>\n",
       "      <td>134.97</td>\n",
       "      <td>https://m.media-amazon.com/images/M/MV5BM2MyNj...</td>\n",
       "    </tr>\n",
       "    <tr>\n",
       "      <th>2</th>\n",
       "      <td>The Dark Knight</td>\n",
       "      <td>Action, Crime, Drama</td>\n",
       "      <td>2008</td>\n",
       "      <td>Christopher Nolan</td>\n",
       "      <td>Christian Bale</td>\n",
       "      <td>152</td>\n",
       "      <td>PG-13</td>\n",
       "      <td>9.0</td>\n",
       "      <td>When the menace known as the Joker wreaks hav...</td>\n",
       "      <td>84.0</td>\n",
       "      <td>2663660</td>\n",
       "      <td>534.86</td>\n",
       "      <td>https://m.media-amazon.com/images/M/MV5BMTMxNT...</td>\n",
       "    </tr>\n",
       "    <tr>\n",
       "      <th>3</th>\n",
       "      <td>Schindler's List</td>\n",
       "      <td>Biography, Drama, History</td>\n",
       "      <td>1993</td>\n",
       "      <td>Steven Spielberg</td>\n",
       "      <td>Liam Neeson</td>\n",
       "      <td>195</td>\n",
       "      <td>R</td>\n",
       "      <td>9.0</td>\n",
       "      <td>In German-occupied Poland during World War II...</td>\n",
       "      <td>94.0</td>\n",
       "      <td>1360534</td>\n",
       "      <td>96.90</td>\n",
       "      <td>https://m.media-amazon.com/images/M/MV5BNDE4OT...</td>\n",
       "    </tr>\n",
       "    <tr>\n",
       "      <th>4</th>\n",
       "      <td>The Godfather: Part II</td>\n",
       "      <td>Crime, Drama</td>\n",
       "      <td>1974</td>\n",
       "      <td>Francis Ford Coppola</td>\n",
       "      <td>Al Pacino</td>\n",
       "      <td>202</td>\n",
       "      <td>R</td>\n",
       "      <td>9.0</td>\n",
       "      <td>The early life and career of Vito Corleone in...</td>\n",
       "      <td>90.0</td>\n",
       "      <td>1276317</td>\n",
       "      <td>57.30</td>\n",
       "      <td>https://m.media-amazon.com/images/M/MV5BMWMwMG...</td>\n",
       "    </tr>\n",
       "  </tbody>\n",
       "</table>\n",
       "</div>"
      ],
      "text/plain": [
       "                 film_title                                   genre  \\\n",
       "0  The Shawshank Redemption                       Drama               \n",
       "1             The Godfather                Crime, Drama               \n",
       "2           The Dark Knight        Action, Crime, Drama               \n",
       "3          Schindler's List   Biography, Drama, History               \n",
       "4    The Godfather: Part II                Crime, Drama               \n",
       "\n",
       "   release_year              director      lead_actor  run_time_minutes  \\\n",
       "0          1994        Frank Darabont     Tim Robbins               142   \n",
       "1          1972  Francis Ford Coppola   Marlon Brando               175   \n",
       "2          2008     Christopher Nolan  Christian Bale               152   \n",
       "3          1993      Steven Spielberg     Liam Neeson               195   \n",
       "4          1974  Francis Ford Coppola       Al Pacino               202   \n",
       "\n",
       "  mpa_rating  imdb_stars_rating  \\\n",
       "0          R                9.0   \n",
       "1          R                9.0   \n",
       "2      PG-13                9.0   \n",
       "3          R                9.0   \n",
       "4          R                9.0   \n",
       "\n",
       "                                            synopsis  metascore    votes  \\\n",
       "0   Over the course of several years, two convict...       81.0  2690086   \n",
       "1   The aging patriarch of an organized crime dyn...      100.0  1865892   \n",
       "2   When the menace known as the Joker wreaks hav...       84.0  2663660   \n",
       "3   In German-occupied Poland during World War II...       94.0  1360534   \n",
       "4   The early life and career of Vito Corleone in...       90.0  1276317   \n",
       "\n",
       "    gross                                          image_url  \n",
       "0   28.34  https://m.media-amazon.com/images/M/MV5BMDFkYT...  \n",
       "1  134.97  https://m.media-amazon.com/images/M/MV5BM2MyNj...  \n",
       "2  534.86  https://m.media-amazon.com/images/M/MV5BMTMxNT...  \n",
       "3   96.90  https://m.media-amazon.com/images/M/MV5BNDE4OT...  \n",
       "4   57.30  https://m.media-amazon.com/images/M/MV5BMWMwMG...  "
      ]
     },
     "execution_count": 71,
     "metadata": {},
     "output_type": "execute_result"
    }
   ],
   "source": [
    "# newdf = df.copy()\n",
    "ry_df = df.copy()\n",
    "ry_df.head()"
   ]
  },
  {
   "cell_type": "code",
   "execution_count": 72,
   "id": "f469b0b8",
   "metadata": {},
   "outputs": [],
   "source": [
    "vr_df = df.copy()"
   ]
  },
  {
   "cell_type": "markdown",
   "id": "22dea34f",
   "metadata": {},
   "source": [
    "### Plot IMDb stars rating v votes"
   ]
  },
  {
   "cell_type": "code",
   "execution_count": 73,
   "id": "4907901a",
   "metadata": {},
   "outputs": [
    {
     "data": {
      "image/png": "[encoded data removed]",
      "text/plain": [
       "<Figure size 432x288 with 1 Axes>"
      ]
     },
     "metadata": {
      "needs_background": "light"
     },
     "output_type": "display_data"
    }
   ],
   "source": [
    "# normalize the votes column\n",
    "votes_norm = vr_df['votes']/10**6\n",
    "\n",
    "# create the plot\n",
    "plt.scatter(votes_norm, imdb_stars_rating)\n",
    "plt.xlabel('Votes (millions)')\n",
    "plt.ylabel('IMDb star rating')\n",
    "plt.title('IMDb Stars Rating v Votes')\n",
    "\n",
    "# show plot\n",
    "plt.show()"
   ]
  },
  {
   "cell_type": "markdown",
   "id": "9107ed6d",
   "metadata": {},
   "source": [
    "### Plot genre v gross revenue for top 10 grossing films\n"
   ]
  },
  {
   "cell_type": "code",
   "execution_count": 74,
   "id": "729e3cbb",
   "metadata": {},
   "outputs": [
    {
     "data": {
      "image/png": "[encoded data removed]",
      "text/plain": [
       "<Figure size 432x288 with 1 Axes>"
      ]
     },
     "metadata": {
      "needs_background": "light"
     },
     "output_type": "display_data"
    }
   ],
   "source": [
    "# plot relationship between genre and gross revenue for top 10 grossing films\n",
    "\n",
    "# group the df by genre and calculate the sum of gross revenue for each genre:\n",
    "genre_df_sum = df.groupby(['genre'])['gross'].sum()\n",
    "# sort the df by gross revenue in descending order and select the top 10 genres:\n",
    "genre_df_sum_sorted = genre_df_sum.sort_values(ascending=False)\n",
    "top_n = 10 # select top 10 genres \n",
    "df_top_n = genre_df_sum_sorted[:top_n]\n",
    "# create a bar plot of the sum of gross revenue for the top N genres:\n",
    "df_top_n.plot(kind='bar', title='Sum of Gross Revenue by Genre')\n",
    "plt.xlabel('Genre')\n",
    "plt.ylabel('Sum of Gross Revenue')\n",
    "plt.xticks(rotation=90) \n",
    "# show plot\n",
    "plt.show()"
   ]
  },
  {
   "cell_type": "markdown",
   "id": "435b1800",
   "metadata": {},
   "source": [
    "### Plot line graph of gross revenue over the years"
   ]
  },
  {
   "cell_type": "code",
   "execution_count": 75,
   "id": "f8ab760c",
   "metadata": {},
   "outputs": [
    {
     "data": {
      "image/png": "[encoded data removed]",
      "text/plain": [
       "<Figure size 432x288 with 1 Axes>"
      ]
     },
     "metadata": {
      "needs_background": "light"
     },
     "output_type": "display_data"
    }
   ],
   "source": [
    "df_yearly = df.groupby(['release_year'])['gross'].sum()\n",
    "df_yearly.plot(kind='line', title='Gross Revenue over the Years')\n",
    "plt.xlabel('Year')\n",
    "plt.ylabel('Gross Revenue')\n",
    "# limit the x axis to the range of 1950 to 2022\n",
    "plt.xlim(1950,2022) \n",
    "plt.show()\n"
   ]
  },
  {
   "cell_type": "markdown",
   "id": "99427058",
   "metadata": {},
   "source": [
    "The years following 2010 that had the least gross revenue appear to be 2020 through 2022 most likely due to the pandemic. To check which year after 2010 had the least gross revenue we can filter the release years for years after 2010 and then find the minimum gross revenue for that group of years."
   ]
  },
  {
   "cell_type": "markdown",
   "id": "7cdf0415",
   "metadata": {},
   "source": [
    "#### What year after 2010 had the least gross revenue"
   ]
  },
  {
   "cell_type": "code",
   "execution_count": 77,
   "id": "ee55bc2e",
   "metadata": {},
   "outputs": [
    {
     "name": "stdout",
     "output_type": "stream",
     "text": [
      "Year with the least gross revenue after 2010:  2022\n"
     ]
    }
   ],
   "source": [
    "#group the data by year\n",
    "gross_2010_df = df.groupby('release_year').sum()\n",
    "\n",
    "#filter the dataframe to include only the years after 2010\n",
    "gross_2010_df = gross_2010_df[gross_2010_df.index > 2010]\n",
    "\n",
    "#find the year with the least gross revenue\n",
    "year = gross_2010_df['gross'].idxmin()\n",
    "\n",
    "#print the result\n",
    "print(\"Year with the least gross revenue after 2010: \", year)\n"
   ]
  },
  {
   "cell_type": "markdown",
   "id": "5e624c94",
   "metadata": {},
   "source": [
    "### Plot top 5 directors by gross revenue"
   ]
  },
  {
   "cell_type": "code",
   "execution_count": null,
   "id": "f0dd6b32",
   "metadata": {},
   "outputs": [
    {
     "data": {
      "image/png": "[encoded data removed]",
      "text/plain": [
       "<Figure size 432x288 with 1 Axes>"
      ]
     },
     "metadata": {
      "needs_background": "light"
     },
     "output_type": "display_data"
    }
   ],
   "source": [
    "# group the data by Director\n",
    "dir_df = final_df.groupby('director').sum().sort_values(by='gross',ascending=False)\n",
    "\n",
    "# select only the top 5 directors by gross revenue\n",
    "top_5_directors = dir_df.head(5)\n",
    "\n",
    "# reset the index\n",
    "top_5_directors.reset_index(inplace=True)\n",
    "\n",
    "# plot a bar chart for the top 5 directors\n",
    "sns.barplot(x='director', y='gross', data=top_5_directors)\n",
    "\n",
    "# add labels and title\n",
    "plt.xlabel('Directors')\n",
    "plt.ylabel('Gross Revenue')\n",
    "plt.title('Top 5 Directors by Gross Revenue')\n",
    "plt.xticks(rotation=90)\n",
    "\n",
    "# show chart\n",
    "plt.show()\n"
   ]
  },
  {
   "cell_type": "code",
   "execution_count": null,
   "id": "2ed23157",
   "metadata": {},
   "outputs": [
    {
     "name": "stdout",
     "output_type": "stream",
     "text": [
      "Maximum number of votes:  2690004\n"
     ]
    }
   ],
   "source": [
    "\n",
    "# find the maximum number of votes\n",
    "max_votes = final_df['votes'].max()\n",
    "\n",
    "# print the result\n",
    "print(\"Maximum number of votes: \", max_votes)\n"
   ]
  },
  {
   "cell_type": "markdown",
   "id": "ae053da0",
   "metadata": {},
   "source": [
    "### Plot top 5 directors by votes"
   ]
  },
  {
   "cell_type": "code",
   "execution_count": null,
   "id": "3329a926",
   "metadata": {},
   "outputs": [
    {
     "data": {
      "image/png": "[encoded data removed]",
      "text/plain": [
       "<Figure size 432x288 with 1 Axes>"
      ]
     },
     "metadata": {
      "needs_background": "light"
     },
     "output_type": "display_data"
    }
   ],
   "source": [
    "# group the data by director, sorts it by votes in descending order,\n",
    "# select only the top 5 directors by votes,\n",
    "# reset the index and then use seaborn to plot a bar chart\n",
    "# for the top 5 directors, using the director names as the x-axis labels and the votes as the y-axis values\n",
    "\n",
    "# group the data by Director\n",
    "dir_df = final_df.groupby('director').sum().sort_values(by='votes',ascending=False)\n",
    "\n",
    "# select only the top 5 directors by gross revenue\n",
    "top_5_directors = dir_df.head(5)\n",
    "\n",
    "# reset the index\n",
    "top_5_directors.reset_index(inplace=True)\n",
    "\n",
    "# plot a bar chart for the top 5 directors\n",
    "sns.barplot(x='director', y='votes', data=top_5_directors)\n",
    "\n",
    "# add labels and title\n",
    "plt.xlabel('Directors')\n",
    "plt.ylabel('Votes')\n",
    "plt.title('Top 5 Directors by Votes')\n",
    "plt.xticks(rotation=90)\n",
    "# plt.ylim(0,10000000)\n",
    "\n",
    "# show chart\n",
    "plt.show()\n"
   ]
  },
  {
   "cell_type": "markdown",
   "id": "89768173",
   "metadata": {},
   "source": [
    "### Plot top 5 directors by metascore"
   ]
  },
  {
   "cell_type": "code",
   "execution_count": null,
   "id": "1e77243f",
   "metadata": {},
   "outputs": [
    {
     "data": {
      "image/png": "[encoded data removed]",
      "text/plain": [
       "<Figure size 432x288 with 1 Axes>"
      ]
     },
     "metadata": {
      "needs_background": "light"
     },
     "output_type": "display_data"
    }
   ],
   "source": [
    "# group the data by director, sorts it by metascore in descending order,\n",
    "# select only the top 5 directors by votes,\n",
    "# reset the index and then use seaborn to plot a bar chart\n",
    "# for the top 5 directors, using the director names as the x-axis labels and the votes as the y-axis values\n",
    "\n",
    "# group the data by Director\n",
    "dir_df = final_df.groupby('director').sum().sort_values(by='metascore',ascending=False)\n",
    "\n",
    "# select only the top 5 directors by gross revenue\n",
    "top_5_directors = dir_df.head(5)\n",
    "\n",
    "# reset the index\n",
    "top_5_directors.reset_index(inplace=True)\n",
    "\n",
    "# plot a bar chart for the top 5 directors\n",
    "sns.barplot(x='director', y='metascore', data=top_5_directors)\n",
    "\n",
    "# add appropriate labels and title\n",
    "plt.xlabel('Directors')\n",
    "plt.ylabel('Votes')\n",
    "plt.title('Top 5 Directors by Metascore')\n",
    "plt.xticks(rotation=90)\n",
    "# plt.ylim(0,10000000)\n",
    "\n",
    "# show chart\n",
    "plt.show()"
   ]
  },
  {
   "cell_type": "markdown",
   "id": "cdf40933",
   "metadata": {},
   "source": [
    "### Plot top 5 lead actors by votes"
   ]
  },
  {
   "cell_type": "code",
   "execution_count": null,
   "id": "85bc30f0",
   "metadata": {},
   "outputs": [
    {
     "data": {
      "image/png": "[encoded data removed]",
      "text/plain": [
       "<Figure size 432x288 with 1 Axes>"
      ]
     },
     "metadata": {
      "needs_background": "light"
     },
     "output_type": "display_data"
    }
   ],
   "source": [
    "# group the data by lead actor, sorts it by votes in descending order,\n",
    "# select only the top 5 lead actors by votes,\n",
    "# reset the index and then use seaborn to plot a bar chart\n",
    "# for the top 5 actors, using the actor names as the x-axis labels and the votes as the y-axis values\n",
    "\n",
    "# group the data by lead_actor\n",
    "ld_actor_df = final_df.groupby('lead_actor').sum().sort_values(by='votes',ascending=False)\n",
    "\n",
    "# select only the top 5 directors by gross revenue\n",
    "top_5_actors = ld_actor_df.head(5)\n",
    "\n",
    "# reset the index\n",
    "top_5_actors.reset_index(inplace=True)\n",
    "\n",
    "# plot a bar chart for the top 5 directors\n",
    "sns.barplot(x='lead_actor', y='votes', data=top_5_actors)\n",
    "\n",
    "# add appropriate labels and title\n",
    "plt.xlabel('Lead Actors')\n",
    "plt.ylabel('Votes')\n",
    "plt.title('Top 5 Lead Actors by Votes')\n",
    "plt.xticks(rotation=90)\n",
    "# plt.ylim(0,10000000)\n",
    "\n",
    "# show chart\n",
    "plt.show()"
   ]
  },
  {
   "cell_type": "markdown",
   "id": "9718c3c5",
   "metadata": {},
   "source": [
    "### Plot top 5 lead actors by metascore"
   ]
  },
  {
   "cell_type": "code",
   "execution_count": null,
   "id": "892de7dd",
   "metadata": {},
   "outputs": [
    {
     "data": {
      "image/png": "[encoded data removed]",
      "text/plain": [
       "<Figure size 432x288 with 1 Axes>"
      ]
     },
     "metadata": {
      "needs_background": "light"
     },
     "output_type": "display_data"
    }
   ],
   "source": [
    "# group the data by lead actor, sorts it by metascore in descending order,\n",
    "# select only the top 5 lead actors by metascore,\n",
    "# reset the index and then use seaborn to plot a bar chart\n",
    "# for the top 5 actors, using the actor names as the x-axis labels and the metascore as the y-axis values\n",
    "\n",
    "# group the data by lead_actor\n",
    "actor_df = final_df.groupby('lead_actor').sum().sort_values(by='metascore',ascending=False)\n",
    "\n",
    "# select only the top 5 directors by metascore\n",
    "top_5_actors = actor_df.head(5)\n",
    "\n",
    "# reset the index\n",
    "top_5_actors.reset_index(inplace=True)\n",
    "\n",
    "# plot a bar chart for the top 5 directors\n",
    "sns.barplot(x='lead_actor', y='metascore', data=top_5_actors)\n",
    "\n",
    "# add appropriate labels and title\n",
    "plt.xlabel('Lead Actors')\n",
    "plt.ylabel('Metascore')\n",
    "plt.title('Top 5 Lead Actors by Metascore')\n",
    "plt.xticks(rotation=90)\n",
    "\n",
    "# display the chart\n",
    "plt.show()"
   ]
  },
  {
   "cell_type": "markdown",
   "id": "6c0e6bb8",
   "metadata": {},
   "source": [
    "### Plot a bar chart of the number of movies by MPA Rating"
   ]
  },
  {
   "cell_type": "code",
   "execution_count": null,
   "id": "e84041fb",
   "metadata": {},
   "outputs": [
    {
     "data": {
      "image/png": "[encoded data removed]",
      "text/plain": [
       "<Figure size 864x432 with 1 Axes>"
      ]
     },
     "metadata": {
      "needs_background": "light"
     },
     "output_type": "display_data"
    }
   ],
   "source": [
    "ax = final_df['mpa_rating'].value_counts().plot(\n",
    "     kind='bar',\n",
    "     figsize=(12,6),\n",
    "     title=\"Number of Movies by MPA Rating\")\n",
    "ax.set_xlabel(\"MPA Rating\")\n",
    "ax.set_ylabel(\"Number of Movies\")\n",
    "ax.plot();"
   ]
  },
  {
   "cell_type": "markdown",
   "id": "af5d6d32",
   "metadata": {},
   "source": [
    "### Plot top 5 longest running movies in minutes"
   ]
  },
  {
   "cell_type": "code",
   "execution_count": null,
   "id": "68d2c1a2",
   "metadata": {},
   "outputs": [
    {
     "data": {
      "image/png": "[encoded data removed]",
      "text/plain": [
       "<Figure size 432x288 with 1 Axes>"
      ]
     },
     "metadata": {
      "needs_background": "light"
     },
     "output_type": "display_data"
    }
   ],
   "source": [
    "# Plot top 5 longest running movies in minutes\n",
    "\n",
    "# sort the df 'minutes' column in descending order\n",
    "long_df = final_df.sort_values(by='run_time_minutes', ascending=False)\n",
    "\n",
    "# select the top 5 movies \n",
    "top_5_longest_movies = long_df.head(5)\n",
    "\n",
    "sns.barplot(x = top_5_longest_movies['film_title'], y = top_5_longest_movies['run_time_minutes'])\n",
    "plt.xlabel('Movie Title')\n",
    "plt.ylabel('Running Time (minutes)')\n",
    "plt.title('Top 5 Longest Running Movies')\n",
    "plt.xticks(rotation=90)\n",
    "plt.show()\n"
   ]
  },
  {
   "cell_type": "code",
   "execution_count": null,
   "id": "bd321f36",
   "metadata": {},
   "outputs": [
    {
     "data": {
      "text/html": [
       "<div>\n",
       "<style scoped>\n",
       "    .dataframe tbody tr th:only-of-type {\n",
       "        vertical-align: middle;\n",
       "    }\n",
       "\n",
       "    .dataframe tbody tr th {\n",
       "        vertical-align: top;\n",
       "    }\n",
       "\n",
       "    .dataframe thead th {\n",
       "        text-align: right;\n",
       "    }\n",
       "</style>\n",
       "<table border=\"1\" class=\"dataframe\">\n",
       "  <thead>\n",
       "    <tr style=\"text-align: right;\">\n",
       "      <th></th>\n",
       "      <th>film_title</th>\n",
       "      <th>genre</th>\n",
       "      <th>release_year</th>\n",
       "      <th>director</th>\n",
       "      <th>lead_actor</th>\n",
       "      <th>run_time_minutes</th>\n",
       "      <th>mpa_rating</th>\n",
       "      <th>imdb_stars_rating</th>\n",
       "      <th>synopsis</th>\n",
       "      <th>metascore</th>\n",
       "      <th>votes</th>\n",
       "      <th>gross</th>\n",
       "      <th>image_url</th>\n",
       "    </tr>\n",
       "  </thead>\n",
       "  <tbody>\n",
       "    <tr>\n",
       "      <th>189</th>\n",
       "      <td>Gangs of Wasseypur</td>\n",
       "      <td>Action, Comedy, Crime</td>\n",
       "      <td>2012</td>\n",
       "      <td>Anurag Kashyap</td>\n",
       "      <td>Pankaj Tripathi</td>\n",
       "      <td>321</td>\n",
       "      <td>Not Rated</td>\n",
       "      <td>8.0</td>\n",
       "      <td>A clash between Sultan and Shahid Khan leads ...</td>\n",
       "      <td>89.0</td>\n",
       "      <td>97473</td>\n",
       "      <td>NaN</td>\n",
       "      <td>https://m.media-amazon.com/images/M/MV5BMTc5Nj...</td>\n",
       "    </tr>\n",
       "    <tr>\n",
       "      <th>348</th>\n",
       "      <td>Zack Snyder's Justice League</td>\n",
       "      <td>Action, Adventure, Fantasy</td>\n",
       "      <td>2021</td>\n",
       "      <td>Zack Snyder</td>\n",
       "      <td>Henry Cavill</td>\n",
       "      <td>242</td>\n",
       "      <td>R</td>\n",
       "      <td>8.0</td>\n",
       "      <td>Determined to ensure that Superman's ultimate...</td>\n",
       "      <td>54.0</td>\n",
       "      <td>401615</td>\n",
       "      <td>NaN</td>\n",
       "      <td>https://m.media-amazon.com/images/M/MV5BYjI3ND...</td>\n",
       "    </tr>\n",
       "    <tr>\n",
       "      <th>695</th>\n",
       "      <td>Hamlet</td>\n",
       "      <td>Drama</td>\n",
       "      <td>1996</td>\n",
       "      <td>Kenneth Branagh</td>\n",
       "      <td>Kenneth Branagh</td>\n",
       "      <td>242</td>\n",
       "      <td>PG-13</td>\n",
       "      <td>7.0</td>\n",
       "      <td>Hamlet, Prince of Denmark, returns home to fi...</td>\n",
       "      <td>NaN</td>\n",
       "      <td>38649</td>\n",
       "      <td>4.41</td>\n",
       "      <td>https://m.media-amazon.com/images/M/MV5BM2U5OW...</td>\n",
       "    </tr>\n",
       "    <tr>\n",
       "      <th>166</th>\n",
       "      <td>Gone with the Wind</td>\n",
       "      <td>Drama, Romance, War</td>\n",
       "      <td>1939</td>\n",
       "      <td>Victor Fleming</td>\n",
       "      <td>George Cukor</td>\n",
       "      <td>238</td>\n",
       "      <td>Passed</td>\n",
       "      <td>8.0</td>\n",
       "      <td>American motion picture classic in which a ma...</td>\n",
       "      <td>97.0</td>\n",
       "      <td>318120</td>\n",
       "      <td>198.68</td>\n",
       "      <td>https://m.media-amazon.com/images/M/MV5BYjUyZW...</td>\n",
       "    </tr>\n",
       "    <tr>\n",
       "      <th>108</th>\n",
       "      <td>Once Upon a Time in America</td>\n",
       "      <td>Crime, Drama</td>\n",
       "      <td>1984</td>\n",
       "      <td>Sergio Leone</td>\n",
       "      <td>Robert De Niro</td>\n",
       "      <td>229</td>\n",
       "      <td>R</td>\n",
       "      <td>8.0</td>\n",
       "      <td>A former Prohibition-era Jewish gangster retu...</td>\n",
       "      <td>75.0</td>\n",
       "      <td>354829</td>\n",
       "      <td>5.32</td>\n",
       "      <td>https://m.media-amazon.com/images/M/MV5BMGFkNW...</td>\n",
       "    </tr>\n",
       "  </tbody>\n",
       "</table>\n",
       "</div>"
      ],
      "text/plain": [
       "                       film_title                                    genre  \\\n",
       "189            Gangs of Wasseypur        Action, Comedy, Crime               \n",
       "348  Zack Snyder's Justice League   Action, Adventure, Fantasy               \n",
       "695                        Hamlet                        Drama               \n",
       "166            Gone with the Wind          Drama, Romance, War               \n",
       "108   Once Upon a Time in America                 Crime, Drama               \n",
       "\n",
       "     release_year         director       lead_actor  run_time_minutes  \\\n",
       "189          2012   Anurag Kashyap  Pankaj Tripathi               321   \n",
       "348          2021      Zack Snyder     Henry Cavill               242   \n",
       "695          1996  Kenneth Branagh  Kenneth Branagh               242   \n",
       "166          1939   Victor Fleming     George Cukor               238   \n",
       "108          1984     Sergio Leone   Robert De Niro               229   \n",
       "\n",
       "    mpa_rating  imdb_stars_rating  \\\n",
       "189  Not Rated                8.0   \n",
       "348          R                8.0   \n",
       "695      PG-13                7.0   \n",
       "166     Passed                8.0   \n",
       "108          R                8.0   \n",
       "\n",
       "                                              synopsis  metascore   votes  \\\n",
       "189   A clash between Sultan and Shahid Khan leads ...       89.0   97473   \n",
       "348   Determined to ensure that Superman's ultimate...       54.0  401615   \n",
       "695   Hamlet, Prince of Denmark, returns home to fi...        NaN   38649   \n",
       "166   American motion picture classic in which a ma...       97.0  318120   \n",
       "108   A former Prohibition-era Jewish gangster retu...       75.0  354829   \n",
       "\n",
       "      gross                                          image_url  \n",
       "189     NaN  https://m.media-amazon.com/images/M/MV5BMTc5Nj...  \n",
       "348     NaN  https://m.media-amazon.com/images/M/MV5BYjI3ND...  \n",
       "695    4.41  https://m.media-amazon.com/images/M/MV5BM2U5OW...  \n",
       "166  198.68  https://m.media-amazon.com/images/M/MV5BYjUyZW...  \n",
       "108    5.32  https://m.media-amazon.com/images/M/MV5BMGFkNW...  "
      ]
     },
     "execution_count": 88,
     "metadata": {},
     "output_type": "execute_result"
    }
   ],
   "source": [
    "top_5_longest_movies = final_df.nlargest(5,'run_time_minutes')\n",
    "top_5_longest_movies.head()\n",
    "\n"
   ]
  },
  {
   "cell_type": "markdown",
   "id": "2f350dcb",
   "metadata": {},
   "source": [
    "### Plot top 5 shortest running movies in minutes"
   ]
  },
  {
   "cell_type": "code",
   "execution_count": null,
   "id": "89011f91",
   "metadata": {},
   "outputs": [
    {
     "data": {
      "image/png": "[encoded data removed]",
      "text/plain": [
       "<Figure size 432x288 with 1 Axes>"
      ]
     },
     "metadata": {
      "needs_background": "light"
     },
     "output_type": "display_data"
    }
   ],
   "source": [
    "# Plot top 5 shortest running movies in minutes\n",
    "\n",
    "# sort the df 'minutes' column in descending order\n",
    "short_df = final_df.sort_values(by='run_time_minutes', ascending=True)\n",
    "\n",
    "# select the top 5 movies \n",
    "top_5_shortest_movies = short_df.head(5)\n",
    "\n",
    "sns.barplot(x = top_5_shortest_movies['film_title'], y = top_5_shortest_movies['run_time_minutes'])\n",
    "plt.xlabel('Movie Title')\n",
    "plt.ylabel('Running Time (minutes)')\n",
    "plt.title('Top 5 Shortest Running Movies')\n",
    "plt.xticks(rotation=90)\n",
    "plt.show()"
   ]
  },
  {
   "cell_type": "markdown",
   "id": "04f86ac5",
   "metadata": {},
   "source": [
    "### Plot gross revenue v run time minutes"
   ]
  },
  {
   "cell_type": "code",
   "execution_count": null,
   "id": "56ee5e27",
   "metadata": {},
   "outputs": [
    {
     "data": {
      "image/png": "[encoded data removed]",
      "text/plain": [
       "<Figure size 432x288 with 1 Axes>"
      ]
     },
     "metadata": {
      "needs_background": "light"
     },
     "output_type": "display_data"
    }
   ],
   "source": [
    "# extract the gross revenue and run time columns from the dataframe\n",
    "x = df['run_time_minutes']\n",
    "y = df['gross']\n",
    "\n",
    "# create a scatter plot\n",
    "plt.scatter(x, y)\n",
    "\n",
    "# add appropriate labels and title\n",
    "plt.xlabel('Run Time (minutes)')\n",
    "plt.ylabel('Gross Revenue')\n",
    "plt.title('Gross Revenue v Run Time')\n",
    "\n",
    "# show plot\n",
    "plt.show()"
   ]
  },
  {
   "cell_type": "markdown",
   "id": "93fb574b",
   "metadata": {},
   "source": [
    "### How many movies list Liam Neeson as the lead actor and what are those movie titles"
   ]
  },
  {
   "cell_type": "code",
   "execution_count": null,
   "id": "18a67f87",
   "metadata": {},
   "outputs": [],
   "source": [
    "# filter the dataframe to include only the rows where Liam Neeson is the lead actor\n",
    "liam_movies = final_df[final_df['lead_actor'] == 'Liam Neeson']\n",
    "\n",
    "# find the number of rows in the filtered dataframe\n",
    "num_of_movies = len(liam_movies)\n",
    "\n",
    "# print the result\n",
    "print(\"Liam Neeson was the lead actor in \", num_of_movies, \" movies.\")\n",
    "\n",
    "# find the titles of the movies where Liam Neeson was the lead actor\n",
    "titles = liam_movies['film_title']\n",
    "\n",
    "# print the result\n",
    "print(\"The titles of the movies where Liam Neeson was the lead actor are: \")\n",
    "print(titles)\n"
   ]
  },
  {
   "cell_type": "code",
   "execution_count": null,
   "id": "e6233132",
   "metadata": {},
   "outputs": [],
   "source": [
    "# Word Cloud on synopsis text\n",
    "\n",
    "# Download the NLTK stopwords\n",
    "nltk.download(\"stopwords\")\n",
    "\n",
    "# Get the list of stopwords in English\n",
    "stop_words = set(stopwords.words(\"english\"))\n",
    "\n",
    "# Define a function to remove stopwords from the synopsis text\n",
    "def remove_stopwords(text):\n",
    "    text_tokens = text.split()\n",
    "    text_without_stopwords = [word for word in text_tokens if word.lower() not in stop_words]\n",
    "    return \" \".join(text_without_stopwords)\n",
    "\n",
    "# Load the IMDb top 1000 films dataset\n",
    "imdb_data = ...\n",
    "\n",
    "# Concatenate all the synopsis text in the dataset\n",
    "synopsis_text = \" \".join(film[\"synopsis\"] for film in imdb_data)\n",
    "\n",
    "# Remove the stopwords from the synopsis text\n",
    "synopsis_text_without_stopwords = remove_stopwords(synopsis_text)\n",
    "\n",
    "# Generate the word cloud\n",
    "wordcloud = WordCloud(width = 800, height = 800, \n",
    "                background_color ='white', \n",
    "                stopwords = stop_words, \n",
    "                min_font_size = 10).generate(synopsis_text_without_stopwords)\n",
    "\n",
    "# Plot the word cloud\n",
    "plt.figure(figsize = (8, 8), facecolor = None) \n",
    "plt.imshow(wordcloud) \n",
    "plt.axis(\"off\") \n",
    "plt.tight_layout(pad = 0) \n",
    "  \n",
    "plt.show() \n",
    "\n"
   ]
  },
  {
   "cell_type": "code",
   "execution_count": null,
   "id": "5c25763d",
   "metadata": {},
   "outputs": [],
   "source": []
  },
  {
   "cell_type": "code",
   "execution_count": null,
   "id": "5dda90ed",
   "metadata": {},
   "outputs": [],
   "source": []
  },
  {
   "cell_type": "code",
   "execution_count": null,
   "id": "4897c560",
   "metadata": {},
   "outputs": [],
   "source": [
    "# Resources:\n",
    "# https://www.freecodecamp.org/news/web-scraping-sci-fi-movies-from-imdb-with-python/\n",
    "# https://medium.com/analytics-vidhya/detailed-tutorials-for-beginners-web-scrap-movie-database-from-multiple-pages-with-beautiful-soup-5836828d23\n"
   ]
  }
 ],
 "metadata": {
  "kernelspec": {
   "display_name": "books_venv",
   "language": "python",
   "name": "books_venv"
  },
  "language_info": {
   "codemirror_mode": {
    "name": "ipython",
    "version": 3
   },
   "file_extension": ".py",
   "mimetype": "text/x-python",
   "name": "python",
   "nbconvert_exporter": "python",
   "pygments_lexer": "ipython3",
   "version": "3.8.5"
  }
 },
 "nbformat": 4,
 "nbformat_minor": 5
}
