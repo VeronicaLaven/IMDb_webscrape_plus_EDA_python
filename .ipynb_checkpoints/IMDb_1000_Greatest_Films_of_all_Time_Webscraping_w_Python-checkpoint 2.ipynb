{
 "cells": [
  {
   "cell_type": "markdown",
   "id": "dfb17dac",
   "metadata": {},
   "source": [
    "## Webscraping IMDb 1000 Greatest Films of all Time and Exploratory Data Analysis (EDA)"
   ]
  },
  {
   "cell_type": "markdown",
   "id": "bfab1a90",
   "metadata": {},
   "source": [
    "#### This Webscraper will scrape data for all 1000 films and will collect the following:\n",
    "* Title\n",
    "* Genre\n",
    "* Release Year\n",
    "* Director\n",
    "* Lead Actor\n",
    "* Run Time\n",
    "* MPA_Rating\n",
    "* IMDb_Stars_Rating\n",
    "* Synopsis\n",
    "* Metascore\n",
    "* Votes\n",
    "* Gross\n",
    "* Thumbnail Image URL"
   ]
  },
  {
   "cell_type": "code",
   "execution_count": 1,
   "id": "93d8ecd5",
   "metadata": {},
   "outputs": [],
   "source": [
    "import requests\n",
    "from bs4 import BeautifulSoup\n",
    "import pandas as pd\n",
    "import numpy as np\n",
    "import matplotlib.pyplot as plt\n",
    "import plotly.express as px\n",
    "import seaborn as sns\n",
    "from time import sleep\n",
    "from random import randint\n",
    "import re\n",
    "import xlsxwriter\n"
   ]
  },
  {
   "cell_type": "code",
   "execution_count": 2,
   "id": "31b87ceb",
   "metadata": {},
   "outputs": [],
   "source": [
    "# enable English translation of film titles\n",
    "headers = {'Accept-Language': 'en-US, en;q=0.5'}"
   ]
  },
  {
   "cell_type": "code",
   "execution_count": 3,
   "id": "bf9ff1cd",
   "metadata": {},
   "outputs": [
    {
     "name": "stdout",
     "output_type": "stream",
     "text": [
      "200\n"
     ]
    }
   ],
   "source": [
    "page_1_url = 'https://www.imdb.com/search/title/?groups=top_1000&sort=user_rating,desc&count=100&ref_=adv_prv'\n",
    "page_1_url_response = requests.get(page_1_url)\n",
    "\n",
    "print(page_1_url_response.status_code)"
   ]
  },
  {
   "cell_type": "code",
   "execution_count": 4,
   "id": "f30896bb",
   "metadata": {},
   "outputs": [],
   "source": [
    "# initialize empty lists in which to store extracted (scraped) data\n",
    "\n",
    "title = []\n",
    "genre = []\n",
    "year = []\n",
    "director = []\n",
    "lead = []\n",
    "time_minutes = []\n",
    "mpa_rating = []\n",
    "imdb_stars_rating = []\n",
    "synopsis = []\n",
    "metascore = []\n",
    "votes = []\n",
    "gross = []\n",
    "image_url = []\n"
   ]
  },
  {
   "cell_type": "markdown",
   "id": "d2ea99fd",
   "metadata": {},
   "source": [
    "\n",
    "From first page, each successive page in the 1000 film list has a url that contains a change to the page number starting with no page designation for the first page, to a the number indicating the additional 100 items in the film list: 101, 201, 301, 401, 501, 601, 701, 801, 901, with the latter containing the last 100 films in the collection.\n"
   ]
  },
  {
   "cell_type": "markdown",
   "id": "4a3a98a4",
   "metadata": {},
   "source": [
    "items 1 to 100\n",
    "\n",
    "https://www.imdb.com/search/title/?groups=top_1000&sort=user_rating,desc&count=100&ref_=adv_prv\n",
    "\n",
    "items 101 to 200\n",
    "\n",
    "https://www.imdb.com/search/title/?groups=top_1000&sort=user_rating,desc&count=100&start=101&ref_=adv_prv\n",
    "\n",
    "items 201 to 300\n",
    "\n",
    "https://www.imdb.com/search/title/?groups=top_1000&sort=user_rating,desc&count=100&start=201&ref_=adv_prv\n",
    "\n",
    "items 301 to 400\n",
    "\n",
    "https://www.imdb.com/search/title/?groups=top_1000&sort=user_rating,desc&count=100&start=301&ref_=adv_prv\n",
    "\n",
    "items 401 to 500\n",
    "\n",
    "https://www.imdb.com/search/title/?groups=top_1000&sort=user_rating,desc&count=100&start=401&ref_=adv_prv\n",
    "\n",
    "items 501 to 600\n",
    "\n",
    "https://www.imdb.com/search/title/?groups=top_1000&sort=user_rating,desc&count=100&start=501&ref_=adv_prv\n",
    "\n",
    "\n",
    "...\n",
    "\n",
    "items 901 to 1000\n",
    "\n",
    "https://www.imdb.com/search/title/?groups=top_1000&sort=user_rating,desc&count=100&start=901&ref_=adv_nxt\n"
   ]
  },
  {
   "cell_type": "code",
   "execution_count": 5,
   "id": "b191f68a",
   "metadata": {},
   "outputs": [
    {
     "data": {
      "text/plain": [
       "array([  1, 101, 201, 301, 401, 501, 601, 701, 801, 901])"
      ]
     },
     "execution_count": 5,
     "metadata": {},
     "output_type": "execute_result"
    }
   ],
   "source": [
    "# create an array using: numpy.arange([start, ]stop, [step, ], dtype=None)\n",
    "# consider the imdb pages list 1000 films with each of the 10 pages listing 100 films\n",
    "# from above page URLs we can see that each page contains a list of 100 films\n",
    "# variable pages will store the 10 page designations for each of the page URLs\n",
    "pages = np.arange(1, 1001, 100)\n",
    "\n",
    "# get list containing the 10 pages that contain 100 films each\n",
    "pages"
   ]
  },
  {
   "cell_type": "markdown",
   "id": "70cd889e",
   "metadata": {},
   "source": [
    "Loop through the pages that contain each of the page URLs\n",
    "\n",
    "Get the page data from each of the URLs\n",
    "\n",
    "Use BeautifulSoup to parse the HTML returned from each of the URLs\n",
    "\n",
    "Begin inspecting web elements in the pages\n",
    "\n",
    "Begin scraping (extracting) data from the HTML soup using the find_all( ) method. This method will extract all of the div containers that have a class attribute of lister-item mode-advanced \n",
    "\n",
    "<img src=\"images/div_container.png\" alt=\"inspecting HTML\" width=\"600\"/>\n",
    "\n",
    "Then create another for loop to loop through each of these divs and scrape the data from the pertinent elements contained therein"
   ]
  },
  {
   "cell_type": "code",
   "execution_count": null,
   "id": "585af695",
   "metadata": {},
   "outputs": [],
   "source": [
    "for page in pages:\n",
    "    page = requests.get(\"https://www.imdb.com/search/title/?groups=top_1000&sort=user_rating,desc&count=100&start=\" + str(page) + \"&ref_=adv_nxt\", headers = headers)\n",
    "    soup = BeautifulSoup(page.content, 'html.parser')\n",
    "    imdb_data = soup.find_all('div', {'class': 'lister-item mode-advanced'})\n",
    "    # random delay in seconds between requests so as not to send excess number of requests for given time period\n",
    "    sleep(randint(2,10)) # random integer between 2 and 10 seconds\n",
    "    \n",
    "    for data in imdb_data:\n",
    "        \n",
    "        film = data.h3.a.text\n",
    "        title.append(film)\n",
    "        \n",
    "        genre_type = data.p.find('span', {'class': 'genre'}).text.replace('\\n', ' ')\n",
    "        genre.append(genre_type)\n",
    "        \n",
    "        release = data.h3.find('span', {'class': 'lister-item-year text-muted unbold'}).text.replace('(', ' ').replace(')', ' ')\n",
    "        year.append(release)\n",
    "        \n",
    "        a_tag = data.find('p', {'class': ''})\n",
    "        a_tag = a_tag.select('a[href^=\"/name/\"]')\n",
    "        directors = a_tag[0].text\n",
    "        director.append(directors)\n",
    "        \n",
    "        actor = a_tag[1].text\n",
    "        lead.append(actor)\n",
    "        \n",
    "        runtime = data.p.find('span', {'class': 'runtime'}).text.replace(' min', ' ')\n",
    "        time_minutes.append(runtime)\n",
    "        \n",
    "        # motion picture association (mpa) ratings such as R, PG, PG-14\n",
    "        mpa_rate = data.find('span', {'class': 'certificate'})\n",
    "        if mpa_rate is not None:\n",
    "            mpa_rate = data.find('span', {'class': 'certificate'}).text\n",
    "            # print('mpa_rate:', mpa_rate.text)\n",
    "        mpa_rating.append(mpa_rate)\n",
    "        \n",
    "        star_rate = data.find('div', {'class': 'inline-block ratings-imdb-rating'}).text.replace('\\n', ' ')\n",
    "        imdb_stars_rating.append(star_rate)\n",
    "        \n",
    "        p_tag = data.find_all('p', {'class': 'text-muted'})\n",
    "        syn = p_tag[1].text.replace('\\n', ' ')\n",
    "        synopsis.append(syn)\n",
    "        \n",
    "        meta = data.find('span', {'class': 'metascore'}).text if data.find('span', {'class': 'metascore'}) else '----'\n",
    "        metascore.append(meta)\n",
    "        \n",
    "        nv_tag = data.find_all('span', attrs = {'name': 'nv'})\n",
    "        \n",
    "        vote = nv_tag[0].text\n",
    "        votes.append(vote)\n",
    "        \n",
    "        grs = nv_tag[1].text if len(nv_tag) > 1 else '----'\n",
    "        gross.append(grs)\n",
    "        \n",
    "        img_tag = data.find('div', {'class': 'lister-item-image float-left'})\n",
    "        x = img_tag.img.attrs['loadlate']\n",
    "        image_url.append(x)\n",
    "        \n"
   ]
  },
  {
   "cell_type": "markdown",
   "id": "4f47d7a3",
   "metadata": {},
   "source": [
    "#### Ensure that all columns are the same length "
   ]
  },
  {
   "cell_type": "code",
   "execution_count": null,
   "id": "92a8a5a3",
   "metadata": {},
   "outputs": [],
   "source": [
    "# Pandas dataframes must have columns of the same length\n",
    "print(len(title),\n",
    "      len(genre),\n",
    "      len(year),\n",
    "      len(director),\n",
    "      len(lead),\n",
    "      len(time_minutes),\n",
    "      len(mpa_rating),\n",
    "      len(imdb_stars_rating),\n",
    "      len(synopsis),\n",
    "      len(metascore),\n",
    "      len(votes),\n",
    "      len(gross),\n",
    "      len(image_url))"
   ]
  },
  {
   "cell_type": "markdown",
   "id": "2336682b",
   "metadata": {},
   "source": [
    "#### Create Pandas DataFrame with Columns for Scraped Film Data"
   ]
  },
  {
   "cell_type": "code",
   "execution_count": null,
   "id": "d8f49df5",
   "metadata": {},
   "outputs": [],
   "source": [
    "imdb_df = pd.DataFrame({\n",
    "    'film_title': title,\n",
    "    'genre': genre,\n",
    "    'release_year': year,\n",
    "    'director': director,\n",
    "    'lead_actor': lead,\n",
    "    'run_time_minutes': time_minutes,\n",
    "    'mpa_rating': mpa_rating,\n",
    "    'imdb_stars_rating': imdb_stars_rating,\n",
    "    'synopsis': synopsis,\n",
    "    'metascore': metascore,\n",
    "    'votes': votes,\n",
    "    'gross': gross,\n",
    "    'image_url': image_url\n",
    "    \n",
    "     })"
   ]
  },
  {
   "cell_type": "code",
   "execution_count": null,
   "id": "b01f66a4",
   "metadata": {},
   "outputs": [],
   "source": [
    "imdb_df.head()"
   ]
  },
  {
   "cell_type": "markdown",
   "id": "75ed75f3",
   "metadata": {},
   "source": [
    "#### Export Scraped IMDb 1000 Greatest Films Data to .csv File"
   ]
  },
  {
   "cell_type": "code",
   "execution_count": null,
   "id": "fa362c53",
   "metadata": {},
   "outputs": [],
   "source": [
    "# export preliminary scraped imdb data to csv\n",
    "# imdb_df.to_csv('top_imdb_movies.csv')"
   ]
  },
  {
   "cell_type": "markdown",
   "id": "8abeb754",
   "metadata": {},
   "source": [
    "#### Scrape Film Data to Get A Specific Film Thumbnail Image "
   ]
  },
  {
   "cell_type": "code",
   "execution_count": null,
   "id": "736053a9",
   "metadata": {},
   "outputs": [],
   "source": [
    "data.find_all('div', {'class': 'lister-item-image float-left'}) "
   ]
  },
  {
   "cell_type": "code",
   "execution_count": null,
   "id": "f725ccc7",
   "metadata": {},
   "outputs": [],
   "source": [
    "data.img.attrs"
   ]
  },
  {
   "cell_type": "code",
   "execution_count": null,
   "id": "69b6a9cb",
   "metadata": {},
   "outputs": [],
   "source": [
    "data.img.attrs['alt']"
   ]
  },
  {
   "cell_type": "code",
   "execution_count": null,
   "id": "cbe14d7a",
   "metadata": {},
   "outputs": [],
   "source": [
    "data.img.attrs['class']"
   ]
  },
  {
   "cell_type": "code",
   "execution_count": null,
   "id": "f1178173",
   "metadata": {},
   "outputs": [],
   "source": [
    "# print film image url\n",
    "from IPython.display import Image\n",
    "image_url = data.find('img').attrs['src']\n",
    "Image(url= image_url)\n",
    "image_url = data.src\n",
    "image_url = data.find('img').attrs['src']\n",
    "print(image_url)"
   ]
  },
  {
   "cell_type": "code",
   "execution_count": null,
   "id": "243f113c",
   "metadata": {},
   "outputs": [],
   "source": [
    "# display thumbnail image\n",
    "from IPython.display import Image\n",
    "image_url = data.find('img').attrs['loadlate']\n",
    "Image(url= image_url)"
   ]
  },
  {
   "cell_type": "markdown",
   "id": "879b412b",
   "metadata": {},
   "source": [
    "### Exploratory Data Analysis"
   ]
  },
  {
   "cell_type": "markdown",
   "id": "dc3480b8",
   "metadata": {},
   "source": [
    "#### Explore Data"
   ]
  },
  {
   "cell_type": "code",
   "execution_count": null,
   "id": "e58c9335",
   "metadata": {},
   "outputs": [],
   "source": [
    "imdb_df.dtypes"
   ]
  },
  {
   "cell_type": "code",
   "execution_count": null,
   "id": "9971f0bb",
   "metadata": {},
   "outputs": [],
   "source": [
    "# check for duplicates\n",
    "imdb_df.duplicated().sum()"
   ]
  },
  {
   "cell_type": "code",
   "execution_count": null,
   "id": "f9d368c8",
   "metadata": {},
   "outputs": [],
   "source": [
    "# check dataset for null values\n",
    "imdb_df.isnull().sum()"
   ]
  },
  {
   "cell_type": "code",
   "execution_count": null,
   "id": "6bd46f6e",
   "metadata": {},
   "outputs": [],
   "source": [
    "# newdf = df.copy()\n",
    "final_df = imdb_df.copy()"
   ]
  },
  {
   "cell_type": "markdown",
   "id": "d7594525",
   "metadata": {},
   "source": [
    "#### Clean Data"
   ]
  },
  {
   "cell_type": "code",
   "execution_count": null,
   "id": "d04a94e5",
   "metadata": {},
   "outputs": [],
   "source": [
    "# get rid of null values by filling with unknown for those in mpa_rating, and mean values for gross and mestascore\n",
    "final_df['mpa_rating'].fillna(\"unknown\",inplace=True)"
   ]
  },
  {
   "cell_type": "code",
   "execution_count": null,
   "id": "c7edc3ad",
   "metadata": {},
   "outputs": [],
   "source": [
    "# df['first_set'] = df['first_set'].str.replace('_','|')\n",
    "# final_df['mpa_rating'] = final_df['mpa_rating'].map(lambda z: z.lstrip('[').rstrip(']'))\n",
    "# df['col1'] = df['col1'].str.strip()\n",
    "# final_df['mpa_rating'] = final_df['mpa_rating'].str.lstrip('[')\n",
    "final_df.head()\n"
   ]
  },
  {
   "cell_type": "code",
   "execution_count": null,
   "id": "237d03ee",
   "metadata": {},
   "outputs": [],
   "source": [
    "# check dataset for null values after using the fillna method above\n",
    "final_df.isnull().sum()"
   ]
  },
  {
   "cell_type": "code",
   "execution_count": null,
   "id": "858fa2ff",
   "metadata": {},
   "outputs": [],
   "source": [
    "final_df.dtypes"
   ]
  },
  {
   "cell_type": "code",
   "execution_count": null,
   "id": "a437ada3",
   "metadata": {},
   "outputs": [],
   "source": [
    "final_df.head()"
   ]
  },
  {
   "cell_type": "code",
   "execution_count": null,
   "id": "85c2b623",
   "metadata": {},
   "outputs": [],
   "source": [
    "final_df.dtypes['release_year']"
   ]
  },
  {
   "cell_type": "code",
   "execution_count": null,
   "id": "9d9c0870",
   "metadata": {},
   "outputs": [],
   "source": [
    "# filter for extraneous text characters in 'release_year' column\n",
    "# find where the II and III characters are so we can remove them in order to convert year column to date\n",
    "mask = final_df['release_year'].str.contains('II', na=False)\n",
    "final_df[mask].head()"
   ]
  },
  {
   "cell_type": "code",
   "execution_count": null,
   "id": "b410134c",
   "metadata": {},
   "outputs": [],
   "source": [
    "# df['column name'] = df['column name'].str.replace('old character','new character')\n",
    "final_df['release_year'] = final_df['release_year'].str.replace('I', '')\n",
    "final_df['release_year'] = final_df['release_year'].str.replace('II', '')\n",
    "final_df['release_year'] = final_df['release_year'].str.replace('III', '')\n",
    "final_df[mask].head()"
   ]
  },
  {
   "cell_type": "code",
   "execution_count": null,
   "id": "1bff22dd",
   "metadata": {},
   "outputs": [],
   "source": [
    "mask = final_df['release_year'].str.contains(' 1994 ', na=False)\n",
    "final_df[mask].head()"
   ]
  },
  {
   "cell_type": "code",
   "execution_count": null,
   "id": "86897ec3",
   "metadata": {},
   "outputs": [],
   "source": [
    "# get a count of how many NaN values in the release_year column\n",
    "final_df['release_year'].isna().sum()"
   ]
  },
  {
   "cell_type": "code",
   "execution_count": null,
   "id": "fee90a89",
   "metadata": {},
   "outputs": [],
   "source": [
    "# get a count of how many NaN values in the dataframe\n",
    "# df.isna().sum().sum()\n",
    "final_df.isna().sum().sum()"
   ]
  },
  {
   "cell_type": "code",
   "execution_count": null,
   "id": "aef28f4a",
   "metadata": {},
   "outputs": [],
   "source": [
    "# get which columns contain NaN\n",
    "final_df.isna().sum()"
   ]
  },
  {
   "cell_type": "code",
   "execution_count": null,
   "id": "b9a3427b",
   "metadata": {},
   "outputs": [],
   "source": [
    "# df.col1 = pd.to_numeric(df.col1, errors=\"coerce\")\n",
    "final_df.release_year = pd.to_numeric(final_df.release_year, errors=\"coerce\")"
   ]
  },
  {
   "cell_type": "code",
   "execution_count": null,
   "id": "62c81501",
   "metadata": {},
   "outputs": [],
   "source": [
    "final_df.dtypes['release_year']"
   ]
  },
  {
   "cell_type": "code",
   "execution_count": null,
   "id": "db9b3a51",
   "metadata": {},
   "outputs": [],
   "source": [
    "# df['Year'] = pd.to_numeric(df['Year'], errors='coerce').fillna(0).astype(int)\n",
    "final_df['release_year'] = pd.to_numeric(final_df['release_year'], errors='coerce').fillna(0).astype(int)"
   ]
  },
  {
   "cell_type": "code",
   "execution_count": null,
   "id": "bb9cd713",
   "metadata": {},
   "outputs": [],
   "source": []
  },
  {
   "cell_type": "code",
   "execution_count": null,
   "id": "c6905667",
   "metadata": {},
   "outputs": [],
   "source": [
    "# get release year of nth movie\n",
    "final_df.loc[302,'release_year']"
   ]
  },
  {
   "cell_type": "code",
   "execution_count": null,
   "id": "62e97fc4",
   "metadata": {},
   "outputs": [],
   "source": []
  },
  {
   "cell_type": "code",
   "execution_count": null,
   "id": "7958ef3b",
   "metadata": {},
   "outputs": [],
   "source": [
    "final_df.dtypes['release_year']"
   ]
  },
  {
   "cell_type": "code",
   "execution_count": null,
   "id": "a6633a27",
   "metadata": {},
   "outputs": [],
   "source": []
  },
  {
   "cell_type": "code",
   "execution_count": null,
   "id": "dd16d6b8",
   "metadata": {},
   "outputs": [],
   "source": [
    "final_df.dtypes"
   ]
  },
  {
   "cell_type": "code",
   "execution_count": null,
   "id": "1498a862",
   "metadata": {},
   "outputs": [],
   "source": [
    "# convert 'run_time' to numeric\n",
    "final_df['run_time_minutes'] = final_df['run_time_minutes'].str.extract('(\\d+)').astype(int)\n",
    "final_df.head(3)"
   ]
  },
  {
   "cell_type": "code",
   "execution_count": null,
   "id": "5656d058",
   "metadata": {},
   "outputs": [],
   "source": [
    "# convert 'imdb_stars_rating' to float\n",
    "final_df['imdb_stars_rating'] = final_df['imdb_stars_rating'].str.extract('(\\d+)').astype(float)"
   ]
  },
  {
   "cell_type": "code",
   "execution_count": null,
   "id": "9a52bd0d",
   "metadata": {},
   "outputs": [],
   "source": [
    "final_df.info()"
   ]
  },
  {
   "cell_type": "code",
   "execution_count": null,
   "id": "4501ea37",
   "metadata": {},
   "outputs": [],
   "source": [
    "final_df.dtypes"
   ]
  },
  {
   "cell_type": "code",
   "execution_count": null,
   "id": "e3f9bc15",
   "metadata": {},
   "outputs": [],
   "source": [
    "final_df['mpa_rating'].dtypes"
   ]
  },
  {
   "cell_type": "code",
   "execution_count": null,
   "id": "3b5d59ca",
   "metadata": {},
   "outputs": [],
   "source": [
    "# df['col_name'] = df['col_name'].str.strip('[]')\n",
    "# final_df['mpa_rating'] = final_df['mpa_rating'].str.strip('[]')"
   ]
  },
  {
   "cell_type": "code",
   "execution_count": null,
   "id": "b53d5547",
   "metadata": {},
   "outputs": [],
   "source": [
    "# gross column: left strip $ and right strip M \n",
    "final_df['gross'] = final_df['gross'].map(lambda x: x.lstrip('$').rstrip('M'))\n",
    "# convert gross to float and if there are dashes turn it into NaN\n",
    "final_df['gross'] = pd.to_numeric(final_df['gross'], errors='coerce')\n",
    "final_df.head(5)"
   ]
  },
  {
   "cell_type": "code",
   "execution_count": null,
   "id": "6a3ade13",
   "metadata": {},
   "outputs": [],
   "source": [
    "final_df.dtypes"
   ]
  },
  {
   "cell_type": "code",
   "execution_count": null,
   "id": "08db79c5",
   "metadata": {},
   "outputs": [],
   "source": []
  },
  {
   "cell_type": "code",
   "execution_count": null,
   "id": "f2e57955",
   "metadata": {},
   "outputs": [],
   "source": []
  },
  {
   "cell_type": "code",
   "execution_count": null,
   "id": "a00588de",
   "metadata": {},
   "outputs": [],
   "source": [
    "# convert 'metascore' to numeric \n",
    "final_df['metascore'] = final_df['metascore'].str.extract('(\\d+)')\n",
    "# convert to float and if there are dashes turn it into NaN\n",
    "final_df['metascore'] = pd.to_numeric(final_df['metascore'], errors='coerce')"
   ]
  },
  {
   "cell_type": "code",
   "execution_count": null,
   "id": "d63f9cd0",
   "metadata": {},
   "outputs": [],
   "source": [
    "imdb_df.dtypes"
   ]
  },
  {
   "cell_type": "code",
   "execution_count": null,
   "id": "4a85a624",
   "metadata": {},
   "outputs": [],
   "source": [
    "# remove commas from votes and convert votes to numeric\n",
    "final_df['votes'] = final_df['votes'].str.replace(',', '').astype(int)\n",
    "final_df.head(22)"
   ]
  },
  {
   "cell_type": "code",
   "execution_count": null,
   "id": "6dd0556c",
   "metadata": {},
   "outputs": [],
   "source": []
  },
  {
   "cell_type": "code",
   "execution_count": null,
   "id": "67c60b27",
   "metadata": {},
   "outputs": [],
   "source": [
    "final_df.dtypes"
   ]
  },
  {
   "cell_type": "code",
   "execution_count": null,
   "id": "b51c2fd6",
   "metadata": {},
   "outputs": [],
   "source": []
  },
  {
   "cell_type": "code",
   "execution_count": null,
   "id": "8e4c2873",
   "metadata": {},
   "outputs": [],
   "source": []
  },
  {
   "cell_type": "code",
   "execution_count": null,
   "id": "5f4fbd46",
   "metadata": {},
   "outputs": [],
   "source": [
    "final_df.head()"
   ]
  },
  {
   "cell_type": "markdown",
   "id": "ab108cdc",
   "metadata": {},
   "source": [
    "#### Export Final Dataframe to CSV"
   ]
  },
  {
   "cell_type": "code",
   "execution_count": null,
   "id": "af3b0183",
   "metadata": {},
   "outputs": [],
   "source": [
    "final_df.to_csv('top_imdb_movies_final_df.csv')"
   ]
  },
  {
   "cell_type": "code",
   "execution_count": null,
   "id": "746a2cf6",
   "metadata": {},
   "outputs": [],
   "source": [
    "# summary statistics\n",
    "final_df.describe()"
   ]
  },
  {
   "cell_type": "code",
   "execution_count": null,
   "id": "347eeec7",
   "metadata": {},
   "outputs": [],
   "source": [
    "# get number of values in each column, data types\n",
    "final_df.info()"
   ]
  },
  {
   "cell_type": "code",
   "execution_count": null,
   "id": "07175941",
   "metadata": {},
   "outputs": [],
   "source": [
    "# create a heatmap to show correlation between quantitative variables\n",
    "sns.heatmap(final_df.corr(), annot=True);"
   ]
  },
  {
   "cell_type": "code",
   "execution_count": null,
   "id": "a1af836a",
   "metadata": {},
   "outputs": [],
   "source": [
    "corr_df = final_df.copy()\n",
    "# corr_df.head()"
   ]
  },
  {
   "cell_type": "code",
   "execution_count": null,
   "id": "e275fcc3",
   "metadata": {},
   "outputs": [],
   "source": [
    " # plot a graph showing the correlation between metascore and IMDb stars rating \n",
    "\n",
    "# Extract the columns we need\n",
    "metascore = corr_df['metascore']\n",
    "star_rating = corr_df['imdb_stars_rating']\n",
    "\n",
    "# Create the scatter plot\n",
    "plt.scatter(metascore, star_rating)\n",
    "\n",
    "# Add labels and a title\n",
    "plt.xlabel('Metascore')\n",
    "plt.ylabel('IMDb Stars Rating')\n",
    "plt.title('Correlation between Metascore and IMDb Stars Rating for Top 1000 Films')\n",
    "\n",
    "# Show the plot\n",
    "plt.show()\n",
    "   "
   ]
  },
  {
   "cell_type": "code",
   "execution_count": null,
   "id": "5164d3eb",
   "metadata": {},
   "outputs": [],
   "source": [
    "\n",
    "fig = px.scatter(data_frame=corr_df, x='metascore', y='imdb_stars_rating',title='Correlation between Metascore and IMDb Stars Rating for Top 1000 Films')\n",
    "fig.show()\n"
   ]
  },
  {
   "cell_type": "code",
   "execution_count": null,
   "id": "e6be1401",
   "metadata": {},
   "outputs": [],
   "source": [
    "# Plot the release years of the top 10 films\n",
    "\n",
    "# Get the top 10 films\n",
    "top_10_films = final_df.head(10)\n",
    "\n",
    "# Extract the columns we need\n",
    "release_year = top_10_films['release_year']\n",
    "title = top_10_films['film_title']\n",
    "\n",
    "\n",
    "# Set the figure size\n",
    "plt.figure(figsize=(12,8))\n",
    "\n",
    "# Create the scatter plot\n",
    "plt.scatter(np.arange(len(release_year)), release_year)\n",
    "\n",
    "# Add labels and title\n",
    "plt.xlabel('Films')\n",
    "plt.ylabel('Release Year')\n",
    "plt.title('Release Years of Top 10 Films')\n",
    "\n",
    "# Add the title of each film as a label\n",
    "for i, txt in enumerate(title):\n",
    "    plt.annotate(txt, (i, release_year[i]), xytext=(0, 10), textcoords='offset points', ha='center')\n",
    "\n",
    "plt.grid(True, linestyle='-')\n",
    "\n",
    "# Show the plot\n",
    "plt.show()\n"
   ]
  },
  {
   "cell_type": "code",
   "execution_count": null,
   "id": "a880d23c",
   "metadata": {},
   "outputs": [],
   "source": []
  },
  {
   "cell_type": "code",
   "execution_count": null,
   "id": "943b28a2",
   "metadata": {},
   "outputs": [],
   "source": [
    "# newdf = df.copy()\n",
    "df = final_df.copy()\n",
    "df.head()"
   ]
  },
  {
   "cell_type": "code",
   "execution_count": null,
   "id": "2f11d443",
   "metadata": {},
   "outputs": [],
   "source": [
    "# plot a graph of the top 20 films rated PG\n",
    "\n",
    "\n",
    "# Filter the dataframe to only include films rated PG\n",
    "pg_df = df[df['mpa_rating'] == 'PG']\n",
    "\n",
    "# Sort the dataframe by the number of votes in descending order\n",
    "pg_df = pg_df.sort_values(by='votes', ascending=False)\n",
    "\n",
    "# Select the top 20 films rated PG\n",
    "pg_df = pg_df.head(20)\n",
    "\n",
    "# Create a bar chart using Plotly Express\n",
    "fig = px.bar(pg_df, x='film_title', y='votes', title='Top 20 Films Rated PG')\n",
    "\n",
    "# Display the chart\n",
    "fig.show()\n"
   ]
  },
  {
   "cell_type": "code",
   "execution_count": null,
   "id": "d390e05a",
   "metadata": {},
   "outputs": [],
   "source": [
    "pg_df.head()"
   ]
  },
  {
   "cell_type": "code",
   "execution_count": null,
   "id": "55847a75",
   "metadata": {},
   "outputs": [],
   "source": [
    "# plot a graph of the top 10 films rated G\n",
    "\n",
    "\n",
    "# Filter the dataframe to only include films rated G\n",
    "g_df = df[df['mpa_rating'] == 'G']\n",
    "\n",
    "# Sort the dataframe by the number of votes in descending order\n",
    "g_df = g_df.sort_values(by='votes', ascending=False)\n",
    "\n",
    "# Select the top 20 films rated PG\n",
    "g_df = g_df.head(20)\n",
    "\n",
    "# Create a bar chart using Plotly Express\n",
    "fig = px.bar(g_df, x='film_title', y='votes', title='Top 20 Films Rated G')\n",
    "\n",
    "# Display the chart\n",
    "fig.show()\n"
   ]
  },
  {
   "cell_type": "code",
   "execution_count": null,
   "id": "9a6e10a3",
   "metadata": {},
   "outputs": [],
   "source": [
    "g_df.head(10)"
   ]
  },
  {
   "cell_type": "code",
   "execution_count": null,
   "id": "40d57fae",
   "metadata": {},
   "outputs": [],
   "source": [
    "# plot a graph of the top 20 films rated PG-13\n",
    "\n",
    "\n",
    "# Filter the dataframe to only include films rated PG-13\n",
    "pg13_df = df[df['mpa_rating'] == 'PG-13']\n",
    "\n",
    "# Sort the dataframe by the number of votes in descending order\n",
    "pg13_df = pg13_df.sort_values(by='votes', ascending=False)\n",
    "\n",
    "# Select the top 20 films rated PG-13\n",
    "pg13_df = pg13_df.head(20)\n",
    "\n",
    "# Create a bar chart using Plotly Express\n",
    "fig = px.bar(pg13_df, x='film_title', y='votes', title='Top 20 Films Rated PG-13')\n",
    "\n",
    "# Display the chart\n",
    "fig.show()\n"
   ]
  },
  {
   "cell_type": "code",
   "execution_count": null,
   "id": "12ff88e3",
   "metadata": {},
   "outputs": [],
   "source": [
    "# plot a graph of the top 20 films rated R\n",
    "\n",
    "\n",
    "# Filter the dataframe to only include films rated R\n",
    "r_df = df[df['mpa_rating'] == 'R']\n",
    "\n",
    "# Sort the dataframe by the number of votes in descending order\n",
    "r_df = r_df.sort_values(by='votes', ascending=False)\n",
    "\n",
    "# Select the top 20 films rated R\n",
    "r_df = r_df.head(20)\n",
    "\n",
    "# Create a bar chart using Plotly Express\n",
    "fig = px.bar(r_df, x='film_title', y='votes', title='Top 20 Films Rated R')\n",
    "\n",
    "# Display the chart\n",
    "fig.show()"
   ]
  },
  {
   "cell_type": "code",
   "execution_count": null,
   "id": "3621d328",
   "metadata": {},
   "outputs": [],
   "source": []
  },
  {
   "cell_type": "code",
   "execution_count": null,
   "id": "46a8219e",
   "metadata": {},
   "outputs": [],
   "source": []
  },
  {
   "cell_type": "code",
   "execution_count": null,
   "id": "be475d11",
   "metadata": {},
   "outputs": [],
   "source": [
    "# newdf = df.copy()\n",
    "th_df = final_df.copy()\n",
    "th_df.head()"
   ]
  },
  {
   "cell_type": "code",
   "execution_count": null,
   "id": "878049c8",
   "metadata": {},
   "outputs": [],
   "source": []
  },
  {
   "cell_type": "code",
   "execution_count": null,
   "id": "6b402908",
   "metadata": {},
   "outputs": [],
   "source": [
    "# Create a new column that is True if Tom Hanks is in the cast and False otherwise\n",
    "th_df['Tom Hanks'] = th_df['lead_actor'].str.contains('Tom Hanks')\n",
    "\n",
    "# Filter the dataframe to only include films starring Tom Hanks\n",
    "th_df = th_df[th_df['Tom Hanks'] == True]\n",
    "\n",
    "# Sort the dataframe by the number of votes in descending order\n",
    "th_df = th_df.sort_values(by='votes', ascending=False)\n",
    "\n",
    "# Create a bar chart using Plotly Express\n",
    "fig = px.bar(th_df, x='film_title', y='votes', title='Top Films Starring Tom Hanks')\n",
    "\n",
    "# Display the chart\n",
    "fig.show()\n"
   ]
  },
  {
   "cell_type": "code",
   "execution_count": null,
   "id": "10bcfed5",
   "metadata": {},
   "outputs": [],
   "source": [
    "# newdf = df.copy()\n",
    "spiel_df = final_df.copy()\n",
    "spiel_df.head()"
   ]
  },
  {
   "cell_type": "code",
   "execution_count": null,
   "id": "1e004399",
   "metadata": {},
   "outputs": [],
   "source": [
    "# Create a new column that is True if Steven Spielberg is the director and False otherwise\n",
    "spiel_df['Steven Spielberg'] = spiel_df['director'].str.contains('Steven Spielberg')\n",
    "\n",
    "# Filter the dataframe to only include films starring Tom Hanks\n",
    "spiel_df = spiel_df[spiel_df['Steven Spielberg'] == True]\n",
    "\n",
    "# Sort the dataframe by the number of votes in descending order\n",
    "spiel_df = spiel_df.sort_values(by='votes', ascending=False)\n",
    "\n",
    "# Create a bar chart using Plotly Express\n",
    "fig = px.bar(spiel_df, x='film_title', y='votes', title='Top Films Directed by Steven Spielberg')\n",
    "\n",
    "# Display the chart\n",
    "fig.show()"
   ]
  },
  {
   "cell_type": "code",
   "execution_count": null,
   "id": "0833ad3c",
   "metadata": {},
   "outputs": [],
   "source": [
    "final_df.head()"
   ]
  },
  {
   "cell_type": "code",
   "execution_count": null,
   "id": "78a9d7a1",
   "metadata": {},
   "outputs": [],
   "source": [
    "# newdf = df.copy()\n",
    "ry_df = df.copy()\n",
    "ry_df.head()"
   ]
  },
  {
   "cell_type": "code",
   "execution_count": null,
   "id": "196102db",
   "metadata": {},
   "outputs": [],
   "source": []
  },
  {
   "cell_type": "code",
   "execution_count": null,
   "id": "5544b251",
   "metadata": {},
   "outputs": [],
   "source": []
  },
  {
   "cell_type": "code",
   "execution_count": null,
   "id": "01c25066",
   "metadata": {},
   "outputs": [],
   "source": []
  },
  {
   "cell_type": "code",
   "execution_count": null,
   "id": "f469b0b8",
   "metadata": {},
   "outputs": [],
   "source": [
    "vr_df = df.copy()"
   ]
  },
  {
   "cell_type": "code",
   "execution_count": null,
   "id": "aacd4305",
   "metadata": {},
   "outputs": [],
   "source": [
    "\n",
    "\n",
    "# Group the data by rating and get the number of votes for each group\n",
    "grouped = vr_df.groupby('imdb_stars_rating')['votes'].sum()\n",
    "\n",
    "# Set the colors for each rating\n",
    "colors = {1.0:'r', 2.0:'g', 3.0:'b', 4.0:'c', 5.0:'m', 6.0:'y', 7.0:'k', 8.0:'r', 9.0:'g', 10.0:'b'}\n",
    "\n",
    "# Create the stacked bar chart\n",
    "grouped.plot(kind='bar', stacked=True, color=[colors[i] for i in grouped.index])\n",
    "\n",
    "# Add labels and a title\n",
    "plt.xlabel('IMDb Stars Rating')\n",
    "plt.ylabel('Number of Votes')\n",
    "plt.title('Number of Votes by IMDb Stars Rating for Top 1000 Films')\n",
    "\n",
    "# Show the plot\n",
    "plt.show()\n",
    "\n"
   ]
  },
  {
   "cell_type": "code",
   "execution_count": null,
   "id": "e84041fb",
   "metadata": {},
   "outputs": [],
   "source": [
    "ax = final_df['mpa_rating'].value_counts().plot(kind='bar',\n",
    "                                   figsize=(12,6),\n",
    "                                   title=\"Number of Movies by MPA Rating\")\n",
    "ax.set_xlabel(\"MPA Rating\")\n",
    "ax.set_ylabel(\"Number of Movies\")\n",
    "ax.plot();"
   ]
  },
  {
   "cell_type": "code",
   "execution_count": null,
   "id": "e6233132",
   "metadata": {},
   "outputs": [],
   "source": []
  },
  {
   "cell_type": "code",
   "execution_count": null,
   "id": "5c25763d",
   "metadata": {},
   "outputs": [],
   "source": []
  },
  {
   "cell_type": "code",
   "execution_count": null,
   "id": "5dda90ed",
   "metadata": {},
   "outputs": [],
   "source": []
  },
  {
   "cell_type": "code",
   "execution_count": null,
   "id": "4897c560",
   "metadata": {},
   "outputs": [],
   "source": [
    "# Resources:\n",
    "# https://www.freecodecamp.org/news/web-scraping-sci-fi-movies-from-imdb-with-python/\n",
    "# https://medium.com/analytics-vidhya/detailed-tutorials-for-beginners-web-scrap-movie-database-from-multiple-pages-with-beautiful-soup-5836828d23\n"
   ]
  }
 ],
 "metadata": {
  "kernelspec": {
   "display_name": "books_venv",
   "language": "python",
   "name": "books_venv"
  },
  "language_info": {
   "codemirror_mode": {
    "name": "ipython",
    "version": 3
   },
   "file_extension": ".py",
   "mimetype": "text/x-python",
   "name": "python",
   "nbconvert_exporter": "python",
   "pygments_lexer": "ipython3",
   "version": "3.8.5"
  }
 },
 "nbformat": 4,
 "nbformat_minor": 5
}
