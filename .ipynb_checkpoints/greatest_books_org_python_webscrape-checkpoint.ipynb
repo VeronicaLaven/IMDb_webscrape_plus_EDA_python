{
 "cells": [
  {
   "cell_type": "markdown",
   "id": "01cc04b0",
   "metadata": {},
   "source": [
    "### Use Python to Web Scrape Non Fiction Books"
   ]
  },
  {
   "cell_type": "code",
   "execution_count": 1,
   "id": "f6c13cda",
   "metadata": {},
   "outputs": [],
   "source": [
    "# import libraries\n",
    "import requests\n",
    "from bs4 import BeautifulSoup\n",
    "import re"
   ]
  },
  {
   "cell_type": "code",
   "execution_count": 2,
   "id": "a1acddae",
   "metadata": {},
   "outputs": [],
   "source": [
    "# for page_num in range(1, 2):\n",
    "#     page_num = page_num + 1"
   ]
  },
  {
   "cell_type": "code",
   "execution_count": 48,
   "id": "cec9ded4",
   "metadata": {},
   "outputs": [],
   "source": [
    "page_num = 0\n",
    "for page_num in range(1, 7):\n",
    "    url = f'https://thegreatestbooks.org/nonfiction?page={page_num}'\n",
    "    response = requests.get(url)\n",
    "    soup = BeautifulSoup(response.content, 'html.parser')\n",
    "    page_num = page_num + 1"
   ]
  },
  {
   "cell_type": "code",
   "execution_count": 49,
   "id": "d816bff0",
   "metadata": {},
   "outputs": [
    {
     "name": "stdout",
     "output_type": "stream",
     "text": [
      "200\n"
     ]
    }
   ],
   "source": [
    "# check that http request has successfully completed by response status code in class 200-299\n",
    "print(response.status_code)"
   ]
  },
  {
   "cell_type": "code",
   "execution_count": 50,
   "id": "8b158911",
   "metadata": {},
   "outputs": [
    {
     "name": "stdout",
     "output_type": "stream",
     "text": [
      "<!DOCTYPE html>\n",
      "<html>\n",
      " <head>\n",
      "  <title>\n",
      "   The Greatest Books: The Best Nonfiction Books - 6 to 300\n",
      "  </title>\n",
      "  <meta content=\"width=device-width, initial-scale=1.0\" name=\"viewport\"/>\n",
      "  <meta conten\n"
     ]
    }
   ],
   "source": [
    "# check that we get a response object with print(soup) and use prettify method to format\n",
    "print(soup.prettify()[:200])"
   ]
  },
  {
   "cell_type": "markdown",
   "id": "9effb1aa",
   "metadata": {},
   "source": [
    "#### Use BeautifulSoup to parse HTML Tags"
   ]
  },
  {
   "cell_type": "code",
   "execution_count": 51,
   "id": "993736cd",
   "metadata": {},
   "outputs": [],
   "source": [
    "# grab list items on first page of non-fiction book list \n",
    "\n",
    "list_item = soup.find_all('li', {'class': 'item pb-3 pt-3 border-bottom'})\n",
    "    "
   ]
  },
  {
   "cell_type": "code",
   "execution_count": 52,
   "id": "7dca9eaa",
   "metadata": {},
   "outputs": [
    {
     "data": {
      "text/plain": [
       "50"
      ]
     },
     "execution_count": 52,
     "metadata": {},
     "output_type": "execute_result"
    }
   ],
   "source": [
    "# confirm there are 50 books listed on the first page\n",
    "len(list_item)"
   ]
  },
  {
   "cell_type": "code",
   "execution_count": 53,
   "id": "41ed34e4",
   "metadata": {},
   "outputs": [
    {
     "name": "stdout",
     "output_type": "stream",
     "text": [
      "<a href=\"/items/816\">The Pursuit of the Millennium</a>\n"
     ]
    }
   ],
   "source": [
    "# print title of first book in non-fiction list\n",
    "# the greatest non-fiction books at this time lists:  1 . Essays by Michel de Montaigne\n",
    "title = list_item[0].find('a')\n",
    "print(title)"
   ]
  },
  {
   "cell_type": "code",
   "execution_count": 54,
   "id": "1e063160",
   "metadata": {},
   "outputs": [
    {
     "name": "stdout",
     "output_type": "stream",
     "text": [
      "The Pursuit of the Millennium\n"
     ]
    }
   ],
   "source": [
    "# use .text to select just the text of the title\n",
    "\n",
    "title = list_item[0].find('a').text\n",
    "print(title)"
   ]
  },
  {
   "cell_type": "code",
   "execution_count": 55,
   "id": "9d3395c5",
   "metadata": {},
   "outputs": [],
   "source": [
    "# iterate over book titles and store them in a list\n",
    "\n",
    "book_title_list = []\n",
    "for li in list_item:\n",
    "    title = li.find('a').text\n",
    "    book_title_list.append(title)\n",
    "    "
   ]
  },
  {
   "cell_type": "code",
   "execution_count": 56,
   "id": "bb1ef935",
   "metadata": {},
   "outputs": [
    {
     "name": "stdout",
     "output_type": "stream",
     "text": [
      "The Pursuit of the Millennium\n"
     ]
    }
   ],
   "source": [
    "# test nth book in the list\n",
    "print(book_title_list[0])"
   ]
  },
  {
   "cell_type": "code",
   "execution_count": 57,
   "id": "e5b7f221",
   "metadata": {},
   "outputs": [
    {
     "name": "stdout",
     "output_type": "stream",
     "text": [
      "The Pursuit of the Millennium\n",
      "The Sixth Extinction: An Unnatural History\n",
      "The Great Terror\n",
      "The Noonday Demon\n",
      "Chronicles of Wasted Time\n",
      "América Hispánica: (1492-1898)\n",
      "Metaphysics\n",
      "The Art of Memory\n",
      "Present at the Creation\n",
      "The Hare with Amber Eyes: A Family's Century of Art and Loss\n",
      "The American Language\n",
      "Roughing It\n",
      "Moneyball\n",
      "The Lives of a Cell\n",
      "The Everlasting Man\n",
      "Reading Lolita in Tehran\n",
      "An Essay Concerning Human Understanding\n",
      "Maximes\n",
      "The House of Morgan\n",
      "Les Caractères \n",
      "The Shock Doctrine: The Rise of Disaster Capitalism\n",
      "Lettres de madame de Sévigné\n",
      "Radical Chic and Mau-Mauing the Flak Catchers\n",
      "On Food and Cooking: The Science and Lore of the Kitchen\n",
      "The Provincial Letters\n",
      " The Unheavenly City\n",
      "Critique of Pure Reason\n",
      "James Joyce\n",
      "The Liars' Club\n",
      "Bad Science\n",
      "Seven Years in Tibet\n",
      "London: The Biography\n",
      "The Invention of Solitude\n",
      "Letters from a Stoic\n",
      "The Crisis of European Sciences and Transcendental Phenomenology\n",
      "The Rise of Theodore Roosevelt\n",
      "The End of History and the Last Man\n",
      "Correspondence\n",
      "Unbroken: A World War II Story of Survival, Resilience, and Redemption\n",
      "Notes from a Small Island\n",
      "The Devil In The White City\n",
      "The Reluctant Fundamentalist\n",
      "Either Or\n",
      "All the President's Men\n",
      "Tell Me How It Ends: An Essay in 40 Questions\n",
      "The Works of Max Beerbohm\n",
      "Duke of Deception\n",
      "Priestdaddy: A Memoir\n",
      "Essential Cuisine\n",
      "El Bulli: 1998-2002\n"
     ]
    }
   ],
   "source": [
    "# print a list of the first 50 books in the list of first page\n",
    "for i in book_title_list:\n",
    "    print(i)"
   ]
  },
  {
   "cell_type": "code",
   "execution_count": 58,
   "id": "03ee28a1",
   "metadata": {},
   "outputs": [
    {
     "name": "stdout",
     "output_type": "stream",
     "text": [
      "The Pursuit of the Millennium                                          ['Norman Cohn']\n",
      "The Sixth Extinction: An Unnatural History                             ['Elizabeth Kolbert']\n",
      "The Great Terror                                                       ['Robert Conquest']\n",
      "The Noonday Demon                                                      ['Andrew Solomon']\n",
      "Chronicles of Wasted Time                                              ['Malcolm Muggeridge']\n",
      "América Hispánica: (1492-1898)                                         ['Guillermo Céspedes del Castillo']\n",
      "Metaphysics                                                            ['Aristotle']\n",
      "The Art of Memory                                                      ['Frances A. Yates']\n",
      "Present at the Creation                                                ['Dean Acheson']\n",
      "The Hare with Amber Eyes: A Family's Century of Art and Loss           ['Edmund de Waal']\n",
      "The American Language                                                  ['H. L. Mencken']\n",
      "Roughing It                                                            ['Mark Twain']\n",
      "Moneyball                                                              ['Michael M. Lewis']\n",
      "The Lives of a Cell                                                    ['Lewis Thomas']\n",
      "The Everlasting Man                                                    ['G. K. Chesterton']\n",
      "Reading Lolita in Tehran                                               ['Azar Nafisi']\n",
      "An Essay Concerning Human Understanding                                ['John Locke']\n",
      "Maximes                                                                ['François duc de La Rochefoucauld']\n",
      "The House of Morgan                                                    ['Ron Chernow']\n",
      "Les Caractères                                                         ['Jean de La Bruyère']\n",
      "The Shock Doctrine: The Rise of Disaster Capitalism                    ['Naomi Klein']\n",
      "Lettres de madame de Sévigné                                           ['Marie de Rabutin-Chantal marquise de Sévigné']\n",
      "Radical Chic and Mau-Mauing the Flak Catchers                          ['Tom Wolfe']\n",
      "On Food and Cooking: The Science and Lore of the Kitchen               ['Harold McGee']\n",
      "The Provincial Letters                                                 ['Blaise Pascal']\n",
      "The Unheavenly City                                                    ['Edward C. Banfield']\n",
      "Critique of Pure Reason                                                ['Immanuel Kant']\n",
      "James Joyce                                                            ['Richard Ellmann']\n",
      "The Liars' Club                                                        ['Mary Karr']\n",
      "Bad Science                                                            ['Ben Goldacre']\n",
      "Seven Years in Tibet                                                   ['Heinrich Harrer']\n",
      "London: The Biography                                                  ['Peter Ackroyd']\n",
      "The Invention of Solitude                                              ['Paul Auster']\n",
      "Letters from a Stoic                                                   ['Seneca']\n",
      "The Crisis of European Sciences and Transcendental Phenomenology       ['Edmund Husserl']\n",
      "The Rise of Theodore Roosevelt                                         ['Edmund Morris']\n",
      "The End of History and the Last Man                                    ['Francis Fukuyama']\n",
      "Correspondence                                                         ['Voltaire']\n",
      "Unbroken: A World War II Story of Survival, Resilience, and Redemption ['Laura Hillenbrand']\n",
      "Notes from a Small Island                                              ['Bill Bryson']\n",
      "The Devil In The White City                                            ['Erik Larson']\n",
      "The Reluctant Fundamentalist                                           ['Mohsin Hamid']\n",
      "Either Or                                                              ['Soren Kierkegaard']\n",
      "All the President's Men                                                ['Bob Woodward', 'Carl Bernstein']\n",
      "Tell Me How It Ends: An Essay in 40 Questions                          ['Valeria Luiselli']\n",
      "The Works of Max Beerbohm                                              ['Max Beerbohm']\n",
      "Duke of Deception                                                      ['Geoffrey Wolff']\n",
      "Priestdaddy: A Memoir                                                  ['Patricia Lockwood']\n",
      "Essential Cuisine                                                      ['Michel Bras']\n",
      "El Bulli: 1998-2002                                                    ['Ferran Adria', 'Juli Soler', 'Albert Adria']\n"
     ]
    }
   ],
   "source": [
    "# from Stack Overflow: https://stackoverflow.com/questions/64455601/beautifulsoup-trying-to-extract-text-from-anchor-tags-that-contain-author-names/64458673#64458673\n",
    "# answered by Andrej Kesely\n",
    "# from first page of non-fiction book list\n",
    "# extract all <a> links under <h4> (h4 is the tag where are title/authors)\n",
    "# first <a> tag is the title, rest of <a> tags are the authors:\n",
    "# get titles and author(s)\n",
    " \n",
    "for item in soup.select('h4:has(>a)'):\n",
    "    elements = [i.get_text(strip = True) for i in item.select('a')]\n",
    "    title = elements[0]\n",
    "    authors = elements[1:]\n",
    "    print('{:<70} {}'.format(title, authors))\n",
    "          \n",
    "        "
   ]
  },
  {
   "cell_type": "code",
   "execution_count": 59,
   "id": "2913776b",
   "metadata": {},
   "outputs": [
    {
     "name": "stdout",
     "output_type": "stream",
     "text": [
      "7\n"
     ]
    }
   ],
   "source": [
    "print(page_num)"
   ]
  },
  {
   "cell_type": "code",
   "execution_count": null,
   "id": "7304905a",
   "metadata": {},
   "outputs": [],
   "source": []
  },
  {
   "cell_type": "code",
   "execution_count": null,
   "id": "6e3acfca",
   "metadata": {},
   "outputs": [],
   "source": []
  },
  {
   "cell_type": "code",
   "execution_count": null,
   "id": "a86ad97b",
   "metadata": {},
   "outputs": [],
   "source": []
  },
  {
   "cell_type": "code",
   "execution_count": null,
   "id": "9eb07628",
   "metadata": {},
   "outputs": [],
   "source": []
  },
  {
   "cell_type": "code",
   "execution_count": null,
   "id": "91812204",
   "metadata": {},
   "outputs": [],
   "source": []
  }
 ],
 "metadata": {
  "kernelspec": {
   "display_name": "books_venv",
   "language": "python",
   "name": "books_venv"
  },
  "language_info": {
   "codemirror_mode": {
    "name": "ipython",
    "version": 3
   },
   "file_extension": ".py",
   "mimetype": "text/x-python",
   "name": "python",
   "nbconvert_exporter": "python",
   "pygments_lexer": "ipython3",
   "version": "3.8.5"
  }
 },
 "nbformat": 4,
 "nbformat_minor": 5
}
